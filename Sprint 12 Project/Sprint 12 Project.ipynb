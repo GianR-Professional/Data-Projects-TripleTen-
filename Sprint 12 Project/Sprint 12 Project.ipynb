{
  "metadata": {
    "kernelspec": {
      "name": "python",
      "display_name": "Python (Pyodide)",
      "language": "python"
    },
    "language_info": {
      "codemirror_mode": {
        "name": "python",
        "version": 3
      },
      "file_extension": ".py",
      "mimetype": "text/x-python",
      "name": "python",
      "nbconvert_exporter": "python",
      "pygments_lexer": "ipython3",
      "version": "3.8"
    },
    "ExecuteTimeLog": [
      {
        "duration": 346,
        "start_time": "2025-01-22T18:35:02.895Z"
      },
      {
        "duration": 1194,
        "start_time": "2025-01-22T18:49:56.571Z"
      },
      {
        "duration": 188,
        "start_time": "2025-01-22T18:49:57.768Z"
      },
      {
        "duration": 42,
        "start_time": "2025-01-22T18:49:57.958Z"
      },
      {
        "duration": 29,
        "start_time": "2025-01-22T18:49:58.002Z"
      },
      {
        "duration": 336,
        "start_time": "2025-01-22T18:49:58.033Z"
      },
      {
        "duration": 120,
        "start_time": "2025-01-22T18:49:58.370Z"
      },
      {
        "duration": 86,
        "start_time": "2025-01-22T18:49:58.492Z"
      },
      {
        "duration": 1150,
        "start_time": "2025-01-22T19:03:22.056Z"
      },
      {
        "duration": 179,
        "start_time": "2025-01-22T19:03:23.208Z"
      },
      {
        "duration": 31,
        "start_time": "2025-01-22T19:03:23.389Z"
      },
      {
        "duration": 25,
        "start_time": "2025-01-22T19:03:23.422Z"
      },
      {
        "duration": 361,
        "start_time": "2025-01-22T19:03:23.450Z"
      },
      {
        "duration": 120,
        "start_time": "2025-01-22T19:03:23.813Z"
      },
      {
        "duration": 87,
        "start_time": "2025-01-22T19:03:23.935Z"
      },
      {
        "duration": 564,
        "start_time": "2025-01-22T19:03:24.023Z"
      },
      {
        "duration": 1242,
        "start_time": "2025-01-22T22:43:53.425Z"
      },
      {
        "duration": 180,
        "start_time": "2025-01-22T22:43:54.670Z"
      },
      {
        "duration": 29,
        "start_time": "2025-01-22T22:43:54.852Z"
      },
      {
        "duration": 25,
        "start_time": "2025-01-22T22:43:54.882Z"
      },
      {
        "duration": 347,
        "start_time": "2025-01-22T22:43:54.909Z"
      },
      {
        "duration": 116,
        "start_time": "2025-01-22T22:43:55.258Z"
      },
      {
        "duration": 87,
        "start_time": "2025-01-22T22:43:55.376Z"
      },
      {
        "duration": 551,
        "start_time": "2025-01-22T22:43:55.465Z"
      },
      {
        "duration": 236,
        "start_time": "2025-01-22T22:43:56.018Z"
      },
      {
        "duration": 1161,
        "start_time": "2025-01-22T22:44:31.710Z"
      },
      {
        "duration": 182,
        "start_time": "2025-01-22T22:44:32.873Z"
      },
      {
        "duration": 30,
        "start_time": "2025-01-22T22:44:33.056Z"
      },
      {
        "duration": 25,
        "start_time": "2025-01-22T22:44:33.088Z"
      },
      {
        "duration": 338,
        "start_time": "2025-01-22T22:44:33.116Z"
      },
      {
        "duration": 120,
        "start_time": "2025-01-22T22:44:33.455Z"
      },
      {
        "duration": 86,
        "start_time": "2025-01-22T22:44:33.579Z"
      },
      {
        "duration": 549,
        "start_time": "2025-01-22T22:44:33.667Z"
      },
      {
        "duration": 1276,
        "start_time": "2025-01-22T22:44:50.356Z"
      },
      {
        "duration": 185,
        "start_time": "2025-01-22T22:44:51.635Z"
      },
      {
        "duration": 33,
        "start_time": "2025-01-22T22:44:51.822Z"
      },
      {
        "duration": 23,
        "start_time": "2025-01-22T22:44:51.859Z"
      },
      {
        "duration": 327,
        "start_time": "2025-01-22T22:44:51.884Z"
      },
      {
        "duration": 119,
        "start_time": "2025-01-22T22:44:52.213Z"
      },
      {
        "duration": 79,
        "start_time": "2025-01-22T22:44:52.333Z"
      },
      {
        "duration": 570,
        "start_time": "2025-01-22T22:44:52.415Z"
      },
      {
        "duration": 1273,
        "start_time": "2025-01-22T22:47:32.378Z"
      },
      {
        "duration": 179,
        "start_time": "2025-01-22T22:47:33.654Z"
      },
      {
        "duration": 30,
        "start_time": "2025-01-22T22:47:33.835Z"
      },
      {
        "duration": 24,
        "start_time": "2025-01-22T22:47:33.867Z"
      },
      {
        "duration": 347,
        "start_time": "2025-01-22T22:47:33.894Z"
      },
      {
        "duration": 116,
        "start_time": "2025-01-22T22:47:34.242Z"
      },
      {
        "duration": 86,
        "start_time": "2025-01-22T22:47:34.360Z"
      },
      {
        "duration": 554,
        "start_time": "2025-01-22T22:47:34.447Z"
      },
      {
        "duration": 40037,
        "start_time": "2025-01-22T22:47:35.002Z"
      },
      {
        "duration": 1255,
        "start_time": "2025-01-22T23:14:43.935Z"
      },
      {
        "duration": 195,
        "start_time": "2025-01-22T23:14:45.192Z"
      },
      {
        "duration": 33,
        "start_time": "2025-01-22T23:14:45.388Z"
      },
      {
        "duration": 32,
        "start_time": "2025-01-22T23:14:45.422Z"
      },
      {
        "duration": 367,
        "start_time": "2025-01-22T23:14:45.457Z"
      },
      {
        "duration": 127,
        "start_time": "2025-01-22T23:14:45.825Z"
      },
      {
        "duration": 86,
        "start_time": "2025-01-22T23:14:45.954Z"
      },
      {
        "duration": 582,
        "start_time": "2025-01-22T23:14:46.042Z"
      },
      {
        "duration": 39852,
        "start_time": "2025-01-22T23:14:46.626Z"
      },
      {
        "duration": 1373,
        "start_time": "2025-01-23T00:58:59.535Z"
      },
      {
        "duration": 219,
        "start_time": "2025-01-23T00:59:00.910Z"
      },
      {
        "duration": 32,
        "start_time": "2025-01-23T00:59:01.131Z"
      },
      {
        "duration": 45,
        "start_time": "2025-01-23T00:59:01.165Z"
      },
      {
        "duration": 347,
        "start_time": "2025-01-23T00:59:01.212Z"
      },
      {
        "duration": 126,
        "start_time": "2025-01-23T00:59:01.561Z"
      },
      {
        "duration": 94,
        "start_time": "2025-01-23T00:59:01.689Z"
      },
      {
        "duration": 643,
        "start_time": "2025-01-23T00:59:01.785Z"
      },
      {
        "duration": 40594,
        "start_time": "2025-01-23T00:59:02.430Z"
      },
      {
        "duration": 10715,
        "start_time": "2025-01-23T00:59:43.026Z"
      },
      {
        "duration": 373,
        "start_time": "2025-01-23T00:59:53.810Z"
      },
      {
        "duration": 0,
        "start_time": "2025-01-23T00:59:54.185Z"
      },
      {
        "duration": 0,
        "start_time": "2025-01-23T00:59:54.187Z"
      },
      {
        "duration": 0,
        "start_time": "2025-01-23T00:59:54.188Z"
      },
      {
        "duration": 0,
        "start_time": "2025-01-23T00:59:54.190Z"
      },
      {
        "duration": 1242,
        "start_time": "2025-01-23T01:01:22.031Z"
      },
      {
        "duration": 203,
        "start_time": "2025-01-23T01:01:23.276Z"
      },
      {
        "duration": 35,
        "start_time": "2025-01-23T01:01:23.480Z"
      },
      {
        "duration": 28,
        "start_time": "2025-01-23T01:01:23.517Z"
      },
      {
        "duration": 339,
        "start_time": "2025-01-23T01:01:23.548Z"
      },
      {
        "duration": 124,
        "start_time": "2025-01-23T01:01:23.889Z"
      },
      {
        "duration": 94,
        "start_time": "2025-01-23T01:01:24.015Z"
      },
      {
        "duration": 604,
        "start_time": "2025-01-23T01:01:24.111Z"
      },
      {
        "duration": 40741,
        "start_time": "2025-01-23T01:01:24.716Z"
      },
      {
        "duration": 11456,
        "start_time": "2025-01-23T01:02:05.459Z"
      },
      {
        "duration": 419,
        "start_time": "2025-01-23T01:02:16.919Z"
      },
      {
        "duration": 0,
        "start_time": "2025-01-23T01:02:17.340Z"
      },
      {
        "duration": 0,
        "start_time": "2025-01-23T01:02:17.341Z"
      },
      {
        "duration": 0,
        "start_time": "2025-01-23T01:02:17.345Z"
      },
      {
        "duration": 0,
        "start_time": "2025-01-23T01:02:17.346Z"
      },
      {
        "duration": 1233,
        "start_time": "2025-01-23T01:02:59.549Z"
      },
      {
        "duration": 193,
        "start_time": "2025-01-23T01:03:00.784Z"
      },
      {
        "duration": 39,
        "start_time": "2025-01-23T01:03:00.979Z"
      },
      {
        "duration": 28,
        "start_time": "2025-01-23T01:03:01.020Z"
      },
      {
        "duration": 327,
        "start_time": "2025-01-23T01:03:01.052Z"
      },
      {
        "duration": 124,
        "start_time": "2025-01-23T01:03:01.381Z"
      },
      {
        "duration": 88,
        "start_time": "2025-01-23T01:03:01.507Z"
      },
      {
        "duration": 615,
        "start_time": "2025-01-23T01:03:01.597Z"
      },
      {
        "duration": 39420,
        "start_time": "2025-01-23T01:03:02.214Z"
      },
      {
        "duration": 10589,
        "start_time": "2025-01-23T01:03:41.636Z"
      },
      {
        "duration": 6542,
        "start_time": "2025-01-23T01:03:52.227Z"
      },
      {
        "duration": 97724,
        "start_time": "2025-01-23T01:03:58.771Z"
      },
      {
        "duration": 334760,
        "start_time": "2025-01-23T01:05:36.497Z"
      },
      {
        "duration": 1286,
        "start_time": "2025-01-23T14:40:01.700Z"
      },
      {
        "duration": 183,
        "start_time": "2025-01-23T14:40:02.988Z"
      },
      {
        "duration": 40,
        "start_time": "2025-01-23T14:40:03.176Z"
      },
      {
        "duration": 29,
        "start_time": "2025-01-23T14:40:03.218Z"
      },
      {
        "duration": 314,
        "start_time": "2025-01-23T14:40:03.249Z"
      },
      {
        "duration": 117,
        "start_time": "2025-01-23T14:40:03.565Z"
      },
      {
        "duration": 88,
        "start_time": "2025-01-23T14:40:03.685Z"
      },
      {
        "duration": 565,
        "start_time": "2025-01-23T14:40:03.774Z"
      },
      {
        "duration": 37143,
        "start_time": "2025-01-23T14:40:04.342Z"
      },
      {
        "duration": 11125,
        "start_time": "2025-01-23T14:40:41.487Z"
      },
      {
        "duration": 6084,
        "start_time": "2025-01-23T14:40:52.616Z"
      },
      {
        "duration": 87806,
        "start_time": "2025-01-23T14:40:58.704Z"
      },
      {
        "duration": 337732,
        "start_time": "2025-01-23T14:42:26.512Z"
      },
      {
        "duration": 1218,
        "start_time": "2025-01-23T15:10:23.653Z"
      },
      {
        "duration": 183,
        "start_time": "2025-01-23T15:10:24.873Z"
      },
      {
        "duration": 33,
        "start_time": "2025-01-23T15:10:25.058Z"
      },
      {
        "duration": 36,
        "start_time": "2025-01-23T15:10:25.094Z"
      },
      {
        "duration": 325,
        "start_time": "2025-01-23T15:10:25.132Z"
      },
      {
        "duration": 122,
        "start_time": "2025-01-23T15:10:25.459Z"
      },
      {
        "duration": 85,
        "start_time": "2025-01-23T15:10:25.583Z"
      },
      {
        "duration": 568,
        "start_time": "2025-01-23T15:10:25.670Z"
      },
      {
        "duration": 37573,
        "start_time": "2025-01-23T15:10:26.239Z"
      },
      {
        "duration": 11219,
        "start_time": "2025-01-23T15:11:03.815Z"
      },
      {
        "duration": 6263,
        "start_time": "2025-01-23T15:11:15.109Z"
      },
      {
        "duration": 88489,
        "start_time": "2025-01-23T15:11:21.375Z"
      },
      {
        "duration": 335055,
        "start_time": "2025-01-23T15:12:49.866Z"
      },
      {
        "duration": 831599,
        "start_time": "2025-01-23T15:18:24.924Z"
      },
      {
        "duration": 1224,
        "start_time": "2025-01-23T16:51:51.243Z"
      },
      {
        "duration": 187,
        "start_time": "2025-01-23T16:51:52.469Z"
      },
      {
        "duration": 28,
        "start_time": "2025-01-23T16:51:52.658Z"
      },
      {
        "duration": 38,
        "start_time": "2025-01-23T16:51:52.688Z"
      },
      {
        "duration": 331,
        "start_time": "2025-01-23T16:51:52.729Z"
      },
      {
        "duration": 116,
        "start_time": "2025-01-23T16:51:53.061Z"
      },
      {
        "duration": 90,
        "start_time": "2025-01-23T16:51:53.179Z"
      },
      {
        "duration": 568,
        "start_time": "2025-01-23T16:51:53.271Z"
      },
      {
        "duration": 37314,
        "start_time": "2025-01-23T16:51:53.840Z"
      },
      {
        "duration": 12279,
        "start_time": "2025-01-23T16:52:31.156Z"
      },
      {
        "duration": 6159,
        "start_time": "2025-01-23T16:52:43.437Z"
      },
      {
        "duration": 87607,
        "start_time": "2025-01-23T16:52:49.598Z"
      },
      {
        "duration": 340619,
        "start_time": "2025-01-23T16:54:17.207Z"
      },
      {
        "duration": 833637,
        "start_time": "2025-01-23T16:59:57.829Z"
      },
      {
        "duration": 4,
        "start_time": "2025-01-23T17:13:51.468Z"
      },
      {
        "duration": 5,
        "start_time": "2025-01-23T17:13:51.473Z"
      },
      {
        "duration": 1205,
        "start_time": "2025-01-23T17:44:19.450Z"
      },
      {
        "duration": 187,
        "start_time": "2025-01-23T17:44:20.657Z"
      },
      {
        "duration": 31,
        "start_time": "2025-01-23T17:44:20.846Z"
      },
      {
        "duration": 34,
        "start_time": "2025-01-23T17:44:20.878Z"
      },
      {
        "duration": 321,
        "start_time": "2025-01-23T17:44:20.915Z"
      },
      {
        "duration": 113,
        "start_time": "2025-01-23T17:44:21.238Z"
      },
      {
        "duration": 89,
        "start_time": "2025-01-23T17:44:21.352Z"
      },
      {
        "duration": 567,
        "start_time": "2025-01-23T17:44:21.443Z"
      },
      {
        "duration": 38099,
        "start_time": "2025-01-23T17:44:22.011Z"
      },
      {
        "duration": 12094,
        "start_time": "2025-01-23T17:45:00.113Z"
      },
      {
        "duration": 6343,
        "start_time": "2025-01-23T17:45:12.210Z"
      },
      {
        "duration": 90452,
        "start_time": "2025-01-23T17:45:18.555Z"
      },
      {
        "duration": 451649,
        "start_time": "2025-01-23T17:46:49.009Z"
      },
      {
        "duration": 826881,
        "start_time": "2025-01-23T17:54:20.661Z"
      },
      {
        "duration": 3,
        "start_time": "2025-01-23T18:08:07.544Z"
      },
      {
        "duration": 5,
        "start_time": "2025-01-23T18:08:07.549Z"
      },
      {
        "duration": 1169,
        "start_time": "2025-01-23T18:14:17.198Z"
      },
      {
        "duration": 178,
        "start_time": "2025-01-23T18:14:18.369Z"
      },
      {
        "duration": 28,
        "start_time": "2025-01-23T18:14:18.549Z"
      },
      {
        "duration": 39,
        "start_time": "2025-01-23T18:14:18.580Z"
      },
      {
        "duration": 333,
        "start_time": "2025-01-23T18:14:18.621Z"
      },
      {
        "duration": 121,
        "start_time": "2025-01-23T18:14:18.956Z"
      },
      {
        "duration": 85,
        "start_time": "2025-01-23T18:14:19.079Z"
      },
      {
        "duration": 576,
        "start_time": "2025-01-23T18:14:19.166Z"
      },
      {
        "duration": 37809,
        "start_time": "2025-01-23T18:14:19.744Z"
      },
      {
        "duration": 11179,
        "start_time": "2025-01-23T18:14:57.556Z"
      },
      {
        "duration": 6164,
        "start_time": "2025-01-23T18:15:08.805Z"
      },
      {
        "duration": 96639,
        "start_time": "2025-01-23T18:15:14.971Z"
      },
      {
        "duration": 371334,
        "start_time": "2025-01-23T18:16:51.613Z"
      },
      {
        "duration": 752542,
        "start_time": "2025-01-23T18:23:02.950Z"
      },
      {
        "duration": 4,
        "start_time": "2025-01-23T18:35:35.494Z"
      },
      {
        "duration": 1336028,
        "start_time": "2025-01-23T18:35:35.509Z"
      },
      {
        "duration": 1991,
        "start_time": "2025-01-24T03:39:02.502Z"
      },
      {
        "duration": 1916,
        "start_time": "2025-01-24T20:04:25.548Z"
      },
      {
        "duration": 1369,
        "start_time": "2025-01-24T20:04:27.467Z"
      },
      {
        "duration": 177,
        "start_time": "2025-01-24T20:04:28.838Z"
      },
      {
        "duration": 24,
        "start_time": "2025-01-24T20:04:29.024Z"
      },
      {
        "duration": 25,
        "start_time": "2025-01-24T20:04:29.049Z"
      },
      {
        "duration": 59,
        "start_time": "2025-01-24T20:04:29.077Z"
      },
      {
        "duration": 244,
        "start_time": "2025-01-24T20:04:29.138Z"
      },
      {
        "duration": 95,
        "start_time": "2025-01-24T20:04:29.383Z"
      },
      {
        "duration": 72,
        "start_time": "2025-01-24T20:04:29.479Z"
      },
      {
        "duration": 614,
        "start_time": "2025-01-24T20:04:29.555Z"
      },
      {
        "duration": 527,
        "start_time": "2025-01-24T20:04:30.171Z"
      },
      {
        "duration": 0,
        "start_time": "2025-01-24T20:04:30.700Z"
      },
      {
        "duration": 0,
        "start_time": "2025-01-24T20:04:30.702Z"
      },
      {
        "duration": 0,
        "start_time": "2025-01-24T20:04:30.703Z"
      },
      {
        "duration": 0,
        "start_time": "2025-01-24T20:04:30.705Z"
      },
      {
        "duration": 0,
        "start_time": "2025-01-24T20:04:30.706Z"
      },
      {
        "duration": 0,
        "start_time": "2025-01-24T20:04:30.707Z"
      },
      {
        "duration": 0,
        "start_time": "2025-01-24T20:04:30.709Z"
      },
      {
        "duration": 0,
        "start_time": "2025-01-24T20:04:30.710Z"
      },
      {
        "duration": 0,
        "start_time": "2025-01-24T20:04:30.724Z"
      },
      {
        "duration": 0,
        "start_time": "2025-01-24T20:04:30.725Z"
      },
      {
        "duration": 1897,
        "start_time": "2025-01-24T20:15:00.453Z"
      },
      {
        "duration": 1317,
        "start_time": "2025-01-24T20:15:02.353Z"
      },
      {
        "duration": 200,
        "start_time": "2025-01-24T20:15:03.673Z"
      },
      {
        "duration": 24,
        "start_time": "2025-01-24T20:15:03.875Z"
      },
      {
        "duration": 39,
        "start_time": "2025-01-24T20:15:03.902Z"
      },
      {
        "duration": 49,
        "start_time": "2025-01-24T20:15:03.942Z"
      },
      {
        "duration": 258,
        "start_time": "2025-01-24T20:15:03.993Z"
      },
      {
        "duration": 96,
        "start_time": "2025-01-24T20:15:04.253Z"
      },
      {
        "duration": 73,
        "start_time": "2025-01-24T20:15:04.351Z"
      },
      {
        "duration": 636,
        "start_time": "2025-01-24T20:15:04.425Z"
      },
      {
        "duration": 516,
        "start_time": "2025-01-24T20:15:05.063Z"
      },
      {
        "duration": 0,
        "start_time": "2025-01-24T20:15:05.581Z"
      },
      {
        "duration": 0,
        "start_time": "2025-01-24T20:15:05.582Z"
      },
      {
        "duration": 0,
        "start_time": "2025-01-24T20:15:05.583Z"
      },
      {
        "duration": 0,
        "start_time": "2025-01-24T20:15:05.584Z"
      },
      {
        "duration": 0,
        "start_time": "2025-01-24T20:15:05.585Z"
      },
      {
        "duration": 0,
        "start_time": "2025-01-24T20:15:05.586Z"
      },
      {
        "duration": 0,
        "start_time": "2025-01-24T20:15:05.587Z"
      },
      {
        "duration": 0,
        "start_time": "2025-01-24T20:15:05.589Z"
      },
      {
        "duration": 0,
        "start_time": "2025-01-24T20:15:05.590Z"
      },
      {
        "duration": 0,
        "start_time": "2025-01-24T20:15:05.592Z"
      },
      {
        "duration": 1824,
        "start_time": "2025-01-24T20:37:04.542Z"
      },
      {
        "duration": 1289,
        "start_time": "2025-01-24T20:37:06.369Z"
      },
      {
        "duration": 196,
        "start_time": "2025-01-24T20:37:07.659Z"
      },
      {
        "duration": 70,
        "start_time": "2025-01-24T20:37:07.857Z"
      },
      {
        "duration": 27,
        "start_time": "2025-01-24T20:37:07.930Z"
      },
      {
        "duration": 46,
        "start_time": "2025-01-24T20:37:07.959Z"
      },
      {
        "duration": 251,
        "start_time": "2025-01-24T20:37:08.007Z"
      },
      {
        "duration": 97,
        "start_time": "2025-01-24T20:37:08.259Z"
      },
      {
        "duration": 70,
        "start_time": "2025-01-24T20:37:08.357Z"
      },
      {
        "duration": 634,
        "start_time": "2025-01-24T20:37:08.429Z"
      },
      {
        "duration": 522,
        "start_time": "2025-01-24T20:37:09.065Z"
      },
      {
        "duration": 0,
        "start_time": "2025-01-24T20:37:09.589Z"
      },
      {
        "duration": 0,
        "start_time": "2025-01-24T20:37:09.591Z"
      },
      {
        "duration": 0,
        "start_time": "2025-01-24T20:37:09.592Z"
      },
      {
        "duration": 0,
        "start_time": "2025-01-24T20:37:09.593Z"
      },
      {
        "duration": 0,
        "start_time": "2025-01-24T20:37:09.594Z"
      },
      {
        "duration": 0,
        "start_time": "2025-01-24T20:37:09.595Z"
      },
      {
        "duration": 0,
        "start_time": "2025-01-24T20:37:09.596Z"
      },
      {
        "duration": 0,
        "start_time": "2025-01-24T20:37:09.597Z"
      },
      {
        "duration": 0,
        "start_time": "2025-01-24T20:37:09.598Z"
      },
      {
        "duration": 0,
        "start_time": "2025-01-24T20:37:09.599Z"
      },
      {
        "duration": 1810,
        "start_time": "2025-01-24T20:39:04.200Z"
      },
      {
        "duration": 1201,
        "start_time": "2025-01-24T20:39:06.012Z"
      },
      {
        "duration": 182,
        "start_time": "2025-01-24T20:39:07.215Z"
      },
      {
        "duration": 76,
        "start_time": "2025-01-24T20:39:07.401Z"
      },
      {
        "duration": 32,
        "start_time": "2025-01-24T20:39:07.479Z"
      },
      {
        "duration": 58,
        "start_time": "2025-01-24T20:39:07.513Z"
      },
      {
        "duration": 232,
        "start_time": "2025-01-24T20:39:07.573Z"
      },
      {
        "duration": 94,
        "start_time": "2025-01-24T20:39:07.806Z"
      },
      {
        "duration": 74,
        "start_time": "2025-01-24T20:39:07.901Z"
      },
      {
        "duration": 637,
        "start_time": "2025-01-24T20:39:07.978Z"
      },
      {
        "duration": 4,
        "start_time": "2025-01-24T20:39:08.620Z"
      },
      {
        "duration": 529,
        "start_time": "2025-01-24T20:39:08.626Z"
      },
      {
        "duration": 0,
        "start_time": "2025-01-24T20:39:09.157Z"
      },
      {
        "duration": 0,
        "start_time": "2025-01-24T20:39:09.158Z"
      },
      {
        "duration": 0,
        "start_time": "2025-01-24T20:39:09.160Z"
      },
      {
        "duration": 0,
        "start_time": "2025-01-24T20:39:09.161Z"
      },
      {
        "duration": 0,
        "start_time": "2025-01-24T20:39:09.162Z"
      },
      {
        "duration": 0,
        "start_time": "2025-01-24T20:39:09.163Z"
      },
      {
        "duration": 0,
        "start_time": "2025-01-24T20:39:09.165Z"
      },
      {
        "duration": 0,
        "start_time": "2025-01-24T20:39:09.166Z"
      },
      {
        "duration": 0,
        "start_time": "2025-01-24T20:39:09.167Z"
      },
      {
        "duration": 0,
        "start_time": "2025-01-24T20:39:09.168Z"
      },
      {
        "duration": 1858,
        "start_time": "2025-01-24T21:11:07.928Z"
      },
      {
        "duration": 1262,
        "start_time": "2025-01-24T21:11:09.788Z"
      },
      {
        "duration": 193,
        "start_time": "2025-01-24T21:11:11.052Z"
      },
      {
        "duration": 64,
        "start_time": "2025-01-24T21:11:11.247Z"
      },
      {
        "duration": 36,
        "start_time": "2025-01-24T21:11:11.312Z"
      },
      {
        "duration": 48,
        "start_time": "2025-01-24T21:11:11.349Z"
      },
      {
        "duration": 268,
        "start_time": "2025-01-24T21:11:11.398Z"
      },
      {
        "duration": 96,
        "start_time": "2025-01-24T21:11:11.668Z"
      },
      {
        "duration": 71,
        "start_time": "2025-01-24T21:11:11.766Z"
      },
      {
        "duration": 628,
        "start_time": "2025-01-24T21:11:11.839Z"
      },
      {
        "duration": 4,
        "start_time": "2025-01-24T21:11:12.468Z"
      },
      {
        "duration": 236,
        "start_time": "2025-01-24T21:11:12.474Z"
      },
      {
        "duration": 0,
        "start_time": "2025-01-24T21:11:12.713Z"
      },
      {
        "duration": 0,
        "start_time": "2025-01-24T21:11:12.714Z"
      },
      {
        "duration": 0,
        "start_time": "2025-01-24T21:11:12.723Z"
      },
      {
        "duration": 0,
        "start_time": "2025-01-24T21:11:12.725Z"
      },
      {
        "duration": 0,
        "start_time": "2025-01-24T21:11:12.726Z"
      },
      {
        "duration": 0,
        "start_time": "2025-01-24T21:11:12.727Z"
      },
      {
        "duration": 0,
        "start_time": "2025-01-24T21:11:12.729Z"
      },
      {
        "duration": 0,
        "start_time": "2025-01-24T21:11:12.730Z"
      },
      {
        "duration": 0,
        "start_time": "2025-01-24T21:11:12.732Z"
      },
      {
        "duration": 0,
        "start_time": "2025-01-24T21:11:12.733Z"
      },
      {
        "duration": 1922,
        "start_time": "2025-01-24T21:13:53.290Z"
      },
      {
        "duration": 1252,
        "start_time": "2025-01-24T21:13:55.216Z"
      },
      {
        "duration": 198,
        "start_time": "2025-01-24T21:13:56.473Z"
      },
      {
        "duration": 75,
        "start_time": "2025-01-24T21:13:56.673Z"
      },
      {
        "duration": 27,
        "start_time": "2025-01-24T21:13:56.749Z"
      },
      {
        "duration": 56,
        "start_time": "2025-01-24T21:13:56.778Z"
      },
      {
        "duration": 231,
        "start_time": "2025-01-24T21:13:56.836Z"
      },
      {
        "duration": 87,
        "start_time": "2025-01-24T21:13:57.069Z"
      },
      {
        "duration": 76,
        "start_time": "2025-01-24T21:13:57.159Z"
      },
      {
        "duration": 640,
        "start_time": "2025-01-24T21:13:57.236Z"
      },
      {
        "duration": 3,
        "start_time": "2025-01-24T21:13:57.878Z"
      },
      {
        "duration": 238,
        "start_time": "2025-01-24T21:13:57.883Z"
      },
      {
        "duration": 0,
        "start_time": "2025-01-24T21:13:58.125Z"
      },
      {
        "duration": 0,
        "start_time": "2025-01-24T21:13:58.126Z"
      },
      {
        "duration": 0,
        "start_time": "2025-01-24T21:13:58.128Z"
      },
      {
        "duration": 0,
        "start_time": "2025-01-24T21:13:58.129Z"
      },
      {
        "duration": 0,
        "start_time": "2025-01-24T21:13:58.130Z"
      },
      {
        "duration": 0,
        "start_time": "2025-01-24T21:13:58.132Z"
      },
      {
        "duration": 0,
        "start_time": "2025-01-24T21:13:58.133Z"
      },
      {
        "duration": 0,
        "start_time": "2025-01-24T21:13:58.134Z"
      },
      {
        "duration": 0,
        "start_time": "2025-01-24T21:13:58.135Z"
      },
      {
        "duration": 0,
        "start_time": "2025-01-24T21:13:58.136Z"
      },
      {
        "duration": 1808,
        "start_time": "2025-01-24T21:24:41.721Z"
      },
      {
        "duration": 1302,
        "start_time": "2025-01-24T21:24:43.531Z"
      },
      {
        "duration": 178,
        "start_time": "2025-01-24T21:24:44.835Z"
      },
      {
        "duration": 70,
        "start_time": "2025-01-24T21:24:45.016Z"
      },
      {
        "duration": 26,
        "start_time": "2025-01-24T21:24:45.087Z"
      },
      {
        "duration": 43,
        "start_time": "2025-01-24T21:24:45.125Z"
      },
      {
        "duration": 237,
        "start_time": "2025-01-24T21:24:45.170Z"
      },
      {
        "duration": 93,
        "start_time": "2025-01-24T21:24:45.409Z"
      },
      {
        "duration": 75,
        "start_time": "2025-01-24T21:24:45.503Z"
      },
      {
        "duration": 633,
        "start_time": "2025-01-24T21:24:45.581Z"
      },
      {
        "duration": 8,
        "start_time": "2025-01-24T21:24:46.216Z"
      },
      {
        "duration": 229,
        "start_time": "2025-01-24T21:24:46.226Z"
      },
      {
        "duration": 0,
        "start_time": "2025-01-24T21:24:46.457Z"
      },
      {
        "duration": 0,
        "start_time": "2025-01-24T21:24:46.459Z"
      },
      {
        "duration": 0,
        "start_time": "2025-01-24T21:24:46.460Z"
      },
      {
        "duration": 0,
        "start_time": "2025-01-24T21:24:46.461Z"
      },
      {
        "duration": 0,
        "start_time": "2025-01-24T21:24:46.462Z"
      },
      {
        "duration": 0,
        "start_time": "2025-01-24T21:24:46.463Z"
      },
      {
        "duration": 0,
        "start_time": "2025-01-24T21:24:46.464Z"
      },
      {
        "duration": 0,
        "start_time": "2025-01-24T21:24:46.466Z"
      },
      {
        "duration": 0,
        "start_time": "2025-01-24T21:24:46.467Z"
      },
      {
        "duration": 1801,
        "start_time": "2025-01-24T21:28:00.449Z"
      },
      {
        "duration": 1277,
        "start_time": "2025-01-24T21:28:02.252Z"
      },
      {
        "duration": 176,
        "start_time": "2025-01-24T21:28:03.531Z"
      },
      {
        "duration": 68,
        "start_time": "2025-01-24T21:28:03.710Z"
      },
      {
        "duration": 26,
        "start_time": "2025-01-24T21:28:03.780Z"
      },
      {
        "duration": 61,
        "start_time": "2025-01-24T21:28:03.808Z"
      },
      {
        "duration": 256,
        "start_time": "2025-01-24T21:28:03.871Z"
      },
      {
        "duration": 96,
        "start_time": "2025-01-24T21:28:04.128Z"
      },
      {
        "duration": 68,
        "start_time": "2025-01-24T21:28:04.225Z"
      },
      {
        "duration": 628,
        "start_time": "2025-01-24T21:28:04.296Z"
      },
      {
        "duration": 4,
        "start_time": "2025-01-24T21:28:04.925Z"
      },
      {
        "duration": 1908,
        "start_time": "2025-01-28T18:19:44.655Z"
      },
      {
        "duration": 1370,
        "start_time": "2025-01-28T18:19:46.566Z"
      },
      {
        "duration": 192,
        "start_time": "2025-01-28T18:19:47.938Z"
      },
      {
        "duration": 73,
        "start_time": "2025-01-28T18:19:48.133Z"
      },
      {
        "duration": 27,
        "start_time": "2025-01-28T18:19:48.208Z"
      },
      {
        "duration": 61,
        "start_time": "2025-01-28T18:19:48.237Z"
      },
      {
        "duration": 237,
        "start_time": "2025-01-28T18:19:48.300Z"
      },
      {
        "duration": 94,
        "start_time": "2025-01-28T18:19:48.539Z"
      },
      {
        "duration": 68,
        "start_time": "2025-01-28T18:19:48.635Z"
      },
      {
        "duration": 625,
        "start_time": "2025-01-28T18:19:48.706Z"
      },
      {
        "duration": 3,
        "start_time": "2025-01-28T18:19:49.333Z"
      },
      {
        "duration": 1966,
        "start_time": "2025-01-28T18:42:47.920Z"
      },
      {
        "duration": 1420,
        "start_time": "2025-01-28T18:42:49.889Z"
      },
      {
        "duration": 196,
        "start_time": "2025-01-28T18:42:51.311Z"
      },
      {
        "duration": 94,
        "start_time": "2025-01-28T18:42:51.512Z"
      },
      {
        "duration": 36,
        "start_time": "2025-01-28T18:42:51.610Z"
      },
      {
        "duration": 49,
        "start_time": "2025-01-28T18:42:51.649Z"
      },
      {
        "duration": 250,
        "start_time": "2025-01-28T18:42:51.702Z"
      },
      {
        "duration": 100,
        "start_time": "2025-01-28T18:42:51.954Z"
      },
      {
        "duration": 71,
        "start_time": "2025-01-28T18:42:52.056Z"
      },
      {
        "duration": 663,
        "start_time": "2025-01-28T18:42:52.129Z"
      },
      {
        "duration": 4,
        "start_time": "2025-01-28T18:42:52.794Z"
      },
      {
        "duration": 1944,
        "start_time": "2025-01-29T16:21:15.447Z"
      },
      {
        "duration": 1274,
        "start_time": "2025-01-29T16:21:17.394Z"
      },
      {
        "duration": 175,
        "start_time": "2025-01-29T16:21:18.670Z"
      },
      {
        "duration": 72,
        "start_time": "2025-01-29T16:21:18.848Z"
      },
      {
        "duration": 25,
        "start_time": "2025-01-29T16:21:18.921Z"
      },
      {
        "duration": 43,
        "start_time": "2025-01-29T16:21:18.948Z"
      },
      {
        "duration": 217,
        "start_time": "2025-01-29T16:21:19.005Z"
      },
      {
        "duration": 94,
        "start_time": "2025-01-29T16:21:19.223Z"
      },
      {
        "duration": 68,
        "start_time": "2025-01-29T16:21:19.319Z"
      },
      {
        "duration": 625,
        "start_time": "2025-01-29T16:21:19.391Z"
      },
      {
        "duration": 4,
        "start_time": "2025-01-29T16:21:20.018Z"
      },
      {
        "duration": 1056760,
        "start_time": "2025-01-29T16:21:20.023Z"
      },
      {
        "duration": 0,
        "start_time": "2025-01-29T16:38:56.785Z"
      },
      {
        "duration": 0,
        "start_time": "2025-01-29T16:38:56.786Z"
      },
      {
        "duration": 0,
        "start_time": "2025-01-29T16:38:56.787Z"
      },
      {
        "duration": 0,
        "start_time": "2025-01-29T16:38:56.788Z"
      },
      {
        "duration": 0,
        "start_time": "2025-01-29T16:38:56.789Z"
      },
      {
        "duration": 0,
        "start_time": "2025-01-29T16:38:56.805Z"
      },
      {
        "duration": 0,
        "start_time": "2025-01-29T16:38:56.806Z"
      },
      {
        "duration": 0,
        "start_time": "2025-01-29T16:38:56.807Z"
      },
      {
        "duration": 0,
        "start_time": "2025-01-29T16:38:56.808Z"
      },
      {
        "duration": 1973,
        "start_time": "2025-01-31T19:17:36.642Z"
      },
      {
        "duration": 1287,
        "start_time": "2025-01-31T19:17:38.618Z"
      },
      {
        "duration": 193,
        "start_time": "2025-01-31T19:17:39.906Z"
      },
      {
        "duration": 60,
        "start_time": "2025-01-31T19:17:40.100Z"
      },
      {
        "duration": 27,
        "start_time": "2025-01-31T19:17:40.163Z"
      },
      {
        "duration": 60,
        "start_time": "2025-01-31T19:17:40.192Z"
      },
      {
        "duration": 229,
        "start_time": "2025-01-31T19:17:40.254Z"
      },
      {
        "duration": 95,
        "start_time": "2025-01-31T19:17:40.485Z"
      },
      {
        "duration": 67,
        "start_time": "2025-01-31T19:17:40.582Z"
      },
      {
        "duration": 641,
        "start_time": "2025-01-31T19:17:40.651Z"
      },
      {
        "duration": 5,
        "start_time": "2025-01-31T19:17:41.293Z"
      },
      {
        "duration": 6,
        "start_time": "2025-01-31T19:19:42.690Z"
      },
      {
        "duration": 3,
        "start_time": "2025-01-31T19:20:06.432Z"
      },
      {
        "duration": 20,
        "start_time": "2025-01-31T19:20:10.944Z"
      },
      {
        "duration": 1839,
        "start_time": "2025-01-31T19:26:48.926Z"
      },
      {
        "duration": 386,
        "start_time": "2025-01-31T19:26:50.768Z"
      },
      {
        "duration": 188,
        "start_time": "2025-01-31T19:26:51.156Z"
      },
      {
        "duration": 53,
        "start_time": "2025-01-31T19:26:51.346Z"
      },
      {
        "duration": 32,
        "start_time": "2025-01-31T19:26:51.401Z"
      },
      {
        "duration": 33,
        "start_time": "2025-01-31T19:26:51.435Z"
      },
      {
        "duration": 10,
        "start_time": "2025-01-31T19:27:02.746Z"
      },
      {
        "duration": 224,
        "start_time": "2025-01-31T19:27:12.311Z"
      },
      {
        "duration": 12,
        "start_time": "2025-01-31T19:27:20.261Z"
      },
      {
        "duration": 1883,
        "start_time": "2025-01-31T19:38:57.026Z"
      },
      {
        "duration": 1208,
        "start_time": "2025-01-31T19:38:58.911Z"
      },
      {
        "duration": 185,
        "start_time": "2025-01-31T19:39:00.125Z"
      },
      {
        "duration": 56,
        "start_time": "2025-01-31T19:39:00.314Z"
      },
      {
        "duration": 26,
        "start_time": "2025-01-31T19:39:00.372Z"
      },
      {
        "duration": 57,
        "start_time": "2025-01-31T19:39:00.400Z"
      },
      {
        "duration": 12,
        "start_time": "2025-01-31T19:39:00.459Z"
      },
      {
        "duration": 229,
        "start_time": "2025-01-31T19:39:00.473Z"
      },
      {
        "duration": 19,
        "start_time": "2025-01-31T19:39:00.705Z"
      },
      {
        "duration": 79,
        "start_time": "2025-01-31T19:39:00.726Z"
      },
      {
        "duration": 72,
        "start_time": "2025-01-31T19:39:00.807Z"
      },
      {
        "duration": 638,
        "start_time": "2025-01-31T19:39:00.880Z"
      },
      {
        "duration": 6,
        "start_time": "2025-01-31T19:39:01.519Z"
      },
      {
        "duration": 68701,
        "start_time": "2025-01-31T19:39:01.527Z"
      },
      {
        "duration": 0,
        "start_time": "2025-01-31T19:40:10.230Z"
      },
      {
        "duration": 0,
        "start_time": "2025-01-31T19:40:10.231Z"
      },
      {
        "duration": 0,
        "start_time": "2025-01-31T19:40:10.233Z"
      },
      {
        "duration": 0,
        "start_time": "2025-01-31T19:40:10.235Z"
      },
      {
        "duration": 0,
        "start_time": "2025-01-31T19:40:10.236Z"
      },
      {
        "duration": 0,
        "start_time": "2025-01-31T19:40:10.237Z"
      },
      {
        "duration": 0,
        "start_time": "2025-01-31T19:40:10.238Z"
      },
      {
        "duration": 0,
        "start_time": "2025-01-31T19:40:10.240Z"
      },
      {
        "duration": 0,
        "start_time": "2025-01-31T19:40:10.241Z"
      },
      {
        "duration": 1823,
        "start_time": "2025-01-31T19:40:57.504Z"
      },
      {
        "duration": 1296,
        "start_time": "2025-01-31T19:40:59.329Z"
      },
      {
        "duration": 186,
        "start_time": "2025-01-31T19:41:00.627Z"
      },
      {
        "duration": 62,
        "start_time": "2025-01-31T19:41:00.815Z"
      },
      {
        "duration": 27,
        "start_time": "2025-01-31T19:41:00.879Z"
      },
      {
        "duration": 62,
        "start_time": "2025-01-31T19:41:00.907Z"
      },
      {
        "duration": 13,
        "start_time": "2025-01-31T19:41:00.971Z"
      },
      {
        "duration": 249,
        "start_time": "2025-01-31T19:41:00.986Z"
      },
      {
        "duration": 13,
        "start_time": "2025-01-31T19:41:01.237Z"
      },
      {
        "duration": 90,
        "start_time": "2025-01-31T19:41:01.251Z"
      },
      {
        "duration": 64,
        "start_time": "2025-01-31T19:41:01.343Z"
      },
      {
        "duration": 646,
        "start_time": "2025-01-31T19:41:01.409Z"
      },
      {
        "duration": 4,
        "start_time": "2025-01-31T19:41:02.056Z"
      },
      {
        "duration": 6390,
        "start_time": "2025-01-31T19:41:14.675Z"
      },
      {
        "duration": 398,
        "start_time": "2025-01-31T19:42:04.429Z"
      },
      {
        "duration": 5894,
        "start_time": "2025-01-31T19:42:20.731Z"
      },
      {
        "duration": 159824,
        "start_time": "2025-01-31T19:42:57.284Z"
      },
      {
        "duration": 1860,
        "start_time": "2025-01-31T19:45:55.935Z"
      },
      {
        "duration": 1219,
        "start_time": "2025-01-31T19:45:57.798Z"
      },
      {
        "duration": 186,
        "start_time": "2025-01-31T19:45:59.019Z"
      },
      {
        "duration": 64,
        "start_time": "2025-01-31T19:45:59.208Z"
      },
      {
        "duration": 28,
        "start_time": "2025-01-31T19:45:59.274Z"
      },
      {
        "duration": 58,
        "start_time": "2025-01-31T19:45:59.303Z"
      },
      {
        "duration": 13,
        "start_time": "2025-01-31T19:45:59.363Z"
      },
      {
        "duration": 233,
        "start_time": "2025-01-31T19:45:59.377Z"
      },
      {
        "duration": 20,
        "start_time": "2025-01-31T19:45:59.612Z"
      },
      {
        "duration": 79,
        "start_time": "2025-01-31T19:45:59.634Z"
      },
      {
        "duration": 72,
        "start_time": "2025-01-31T19:45:59.715Z"
      },
      {
        "duration": 622,
        "start_time": "2025-01-31T19:45:59.789Z"
      },
      {
        "duration": 12,
        "start_time": "2025-01-31T19:46:00.413Z"
      },
      {
        "duration": 19252,
        "start_time": "2025-01-31T19:46:45.702Z"
      },
      {
        "duration": 25055,
        "start_time": "2025-01-31T19:48:26.326Z"
      },
      {
        "duration": 1835,
        "start_time": "2025-01-31T19:49:22.067Z"
      },
      {
        "duration": 1225,
        "start_time": "2025-01-31T19:49:23.905Z"
      },
      {
        "duration": 188,
        "start_time": "2025-01-31T19:49:25.132Z"
      },
      {
        "duration": 61,
        "start_time": "2025-01-31T19:49:25.326Z"
      },
      {
        "duration": 42,
        "start_time": "2025-01-31T19:49:25.388Z"
      },
      {
        "duration": 49,
        "start_time": "2025-01-31T19:49:25.432Z"
      },
      {
        "duration": 13,
        "start_time": "2025-01-31T19:49:25.483Z"
      },
      {
        "duration": 264,
        "start_time": "2025-01-31T19:49:25.498Z"
      },
      {
        "duration": 13,
        "start_time": "2025-01-31T19:49:25.763Z"
      },
      {
        "duration": 99,
        "start_time": "2025-01-31T19:49:25.778Z"
      },
      {
        "duration": 73,
        "start_time": "2025-01-31T19:49:25.879Z"
      },
      {
        "duration": 656,
        "start_time": "2025-01-31T19:49:25.954Z"
      },
      {
        "duration": 4,
        "start_time": "2025-01-31T19:49:26.611Z"
      },
      {
        "duration": 2,
        "start_time": "2025-01-31T19:50:20.177Z"
      },
      {
        "duration": 30568,
        "start_time": "2025-01-31T19:50:36.359Z"
      },
      {
        "duration": 3,
        "start_time": "2025-01-31T19:53:42.712Z"
      },
      {
        "duration": 3,
        "start_time": "2025-01-31T19:53:44.128Z"
      },
      {
        "duration": 227,
        "start_time": "2025-01-31T19:53:44.837Z"
      },
      {
        "duration": 1864,
        "start_time": "2025-01-31T19:56:17.480Z"
      },
      {
        "duration": 1282,
        "start_time": "2025-01-31T19:56:19.347Z"
      },
      {
        "duration": 177,
        "start_time": "2025-01-31T19:56:20.631Z"
      },
      {
        "duration": 61,
        "start_time": "2025-01-31T19:56:20.811Z"
      },
      {
        "duration": 25,
        "start_time": "2025-01-31T19:56:20.874Z"
      },
      {
        "duration": 56,
        "start_time": "2025-01-31T19:56:20.901Z"
      },
      {
        "duration": 14,
        "start_time": "2025-01-31T19:56:20.959Z"
      },
      {
        "duration": 245,
        "start_time": "2025-01-31T19:56:20.974Z"
      },
      {
        "duration": 13,
        "start_time": "2025-01-31T19:56:21.221Z"
      },
      {
        "duration": 88,
        "start_time": "2025-01-31T19:56:21.237Z"
      },
      {
        "duration": 66,
        "start_time": "2025-01-31T19:56:21.327Z"
      },
      {
        "duration": 647,
        "start_time": "2025-01-31T19:56:21.395Z"
      },
      {
        "duration": 3,
        "start_time": "2025-01-31T19:56:22.044Z"
      },
      {
        "duration": 3,
        "start_time": "2025-01-31T19:56:22.049Z"
      },
      {
        "duration": 1873,
        "start_time": "2025-01-31T19:58:27.308Z"
      },
      {
        "duration": 1231,
        "start_time": "2025-01-31T19:58:29.183Z"
      },
      {
        "duration": 189,
        "start_time": "2025-01-31T19:58:30.416Z"
      },
      {
        "duration": 61,
        "start_time": "2025-01-31T19:58:30.608Z"
      },
      {
        "duration": 26,
        "start_time": "2025-01-31T19:58:30.671Z"
      },
      {
        "duration": 62,
        "start_time": "2025-01-31T19:58:30.700Z"
      },
      {
        "duration": 13,
        "start_time": "2025-01-31T19:58:30.764Z"
      },
      {
        "duration": 233,
        "start_time": "2025-01-31T19:58:30.779Z"
      },
      {
        "duration": 17,
        "start_time": "2025-01-31T19:58:31.014Z"
      },
      {
        "duration": 89,
        "start_time": "2025-01-31T19:58:31.035Z"
      },
      {
        "duration": 68,
        "start_time": "2025-01-31T19:58:31.126Z"
      },
      {
        "duration": 644,
        "start_time": "2025-01-31T19:58:31.196Z"
      },
      {
        "duration": 3,
        "start_time": "2025-01-31T19:58:31.842Z"
      },
      {
        "duration": 2,
        "start_time": "2025-01-31T19:58:31.847Z"
      },
      {
        "duration": 1056592,
        "start_time": "2025-01-31T19:58:31.851Z"
      },
      {
        "duration": 6080,
        "start_time": "2025-01-31T20:16:08.445Z"
      },
      {
        "duration": 34437,
        "start_time": "2025-01-31T20:16:14.527Z"
      },
      {
        "duration": 1627524,
        "start_time": "2025-01-31T20:16:48.966Z"
      },
      {
        "duration": 0,
        "start_time": "2025-01-31T20:43:56.492Z"
      },
      {
        "duration": 0,
        "start_time": "2025-01-31T20:43:56.493Z"
      },
      {
        "duration": 0,
        "start_time": "2025-01-31T20:43:56.494Z"
      },
      {
        "duration": 0,
        "start_time": "2025-01-31T20:43:56.496Z"
      },
      {
        "duration": 0,
        "start_time": "2025-01-31T20:43:56.498Z"
      },
      {
        "duration": 0,
        "start_time": "2025-01-31T20:43:56.499Z"
      },
      {
        "duration": 1862,
        "start_time": "2025-01-31T20:44:32.310Z"
      },
      {
        "duration": 1290,
        "start_time": "2025-01-31T20:44:34.174Z"
      },
      {
        "duration": 184,
        "start_time": "2025-01-31T20:44:35.467Z"
      },
      {
        "duration": 55,
        "start_time": "2025-01-31T20:44:35.653Z"
      },
      {
        "duration": 36,
        "start_time": "2025-01-31T20:44:35.710Z"
      },
      {
        "duration": 46,
        "start_time": "2025-01-31T20:44:35.749Z"
      },
      {
        "duration": 30,
        "start_time": "2025-01-31T20:44:35.797Z"
      },
      {
        "duration": 240,
        "start_time": "2025-01-31T20:44:35.828Z"
      },
      {
        "duration": 12,
        "start_time": "2025-01-31T20:44:36.070Z"
      },
      {
        "duration": 97,
        "start_time": "2025-01-31T20:44:36.085Z"
      },
      {
        "duration": 72,
        "start_time": "2025-01-31T20:44:36.183Z"
      },
      {
        "duration": 622,
        "start_time": "2025-01-31T20:44:36.257Z"
      },
      {
        "duration": 3,
        "start_time": "2025-01-31T20:44:36.881Z"
      },
      {
        "duration": 4,
        "start_time": "2025-01-31T20:44:36.885Z"
      },
      {
        "duration": 1096991,
        "start_time": "2025-01-31T20:44:36.890Z"
      },
      {
        "duration": 5962,
        "start_time": "2025-01-31T21:02:53.883Z"
      },
      {
        "duration": 35256,
        "start_time": "2025-01-31T21:02:59.846Z"
      },
      {
        "duration": 1887,
        "start_time": "2025-01-31T21:18:19.158Z"
      },
      {
        "duration": 1325,
        "start_time": "2025-01-31T21:18:21.048Z"
      },
      {
        "duration": 187,
        "start_time": "2025-01-31T21:18:22.375Z"
      },
      {
        "duration": 61,
        "start_time": "2025-01-31T21:18:22.565Z"
      },
      {
        "duration": 28,
        "start_time": "2025-01-31T21:18:22.627Z"
      },
      {
        "duration": 50,
        "start_time": "2025-01-31T21:18:22.657Z"
      },
      {
        "duration": 26,
        "start_time": "2025-01-31T21:18:22.708Z"
      },
      {
        "duration": 240,
        "start_time": "2025-01-31T21:18:22.735Z"
      },
      {
        "duration": 12,
        "start_time": "2025-01-31T21:18:22.976Z"
      },
      {
        "duration": 99,
        "start_time": "2025-01-31T21:18:22.992Z"
      },
      {
        "duration": 83,
        "start_time": "2025-01-31T21:18:23.092Z"
      },
      {
        "duration": 635,
        "start_time": "2025-01-31T21:18:23.177Z"
      },
      {
        "duration": 3,
        "start_time": "2025-01-31T21:18:23.814Z"
      },
      {
        "duration": 7,
        "start_time": "2025-01-31T21:18:23.818Z"
      },
      {
        "duration": 1075023,
        "start_time": "2025-01-31T21:18:23.827Z"
      },
      {
        "duration": 5987,
        "start_time": "2025-01-31T21:36:18.852Z"
      },
      {
        "duration": 34346,
        "start_time": "2025-01-31T21:36:24.844Z"
      },
      {
        "duration": 1389152,
        "start_time": "2025-01-31T21:36:59.191Z"
      },
      {
        "duration": 3067120,
        "start_time": "2025-01-31T22:00:08.345Z"
      },
      {
        "duration": 163,
        "start_time": "2025-01-31T23:07:08.366Z"
      },
      {
        "duration": 1888,
        "start_time": "2025-01-31T23:07:20.751Z"
      },
      {
        "duration": 1358,
        "start_time": "2025-01-31T23:07:22.642Z"
      },
      {
        "duration": 182,
        "start_time": "2025-01-31T23:07:24.002Z"
      },
      {
        "duration": 60,
        "start_time": "2025-01-31T23:07:24.187Z"
      },
      {
        "duration": 26,
        "start_time": "2025-01-31T23:07:24.249Z"
      },
      {
        "duration": 62,
        "start_time": "2025-01-31T23:07:24.277Z"
      },
      {
        "duration": 13,
        "start_time": "2025-01-31T23:07:24.341Z"
      },
      {
        "duration": 249,
        "start_time": "2025-01-31T23:07:24.355Z"
      },
      {
        "duration": 20,
        "start_time": "2025-01-31T23:07:24.606Z"
      },
      {
        "duration": 82,
        "start_time": "2025-01-31T23:07:24.630Z"
      },
      {
        "duration": 74,
        "start_time": "2025-01-31T23:07:24.714Z"
      },
      {
        "duration": 626,
        "start_time": "2025-01-31T23:07:24.789Z"
      },
      {
        "duration": 3,
        "start_time": "2025-01-31T23:07:25.417Z"
      },
      {
        "duration": 4,
        "start_time": "2025-01-31T23:07:25.424Z"
      },
      {
        "duration": 1144215,
        "start_time": "2025-01-31T23:07:25.429Z"
      },
      {
        "duration": 5887,
        "start_time": "2025-01-31T23:26:29.647Z"
      },
      {
        "duration": 34491,
        "start_time": "2025-01-31T23:26:35.539Z"
      },
      {
        "duration": 1610574,
        "start_time": "2025-01-31T23:27:10.032Z"
      },
      {
        "duration": 3837427,
        "start_time": "2025-01-31T23:54:00.608Z"
      },
      {
        "duration": 162,
        "start_time": "2025-02-01T00:58:20.001Z"
      },
      {
        "duration": 2067,
        "start_time": "2025-02-01T11:17:30.996Z"
      },
      {
        "duration": 1434,
        "start_time": "2025-02-01T11:17:33.065Z"
      },
      {
        "duration": 193,
        "start_time": "2025-02-01T11:17:34.501Z"
      },
      {
        "duration": 58,
        "start_time": "2025-02-01T11:17:34.697Z"
      },
      {
        "duration": 42,
        "start_time": "2025-02-01T11:17:34.757Z"
      },
      {
        "duration": 49,
        "start_time": "2025-02-01T11:17:34.801Z"
      },
      {
        "duration": 14,
        "start_time": "2025-02-01T11:17:34.852Z"
      },
      {
        "duration": 262,
        "start_time": "2025-02-01T11:17:34.868Z"
      },
      {
        "duration": 12,
        "start_time": "2025-02-01T11:17:35.131Z"
      },
      {
        "duration": 101,
        "start_time": "2025-02-01T11:17:35.146Z"
      },
      {
        "duration": 78,
        "start_time": "2025-02-01T11:17:35.249Z"
      },
      {
        "duration": 640,
        "start_time": "2025-02-01T11:17:35.329Z"
      },
      {
        "duration": 3,
        "start_time": "2025-02-01T11:17:35.971Z"
      },
      {
        "duration": 3,
        "start_time": "2025-02-01T11:17:35.976Z"
      },
      {
        "duration": 164959,
        "start_time": "2025-02-01T11:17:35.987Z"
      },
      {
        "duration": 0,
        "start_time": "2025-02-01T11:20:20.948Z"
      },
      {
        "duration": 0,
        "start_time": "2025-02-01T11:20:20.949Z"
      },
      {
        "duration": 0,
        "start_time": "2025-02-01T11:20:20.950Z"
      },
      {
        "duration": 0,
        "start_time": "2025-02-01T11:20:20.951Z"
      },
      {
        "duration": 1983,
        "start_time": "2025-02-01T11:20:33.418Z"
      },
      {
        "duration": 403,
        "start_time": "2025-02-01T11:20:35.404Z"
      },
      {
        "duration": 189,
        "start_time": "2025-02-01T11:20:35.808Z"
      },
      {
        "duration": 62,
        "start_time": "2025-02-01T11:20:36.000Z"
      },
      {
        "duration": 36,
        "start_time": "2025-02-01T11:20:36.064Z"
      },
      {
        "duration": 38,
        "start_time": "2025-02-01T11:20:36.102Z"
      },
      {
        "duration": 10,
        "start_time": "2025-02-01T11:20:36.142Z"
      },
      {
        "duration": 271,
        "start_time": "2025-02-01T11:20:36.154Z"
      },
      {
        "duration": 12,
        "start_time": "2025-02-01T11:20:36.426Z"
      },
      {
        "duration": 95,
        "start_time": "2025-02-01T11:20:36.441Z"
      },
      {
        "duration": 85,
        "start_time": "2025-02-01T11:20:36.538Z"
      },
      {
        "duration": 617,
        "start_time": "2025-02-01T11:20:36.624Z"
      },
      {
        "duration": 4,
        "start_time": "2025-02-01T11:20:37.243Z"
      },
      {
        "duration": 3,
        "start_time": "2025-02-01T11:20:37.249Z"
      },
      {
        "duration": 1948,
        "start_time": "2025-02-01T11:21:00.782Z"
      },
      {
        "duration": 1326,
        "start_time": "2025-02-01T11:21:02.734Z"
      },
      {
        "duration": 177,
        "start_time": "2025-02-01T11:21:04.062Z"
      },
      {
        "duration": 67,
        "start_time": "2025-02-01T11:21:04.242Z"
      },
      {
        "duration": 26,
        "start_time": "2025-02-01T11:21:04.311Z"
      },
      {
        "duration": 54,
        "start_time": "2025-02-01T11:21:04.339Z"
      },
      {
        "duration": 12,
        "start_time": "2025-02-01T11:21:04.395Z"
      },
      {
        "duration": 263,
        "start_time": "2025-02-01T11:21:04.409Z"
      },
      {
        "duration": 18,
        "start_time": "2025-02-01T11:21:04.673Z"
      },
      {
        "duration": 94,
        "start_time": "2025-02-01T11:21:04.694Z"
      },
      {
        "duration": 70,
        "start_time": "2025-02-01T11:21:04.790Z"
      },
      {
        "duration": 644,
        "start_time": "2025-02-01T11:21:04.862Z"
      },
      {
        "duration": 3,
        "start_time": "2025-02-01T11:21:05.508Z"
      },
      {
        "duration": 3,
        "start_time": "2025-02-01T11:21:05.513Z"
      },
      {
        "duration": 1880,
        "start_time": "2025-02-01T11:26:31.497Z"
      },
      {
        "duration": 1351,
        "start_time": "2025-02-01T11:26:33.380Z"
      },
      {
        "duration": 191,
        "start_time": "2025-02-01T11:26:34.733Z"
      },
      {
        "duration": 61,
        "start_time": "2025-02-01T11:26:34.928Z"
      },
      {
        "duration": 28,
        "start_time": "2025-02-01T11:26:34.991Z"
      },
      {
        "duration": 51,
        "start_time": "2025-02-01T11:26:35.021Z"
      },
      {
        "duration": 13,
        "start_time": "2025-02-01T11:26:35.086Z"
      },
      {
        "duration": 250,
        "start_time": "2025-02-01T11:26:35.100Z"
      },
      {
        "duration": 13,
        "start_time": "2025-02-01T11:26:35.352Z"
      },
      {
        "duration": 101,
        "start_time": "2025-02-01T11:26:35.368Z"
      },
      {
        "duration": 81,
        "start_time": "2025-02-01T11:26:35.471Z"
      },
      {
        "duration": 632,
        "start_time": "2025-02-01T11:26:35.554Z"
      },
      {
        "duration": 3,
        "start_time": "2025-02-01T11:26:36.188Z"
      },
      {
        "duration": 2,
        "start_time": "2025-02-01T11:26:38.392Z"
      },
      {
        "duration": 50598,
        "start_time": "2025-02-01T11:26:40.400Z"
      },
      {
        "duration": 1867,
        "start_time": "2025-02-01T11:31:52.228Z"
      },
      {
        "duration": 1315,
        "start_time": "2025-02-01T11:31:54.098Z"
      },
      {
        "duration": 180,
        "start_time": "2025-02-01T11:31:55.415Z"
      },
      {
        "duration": 55,
        "start_time": "2025-02-01T11:31:55.597Z"
      },
      {
        "duration": 37,
        "start_time": "2025-02-01T11:31:55.654Z"
      },
      {
        "duration": 46,
        "start_time": "2025-02-01T11:31:55.693Z"
      },
      {
        "duration": 12,
        "start_time": "2025-02-01T11:31:55.741Z"
      },
      {
        "duration": 264,
        "start_time": "2025-02-01T11:31:55.755Z"
      },
      {
        "duration": 13,
        "start_time": "2025-02-01T11:31:56.021Z"
      },
      {
        "duration": 102,
        "start_time": "2025-02-01T11:31:56.037Z"
      },
      {
        "duration": 77,
        "start_time": "2025-02-01T11:31:56.141Z"
      },
      {
        "duration": 646,
        "start_time": "2025-02-01T11:31:56.220Z"
      },
      {
        "duration": 4,
        "start_time": "2025-02-01T11:31:56.867Z"
      },
      {
        "duration": 3,
        "start_time": "2025-02-01T11:31:56.873Z"
      },
      {
        "duration": 637745,
        "start_time": "2025-02-01T11:31:58.875Z"
      },
      {
        "duration": 6440,
        "start_time": "2025-02-01T11:43:00.063Z"
      },
      {
        "duration": 17022,
        "start_time": "2025-02-01T11:43:14.089Z"
      },
      {
        "duration": 348700,
        "start_time": "2025-02-01T11:53:40.709Z"
      },
      {
        "duration": 774903,
        "start_time": "2025-02-01T11:59:36.392Z"
      },
      {
        "duration": 1971,
        "start_time": "2025-02-19T18:57:05.945Z"
      },
      {
        "duration": 1321,
        "start_time": "2025-02-19T18:57:07.919Z"
      },
      {
        "duration": 185,
        "start_time": "2025-02-19T18:57:09.242Z"
      },
      {
        "duration": 58,
        "start_time": "2025-02-19T18:57:09.429Z"
      },
      {
        "duration": 25,
        "start_time": "2025-02-19T18:57:09.489Z"
      },
      {
        "duration": 57,
        "start_time": "2025-02-19T18:57:09.516Z"
      },
      {
        "duration": 13,
        "start_time": "2025-02-19T18:57:09.575Z"
      },
      {
        "duration": 235,
        "start_time": "2025-02-19T18:57:09.589Z"
      },
      {
        "duration": 12,
        "start_time": "2025-02-19T18:57:09.826Z"
      },
      {
        "duration": 96,
        "start_time": "2025-02-19T18:57:09.841Z"
      },
      {
        "duration": 67,
        "start_time": "2025-02-19T18:57:09.939Z"
      },
      {
        "duration": 636,
        "start_time": "2025-02-19T18:57:10.008Z"
      },
      {
        "duration": 3,
        "start_time": "2025-02-19T18:57:10.646Z"
      },
      {
        "duration": 3,
        "start_time": "2025-02-19T18:57:10.651Z"
      },
      {
        "duration": 613235,
        "start_time": "2025-02-19T18:57:10.655Z"
      },
      {
        "duration": 6181,
        "start_time": "2025-02-19T19:07:23.893Z"
      },
      {
        "duration": 16855,
        "start_time": "2025-02-19T19:07:30.076Z"
      },
      {
        "duration": 304348,
        "start_time": "2025-02-19T19:07:46.933Z"
      },
      {
        "duration": 0,
        "start_time": "2025-02-19T19:12:51.282Z"
      },
      {
        "duration": 0,
        "start_time": "2025-02-19T19:12:51.283Z"
      },
      {
        "duration": 0,
        "start_time": "2025-02-19T19:12:51.285Z"
      },
      {
        "duration": 0,
        "start_time": "2025-02-19T19:12:51.286Z"
      },
      {
        "duration": 0,
        "start_time": "2025-02-19T19:12:51.287Z"
      },
      {
        "duration": 0,
        "start_time": "2025-02-19T19:12:51.288Z"
      },
      {
        "duration": 1856,
        "start_time": "2025-02-19T19:22:06.563Z"
      },
      {
        "duration": 1251,
        "start_time": "2025-02-19T19:22:08.421Z"
      },
      {
        "duration": 184,
        "start_time": "2025-02-19T19:22:09.674Z"
      },
      {
        "duration": 53,
        "start_time": "2025-02-19T19:22:09.862Z"
      },
      {
        "duration": 27,
        "start_time": "2025-02-19T19:22:09.917Z"
      },
      {
        "duration": 60,
        "start_time": "2025-02-19T19:22:09.945Z"
      },
      {
        "duration": 13,
        "start_time": "2025-02-19T19:22:10.008Z"
      },
      {
        "duration": 239,
        "start_time": "2025-02-19T19:22:10.023Z"
      },
      {
        "duration": 17,
        "start_time": "2025-02-19T19:22:10.264Z"
      },
      {
        "duration": 94,
        "start_time": "2025-02-19T19:22:10.284Z"
      },
      {
        "duration": 65,
        "start_time": "2025-02-19T19:22:10.380Z"
      },
      {
        "duration": 623,
        "start_time": "2025-02-19T19:22:10.447Z"
      },
      {
        "duration": 4,
        "start_time": "2025-02-19T19:22:11.072Z"
      },
      {
        "duration": 4,
        "start_time": "2025-02-19T19:22:11.079Z"
      },
      {
        "duration": 602710,
        "start_time": "2025-02-19T19:22:11.084Z"
      },
      {
        "duration": 6182,
        "start_time": "2025-02-19T19:32:13.796Z"
      },
      {
        "duration": 16031,
        "start_time": "2025-02-19T19:32:19.980Z"
      },
      {
        "duration": 350337,
        "start_time": "2025-02-19T19:32:36.013Z"
      },
      {
        "duration": 792122,
        "start_time": "2025-02-19T19:38:26.353Z"
      },
      {
        "duration": 1841,
        "start_time": "2025-02-19T19:54:53.459Z"
      },
      {
        "duration": 1389,
        "start_time": "2025-02-19T19:54:55.303Z"
      },
      {
        "duration": 191,
        "start_time": "2025-02-19T19:54:56.693Z"
      },
      {
        "duration": 53,
        "start_time": "2025-02-19T19:54:56.887Z"
      },
      {
        "duration": 42,
        "start_time": "2025-02-19T19:54:56.942Z"
      },
      {
        "duration": 44,
        "start_time": "2025-02-19T19:54:56.986Z"
      },
      {
        "duration": 13,
        "start_time": "2025-02-19T19:54:57.031Z"
      },
      {
        "duration": 258,
        "start_time": "2025-02-19T19:54:57.045Z"
      },
      {
        "duration": 13,
        "start_time": "2025-02-19T19:54:57.305Z"
      },
      {
        "duration": 99,
        "start_time": "2025-02-19T19:54:57.321Z"
      },
      {
        "duration": 72,
        "start_time": "2025-02-19T19:54:57.422Z"
      },
      {
        "duration": 640,
        "start_time": "2025-02-19T19:54:57.495Z"
      },
      {
        "duration": 3,
        "start_time": "2025-02-19T19:54:58.137Z"
      },
      {
        "duration": 3,
        "start_time": "2025-02-19T19:54:58.142Z"
      },
      {
        "duration": 1932,
        "start_time": "2025-02-20T19:02:01.755Z"
      },
      {
        "duration": 1273,
        "start_time": "2025-02-20T19:02:03.689Z"
      },
      {
        "duration": 196,
        "start_time": "2025-02-20T19:02:04.964Z"
      },
      {
        "duration": 61,
        "start_time": "2025-02-20T19:02:05.162Z"
      },
      {
        "duration": 30,
        "start_time": "2025-02-20T19:02:05.225Z"
      },
      {
        "duration": 60,
        "start_time": "2025-02-20T19:02:05.256Z"
      },
      {
        "duration": 13,
        "start_time": "2025-02-20T19:02:05.318Z"
      },
      {
        "duration": 240,
        "start_time": "2025-02-20T19:02:05.333Z"
      },
      {
        "duration": 12,
        "start_time": "2025-02-20T19:02:05.575Z"
      },
      {
        "duration": 92,
        "start_time": "2025-02-20T19:02:05.590Z"
      },
      {
        "duration": 68,
        "start_time": "2025-02-20T19:02:05.684Z"
      },
      {
        "duration": 626,
        "start_time": "2025-02-20T19:02:05.753Z"
      },
      {
        "duration": 3,
        "start_time": "2025-02-20T19:02:06.380Z"
      },
      {
        "duration": 3,
        "start_time": "2025-02-20T19:02:06.388Z"
      },
      {
        "duration": 528075,
        "start_time": "2025-02-20T19:02:06.392Z"
      },
      {
        "duration": 0,
        "start_time": "2025-02-20T19:10:54.469Z"
      },
      {
        "duration": 0,
        "start_time": "2025-02-20T19:10:54.471Z"
      },
      {
        "duration": 0,
        "start_time": "2025-02-20T19:10:54.472Z"
      },
      {
        "duration": 0,
        "start_time": "2025-02-20T19:10:54.474Z"
      },
      {
        "duration": 0,
        "start_time": "2025-02-20T19:10:54.475Z"
      },
      {
        "duration": 0,
        "start_time": "2025-02-20T19:10:54.477Z"
      },
      {
        "duration": 0,
        "start_time": "2025-02-20T19:10:54.478Z"
      },
      {
        "duration": 0,
        "start_time": "2025-02-20T19:10:54.480Z"
      },
      {
        "duration": 0,
        "start_time": "2025-02-20T19:10:54.481Z"
      },
      {
        "duration": 1868,
        "start_time": "2025-02-20T19:14:48.231Z"
      },
      {
        "duration": 1273,
        "start_time": "2025-02-20T19:14:50.102Z"
      },
      {
        "duration": 183,
        "start_time": "2025-02-20T19:14:51.376Z"
      },
      {
        "duration": 62,
        "start_time": "2025-02-20T19:14:51.561Z"
      },
      {
        "duration": 27,
        "start_time": "2025-02-20T19:14:51.625Z"
      },
      {
        "duration": 55,
        "start_time": "2025-02-20T19:14:51.654Z"
      },
      {
        "duration": 60,
        "start_time": "2025-02-20T19:14:51.710Z"
      },
      {
        "duration": 11,
        "start_time": "2025-02-20T19:14:51.772Z"
      },
      {
        "duration": 107,
        "start_time": "2025-02-20T19:14:51.785Z"
      },
      {
        "duration": 3,
        "start_time": "2025-02-20T19:14:51.895Z"
      },
      {
        "duration": 15,
        "start_time": "2025-02-20T19:14:51.909Z"
      },
      {
        "duration": 259,
        "start_time": "2025-02-20T19:14:51.926Z"
      },
      {
        "duration": 23,
        "start_time": "2025-02-20T19:14:52.186Z"
      },
      {
        "duration": 3,
        "start_time": "2025-02-20T19:14:52.211Z"
      },
      {
        "duration": 356,
        "start_time": "2025-02-20T19:14:52.216Z"
      },
      {
        "duration": 0,
        "start_time": "2025-02-20T19:14:52.574Z"
      },
      {
        "duration": 0,
        "start_time": "2025-02-20T19:14:52.575Z"
      },
      {
        "duration": 0,
        "start_time": "2025-02-20T19:14:52.577Z"
      },
      {
        "duration": 0,
        "start_time": "2025-02-20T19:14:52.578Z"
      },
      {
        "duration": 0,
        "start_time": "2025-02-20T19:14:52.580Z"
      },
      {
        "duration": 0,
        "start_time": "2025-02-20T19:14:52.581Z"
      },
      {
        "duration": 0,
        "start_time": "2025-02-20T19:14:52.583Z"
      },
      {
        "duration": 0,
        "start_time": "2025-02-20T19:14:52.584Z"
      },
      {
        "duration": 0,
        "start_time": "2025-02-20T19:14:52.585Z"
      },
      {
        "duration": 1870,
        "start_time": "2025-02-20T19:15:27.634Z"
      },
      {
        "duration": 1339,
        "start_time": "2025-02-20T19:15:29.507Z"
      },
      {
        "duration": 183,
        "start_time": "2025-02-20T19:15:30.848Z"
      },
      {
        "duration": 54,
        "start_time": "2025-02-20T19:15:31.033Z"
      },
      {
        "duration": 33,
        "start_time": "2025-02-20T19:15:31.091Z"
      },
      {
        "duration": 46,
        "start_time": "2025-02-20T19:15:31.125Z"
      },
      {
        "duration": 76,
        "start_time": "2025-02-20T19:15:31.173Z"
      },
      {
        "duration": 11,
        "start_time": "2025-02-20T19:15:31.250Z"
      },
      {
        "duration": 96,
        "start_time": "2025-02-20T19:15:31.263Z"
      },
      {
        "duration": 3,
        "start_time": "2025-02-20T19:15:31.361Z"
      },
      {
        "duration": 15,
        "start_time": "2025-02-20T19:15:31.366Z"
      },
      {
        "duration": 258,
        "start_time": "2025-02-20T19:15:31.383Z"
      },
      {
        "duration": 20,
        "start_time": "2025-02-20T19:15:31.645Z"
      },
      {
        "duration": 4,
        "start_time": "2025-02-20T19:15:31.669Z"
      },
      {
        "duration": 363,
        "start_time": "2025-02-20T19:15:31.675Z"
      },
      {
        "duration": 0,
        "start_time": "2025-02-20T19:15:32.040Z"
      },
      {
        "duration": 0,
        "start_time": "2025-02-20T19:15:32.042Z"
      },
      {
        "duration": 0,
        "start_time": "2025-02-20T19:15:32.042Z"
      },
      {
        "duration": 0,
        "start_time": "2025-02-20T19:15:32.044Z"
      },
      {
        "duration": 0,
        "start_time": "2025-02-20T19:15:32.046Z"
      },
      {
        "duration": 0,
        "start_time": "2025-02-20T19:15:32.047Z"
      },
      {
        "duration": 0,
        "start_time": "2025-02-20T19:15:32.049Z"
      },
      {
        "duration": 0,
        "start_time": "2025-02-20T19:15:32.050Z"
      },
      {
        "duration": 0,
        "start_time": "2025-02-20T19:15:32.052Z"
      },
      {
        "duration": 1892,
        "start_time": "2025-02-20T19:17:16.764Z"
      },
      {
        "duration": 1289,
        "start_time": "2025-02-20T19:17:18.658Z"
      },
      {
        "duration": 182,
        "start_time": "2025-02-20T19:17:19.950Z"
      },
      {
        "duration": 54,
        "start_time": "2025-02-20T19:17:20.135Z"
      },
      {
        "duration": 35,
        "start_time": "2025-02-20T19:17:20.191Z"
      },
      {
        "duration": 47,
        "start_time": "2025-02-20T19:17:20.228Z"
      },
      {
        "duration": 75,
        "start_time": "2025-02-20T19:17:20.277Z"
      },
      {
        "duration": 10,
        "start_time": "2025-02-20T19:17:20.353Z"
      },
      {
        "duration": 92,
        "start_time": "2025-02-20T19:17:20.365Z"
      },
      {
        "duration": 3,
        "start_time": "2025-02-20T19:17:20.460Z"
      },
      {
        "duration": 261,
        "start_time": "2025-02-20T19:17:20.464Z"
      },
      {
        "duration": 3,
        "start_time": "2025-02-20T19:17:20.727Z"
      },
      {
        "duration": 381,
        "start_time": "2025-02-20T19:17:20.731Z"
      },
      {
        "duration": 0,
        "start_time": "2025-02-20T19:17:21.114Z"
      },
      {
        "duration": 0,
        "start_time": "2025-02-20T19:17:21.115Z"
      },
      {
        "duration": 0,
        "start_time": "2025-02-20T19:17:21.116Z"
      },
      {
        "duration": 0,
        "start_time": "2025-02-20T19:17:21.117Z"
      },
      {
        "duration": 0,
        "start_time": "2025-02-20T19:17:21.118Z"
      },
      {
        "duration": 0,
        "start_time": "2025-02-20T19:17:21.119Z"
      },
      {
        "duration": 0,
        "start_time": "2025-02-20T19:17:21.120Z"
      },
      {
        "duration": 0,
        "start_time": "2025-02-20T19:17:21.121Z"
      },
      {
        "duration": 0,
        "start_time": "2025-02-20T19:17:21.122Z"
      },
      {
        "duration": 1851,
        "start_time": "2025-02-20T19:17:58.669Z"
      },
      {
        "duration": 1302,
        "start_time": "2025-02-20T19:18:00.523Z"
      },
      {
        "duration": 185,
        "start_time": "2025-02-20T19:18:01.828Z"
      },
      {
        "duration": 58,
        "start_time": "2025-02-20T19:18:02.016Z"
      },
      {
        "duration": 35,
        "start_time": "2025-02-20T19:18:02.076Z"
      },
      {
        "duration": 46,
        "start_time": "2025-02-20T19:18:02.114Z"
      },
      {
        "duration": 78,
        "start_time": "2025-02-20T19:18:02.162Z"
      },
      {
        "duration": 12,
        "start_time": "2025-02-20T19:18:02.241Z"
      },
      {
        "duration": 101,
        "start_time": "2025-02-20T19:18:02.255Z"
      },
      {
        "duration": 3,
        "start_time": "2025-02-20T19:18:02.360Z"
      },
      {
        "duration": 174,
        "start_time": "2025-02-20T19:18:02.364Z"
      },
      {
        "duration": 3,
        "start_time": "2025-02-20T19:18:02.539Z"
      },
      {
        "duration": 215068,
        "start_time": "2025-02-20T19:18:02.544Z"
      },
      {
        "duration": 0,
        "start_time": "2025-02-20T19:21:37.614Z"
      },
      {
        "duration": 0,
        "start_time": "2025-02-20T19:21:37.616Z"
      },
      {
        "duration": 0,
        "start_time": "2025-02-20T19:21:37.617Z"
      },
      {
        "duration": 0,
        "start_time": "2025-02-20T19:21:37.618Z"
      },
      {
        "duration": 0,
        "start_time": "2025-02-20T19:21:37.620Z"
      },
      {
        "duration": 0,
        "start_time": "2025-02-20T19:21:37.621Z"
      },
      {
        "duration": 0,
        "start_time": "2025-02-20T19:21:37.622Z"
      },
      {
        "duration": 0,
        "start_time": "2025-02-20T19:21:37.624Z"
      },
      {
        "duration": 0,
        "start_time": "2025-02-20T19:21:37.625Z"
      },
      {
        "duration": 1899,
        "start_time": "2025-02-20T19:23:36.805Z"
      },
      {
        "duration": 1293,
        "start_time": "2025-02-20T19:23:38.707Z"
      },
      {
        "duration": 194,
        "start_time": "2025-02-20T19:23:40.002Z"
      },
      {
        "duration": 58,
        "start_time": "2025-02-20T19:23:40.198Z"
      },
      {
        "duration": 28,
        "start_time": "2025-02-20T19:23:40.257Z"
      },
      {
        "duration": 61,
        "start_time": "2025-02-20T19:23:40.287Z"
      },
      {
        "duration": 64,
        "start_time": "2025-02-20T19:23:40.350Z"
      },
      {
        "duration": 11,
        "start_time": "2025-02-20T19:23:40.415Z"
      },
      {
        "duration": 103,
        "start_time": "2025-02-20T19:23:40.428Z"
      },
      {
        "duration": 3,
        "start_time": "2025-02-20T19:23:40.535Z"
      },
      {
        "duration": 172,
        "start_time": "2025-02-20T19:23:40.539Z"
      },
      {
        "duration": 242,
        "start_time": "2025-02-20T19:23:40.712Z"
      },
      {
        "duration": 0,
        "start_time": "2025-02-20T19:23:40.956Z"
      },
      {
        "duration": 0,
        "start_time": "2025-02-20T19:23:40.957Z"
      },
      {
        "duration": 1,
        "start_time": "2025-02-20T19:23:40.958Z"
      },
      {
        "duration": 0,
        "start_time": "2025-02-20T19:23:40.960Z"
      },
      {
        "duration": 0,
        "start_time": "2025-02-20T19:23:40.962Z"
      },
      {
        "duration": 0,
        "start_time": "2025-02-20T19:23:40.963Z"
      },
      {
        "duration": 0,
        "start_time": "2025-02-20T19:23:40.964Z"
      },
      {
        "duration": 0,
        "start_time": "2025-02-20T19:23:40.966Z"
      },
      {
        "duration": 1,
        "start_time": "2025-02-20T19:23:40.968Z"
      },
      {
        "duration": 0,
        "start_time": "2025-02-20T19:23:40.970Z"
      },
      {
        "duration": 0,
        "start_time": "2025-02-20T19:23:40.971Z"
      },
      {
        "duration": 1978,
        "start_time": "2025-02-20T19:25:22.924Z"
      },
      {
        "duration": 1350,
        "start_time": "2025-02-20T19:25:24.904Z"
      },
      {
        "duration": 184,
        "start_time": "2025-02-20T19:25:26.257Z"
      },
      {
        "duration": 55,
        "start_time": "2025-02-20T19:25:26.443Z"
      },
      {
        "duration": 26,
        "start_time": "2025-02-20T19:25:26.508Z"
      },
      {
        "duration": 46,
        "start_time": "2025-02-20T19:25:26.536Z"
      },
      {
        "duration": 78,
        "start_time": "2025-02-20T19:25:26.584Z"
      },
      {
        "duration": 11,
        "start_time": "2025-02-20T19:25:26.663Z"
      },
      {
        "duration": 97,
        "start_time": "2025-02-20T19:25:26.678Z"
      },
      {
        "duration": 3,
        "start_time": "2025-02-20T19:25:26.777Z"
      },
      {
        "duration": 202,
        "start_time": "2025-02-20T19:25:26.782Z"
      },
      {
        "duration": 1836,
        "start_time": "2025-02-20T19:25:26.988Z"
      },
      {
        "duration": 3,
        "start_time": "2025-02-20T19:25:28.825Z"
      },
      {
        "duration": 9078,
        "start_time": "2025-02-20T19:25:28.830Z"
      },
      {
        "duration": 0,
        "start_time": "2025-02-20T19:25:37.913Z"
      },
      {
        "duration": 0,
        "start_time": "2025-02-20T19:25:37.915Z"
      },
      {
        "duration": 0,
        "start_time": "2025-02-20T19:25:37.916Z"
      },
      {
        "duration": 0,
        "start_time": "2025-02-20T19:25:37.918Z"
      },
      {
        "duration": 0,
        "start_time": "2025-02-20T19:25:37.922Z"
      },
      {
        "duration": 0,
        "start_time": "2025-02-20T19:25:37.923Z"
      },
      {
        "duration": 0,
        "start_time": "2025-02-20T19:25:37.925Z"
      },
      {
        "duration": 0,
        "start_time": "2025-02-20T19:25:37.926Z"
      },
      {
        "duration": 0,
        "start_time": "2025-02-20T19:25:37.928Z"
      },
      {
        "duration": 30,
        "start_time": "2025-02-20T19:29:01.195Z"
      },
      {
        "duration": 2005,
        "start_time": "2025-02-20T19:29:13.429Z"
      },
      {
        "duration": 445,
        "start_time": "2025-02-20T19:29:15.437Z"
      },
      {
        "duration": 186,
        "start_time": "2025-02-20T19:29:15.884Z"
      },
      {
        "duration": 65,
        "start_time": "2025-02-20T19:29:16.072Z"
      },
      {
        "duration": 27,
        "start_time": "2025-02-20T19:29:16.140Z"
      },
      {
        "duration": 56,
        "start_time": "2025-02-20T19:29:16.169Z"
      },
      {
        "duration": 65,
        "start_time": "2025-02-20T19:29:16.226Z"
      },
      {
        "duration": 20,
        "start_time": "2025-02-20T19:29:16.293Z"
      },
      {
        "duration": 23,
        "start_time": "2025-02-20T19:29:22.833Z"
      },
      {
        "duration": 1983,
        "start_time": "2025-02-20T19:30:21.351Z"
      },
      {
        "duration": 400,
        "start_time": "2025-02-20T19:30:23.337Z"
      },
      {
        "duration": 183,
        "start_time": "2025-02-20T19:30:23.739Z"
      },
      {
        "duration": 57,
        "start_time": "2025-02-20T19:30:23.924Z"
      },
      {
        "duration": 36,
        "start_time": "2025-02-20T19:30:23.983Z"
      },
      {
        "duration": 38,
        "start_time": "2025-02-20T19:30:24.021Z"
      },
      {
        "duration": 77,
        "start_time": "2025-02-20T19:30:24.062Z"
      },
      {
        "duration": 19,
        "start_time": "2025-02-20T19:30:24.140Z"
      },
      {
        "duration": 27,
        "start_time": "2025-02-20T19:30:27.202Z"
      },
      {
        "duration": 1990,
        "start_time": "2025-02-20T19:31:35.919Z"
      },
      {
        "duration": 1323,
        "start_time": "2025-02-20T19:31:37.914Z"
      },
      {
        "duration": 199,
        "start_time": "2025-02-20T19:31:39.239Z"
      },
      {
        "duration": 58,
        "start_time": "2025-02-20T19:31:39.440Z"
      },
      {
        "duration": 3,
        "start_time": "2025-02-20T19:31:43.057Z"
      },
      {
        "duration": 12,
        "start_time": "2025-02-20T19:31:59.165Z"
      },
      {
        "duration": 21,
        "start_time": "2025-02-20T19:32:03.833Z"
      },
      {
        "duration": 32,
        "start_time": "2025-02-20T19:32:48.492Z"
      },
      {
        "duration": 24,
        "start_time": "2025-02-20T19:33:02.821Z"
      },
      {
        "duration": 17,
        "start_time": "2025-02-20T19:33:16.740Z"
      },
      {
        "duration": 224,
        "start_time": "2025-02-20T19:33:32.229Z"
      },
      {
        "duration": 13,
        "start_time": "2025-02-20T19:33:45.966Z"
      },
      {
        "duration": 18,
        "start_time": "2025-02-20T19:33:58.933Z"
      },
      {
        "duration": 18,
        "start_time": "2025-02-20T19:34:13.719Z"
      },
      {
        "duration": 13,
        "start_time": "2025-02-20T19:34:20.496Z"
      },
      {
        "duration": 15,
        "start_time": "2025-02-20T19:34:35.822Z"
      },
      {
        "duration": 1839,
        "start_time": "2025-02-20T19:35:00.408Z"
      },
      {
        "duration": 1295,
        "start_time": "2025-02-20T19:35:02.250Z"
      },
      {
        "duration": 173,
        "start_time": "2025-02-20T19:35:03.547Z"
      },
      {
        "duration": 54,
        "start_time": "2025-02-20T19:35:03.722Z"
      },
      {
        "duration": 33,
        "start_time": "2025-02-20T19:35:03.777Z"
      },
      {
        "duration": 44,
        "start_time": "2025-02-20T19:35:03.812Z"
      },
      {
        "duration": 75,
        "start_time": "2025-02-20T19:35:03.858Z"
      },
      {
        "duration": 10,
        "start_time": "2025-02-20T19:35:03.935Z"
      },
      {
        "duration": 91,
        "start_time": "2025-02-20T19:35:03.947Z"
      },
      {
        "duration": 3,
        "start_time": "2025-02-20T19:35:04.041Z"
      },
      {
        "duration": 319,
        "start_time": "2025-02-20T19:35:07.035Z"
      },
      {
        "duration": 17,
        "start_time": "2025-02-20T19:35:18.426Z"
      },
      {
        "duration": 15,
        "start_time": "2025-02-20T19:35:40.143Z"
      },
      {
        "duration": 3,
        "start_time": "2025-02-20T19:36:23.326Z"
      },
      {
        "duration": 113303,
        "start_time": "2025-02-20T19:36:24.888Z"
      },
      {
        "duration": 0,
        "start_time": "2025-02-20T19:38:18.193Z"
      },
      {
        "duration": 58,
        "start_time": "2025-02-20T19:38:20.407Z"
      },
      {
        "duration": 1974,
        "start_time": "2025-02-20T19:46:36.705Z"
      },
      {
        "duration": 1249,
        "start_time": "2025-02-20T19:46:38.682Z"
      },
      {
        "duration": 233,
        "start_time": "2025-02-20T19:46:39.933Z"
      },
      {
        "duration": 67,
        "start_time": "2025-02-20T19:46:40.168Z"
      },
      {
        "duration": 29,
        "start_time": "2025-02-20T19:46:40.238Z"
      },
      {
        "duration": 63,
        "start_time": "2025-02-20T19:46:40.268Z"
      },
      {
        "duration": 62,
        "start_time": "2025-02-20T19:46:40.333Z"
      },
      {
        "duration": 15,
        "start_time": "2025-02-20T19:46:40.397Z"
      },
      {
        "duration": 97,
        "start_time": "2025-02-20T19:46:40.414Z"
      },
      {
        "duration": 3,
        "start_time": "2025-02-20T19:46:40.512Z"
      },
      {
        "duration": 314,
        "start_time": "2025-02-20T19:46:40.517Z"
      },
      {
        "duration": 7,
        "start_time": "2025-02-20T19:46:40.833Z"
      },
      {
        "duration": 162,
        "start_time": "2025-02-20T19:46:40.842Z"
      },
      {
        "duration": 9,
        "start_time": "2025-02-20T19:46:44.143Z"
      },
      {
        "duration": 1848,
        "start_time": "2025-02-20T19:48:14.944Z"
      },
      {
        "duration": 1280,
        "start_time": "2025-02-20T19:48:16.794Z"
      },
      {
        "duration": 177,
        "start_time": "2025-02-20T19:48:18.076Z"
      },
      {
        "duration": 63,
        "start_time": "2025-02-20T19:48:18.255Z"
      },
      {
        "duration": 28,
        "start_time": "2025-02-20T19:48:18.319Z"
      },
      {
        "duration": 46,
        "start_time": "2025-02-20T19:48:18.348Z"
      },
      {
        "duration": 63,
        "start_time": "2025-02-20T19:48:18.409Z"
      },
      {
        "duration": 12,
        "start_time": "2025-02-20T19:48:18.474Z"
      },
      {
        "duration": 100,
        "start_time": "2025-02-20T19:48:18.488Z"
      },
      {
        "duration": 3,
        "start_time": "2025-02-20T19:48:18.590Z"
      },
      {
        "duration": 640,
        "start_time": "2025-02-20T19:48:18.609Z"
      },
      {
        "duration": 0,
        "start_time": "2025-02-20T19:48:19.251Z"
      },
      {
        "duration": 0,
        "start_time": "2025-02-20T19:48:19.252Z"
      },
      {
        "duration": 1807,
        "start_time": "2025-02-20T20:28:29.558Z"
      },
      {
        "duration": 1235,
        "start_time": "2025-02-20T20:28:31.368Z"
      },
      {
        "duration": 195,
        "start_time": "2025-02-20T20:28:32.604Z"
      },
      {
        "duration": 62,
        "start_time": "2025-02-20T20:28:32.801Z"
      },
      {
        "duration": 27,
        "start_time": "2025-02-20T20:28:32.866Z"
      },
      {
        "duration": 61,
        "start_time": "2025-02-20T20:28:32.895Z"
      },
      {
        "duration": 86,
        "start_time": "2025-02-20T20:28:32.958Z"
      },
      {
        "duration": 11,
        "start_time": "2025-02-20T20:28:33.046Z"
      },
      {
        "duration": 96,
        "start_time": "2025-02-20T20:28:33.059Z"
      },
      {
        "duration": 3,
        "start_time": "2025-02-20T20:28:33.158Z"
      },
      {
        "duration": 593,
        "start_time": "2025-02-20T20:28:33.162Z"
      },
      {
        "duration": 1835,
        "start_time": "2025-02-20T20:31:02.211Z"
      },
      {
        "duration": 1261,
        "start_time": "2025-02-20T20:31:04.049Z"
      },
      {
        "duration": 202,
        "start_time": "2025-02-20T20:31:05.311Z"
      },
      {
        "duration": 54,
        "start_time": "2025-02-20T20:31:05.516Z"
      },
      {
        "duration": 39,
        "start_time": "2025-02-20T20:31:05.571Z"
      },
      {
        "duration": 44,
        "start_time": "2025-02-20T20:31:05.611Z"
      },
      {
        "duration": 74,
        "start_time": "2025-02-20T20:31:05.657Z"
      },
      {
        "duration": 10,
        "start_time": "2025-02-20T20:31:05.733Z"
      },
      {
        "duration": 98,
        "start_time": "2025-02-20T20:31:05.745Z"
      },
      {
        "duration": 3,
        "start_time": "2025-02-20T20:31:05.846Z"
      },
      {
        "duration": 392,
        "start_time": "2025-02-20T20:31:05.850Z"
      },
      {
        "duration": 7,
        "start_time": "2025-02-20T20:31:09.603Z"
      },
      {
        "duration": 208,
        "start_time": "2025-02-20T20:31:16.897Z"
      },
      {
        "duration": 7,
        "start_time": "2025-02-20T20:31:18.602Z"
      },
      {
        "duration": 3,
        "start_time": "2025-02-20T20:31:21.192Z"
      },
      {
        "duration": 5618,
        "start_time": "2025-02-20T20:31:23.102Z"
      },
      {
        "duration": 1887,
        "start_time": "2025-02-20T20:33:23.693Z"
      },
      {
        "duration": 1282,
        "start_time": "2025-02-20T20:33:25.582Z"
      },
      {
        "duration": 190,
        "start_time": "2025-02-20T20:33:26.866Z"
      },
      {
        "duration": 64,
        "start_time": "2025-02-20T20:33:27.059Z"
      },
      {
        "duration": 27,
        "start_time": "2025-02-20T20:33:27.125Z"
      },
      {
        "duration": 63,
        "start_time": "2025-02-20T20:33:27.154Z"
      },
      {
        "duration": 61,
        "start_time": "2025-02-20T20:33:27.219Z"
      },
      {
        "duration": 27,
        "start_time": "2025-02-20T20:33:27.282Z"
      },
      {
        "duration": 87,
        "start_time": "2025-02-20T20:33:27.311Z"
      },
      {
        "duration": 4,
        "start_time": "2025-02-20T20:33:27.409Z"
      },
      {
        "duration": 408,
        "start_time": "2025-02-20T20:33:27.415Z"
      },
      {
        "duration": 8,
        "start_time": "2025-02-20T20:33:27.825Z"
      },
      {
        "duration": 217,
        "start_time": "2025-02-20T20:33:27.836Z"
      },
      {
        "duration": 9,
        "start_time": "2025-02-20T20:33:28.058Z"
      },
      {
        "duration": 3,
        "start_time": "2025-02-20T20:33:28.069Z"
      },
      {
        "duration": 6029,
        "start_time": "2025-02-20T20:33:30.386Z"
      },
      {
        "duration": 140279,
        "start_time": "2025-02-20T20:33:42.084Z"
      },
      {
        "duration": 3029,
        "start_time": "2025-02-20T20:36:07.844Z"
      },
      {
        "duration": 1856,
        "start_time": "2025-02-20T20:37:36.813Z"
      },
      {
        "duration": 1236,
        "start_time": "2025-02-20T20:37:38.671Z"
      },
      {
        "duration": 200,
        "start_time": "2025-02-20T20:37:39.909Z"
      },
      {
        "duration": 54,
        "start_time": "2025-02-20T20:37:40.112Z"
      },
      {
        "duration": 28,
        "start_time": "2025-02-20T20:37:40.168Z"
      },
      {
        "duration": 45,
        "start_time": "2025-02-20T20:37:40.210Z"
      },
      {
        "duration": 72,
        "start_time": "2025-02-20T20:37:40.257Z"
      },
      {
        "duration": 12,
        "start_time": "2025-02-20T20:37:40.330Z"
      },
      {
        "duration": 96,
        "start_time": "2025-02-20T20:37:40.343Z"
      },
      {
        "duration": 3,
        "start_time": "2025-02-20T20:37:40.442Z"
      },
      {
        "duration": 418,
        "start_time": "2025-02-20T20:37:40.447Z"
      },
      {
        "duration": 8,
        "start_time": "2025-02-20T20:37:40.866Z"
      },
      {
        "duration": 226,
        "start_time": "2025-02-20T20:37:40.876Z"
      },
      {
        "duration": 8,
        "start_time": "2025-02-20T20:37:41.104Z"
      },
      {
        "duration": 3,
        "start_time": "2025-02-20T20:37:41.114Z"
      },
      {
        "duration": 6096,
        "start_time": "2025-02-20T20:37:41.119Z"
      },
      {
        "duration": 133136,
        "start_time": "2025-02-20T20:37:47.216Z"
      },
      {
        "duration": 0,
        "start_time": "2025-02-20T20:40:00.354Z"
      },
      {
        "duration": 0,
        "start_time": "2025-02-20T20:40:00.355Z"
      },
      {
        "duration": 0,
        "start_time": "2025-02-20T20:40:00.356Z"
      },
      {
        "duration": 0,
        "start_time": "2025-02-20T20:40:00.358Z"
      },
      {
        "duration": 0,
        "start_time": "2025-02-20T20:40:00.359Z"
      },
      {
        "duration": 0,
        "start_time": "2025-02-20T20:40:00.360Z"
      },
      {
        "duration": 0,
        "start_time": "2025-02-20T20:40:00.362Z"
      },
      {
        "duration": 0,
        "start_time": "2025-02-20T20:40:00.363Z"
      },
      {
        "duration": 1819,
        "start_time": "2025-02-20T20:40:21.595Z"
      },
      {
        "duration": 1293,
        "start_time": "2025-02-20T20:40:23.417Z"
      },
      {
        "duration": 179,
        "start_time": "2025-02-20T20:40:24.711Z"
      },
      {
        "duration": 57,
        "start_time": "2025-02-20T20:40:24.894Z"
      },
      {
        "duration": 26,
        "start_time": "2025-02-20T20:40:24.953Z"
      },
      {
        "duration": 58,
        "start_time": "2025-02-20T20:40:24.980Z"
      },
      {
        "duration": 59,
        "start_time": "2025-02-20T20:40:25.039Z"
      },
      {
        "duration": 19,
        "start_time": "2025-02-20T20:40:25.099Z"
      },
      {
        "duration": 90,
        "start_time": "2025-02-20T20:40:25.120Z"
      },
      {
        "duration": 3,
        "start_time": "2025-02-20T20:40:25.212Z"
      },
      {
        "duration": 420,
        "start_time": "2025-02-20T20:40:25.217Z"
      },
      {
        "duration": 7,
        "start_time": "2025-02-20T20:40:25.639Z"
      },
      {
        "duration": 228,
        "start_time": "2025-02-20T20:40:25.648Z"
      },
      {
        "duration": 6,
        "start_time": "2025-02-20T20:40:25.877Z"
      },
      {
        "duration": 3,
        "start_time": "2025-02-20T20:40:25.886Z"
      },
      {
        "duration": 6421,
        "start_time": "2025-02-20T20:40:25.890Z"
      },
      {
        "duration": 14283,
        "start_time": "2025-02-20T20:40:38.790Z"
      },
      {
        "duration": 3524,
        "start_time": "2025-02-20T20:41:07.213Z"
      },
      {
        "duration": 1863,
        "start_time": "2025-02-20T20:42:14.978Z"
      },
      {
        "duration": 1287,
        "start_time": "2025-02-20T20:42:16.843Z"
      },
      {
        "duration": 190,
        "start_time": "2025-02-20T20:42:18.132Z"
      },
      {
        "duration": 56,
        "start_time": "2025-02-20T20:42:18.324Z"
      },
      {
        "duration": 41,
        "start_time": "2025-02-20T20:42:18.383Z"
      },
      {
        "duration": 48,
        "start_time": "2025-02-20T20:42:18.427Z"
      },
      {
        "duration": 71,
        "start_time": "2025-02-20T20:42:18.477Z"
      },
      {
        "duration": 10,
        "start_time": "2025-02-20T20:42:18.550Z"
      },
      {
        "duration": 98,
        "start_time": "2025-02-20T20:42:18.562Z"
      },
      {
        "duration": 3,
        "start_time": "2025-02-20T20:42:18.662Z"
      },
      {
        "duration": 410,
        "start_time": "2025-02-20T20:42:18.667Z"
      },
      {
        "duration": 8,
        "start_time": "2025-02-20T20:42:19.078Z"
      },
      {
        "duration": 216,
        "start_time": "2025-02-20T20:42:19.088Z"
      },
      {
        "duration": 5,
        "start_time": "2025-02-20T20:42:19.311Z"
      },
      {
        "duration": 2,
        "start_time": "2025-02-20T20:42:19.318Z"
      },
      {
        "duration": 5817,
        "start_time": "2025-02-20T20:42:19.322Z"
      },
      {
        "duration": 139300,
        "start_time": "2025-02-20T20:42:25.210Z"
      },
      {
        "duration": 2946,
        "start_time": "2025-02-20T20:44:44.512Z"
      },
      {
        "duration": 76453,
        "start_time": "2025-02-20T20:44:47.461Z"
      },
      {
        "duration": 61701,
        "start_time": "2025-02-20T20:46:03.915Z"
      },
      {
        "duration": 13831,
        "start_time": "2025-02-20T20:47:05.618Z"
      },
      {
        "duration": 3565,
        "start_time": "2025-02-20T20:47:19.451Z"
      },
      {
        "duration": 0,
        "start_time": "2025-02-20T20:47:23.018Z"
      },
      {
        "duration": 0,
        "start_time": "2025-02-20T20:47:23.019Z"
      },
      {
        "duration": 0,
        "start_time": "2025-02-20T20:47:23.021Z"
      },
      {
        "duration": 1856,
        "start_time": "2025-02-20T21:02:18.705Z"
      },
      {
        "duration": 1252,
        "start_time": "2025-02-20T21:02:20.563Z"
      },
      {
        "duration": 181,
        "start_time": "2025-02-20T21:02:21.817Z"
      },
      {
        "duration": 54,
        "start_time": "2025-02-20T21:02:22.008Z"
      },
      {
        "duration": 27,
        "start_time": "2025-02-20T21:02:22.064Z"
      },
      {
        "duration": 53,
        "start_time": "2025-02-20T21:02:22.092Z"
      },
      {
        "duration": 69,
        "start_time": "2025-02-20T21:02:22.147Z"
      },
      {
        "duration": 11,
        "start_time": "2025-02-20T21:02:22.217Z"
      },
      {
        "duration": 92,
        "start_time": "2025-02-20T21:02:22.230Z"
      },
      {
        "duration": 2,
        "start_time": "2025-02-20T21:02:22.325Z"
      },
      {
        "duration": 253,
        "start_time": "2025-02-20T21:02:22.329Z"
      },
      {
        "duration": 0,
        "start_time": "2025-02-20T21:02:22.584Z"
      },
      {
        "duration": 0,
        "start_time": "2025-02-20T21:02:22.585Z"
      },
      {
        "duration": 0,
        "start_time": "2025-02-20T21:02:22.586Z"
      },
      {
        "duration": 0,
        "start_time": "2025-02-20T21:02:22.588Z"
      },
      {
        "duration": 0,
        "start_time": "2025-02-20T21:02:22.589Z"
      },
      {
        "duration": 0,
        "start_time": "2025-02-20T21:02:22.591Z"
      },
      {
        "duration": 0,
        "start_time": "2025-02-20T21:02:22.592Z"
      },
      {
        "duration": 0,
        "start_time": "2025-02-20T21:02:22.609Z"
      },
      {
        "duration": 0,
        "start_time": "2025-02-20T21:02:22.610Z"
      },
      {
        "duration": 0,
        "start_time": "2025-02-20T21:02:22.612Z"
      },
      {
        "duration": 0,
        "start_time": "2025-02-20T21:02:22.613Z"
      },
      {
        "duration": 0,
        "start_time": "2025-02-20T21:02:22.614Z"
      },
      {
        "duration": 0,
        "start_time": "2025-02-20T21:02:22.615Z"
      },
      {
        "duration": 0,
        "start_time": "2025-02-20T21:02:22.616Z"
      },
      {
        "duration": 0,
        "start_time": "2025-02-20T21:02:22.617Z"
      },
      {
        "duration": 1801,
        "start_time": "2025-02-20T21:02:42.312Z"
      },
      {
        "duration": 1330,
        "start_time": "2025-02-20T21:02:44.116Z"
      },
      {
        "duration": 188,
        "start_time": "2025-02-20T21:02:45.448Z"
      },
      {
        "duration": 56,
        "start_time": "2025-02-20T21:02:45.638Z"
      },
      {
        "duration": 36,
        "start_time": "2025-02-20T21:02:45.697Z"
      },
      {
        "duration": 51,
        "start_time": "2025-02-20T21:02:45.734Z"
      },
      {
        "duration": 73,
        "start_time": "2025-02-20T21:02:45.786Z"
      },
      {
        "duration": 11,
        "start_time": "2025-02-20T21:02:45.861Z"
      },
      {
        "duration": 98,
        "start_time": "2025-02-20T21:02:45.874Z"
      },
      {
        "duration": 4,
        "start_time": "2025-02-20T21:02:45.973Z"
      },
      {
        "duration": 430,
        "start_time": "2025-02-20T21:02:45.979Z"
      },
      {
        "duration": 7,
        "start_time": "2025-02-20T21:02:46.410Z"
      },
      {
        "duration": 218,
        "start_time": "2025-02-20T21:02:46.419Z"
      },
      {
        "duration": 5,
        "start_time": "2025-02-20T21:02:46.640Z"
      },
      {
        "duration": 3,
        "start_time": "2025-02-20T21:02:46.647Z"
      },
      {
        "duration": 3,
        "start_time": "2025-02-20T21:02:46.652Z"
      },
      {
        "duration": 6081,
        "start_time": "2025-02-20T21:02:46.656Z"
      },
      {
        "duration": 140855,
        "start_time": "2025-02-20T21:02:52.809Z"
      },
      {
        "duration": 2847,
        "start_time": "2025-02-20T21:05:13.666Z"
      },
      {
        "duration": 67494,
        "start_time": "2025-02-20T21:05:16.515Z"
      },
      {
        "duration": 80713,
        "start_time": "2025-02-20T21:06:24.011Z"
      },
      {
        "duration": 14892,
        "start_time": "2025-02-20T21:07:44.726Z"
      },
      {
        "duration": 3578,
        "start_time": "2025-02-20T21:07:59.621Z"
      },
      {
        "duration": 0,
        "start_time": "2025-02-20T21:08:03.200Z"
      },
      {
        "duration": 0,
        "start_time": "2025-02-20T21:08:03.209Z"
      },
      {
        "duration": 0,
        "start_time": "2025-02-20T21:08:03.210Z"
      },
      {
        "duration": 1910,
        "start_time": "2025-02-20T21:17:08.255Z"
      },
      {
        "duration": 1301,
        "start_time": "2025-02-20T21:17:10.168Z"
      },
      {
        "duration": 185,
        "start_time": "2025-02-20T21:17:11.471Z"
      },
      {
        "duration": 63,
        "start_time": "2025-02-20T21:17:11.658Z"
      },
      {
        "duration": 28,
        "start_time": "2025-02-20T21:17:11.724Z"
      },
      {
        "duration": 61,
        "start_time": "2025-02-20T21:17:11.757Z"
      },
      {
        "duration": 62,
        "start_time": "2025-02-20T21:17:11.820Z"
      },
      {
        "duration": 25,
        "start_time": "2025-02-20T21:17:11.884Z"
      },
      {
        "duration": 98,
        "start_time": "2025-02-20T21:17:11.911Z"
      },
      {
        "duration": 4,
        "start_time": "2025-02-20T21:17:12.010Z"
      },
      {
        "duration": 460,
        "start_time": "2025-02-20T21:17:12.016Z"
      },
      {
        "duration": 9,
        "start_time": "2025-02-20T21:17:12.478Z"
      },
      {
        "duration": 238,
        "start_time": "2025-02-20T21:17:12.488Z"
      },
      {
        "duration": 6,
        "start_time": "2025-02-20T21:17:12.730Z"
      },
      {
        "duration": 3,
        "start_time": "2025-02-20T21:17:12.738Z"
      },
      {
        "duration": 3,
        "start_time": "2025-02-20T21:17:12.743Z"
      },
      {
        "duration": 7,
        "start_time": "2025-02-20T21:17:12.748Z"
      },
      {
        "duration": 6,
        "start_time": "2025-02-20T21:17:12.757Z"
      },
      {
        "duration": 7,
        "start_time": "2025-02-20T21:17:12.765Z"
      },
      {
        "duration": 4,
        "start_time": "2025-02-20T21:17:12.809Z"
      },
      {
        "duration": 6799,
        "start_time": "2025-02-20T21:17:12.815Z"
      },
      {
        "duration": 60272,
        "start_time": "2025-02-20T21:17:19.616Z"
      },
      {
        "duration": 0,
        "start_time": "2025-02-20T21:18:19.891Z"
      },
      {
        "duration": 0,
        "start_time": "2025-02-20T21:18:19.892Z"
      },
      {
        "duration": 0,
        "start_time": "2025-02-20T21:18:19.893Z"
      },
      {
        "duration": 0,
        "start_time": "2025-02-20T21:18:19.894Z"
      },
      {
        "duration": 0,
        "start_time": "2025-02-20T21:18:19.908Z"
      },
      {
        "duration": 0,
        "start_time": "2025-02-20T21:18:19.910Z"
      },
      {
        "duration": 0,
        "start_time": "2025-02-20T21:18:19.911Z"
      },
      {
        "duration": 0,
        "start_time": "2025-02-20T21:18:19.912Z"
      },
      {
        "duration": 2216,
        "start_time": "2025-02-20T21:18:45.923Z"
      },
      {
        "duration": 1370,
        "start_time": "2025-02-20T21:18:48.142Z"
      },
      {
        "duration": 189,
        "start_time": "2025-02-20T21:18:49.514Z"
      },
      {
        "duration": 62,
        "start_time": "2025-02-20T21:18:49.709Z"
      },
      {
        "duration": 37,
        "start_time": "2025-02-20T21:18:49.776Z"
      },
      {
        "duration": 46,
        "start_time": "2025-02-20T21:18:49.815Z"
      },
      {
        "duration": 75,
        "start_time": "2025-02-20T21:18:49.863Z"
      },
      {
        "duration": 12,
        "start_time": "2025-02-20T21:18:49.940Z"
      },
      {
        "duration": 104,
        "start_time": "2025-02-20T21:18:49.953Z"
      },
      {
        "duration": 3,
        "start_time": "2025-02-20T21:18:50.059Z"
      },
      {
        "duration": 453,
        "start_time": "2025-02-20T21:18:50.064Z"
      },
      {
        "duration": 8,
        "start_time": "2025-02-20T21:18:50.518Z"
      },
      {
        "duration": 236,
        "start_time": "2025-02-20T21:18:50.528Z"
      },
      {
        "duration": 8,
        "start_time": "2025-02-20T21:18:50.767Z"
      },
      {
        "duration": 3,
        "start_time": "2025-02-20T21:18:50.777Z"
      },
      {
        "duration": 4,
        "start_time": "2025-02-20T21:18:50.781Z"
      },
      {
        "duration": 24,
        "start_time": "2025-02-20T21:18:50.786Z"
      },
      {
        "duration": 7,
        "start_time": "2025-02-20T21:18:50.812Z"
      },
      {
        "duration": 7,
        "start_time": "2025-02-20T21:18:50.820Z"
      },
      {
        "duration": 3,
        "start_time": "2025-02-20T21:18:50.829Z"
      },
      {
        "duration": 6887,
        "start_time": "2025-02-20T21:18:50.833Z"
      },
      {
        "duration": 145318,
        "start_time": "2025-02-20T21:18:57.722Z"
      },
      {
        "duration": 3309,
        "start_time": "2025-02-20T21:21:23.043Z"
      },
      {
        "duration": 68071,
        "start_time": "2025-02-20T21:21:26.354Z"
      },
      {
        "duration": 84894,
        "start_time": "2025-02-20T21:22:34.427Z"
      },
      {
        "duration": 14927,
        "start_time": "2025-02-20T21:23:59.323Z"
      },
      {
        "duration": 17279,
        "start_time": "2025-02-20T21:24:14.252Z"
      },
      {
        "duration": 4,
        "start_time": "2025-02-20T21:24:31.533Z"
      },
      {
        "duration": 4,
        "start_time": "2025-02-20T21:24:31.539Z"
      },
      {
        "duration": 310,
        "start_time": "2025-02-20T21:24:31.544Z"
      },
      {
        "duration": 1896,
        "start_time": "2025-02-20T21:28:44.958Z"
      },
      {
        "duration": 1456,
        "start_time": "2025-02-20T21:28:46.857Z"
      },
      {
        "duration": 224,
        "start_time": "2025-02-20T21:28:48.316Z"
      },
      {
        "duration": 71,
        "start_time": "2025-02-20T21:28:48.542Z"
      },
      {
        "duration": 33,
        "start_time": "2025-02-20T21:28:48.617Z"
      },
      {
        "duration": 59,
        "start_time": "2025-02-20T21:28:48.653Z"
      },
      {
        "duration": 71,
        "start_time": "2025-02-20T21:28:48.714Z"
      },
      {
        "duration": 24,
        "start_time": "2025-02-20T21:28:48.786Z"
      },
      {
        "duration": 97,
        "start_time": "2025-02-20T21:28:48.812Z"
      },
      {
        "duration": 3,
        "start_time": "2025-02-20T21:28:48.911Z"
      },
      {
        "duration": 427,
        "start_time": "2025-02-20T21:28:48.915Z"
      },
      {
        "duration": 8,
        "start_time": "2025-02-20T21:28:49.344Z"
      },
      {
        "duration": 255,
        "start_time": "2025-02-20T21:28:49.354Z"
      },
      {
        "duration": 6,
        "start_time": "2025-02-20T21:28:49.612Z"
      },
      {
        "duration": 3,
        "start_time": "2025-02-20T21:28:49.620Z"
      },
      {
        "duration": 3,
        "start_time": "2025-02-20T21:28:49.625Z"
      },
      {
        "duration": 7,
        "start_time": "2025-02-20T21:28:49.630Z"
      },
      {
        "duration": 7,
        "start_time": "2025-02-20T21:28:49.639Z"
      },
      {
        "duration": 6,
        "start_time": "2025-02-20T21:28:49.648Z"
      },
      {
        "duration": 2,
        "start_time": "2025-02-20T21:28:49.656Z"
      },
      {
        "duration": 6551,
        "start_time": "2025-02-20T21:28:49.660Z"
      },
      {
        "duration": 144881,
        "start_time": "2025-02-20T21:28:56.216Z"
      },
      {
        "duration": 2905,
        "start_time": "2025-02-20T21:31:21.099Z"
      },
      {
        "duration": 74384,
        "start_time": "2025-02-20T21:31:24.011Z"
      },
      {
        "duration": 74725,
        "start_time": "2025-02-20T21:32:38.396Z"
      },
      {
        "duration": 14447,
        "start_time": "2025-02-20T21:33:53.122Z"
      },
      {
        "duration": 14957,
        "start_time": "2025-02-20T21:34:07.571Z"
      },
      {
        "duration": 5,
        "start_time": "2025-02-20T21:34:22.530Z"
      },
      {
        "duration": 0,
        "start_time": "2025-02-20T21:34:22.537Z"
      },
      {
        "duration": 0,
        "start_time": "2025-02-20T21:34:22.608Z"
      },
      {
        "duration": 0,
        "start_time": "2025-02-20T21:34:22.610Z"
      },
      {
        "duration": 6,
        "start_time": "2025-02-20T21:35:50.393Z"
      },
      {
        "duration": 1870,
        "start_time": "2025-02-20T21:37:24.976Z"
      },
      {
        "duration": 1312,
        "start_time": "2025-02-20T21:37:26.849Z"
      },
      {
        "duration": 181,
        "start_time": "2025-02-20T21:37:28.163Z"
      },
      {
        "duration": 71,
        "start_time": "2025-02-20T21:37:28.347Z"
      },
      {
        "duration": 27,
        "start_time": "2025-02-20T21:37:28.420Z"
      },
      {
        "duration": 60,
        "start_time": "2025-02-20T21:37:28.449Z"
      },
      {
        "duration": 64,
        "start_time": "2025-02-20T21:37:28.511Z"
      },
      {
        "duration": 11,
        "start_time": "2025-02-20T21:37:28.577Z"
      },
      {
        "duration": 103,
        "start_time": "2025-02-20T21:37:28.589Z"
      },
      {
        "duration": 3,
        "start_time": "2025-02-20T21:37:28.695Z"
      },
      {
        "duration": 420,
        "start_time": "2025-02-20T21:37:28.709Z"
      },
      {
        "duration": 7,
        "start_time": "2025-02-20T21:37:29.131Z"
      },
      {
        "duration": 227,
        "start_time": "2025-02-20T21:37:29.140Z"
      },
      {
        "duration": 6,
        "start_time": "2025-02-20T21:37:29.369Z"
      },
      {
        "duration": 3,
        "start_time": "2025-02-20T21:37:29.377Z"
      },
      {
        "duration": 4,
        "start_time": "2025-02-20T21:37:29.381Z"
      },
      {
        "duration": 28,
        "start_time": "2025-02-20T21:37:29.386Z"
      },
      {
        "duration": 7,
        "start_time": "2025-02-20T21:37:29.416Z"
      },
      {
        "duration": 6,
        "start_time": "2025-02-20T21:37:29.425Z"
      },
      {
        "duration": 3,
        "start_time": "2025-02-20T21:37:29.432Z"
      },
      {
        "duration": 6177,
        "start_time": "2025-02-20T21:37:29.437Z"
      },
      {
        "duration": 141947,
        "start_time": "2025-02-20T21:37:35.620Z"
      },
      {
        "duration": 2869,
        "start_time": "2025-02-20T21:39:57.569Z"
      },
      {
        "duration": 83781,
        "start_time": "2025-02-20T21:40:00.440Z"
      },
      {
        "duration": 60096,
        "start_time": "2025-02-20T21:41:24.223Z"
      },
      {
        "duration": 14410,
        "start_time": "2025-02-20T21:42:24.321Z"
      },
      {
        "duration": 14789,
        "start_time": "2025-02-20T21:42:38.733Z"
      },
      {
        "duration": 4,
        "start_time": "2025-02-20T21:42:53.526Z"
      },
      {
        "duration": 281,
        "start_time": "2025-02-20T21:42:53.531Z"
      },
      {
        "duration": 1,
        "start_time": "2025-02-20T21:42:53.813Z"
      },
      {
        "duration": 1815,
        "start_time": "2025-02-20T21:47:40.246Z"
      },
      {
        "duration": 1233,
        "start_time": "2025-02-20T21:47:42.064Z"
      },
      {
        "duration": 177,
        "start_time": "2025-02-20T21:47:43.299Z"
      },
      {
        "duration": 63,
        "start_time": "2025-02-20T21:47:43.478Z"
      },
      {
        "duration": 27,
        "start_time": "2025-02-20T21:47:43.544Z"
      },
      {
        "duration": 52,
        "start_time": "2025-02-20T21:47:43.573Z"
      },
      {
        "duration": 60,
        "start_time": "2025-02-20T21:47:43.627Z"
      },
      {
        "duration": 21,
        "start_time": "2025-02-20T21:47:43.688Z"
      },
      {
        "duration": 103,
        "start_time": "2025-02-20T21:47:43.711Z"
      },
      {
        "duration": 3,
        "start_time": "2025-02-20T21:47:43.816Z"
      },
      {
        "duration": 499,
        "start_time": "2025-02-20T21:47:43.821Z"
      },
      {
        "duration": 8,
        "start_time": "2025-02-20T21:47:44.322Z"
      },
      {
        "duration": 225,
        "start_time": "2025-02-20T21:47:44.332Z"
      },
      {
        "duration": 6,
        "start_time": "2025-02-20T21:47:44.560Z"
      },
      {
        "duration": 3,
        "start_time": "2025-02-20T21:47:44.570Z"
      },
      {
        "duration": 4,
        "start_time": "2025-02-20T21:47:44.574Z"
      },
      {
        "duration": 30,
        "start_time": "2025-02-20T21:47:44.579Z"
      },
      {
        "duration": 6,
        "start_time": "2025-02-20T21:47:44.611Z"
      },
      {
        "duration": 6,
        "start_time": "2025-02-20T21:47:44.619Z"
      },
      {
        "duration": 3,
        "start_time": "2025-02-20T21:47:44.626Z"
      },
      {
        "duration": 6693,
        "start_time": "2025-02-20T21:47:44.630Z"
      },
      {
        "duration": 140246,
        "start_time": "2025-02-20T21:47:51.326Z"
      },
      {
        "duration": 2841,
        "start_time": "2025-02-20T21:50:11.574Z"
      },
      {
        "duration": 61844,
        "start_time": "2025-02-20T21:50:14.417Z"
      },
      {
        "duration": 70158,
        "start_time": "2025-02-20T21:51:16.263Z"
      },
      {
        "duration": 13735,
        "start_time": "2025-02-20T21:52:26.424Z"
      },
      {
        "duration": 14555,
        "start_time": "2025-02-20T21:52:40.161Z"
      },
      {
        "duration": 2,
        "start_time": "2025-02-20T21:52:54.719Z"
      },
      {
        "duration": 4,
        "start_time": "2025-02-20T21:52:54.723Z"
      },
      {
        "duration": 266,
        "start_time": "2025-02-20T21:52:54.729Z"
      },
      {
        "duration": 1814,
        "start_time": "2025-02-20T21:57:08.152Z"
      },
      {
        "duration": 1244,
        "start_time": "2025-02-20T21:57:09.968Z"
      },
      {
        "duration": 178,
        "start_time": "2025-02-20T21:57:11.214Z"
      },
      {
        "duration": 58,
        "start_time": "2025-02-20T21:57:11.394Z"
      },
      {
        "duration": 27,
        "start_time": "2025-02-20T21:57:11.454Z"
      },
      {
        "duration": 60,
        "start_time": "2025-02-20T21:57:11.483Z"
      },
      {
        "duration": 64,
        "start_time": "2025-02-20T21:57:11.545Z"
      },
      {
        "duration": 11,
        "start_time": "2025-02-20T21:57:11.611Z"
      },
      {
        "duration": 102,
        "start_time": "2025-02-20T21:57:11.624Z"
      },
      {
        "duration": 3,
        "start_time": "2025-02-20T21:57:11.729Z"
      },
      {
        "duration": 498,
        "start_time": "2025-02-20T21:57:11.733Z"
      },
      {
        "duration": 7,
        "start_time": "2025-02-20T21:57:12.233Z"
      },
      {
        "duration": 220,
        "start_time": "2025-02-20T21:57:12.241Z"
      },
      {
        "duration": 6,
        "start_time": "2025-02-20T21:57:12.463Z"
      },
      {
        "duration": 2,
        "start_time": "2025-02-20T21:57:12.471Z"
      },
      {
        "duration": 3,
        "start_time": "2025-02-20T21:57:12.475Z"
      },
      {
        "duration": 6,
        "start_time": "2025-02-20T21:57:12.480Z"
      },
      {
        "duration": 6,
        "start_time": "2025-02-20T21:57:12.509Z"
      },
      {
        "duration": 6,
        "start_time": "2025-02-20T21:57:12.516Z"
      },
      {
        "duration": 3,
        "start_time": "2025-02-20T21:57:12.524Z"
      },
      {
        "duration": 6106,
        "start_time": "2025-02-20T21:57:12.528Z"
      },
      {
        "duration": 140084,
        "start_time": "2025-02-20T21:57:18.636Z"
      },
      {
        "duration": 2995,
        "start_time": "2025-02-20T21:59:38.722Z"
      },
      {
        "duration": 66896,
        "start_time": "2025-02-20T21:59:41.719Z"
      },
      {
        "duration": 59808,
        "start_time": "2025-02-20T22:00:48.617Z"
      },
      {
        "duration": 13785,
        "start_time": "2025-02-20T22:01:48.426Z"
      },
      {
        "duration": 14301,
        "start_time": "2025-02-20T22:02:02.213Z"
      },
      {
        "duration": 3,
        "start_time": "2025-02-20T22:02:16.518Z"
      },
      {
        "duration": 3,
        "start_time": "2025-02-20T22:02:16.523Z"
      },
      {
        "duration": 3,
        "start_time": "2025-02-20T22:02:16.528Z"
      },
      {
        "duration": 50294,
        "start_time": "2025-02-20T22:02:16.532Z"
      },
      {
        "duration": 9,
        "start_time": "2025-02-21T08:37:07.048Z"
      },
      {
        "duration": 2119,
        "start_time": "2025-02-21T13:29:30.608Z"
      },
      {
        "duration": 1367,
        "start_time": "2025-02-21T13:29:32.730Z"
      },
      {
        "duration": 185,
        "start_time": "2025-02-21T13:29:34.099Z"
      },
      {
        "duration": 63,
        "start_time": "2025-02-21T13:29:34.286Z"
      },
      {
        "duration": 27,
        "start_time": "2025-02-21T13:29:34.351Z"
      },
      {
        "duration": 53,
        "start_time": "2025-02-21T13:29:34.379Z"
      },
      {
        "duration": 9,
        "start_time": "2025-02-21T13:29:34.434Z"
      },
      {
        "duration": 98,
        "start_time": "2025-02-21T13:29:34.444Z"
      },
      {
        "duration": 3,
        "start_time": "2025-02-21T13:29:34.545Z"
      },
      {
        "duration": 43,
        "start_time": "2025-02-21T13:29:34.551Z"
      },
      {
        "duration": 492,
        "start_time": "2025-02-21T13:29:34.595Z"
      },
      {
        "duration": 7,
        "start_time": "2025-02-21T13:29:35.089Z"
      },
      {
        "duration": 294,
        "start_time": "2025-02-21T13:29:35.098Z"
      },
      {
        "duration": 6,
        "start_time": "2025-02-21T13:29:35.393Z"
      },
      {
        "duration": 3,
        "start_time": "2025-02-21T13:29:35.401Z"
      },
      {
        "duration": 4,
        "start_time": "2025-02-21T13:29:35.405Z"
      },
      {
        "duration": 23,
        "start_time": "2025-02-21T13:29:35.410Z"
      },
      {
        "duration": 6,
        "start_time": "2025-02-21T13:29:35.434Z"
      },
      {
        "duration": 6,
        "start_time": "2025-02-21T13:29:35.442Z"
      },
      {
        "duration": 4,
        "start_time": "2025-02-21T13:29:35.449Z"
      },
      {
        "duration": 6413,
        "start_time": "2025-02-21T13:29:35.454Z"
      },
      {
        "duration": 138851,
        "start_time": "2025-02-21T13:29:41.869Z"
      },
      {
        "duration": 2845,
        "start_time": "2025-02-21T13:32:00.721Z"
      },
      {
        "duration": 83095,
        "start_time": "2025-02-21T13:32:03.568Z"
      },
      {
        "duration": 33689,
        "start_time": "2025-02-21T13:33:26.664Z"
      },
      {
        "duration": 19360,
        "start_time": "2025-02-21T13:34:00.355Z"
      },
      {
        "duration": 4033,
        "start_time": "2025-02-21T13:34:19.717Z"
      },
      {
        "duration": 3,
        "start_time": "2025-02-21T13:34:23.754Z"
      },
      {
        "duration": 3,
        "start_time": "2025-02-21T13:34:23.832Z"
      },
      {
        "duration": 3,
        "start_time": "2025-02-21T13:34:23.837Z"
      },
      {
        "duration": 1829,
        "start_time": "2025-02-21T13:35:00.756Z"
      },
      {
        "duration": 1248,
        "start_time": "2025-02-21T13:35:02.588Z"
      },
      {
        "duration": 193,
        "start_time": "2025-02-21T13:35:03.838Z"
      },
      {
        "duration": 57,
        "start_time": "2025-02-21T13:35:04.033Z"
      },
      {
        "duration": 27,
        "start_time": "2025-02-21T13:35:04.093Z"
      },
      {
        "duration": 57,
        "start_time": "2025-02-21T13:35:04.122Z"
      },
      {
        "duration": 10,
        "start_time": "2025-02-21T13:35:04.180Z"
      },
      {
        "duration": 103,
        "start_time": "2025-02-21T13:35:04.191Z"
      },
      {
        "duration": 4,
        "start_time": "2025-02-21T13:35:04.295Z"
      },
      {
        "duration": 54,
        "start_time": "2025-02-21T13:35:04.301Z"
      },
      {
        "duration": 485,
        "start_time": "2025-02-21T13:35:04.358Z"
      },
      {
        "duration": 7,
        "start_time": "2025-02-21T13:35:04.845Z"
      },
      {
        "duration": 278,
        "start_time": "2025-02-21T13:35:04.854Z"
      },
      {
        "duration": 6,
        "start_time": "2025-02-21T13:35:05.134Z"
      },
      {
        "duration": 3,
        "start_time": "2025-02-21T13:35:05.141Z"
      },
      {
        "duration": 3,
        "start_time": "2025-02-21T13:35:05.146Z"
      },
      {
        "duration": 7,
        "start_time": "2025-02-21T13:35:05.151Z"
      },
      {
        "duration": 6,
        "start_time": "2025-02-21T13:35:05.159Z"
      },
      {
        "duration": 6,
        "start_time": "2025-02-21T13:35:05.166Z"
      },
      {
        "duration": 1831,
        "start_time": "2025-02-21T13:43:38.561Z"
      },
      {
        "duration": 1237,
        "start_time": "2025-02-21T13:43:40.395Z"
      },
      {
        "duration": 184,
        "start_time": "2025-02-21T13:43:41.634Z"
      },
      {
        "duration": 58,
        "start_time": "2025-02-21T13:43:41.820Z"
      },
      {
        "duration": 26,
        "start_time": "2025-02-21T13:43:41.882Z"
      },
      {
        "duration": 64,
        "start_time": "2025-02-21T13:43:41.910Z"
      },
      {
        "duration": 10,
        "start_time": "2025-02-21T13:43:41.976Z"
      },
      {
        "duration": 94,
        "start_time": "2025-02-21T13:43:41.988Z"
      },
      {
        "duration": 3,
        "start_time": "2025-02-21T13:43:42.084Z"
      },
      {
        "duration": 59,
        "start_time": "2025-02-21T13:43:42.089Z"
      },
      {
        "duration": 499,
        "start_time": "2025-02-21T13:43:42.150Z"
      },
      {
        "duration": 7,
        "start_time": "2025-02-21T13:43:42.651Z"
      },
      {
        "duration": 277,
        "start_time": "2025-02-21T13:43:42.659Z"
      },
      {
        "duration": 5,
        "start_time": "2025-02-21T13:43:42.940Z"
      },
      {
        "duration": 3,
        "start_time": "2025-02-21T13:43:42.947Z"
      },
      {
        "duration": 3,
        "start_time": "2025-02-21T13:43:42.952Z"
      },
      {
        "duration": 6,
        "start_time": "2025-02-21T13:43:42.957Z"
      },
      {
        "duration": 6,
        "start_time": "2025-02-21T13:43:42.965Z"
      },
      {
        "duration": 7,
        "start_time": "2025-02-21T13:43:42.972Z"
      },
      {
        "duration": 3,
        "start_time": "2025-02-21T13:43:42.981Z"
      },
      {
        "duration": 6350,
        "start_time": "2025-02-21T13:43:42.985Z"
      },
      {
        "duration": 139020,
        "start_time": "2025-02-21T13:43:49.337Z"
      },
      {
        "duration": 2907,
        "start_time": "2025-02-21T13:46:08.359Z"
      },
      {
        "duration": 60727,
        "start_time": "2025-02-21T13:46:11.268Z"
      },
      {
        "duration": 36855,
        "start_time": "2025-02-21T13:47:11.997Z"
      },
      {
        "duration": 19521,
        "start_time": "2025-02-21T13:47:48.854Z"
      },
      {
        "duration": 6,
        "start_time": "2025-02-21T13:48:08.377Z"
      },
      {
        "duration": 0,
        "start_time": "2025-02-21T13:48:08.385Z"
      },
      {
        "duration": 0,
        "start_time": "2025-02-21T13:48:08.386Z"
      },
      {
        "duration": 0,
        "start_time": "2025-02-21T13:48:08.388Z"
      },
      {
        "duration": 0,
        "start_time": "2025-02-21T13:48:08.389Z"
      },
      {
        "duration": 1868,
        "start_time": "2025-02-21T14:10:37.668Z"
      },
      {
        "duration": 1297,
        "start_time": "2025-02-21T14:10:39.538Z"
      },
      {
        "duration": 187,
        "start_time": "2025-02-21T14:10:40.837Z"
      },
      {
        "duration": 57,
        "start_time": "2025-02-21T14:10:41.030Z"
      },
      {
        "duration": 27,
        "start_time": "2025-02-21T14:10:41.091Z"
      },
      {
        "duration": 50,
        "start_time": "2025-02-21T14:10:41.131Z"
      },
      {
        "duration": 9,
        "start_time": "2025-02-21T14:10:41.182Z"
      },
      {
        "duration": 96,
        "start_time": "2025-02-21T14:10:41.193Z"
      },
      {
        "duration": 3,
        "start_time": "2025-02-21T14:10:41.291Z"
      },
      {
        "duration": 56,
        "start_time": "2025-02-21T14:10:41.296Z"
      },
      {
        "duration": 485,
        "start_time": "2025-02-21T14:10:41.354Z"
      },
      {
        "duration": 9,
        "start_time": "2025-02-21T14:10:41.840Z"
      },
      {
        "duration": 294,
        "start_time": "2025-02-21T14:10:41.850Z"
      },
      {
        "duration": 5,
        "start_time": "2025-02-21T14:10:42.148Z"
      },
      {
        "duration": 3,
        "start_time": "2025-02-21T14:10:42.155Z"
      },
      {
        "duration": 4,
        "start_time": "2025-02-21T14:10:42.160Z"
      },
      {
        "duration": 7,
        "start_time": "2025-02-21T14:10:42.165Z"
      },
      {
        "duration": 8,
        "start_time": "2025-02-21T14:10:42.174Z"
      },
      {
        "duration": 6,
        "start_time": "2025-02-21T14:10:42.183Z"
      },
      {
        "duration": 3,
        "start_time": "2025-02-21T14:10:42.190Z"
      },
      {
        "duration": 6453,
        "start_time": "2025-02-21T14:10:42.194Z"
      },
      {
        "duration": 139519,
        "start_time": "2025-02-21T14:10:48.648Z"
      },
      {
        "duration": 2901,
        "start_time": "2025-02-21T14:13:08.169Z"
      },
      {
        "duration": 61786,
        "start_time": "2025-02-21T14:13:11.072Z"
      },
      {
        "duration": 45279,
        "start_time": "2025-02-21T14:14:12.860Z"
      },
      {
        "duration": 19905,
        "start_time": "2025-02-21T14:14:58.141Z"
      },
      {
        "duration": 4107,
        "start_time": "2025-02-21T14:15:18.047Z"
      },
      {
        "duration": 5,
        "start_time": "2025-02-21T14:15:22.232Z"
      },
      {
        "duration": 3,
        "start_time": "2025-02-21T14:15:22.238Z"
      },
      {
        "duration": 4,
        "start_time": "2025-02-21T14:15:22.242Z"
      },
      {
        "duration": 54606,
        "start_time": "2025-02-21T14:15:22.248Z"
      },
      {
        "duration": 1864,
        "start_time": "2025-02-21T14:48:30.829Z"
      },
      {
        "duration": 1239,
        "start_time": "2025-02-21T14:48:32.696Z"
      },
      {
        "duration": 189,
        "start_time": "2025-02-21T14:48:33.937Z"
      },
      {
        "duration": 55,
        "start_time": "2025-02-21T14:48:34.128Z"
      },
      {
        "duration": 26,
        "start_time": "2025-02-21T14:48:34.185Z"
      },
      {
        "duration": 59,
        "start_time": "2025-02-21T14:48:34.213Z"
      },
      {
        "duration": 9,
        "start_time": "2025-02-21T14:48:34.273Z"
      },
      {
        "duration": 88,
        "start_time": "2025-02-21T14:48:34.284Z"
      },
      {
        "duration": 6,
        "start_time": "2025-02-21T14:48:34.374Z"
      },
      {
        "duration": 49,
        "start_time": "2025-02-21T14:48:34.384Z"
      },
      {
        "duration": 494,
        "start_time": "2025-02-21T14:48:34.436Z"
      },
      {
        "duration": 9,
        "start_time": "2025-02-21T14:48:34.931Z"
      },
      {
        "duration": 281,
        "start_time": "2025-02-21T14:48:34.941Z"
      },
      {
        "duration": 7,
        "start_time": "2025-02-21T14:48:35.224Z"
      },
      {
        "duration": 3,
        "start_time": "2025-02-21T14:48:35.233Z"
      },
      {
        "duration": 3,
        "start_time": "2025-02-21T14:48:35.238Z"
      },
      {
        "duration": 6,
        "start_time": "2025-02-21T14:48:35.243Z"
      },
      {
        "duration": 6,
        "start_time": "2025-02-21T14:48:35.251Z"
      },
      {
        "duration": 6,
        "start_time": "2025-02-21T14:48:35.258Z"
      },
      {
        "duration": 3,
        "start_time": "2025-02-21T14:48:35.266Z"
      },
      {
        "duration": 6261,
        "start_time": "2025-02-21T14:48:35.270Z"
      },
      {
        "duration": 139036,
        "start_time": "2025-02-21T14:48:41.535Z"
      },
      {
        "duration": 2913,
        "start_time": "2025-02-21T14:51:00.573Z"
      },
      {
        "duration": 65300,
        "start_time": "2025-02-21T14:51:03.488Z"
      },
      {
        "duration": 31963,
        "start_time": "2025-02-21T14:52:08.790Z"
      },
      {
        "duration": 19275,
        "start_time": "2025-02-21T14:52:40.755Z"
      },
      {
        "duration": 4106,
        "start_time": "2025-02-21T14:53:00.032Z"
      },
      {
        "duration": 3,
        "start_time": "2025-02-21T14:53:04.142Z"
      },
      {
        "duration": 3,
        "start_time": "2025-02-21T14:53:04.147Z"
      },
      {
        "duration": 62510,
        "start_time": "2025-02-21T14:53:04.151Z"
      },
      {
        "duration": 1959,
        "start_time": "2025-02-21T21:31:15.138Z"
      },
      {
        "duration": 1373,
        "start_time": "2025-02-21T21:31:17.099Z"
      },
      {
        "duration": 199,
        "start_time": "2025-02-21T21:31:18.474Z"
      },
      {
        "duration": 62,
        "start_time": "2025-02-21T21:31:18.676Z"
      },
      {
        "duration": 26,
        "start_time": "2025-02-21T21:31:18.740Z"
      },
      {
        "duration": 57,
        "start_time": "2025-02-21T21:31:18.769Z"
      },
      {
        "duration": 9,
        "start_time": "2025-02-21T21:31:18.828Z"
      },
      {
        "duration": 102,
        "start_time": "2025-02-21T21:31:18.840Z"
      },
      {
        "duration": 5,
        "start_time": "2025-02-21T21:31:18.944Z"
      },
      {
        "duration": 129,
        "start_time": "2025-02-21T21:31:18.953Z"
      },
      {
        "duration": 511,
        "start_time": "2025-02-21T21:31:19.084Z"
      },
      {
        "duration": 15,
        "start_time": "2025-02-21T21:31:19.597Z"
      },
      {
        "duration": 291,
        "start_time": "2025-02-21T21:31:19.614Z"
      },
      {
        "duration": 7,
        "start_time": "2025-02-21T21:31:19.908Z"
      },
      {
        "duration": 3,
        "start_time": "2025-02-21T21:31:19.917Z"
      },
      {
        "duration": 3,
        "start_time": "2025-02-21T21:31:19.922Z"
      },
      {
        "duration": 8,
        "start_time": "2025-02-21T21:31:19.927Z"
      },
      {
        "duration": 6,
        "start_time": "2025-02-21T21:31:19.936Z"
      },
      {
        "duration": 7,
        "start_time": "2025-02-21T21:31:19.944Z"
      },
      {
        "duration": 3,
        "start_time": "2025-02-21T21:31:19.952Z"
      },
      {
        "duration": 6663,
        "start_time": "2025-02-21T21:31:19.956Z"
      },
      {
        "duration": 1943,
        "start_time": "2025-02-21T21:31:34.571Z"
      },
      {
        "duration": 1291,
        "start_time": "2025-02-21T21:31:36.518Z"
      },
      {
        "duration": 182,
        "start_time": "2025-02-21T21:31:37.811Z"
      },
      {
        "duration": 58,
        "start_time": "2025-02-21T21:31:37.996Z"
      },
      {
        "duration": 26,
        "start_time": "2025-02-21T21:31:38.056Z"
      },
      {
        "duration": 60,
        "start_time": "2025-02-21T21:31:38.084Z"
      },
      {
        "duration": 11,
        "start_time": "2025-02-21T21:31:38.146Z"
      },
      {
        "duration": 102,
        "start_time": "2025-02-21T21:31:38.158Z"
      },
      {
        "duration": 3,
        "start_time": "2025-02-21T21:31:38.262Z"
      },
      {
        "duration": 73,
        "start_time": "2025-02-21T21:31:38.269Z"
      },
      {
        "duration": 503,
        "start_time": "2025-02-21T21:31:38.345Z"
      },
      {
        "duration": 8,
        "start_time": "2025-02-21T21:31:38.850Z"
      },
      {
        "duration": 304,
        "start_time": "2025-02-21T21:31:38.860Z"
      },
      {
        "duration": 5,
        "start_time": "2025-02-21T21:31:39.168Z"
      },
      {
        "duration": 4,
        "start_time": "2025-02-21T21:31:39.175Z"
      },
      {
        "duration": 4,
        "start_time": "2025-02-21T21:31:39.180Z"
      },
      {
        "duration": 9,
        "start_time": "2025-02-21T21:31:39.204Z"
      },
      {
        "duration": 9,
        "start_time": "2025-02-21T21:31:39.214Z"
      },
      {
        "duration": 7,
        "start_time": "2025-02-21T21:31:39.224Z"
      },
      {
        "duration": 3,
        "start_time": "2025-02-21T21:31:39.233Z"
      },
      {
        "duration": 7693,
        "start_time": "2025-02-21T21:31:39.238Z"
      },
      {
        "duration": 144115,
        "start_time": "2025-02-21T21:31:46.936Z"
      },
      {
        "duration": 3081,
        "start_time": "2025-02-21T21:34:11.052Z"
      },
      {
        "duration": 79533,
        "start_time": "2025-02-21T21:34:14.136Z"
      },
      {
        "duration": 491033,
        "start_time": "2025-02-21T21:35:33.671Z"
      },
      {
        "duration": 13799,
        "start_time": "2025-02-21T21:43:44.706Z"
      },
      {
        "duration": 14713,
        "start_time": "2025-02-21T21:43:58.507Z"
      },
      {
        "duration": 3,
        "start_time": "2025-02-21T21:44:13.224Z"
      },
      {
        "duration": 3,
        "start_time": "2025-02-21T21:44:13.229Z"
      },
      {
        "duration": 57271,
        "start_time": "2025-02-21T21:44:13.235Z"
      }
    ],
    "toc": {
      "base_numbering": 1,
      "nav_menu": {},
      "number_sections": true,
      "sideBar": true,
      "skip_h1_title": true,
      "title_cell": "Table of Contents",
      "title_sidebar": "Contents",
      "toc_cell": false,
      "toc_position": {},
      "toc_section_display": true,
      "toc_window_display": false
    }
  },
  "nbformat_minor": 4,
  "nbformat": 4,
  "cells": [
    {
      "cell_type": "markdown",
      "source": "Rusty Bargain used car sales service is developing an app to attract new customers. In that app, you can quickly find out the market value of your car. You have access to historical data: technical specifications, trim versions, and prices. You need to build the model to determine the value. \n\nRusty Bargain is interested in:\n\n- the quality of the prediction;\n- the speed of the prediction;\n- the time required for training",
      "metadata": {}
    },
    {
      "cell_type": "markdown",
      "source": "## Data preparation\n\n### Basic Prep",
      "metadata": {}
    },
    {
      "cell_type": "code",
      "source": "pip install lightgbm",
      "metadata": {
        "trusted": true
      },
      "outputs": [
        {
          "name": "stdout",
          "output_type": "stream",
          "text": "Requirement already satisfied: lightgbm in /opt/conda/envs/python3/lib/python3.9/site-packages (3.3.1)\nRequirement already satisfied: wheel in /opt/conda/envs/python3/lib/python3.9/site-packages (from lightgbm) (0.43.0)\nRequirement already satisfied: numpy in /opt/conda/envs/python3/lib/python3.9/site-packages (from lightgbm) (1.21.2)\nRequirement already satisfied: scipy in /opt/conda/envs/python3/lib/python3.9/site-packages (from lightgbm) (1.10.1)\nRequirement already satisfied: scikit-learn!=0.22.0 in /opt/conda/envs/python3/lib/python3.9/site-packages (from lightgbm) (0.24.1)\nRequirement already satisfied: joblib>=0.11 in /opt/conda/envs/python3/lib/python3.9/site-packages (from scikit-learn!=0.22.0->lightgbm) (1.4.2)\nRequirement already satisfied: threadpoolctl>=2.0.0 in /opt/conda/envs/python3/lib/python3.9/site-packages (from scikit-learn!=0.22.0->lightgbm) (3.5.0)\nNote: you may need to restart the kernel to use updated packages.\n"
        }
      ],
      "execution_count": 1
    },
    {
      "cell_type": "code",
      "source": "import pandas as pd\nimport numpy as np\nimport lightgbm as lgb\n\nimport time\n\nfrom sklearn.neighbors import KNeighborsRegressor\n\nfrom sklearn.ensemble import RandomForestRegressor, GradientBoostingRegressor\n\nfrom sklearn.tree import DecisionTreeRegressor\n\nfrom sklearn.linear_model import LinearRegression\n\nfrom sklearn.preprocessing import StandardScaler, OneHotEncoder, OrdinalEncoder\n\nfrom sklearn.metrics import accuracy_score, mean_squared_error, r2_score\n\nfrom sklearn.model_selection import train_test_split, GridSearchCV, RandomizedSearchCV\n\nfrom xgboost import XGBRegressor\n\ndata = pd.read_csv('/datasets/car_data.csv')",
      "metadata": {
        "trusted": true
      },
      "outputs": [],
      "execution_count": 2
    },
    {
      "cell_type": "code",
      "source": "print(data.info())\nprint(data.isnull().sum())",
      "metadata": {
        "trusted": true
      },
      "outputs": [
        {
          "name": "stdout",
          "output_type": "stream",
          "text": "<class 'pandas.core.frame.DataFrame'>\nRangeIndex: 354369 entries, 0 to 354368\nData columns (total 16 columns):\n #   Column             Non-Null Count   Dtype \n---  ------             --------------   ----- \n 0   DateCrawled        354369 non-null  object\n 1   Price              354369 non-null  int64 \n 2   VehicleType        316879 non-null  object\n 3   RegistrationYear   354369 non-null  int64 \n 4   Gearbox            334536 non-null  object\n 5   Power              354369 non-null  int64 \n 6   Model              334664 non-null  object\n 7   Mileage            354369 non-null  int64 \n 8   RegistrationMonth  354369 non-null  int64 \n 9   FuelType           321474 non-null  object\n 10  Brand              354369 non-null  object\n 11  NotRepaired        283215 non-null  object\n 12  DateCreated        354369 non-null  object\n 13  NumberOfPictures   354369 non-null  int64 \n 14  PostalCode         354369 non-null  int64 \n 15  LastSeen           354369 non-null  object\ndtypes: int64(7), object(9)\nmemory usage: 43.3+ MB\nNone\nDateCrawled              0\nPrice                    0\nVehicleType          37490\nRegistrationYear         0\nGearbox              19833\nPower                    0\nModel                19705\nMileage                  0\nRegistrationMonth        0\nFuelType             32895\nBrand                    0\nNotRepaired          71154\nDateCreated              0\nNumberOfPictures         0\nPostalCode               0\nLastSeen                 0\ndtype: int64\n"
        }
      ],
      "execution_count": 3
    },
    {
      "cell_type": "markdown",
      "source": "### Data cleanup\n\n#### Handling missing values (including dropping columns)",
      "metadata": {}
    },
    {
      "cell_type": "code",
      "source": "data['VehicleType'].fillna('Unknown', inplace=True)\ndata['Gearbox'].fillna('Unknown', inplace=True)\ndata['FuelType'].fillna('Unknown', inplace=True)\ndata['Model'].fillna('Unknown', inplace=True)\ndata['NotRepaired'].fillna('Unknown', inplace=True)",
      "metadata": {
        "trusted": true
      },
      "outputs": [],
      "execution_count": 4
    },
    {
      "cell_type": "code",
      "source": "data.drop(['NumberOfPictures', 'DateCrawled', 'DateCreated', 'LastSeen', 'PostalCode'], axis=1, inplace=True)",
      "metadata": {
        "trusted": true
      },
      "outputs": [],
      "execution_count": 5
    },
    {
      "cell_type": "markdown",
      "source": "#### Filtering Unrealistic Values",
      "metadata": {}
    },
    {
      "cell_type": "code",
      "source": "data = data[(data['Price'] > 500) & (data['Price'] < 100000)]\ndata = data[(data['Power'] > 10) & (data['Power'] < 1000)]",
      "metadata": {
        "trusted": true
      },
      "outputs": [],
      "execution_count": 6
    },
    {
      "cell_type": "markdown",
      "source": "#### Feature/Target Separation",
      "metadata": {}
    },
    {
      "cell_type": "code",
      "source": "X = data.drop('Price', axis=1)\ny = data['Price']",
      "metadata": {
        "trusted": true
      },
      "outputs": [],
      "execution_count": 7
    },
    {
      "cell_type": "markdown",
      "source": "## Model training\n\n### Basic Prep",
      "metadata": {}
    },
    {
      "cell_type": "code",
      "source": "X_train, X_temp, y_train, y_temp = train_test_split(X, y, test_size=0.4, random_state=42)\n\nX_val, X_test, y_val, y_test = train_test_split(X_temp, y_temp, test_size=0.5, random_state=42)",
      "metadata": {
        "trusted": true
      },
      "outputs": [],
      "execution_count": 8
    },
    {
      "cell_type": "code",
      "source": "print(X_train.columns)",
      "metadata": {
        "trusted": true
      },
      "outputs": [
        {
          "name": "stdout",
          "output_type": "stream",
          "text": "Index(['VehicleType', 'RegistrationYear', 'Gearbox', 'Power', 'Model',\n       'Mileage', 'RegistrationMonth', 'FuelType', 'Brand', 'NotRepaired'],\n      dtype='object')\n"
        }
      ],
      "execution_count": 9
    },
    {
      "cell_type": "markdown",
      "source": "### Feature Scaling",
      "metadata": {}
    },
    {
      "cell_type": "code",
      "source": "scaler = StandardScaler()\nnumerical_cols = ['Mileage', 'Power']\n\nX_train[numerical_cols] = scaler.fit_transform(X_train[numerical_cols])\nX_val[numerical_cols] = scaler.transform(X_val[numerical_cols])\nX_test[numerical_cols] = scaler.transform(X_test[numerical_cols])",
      "metadata": {
        "trusted": true
      },
      "outputs": [
        {
          "name": "stderr",
          "output_type": "stream",
          "text": "/tmp/ipykernel_75/4030600267.py:4: SettingWithCopyWarning: \nA value is trying to be set on a copy of a slice from a DataFrame.\nTry using .loc[row_indexer,col_indexer] = value instead\n\nSee the caveats in the documentation: https://pandas.pydata.org/pandas-docs/stable/user_guide/indexing.html#returning-a-view-versus-a-copy\n  X_train[numerical_cols] = scaler.fit_transform(X_train[numerical_cols])\n/opt/conda/envs/python3/lib/python3.9/site-packages/pandas/core/indexing.py:1738: SettingWithCopyWarning: \nA value is trying to be set on a copy of a slice from a DataFrame.\nTry using .loc[row_indexer,col_indexer] = value instead\n\nSee the caveats in the documentation: https://pandas.pydata.org/pandas-docs/stable/user_guide/indexing.html#returning-a-view-versus-a-copy\n  self._setitem_single_column(loc, value[:, i].tolist(), pi)\n/tmp/ipykernel_75/4030600267.py:5: SettingWithCopyWarning: \nA value is trying to be set on a copy of a slice from a DataFrame.\nTry using .loc[row_indexer,col_indexer] = value instead\n\nSee the caveats in the documentation: https://pandas.pydata.org/pandas-docs/stable/user_guide/indexing.html#returning-a-view-versus-a-copy\n  X_val[numerical_cols] = scaler.transform(X_val[numerical_cols])\n/opt/conda/envs/python3/lib/python3.9/site-packages/pandas/core/indexing.py:1738: SettingWithCopyWarning: \nA value is trying to be set on a copy of a slice from a DataFrame.\nTry using .loc[row_indexer,col_indexer] = value instead\n\nSee the caveats in the documentation: https://pandas.pydata.org/pandas-docs/stable/user_guide/indexing.html#returning-a-view-versus-a-copy\n  self._setitem_single_column(loc, value[:, i].tolist(), pi)\n/tmp/ipykernel_75/4030600267.py:6: SettingWithCopyWarning: \nA value is trying to be set on a copy of a slice from a DataFrame.\nTry using .loc[row_indexer,col_indexer] = value instead\n\nSee the caveats in the documentation: https://pandas.pydata.org/pandas-docs/stable/user_guide/indexing.html#returning-a-view-versus-a-copy\n  X_test[numerical_cols] = scaler.transform(X_test[numerical_cols])\n/opt/conda/envs/python3/lib/python3.9/site-packages/pandas/core/indexing.py:1738: SettingWithCopyWarning: \nA value is trying to be set on a copy of a slice from a DataFrame.\nTry using .loc[row_indexer,col_indexer] = value instead\n\nSee the caveats in the documentation: https://pandas.pydata.org/pandas-docs/stable/user_guide/indexing.html#returning-a-view-versus-a-copy\n  self._setitem_single_column(loc, value[:, i].tolist(), pi)\n"
        }
      ],
      "execution_count": 10
    },
    {
      "cell_type": "markdown",
      "source": "### Encoding Variables\n\n#### Linear (Ordinal) Encoding",
      "metadata": {}
    },
    {
      "cell_type": "code",
      "source": "ordinal_cols = ['VehicleType', 'Gearbox', 'Model', 'FuelType', 'Brand', 'NotRepaired']\nencoder = OrdinalEncoder(handle_unknown='use_encoded_value', unknown_value=-1)\n\nX_train_ordinal = X_train.copy()\nX_val_ordinal = X_val.copy()\nX_test_ordinal = X_test.copy()\n\nX_train_ordinal[ordinal_cols] = encoder.fit_transform(X_train[ordinal_cols])\nX_val_ordinal[ordinal_cols] = encoder.transform(X_val[ordinal_cols])\nX_test_ordinal[ordinal_cols] = encoder.transform(X_test[ordinal_cols])",
      "metadata": {
        "trusted": true
      },
      "outputs": [],
      "execution_count": 11
    },
    {
      "cell_type": "code",
      "source": "print(X_train_ordinal.head())",
      "metadata": {
        "trusted": true
      },
      "outputs": [
        {
          "name": "stdout",
          "output_type": "stream",
          "text": "        VehicleType  RegistrationYear  Gearbox     Power  Model   Mileage  \\\n155902          6.0              1994      2.0 -1.436343   26.0  0.605222   \n136703          6.0              2011      2.0 -0.022200   81.0 -2.363567   \n311318          0.0              2017      1.0  0.492034   26.0 -2.633456   \n319296          0.0              2017      2.0 -0.609895   74.0  0.605222   \n1170            5.0              2003      2.0 -0.793550   43.0 -0.069503   \n\n        RegistrationMonth  FuelType  Brand  NotRepaired  \n155902                  8       7.0   24.0          1.0  \n136703                 12       7.0   21.0          1.0  \n311318                  3       7.0    2.0          0.0  \n319296                  8       0.0   11.0          0.0  \n1170                    7       3.0   24.0          1.0  \n"
        }
      ],
      "execution_count": 12
    },
    {
      "cell_type": "markdown",
      "source": "#### One-Hot-Encoding",
      "metadata": {}
    },
    {
      "cell_type": "code",
      "source": "X_train_onehot = pd.get_dummies(X_train, drop_first=True)\nX_val_onehot = pd.get_dummies(X_val, drop_first=True)\nX_test_onehot = pd.get_dummies(X_test, drop_first=True)\n\nX_train_onehot, X_val_onehot = X_train_onehot.align(X_val_onehot, join='left', axis=1, fill_value=0)\nX_train_onehot, X_test_onehot = X_train_onehot.align(X_test_onehot, join='left', axis=1, fill_value=0)",
      "metadata": {
        "trusted": true
      },
      "outputs": [],
      "execution_count": 13
    },
    {
      "cell_type": "code",
      "source": "print(X_train.head())",
      "metadata": {
        "trusted": true
      },
      "outputs": [
        {
          "name": "stdout",
          "output_type": "stream",
          "text": "       VehicleType  RegistrationYear Gearbox     Power    Model   Mileage  \\\n155902       small              1994  manual -1.436343  Unknown  0.605222   \n136703       small              2011  manual -0.022200   cooper -2.363567   \n311318     Unknown              2017    auto  0.492034  Unknown -2.633456   \n319296     Unknown              2017  manual -0.609895    civic  0.605222   \n1170         sedan              2003  manual -0.793550    astra -0.069503   \n\n        RegistrationMonth  FuelType  Brand NotRepaired  \n155902                  8    petrol   opel          no  \n136703                 12    petrol   mini          no  \n311318                  3    petrol    bmw     Unknown  \n319296                  8   Unknown  honda     Unknown  \n1170                    7  gasoline   opel          no  \n"
        }
      ],
      "execution_count": 14
    },
    {
      "cell_type": "code",
      "source": "def calculate_rmse(y_true, y_pred):\n    mse = mean_squared_error(y_true, y_pred)\n    rmse = np.sqrt(mse)\n    return rmse",
      "metadata": {
        "trusted": true
      },
      "outputs": [],
      "execution_count": 15
    },
    {
      "cell_type": "markdown",
      "source": "### Final Data Checks",
      "metadata": {}
    },
    {
      "cell_type": "code",
      "source": "print(X_train_ordinal.shape)\nprint(y_train.shape)",
      "metadata": {
        "trusted": true
      },
      "outputs": [
        {
          "name": "stdout",
          "output_type": "stream",
          "text": "(170759, 10)\n(170759,)\n"
        }
      ],
      "execution_count": 16
    },
    {
      "cell_type": "code",
      "source": "print(X_train_ordinal.isnull().sum())\nprint(y_train.isnull().sum())",
      "metadata": {
        "trusted": true
      },
      "outputs": [
        {
          "name": "stdout",
          "output_type": "stream",
          "text": "VehicleType          0\nRegistrationYear     0\nGearbox              0\nPower                0\nModel                0\nMileage              0\nRegistrationMonth    0\nFuelType             0\nBrand                0\nNotRepaired          0\ndtype: int64\n0\n"
        }
      ],
      "execution_count": 17
    },
    {
      "cell_type": "code",
      "source": "print(np.isinf(X_train_ordinal).sum())\nprint(np.isinf(y_train).sum())",
      "metadata": {
        "trusted": true
      },
      "outputs": [
        {
          "name": "stdout",
          "output_type": "stream",
          "text": "VehicleType          0\nRegistrationYear     0\nGearbox              0\nPower                0\nModel                0\nMileage              0\nRegistrationMonth    0\nFuelType             0\nBrand                0\nNotRepaired          0\ndtype: int64\n0\n"
        }
      ],
      "execution_count": 18
    },
    {
      "cell_type": "code",
      "source": "print(X_train_ordinal.head())\nprint(y_train.head())",
      "metadata": {
        "trusted": true
      },
      "outputs": [
        {
          "name": "stdout",
          "output_type": "stream",
          "text": "        VehicleType  RegistrationYear  Gearbox     Power  Model   Mileage  \\\n155902          6.0              1994      2.0 -1.436343   26.0  0.605222   \n136703          6.0              2011      2.0 -0.022200   81.0 -2.363567   \n311318          0.0              2017      1.0  0.492034   26.0 -2.633456   \n319296          0.0              2017      2.0 -0.609895   74.0  0.605222   \n1170            5.0              2003      2.0 -0.793550   43.0 -0.069503   \n\n        RegistrationMonth  FuelType  Brand  NotRepaired  \n155902                  8       7.0   24.0          1.0  \n136703                 12       7.0   21.0          1.0  \n311318                  3       7.0    2.0          0.0  \n319296                  8       0.0   11.0          0.0  \n1170                    7       3.0   24.0          1.0  \n155902      650\n136703    14999\n311318     1800\n319296      600\n1170       3800\nName: Price, dtype: int64\n"
        }
      ],
      "execution_count": 19
    },
    {
      "cell_type": "code",
      "source": "assert len(X_train_ordinal) == len(y_train), \"Features and labels are misaligned!\"",
      "metadata": {
        "trusted": true
      },
      "outputs": [],
      "execution_count": 20
    },
    {
      "cell_type": "markdown",
      "source": "### Linear Regression",
      "metadata": {}
    },
    {
      "cell_type": "code",
      "source": "model = LinearRegression()\n\nmodel.fit(X_train_onehot, y_train)\n\npredictions = model.predict(X_val_onehot)\nmse = mean_squared_error(y_val, predictions)\nrmse = calculate_rmse(y_val, predictions)\nr2 = r2_score(y_val, predictions)\n\nprint(f\"Root Mean Squared Error: {rmse}\")\nprint(f\"Mean Squared Error: {mse}\")\nprint(f\"R-squared: {r2}\")",
      "metadata": {
        "trusted": true
      },
      "outputs": [
        {
          "name": "stdout",
          "output_type": "stream",
          "text": "Root Mean Squared Error: 2851.3620797412527\nMean Squared Error: 8130265.709786362\nR-squared: 0.6109900712754263\n"
        }
      ],
      "execution_count": 21
    },
    {
      "cell_type": "markdown",
      "source": "### Random Forest (w/ hyperparameter tuning)",
      "metadata": {}
    },
    {
      "cell_type": "code",
      "source": "rf_param_grid = {\n    'n_estimators': [50, 100],\n    'max_depth': [None, 10],\n}\n\nrf = RandomForestRegressor() \n\nrandom_search = RandomizedSearchCV(\n    estimator=rf, \n    param_distributions=rf_param_grid,\n    n_iter=5, \n    cv=2, \n    n_jobs=-1, \n    scoring='neg_root_mean_squared_error'\n)\n\nrandom_search.fit(X_train_ordinal, y_train)\nbest_rf = random_search.best_estimator_\n\npredictions = best_rf.predict(X_val_ordinal)\nrmse = calculate_rmse(y_val, predictions)\nmse = mean_squared_error(y_val, predictions)\nr2 = r2_score(y_val, predictions)\n\nprint(f\"Root Mean Squared Error: {rmse}\")\nprint(f\"Mean Squared Error: {mse}\")\nprint(f\"R-squared: {r2}\")\nprint(f\"Best parameters: {random_search.best_params_}\")",
      "metadata": {
        "trusted": true
      },
      "outputs": [
        {
          "name": "stderr",
          "output_type": "stream",
          "text": "/opt/conda/envs/python3/lib/python3.9/site-packages/sklearn/model_selection/_search.py:285: UserWarning: The total space of parameters 4 is smaller than n_iter=5. Running 4 iterations. For exhaustive searches, use GridSearchCV.\n  warnings.warn(\n"
        },
        {
          "name": "stdout",
          "output_type": "stream",
          "text": "Root Mean Squared Error: 1650.900851620995\nMean Squared Error: 2725473.621882926\nR-squared: 0.8695938930860302\nBest parameters: {'n_estimators': 100, 'max_depth': None}\n"
        }
      ],
      "execution_count": 22
    },
    {
      "cell_type": "markdown",
      "source": "### Decision Tree Regression (w/ hyperparameter tuning)",
      "metadata": {}
    },
    {
      "cell_type": "code",
      "source": "dt_param_grid = {\n    'max_depth': [None, 10, 20],\n    'min_samples_split': [2, 10],\n}\n\ndt = DecisionTreeRegressor()\n\nrandom_search_dt = RandomizedSearchCV(\n    estimator=dt,\n    param_distributions=dt_param_grid,\n    n_iter=5,\n    cv=2,\n    n_jobs=-1,\n    scoring='neg_root_mean_squared_error'\n)\n\nrandom_search_dt.fit(X_train_ordinal, y_train)\nbest_dt = random_search_dt.best_estimator_\n\npredictions = best_dt.predict(X_val_ordinal)\nmse = mean_squared_error(y_val, predictions)\nrmse = calculate_rmse(y_val, predictions)\nr2 = r2_score(y_val, predictions)\n\nprint(f\"Root Mean Squared Error: {rmse}\")\nprint(f\"Mean Squared Error: {mse}\")\nprint(f\"R-squared: {r2}\")\nprint(f\"Best parameters: {random_search.best_params_}\")",
      "metadata": {
        "trusted": true
      },
      "outputs": [
        {
          "name": "stdout",
          "output_type": "stream",
          "text": "Root Mean Squared Error: 1944.9050277244278\nMean Squared Error: 3782655.5668677576\nR-squared: 0.8190107648406113\nBest parameters: {'n_estimators': 100, 'max_depth': None}\n"
        }
      ],
      "execution_count": 23
    },
    {
      "cell_type": "markdown",
      "source": "### Gradient Boosting (w/ hyperparameter tuning)",
      "metadata": {}
    },
    {
      "cell_type": "code",
      "source": "gb_param_grid = {\n    'n_estimators': [50, 100],\n    'learning_rate': [0.01, 0.1],\n    'max_depth': [3, 5],\n}\n\ngb = GradientBoostingRegressor()\n\nrandom_search_gb = RandomizedSearchCV(\n    estimator=gb,\n    param_distributions=gb_param_grid,\n    n_iter=5,\n    cv=2,\n    n_jobs=-1,\n    scoring='neg_root_mean_squared_error'\n)\n\nrandom_search_gb.fit(X_train_ordinal, y_train)\nbest_gb = random_search_gb.best_estimator_\n\npredictions = best_gb.predict(X_val_ordinal)\nmse = mean_squared_error(y_val, predictions)\nrmse = calculate_rmse(y_val, predictions)\nr2 = r2_score(y_val, predictions)\n\nprint(f\"Root Mean Squared Error: {rmse}\")\nprint(f\"Mean Squared Error: {mse}\")\nprint(f\"R-squared: {r2}\")\nprint(f\"Best parameters: {random_search.best_params_}\")",
      "metadata": {
        "trusted": true
      },
      "outputs": [
        {
          "name": "stdout",
          "output_type": "stream",
          "text": "Root Mean Squared Error: 1783.7915561887485\nMean Squared Error: 3181912.3159302766\nR-squared: 0.8477546088391734\nBest parameters: {'n_estimators': 100, 'max_depth': None}\n"
        }
      ],
      "execution_count": 24
    },
    {
      "cell_type": "markdown",
      "source": "### XG Boost (w/ hyperparameter tuning)",
      "metadata": {}
    },
    {
      "cell_type": "code",
      "source": "xgb_param_grid = {\n    'n_estimators': [50, 100],\n    'learning_rate': [0.01, 0.1],\n    'max_depth': [3, 5],\n}\n\nxgb = XGBRegressor()\n\nrandom_search_xgb = RandomizedSearchCV(\n    estimator=xgb,\n    param_distributions=xgb_param_grid,\n    n_iter=5,\n    cv=2,\n    n_jobs=-1,\n    scoring='neg_root_mean_squared_error'\n)\n\nrandom_search_xgb.fit(\n    X_train_ordinal, y_train,\n    eval_set=[(X_val_ordinal, y_val)],\n    eval_metric='rmse',\n    early_stopping_rounds=10,\n    verbose=False\n)\n\nbest_xgb = random_search_xgb.best_estimator_\n\npredictions = best_xgb.predict(X_val_ordinal)\nmse = mean_squared_error(y_val, predictions)\nrmse = calculate_rmse(y_val, predictions)\nr2 = r2_score(y_val, predictions)\n\nprint(f\"Root Mean Squared Error: {rmse}\")\nprint(f\"Mean Squared Error: {mse}\")\nprint(f\"R-squared: {r2}\")\nprint(f\"Best parameters: {random_search.best_params_}\")",
      "metadata": {
        "trusted": true
      },
      "outputs": [
        {
          "name": "stdout",
          "output_type": "stream",
          "text": "Root Mean Squared Error: 1786.2022965730473\nMean Squared Error: 3190518.6442828286\nR-squared: 0.8473428206764597\nBest parameters: {'n_estimators': 100, 'max_depth': None}\n"
        }
      ],
      "execution_count": 25
    },
    {
      "cell_type": "markdown",
      "source": "### K-Nearest Neighbors (w/ hyperparameter tuning)",
      "metadata": {}
    },
    {
      "cell_type": "code",
      "source": "knn_param_grid = {\n    'n_neighbors': [3, 5, 7, 9],\n}\n\nknn = KNeighborsRegressor()\n\nrandom_search_knn = RandomizedSearchCV(\n    estimator=knn,\n    param_distributions=knn_param_grid,\n    n_iter=5,\n    cv=2,\n    n_jobs=-1,\n    scoring='neg_root_mean_squared_error'\n)\n\nrandom_search_knn.fit(X_train_ordinal, y_train)\nbest_knn = random_search_knn.best_estimator_\n\npredictions = best_knn.predict(X_val_ordinal)\nmse = mean_squared_error(y_val, predictions)\nrmse = calculate_rmse(y_val, predictions)\nr2 = r2_score(y_val, predictions)\n\nprint(f\"Root Mean Squared Error: {rmse}\")\nprint(f\"Mean Squared Error: {mse}\")\nprint(f\"R-squared: {r2}\")\nprint(f\"Best parameters: {random_search.best_params_}\")",
      "metadata": {
        "scrolled": true,
        "trusted": true
      },
      "outputs": [
        {
          "name": "stderr",
          "output_type": "stream",
          "text": "/opt/conda/envs/python3/lib/python3.9/site-packages/sklearn/model_selection/_search.py:285: UserWarning: The total space of parameters 4 is smaller than n_iter=5. Running 4 iterations. For exhaustive searches, use GridSearchCV.\n  warnings.warn(\n"
        },
        {
          "name": "stdout",
          "output_type": "stream",
          "text": "Root Mean Squared Error: 1930.5439042971893\nMean Squared Error: 3726999.766419035\nR-squared: 0.8216737354910791\nBest parameters: {'n_estimators': 100, 'max_depth': None}\n"
        }
      ],
      "execution_count": 26
    },
    {
      "cell_type": "markdown",
      "source": "### LightGBM (w/ hyperparameter tuning)",
      "metadata": {}
    },
    {
      "cell_type": "code",
      "source": "lgb_param_grid = {\n    'n_estimators': [50, 100],\n    #'num_leaves': [31, 40, 50],\n    'learning_rate': [0.1, 0.3],\n    #'boosting_type': ['gbdt', 'dart'],\n}\n\nlgbm = lgb.LGBMRegressor()\n\nrandom_search_lgb = RandomizedSearchCV(\n    estimator=lgbm,\n    param_distributions=lgb_param_grid,\n    n_iter=5,\n    cv=2,\n    n_jobs=-1,\n    scoring='neg_root_mean_squared_error'\n)\n\nrandom_search_lgb.fit(\n    X_train_ordinal,\n    y_train,\n    eval_set=[(X_val_ordinal, y_val)],\n    eval_metric='rmse',\n    early_stopping_rounds=10,\n    verbose=False\n)\n\nbest_lgb = random_search_lgb.best_estimator_\n\npredictions = best_lgb.predict(X_val_ordinal)\nmse = mean_squared_error(y_val, predictions)\nrmse = calculate_rmse(y_val, predictions)\nr2 = r2_score(y_val, predictions)\n\nprint(f\"Root Mean Squared Error: {rmse}\")\nprint(f\"Mean Squared Error: {mse}\")\nprint(f\"R-squared: {r2}\")\nprint(f\"Best parameters: {random_search.best_params_}\")",
      "metadata": {
        "trusted": true
      },
      "outputs": [
        {
          "name": "stderr",
          "output_type": "stream",
          "text": "/opt/conda/envs/python3/lib/python3.9/site-packages/sklearn/model_selection/_search.py:285: UserWarning: The total space of parameters 4 is smaller than n_iter=5. Running 4 iterations. For exhaustive searches, use GridSearchCV.\n  warnings.warn(\n/opt/conda/envs/python3/lib/python3.9/site-packages/lightgbm/sklearn.py:726: UserWarning: 'early_stopping_rounds' argument is deprecated and will be removed in a future release of LightGBM. Pass 'early_stopping()' callback via 'callbacks' argument instead.\n  _log_warning(\"'early_stopping_rounds' argument is deprecated and will be removed in a future release of LightGBM. \"\n/opt/conda/envs/python3/lib/python3.9/site-packages/lightgbm/sklearn.py:736: UserWarning: 'verbose' argument is deprecated and will be removed in a future release of LightGBM. Pass 'log_evaluation()' callback via 'callbacks' argument instead.\n  _log_warning(\"'verbose' argument is deprecated and will be removed in a future release of LightGBM. \"\n/opt/conda/envs/python3/lib/python3.9/site-packages/lightgbm/sklearn.py:726: UserWarning: 'early_stopping_rounds' argument is deprecated and will be removed in a future release of LightGBM. Pass 'early_stopping()' callback via 'callbacks' argument instead.\n  _log_warning(\"'early_stopping_rounds' argument is deprecated and will be removed in a future release of LightGBM. \"\n/opt/conda/envs/python3/lib/python3.9/site-packages/lightgbm/sklearn.py:736: UserWarning: 'verbose' argument is deprecated and will be removed in a future release of LightGBM. Pass 'log_evaluation()' callback via 'callbacks' argument instead.\n  _log_warning(\"'verbose' argument is deprecated and will be removed in a future release of LightGBM. \"\n/opt/conda/envs/python3/lib/python3.9/site-packages/lightgbm/sklearn.py:726: UserWarning: 'early_stopping_rounds' argument is deprecated and will be removed in a future release of LightGBM. Pass 'early_stopping()' callback via 'callbacks' argument instead.\n  _log_warning(\"'early_stopping_rounds' argument is deprecated and will be removed in a future release of LightGBM. \"\n/opt/conda/envs/python3/lib/python3.9/site-packages/lightgbm/sklearn.py:736: UserWarning: 'verbose' argument is deprecated and will be removed in a future release of LightGBM. Pass 'log_evaluation()' callback via 'callbacks' argument instead.\n  _log_warning(\"'verbose' argument is deprecated and will be removed in a future release of LightGBM. \"\n/opt/conda/envs/python3/lib/python3.9/site-packages/lightgbm/sklearn.py:726: UserWarning: 'early_stopping_rounds' argument is deprecated and will be removed in a future release of LightGBM. Pass 'early_stopping()' callback via 'callbacks' argument instead.\n  _log_warning(\"'early_stopping_rounds' argument is deprecated and will be removed in a future release of LightGBM. \"\n/opt/conda/envs/python3/lib/python3.9/site-packages/lightgbm/sklearn.py:736: UserWarning: 'verbose' argument is deprecated and will be removed in a future release of LightGBM. Pass 'log_evaluation()' callback via 'callbacks' argument instead.\n  _log_warning(\"'verbose' argument is deprecated and will be removed in a future release of LightGBM. \"\n/opt/conda/envs/python3/lib/python3.9/site-packages/lightgbm/sklearn.py:726: UserWarning: 'early_stopping_rounds' argument is deprecated and will be removed in a future release of LightGBM. Pass 'early_stopping()' callback via 'callbacks' argument instead.\n  _log_warning(\"'early_stopping_rounds' argument is deprecated and will be removed in a future release of LightGBM. \"\n/opt/conda/envs/python3/lib/python3.9/site-packages/lightgbm/sklearn.py:736: UserWarning: 'verbose' argument is deprecated and will be removed in a future release of LightGBM. Pass 'log_evaluation()' callback via 'callbacks' argument instead.\n  _log_warning(\"'verbose' argument is deprecated and will be removed in a future release of LightGBM. \"\n/opt/conda/envs/python3/lib/python3.9/site-packages/lightgbm/sklearn.py:726: UserWarning: 'early_stopping_rounds' argument is deprecated and will be removed in a future release of LightGBM. Pass 'early_stopping()' callback via 'callbacks' argument instead.\n  _log_warning(\"'early_stopping_rounds' argument is deprecated and will be removed in a future release of LightGBM. \"\n/opt/conda/envs/python3/lib/python3.9/site-packages/lightgbm/sklearn.py:736: UserWarning: 'verbose' argument is deprecated and will be removed in a future release of LightGBM. Pass 'log_evaluation()' callback via 'callbacks' argument instead.\n  _log_warning(\"'verbose' argument is deprecated and will be removed in a future release of LightGBM. \"\n/opt/conda/envs/python3/lib/python3.9/site-packages/lightgbm/sklearn.py:726: UserWarning: 'early_stopping_rounds' argument is deprecated and will be removed in a future release of LightGBM. Pass 'early_stopping()' callback via 'callbacks' argument instead.\n  _log_warning(\"'early_stopping_rounds' argument is deprecated and will be removed in a future release of LightGBM. \"\n/opt/conda/envs/python3/lib/python3.9/site-packages/lightgbm/sklearn.py:736: UserWarning: 'verbose' argument is deprecated and will be removed in a future release of LightGBM. Pass 'log_evaluation()' callback via 'callbacks' argument instead.\n  _log_warning(\"'verbose' argument is deprecated and will be removed in a future release of LightGBM. \"\n/opt/conda/envs/python3/lib/python3.9/site-packages/lightgbm/sklearn.py:726: UserWarning: 'early_stopping_rounds' argument is deprecated and will be removed in a future release of LightGBM. Pass 'early_stopping()' callback via 'callbacks' argument instead.\n  _log_warning(\"'early_stopping_rounds' argument is deprecated and will be removed in a future release of LightGBM. \"\n/opt/conda/envs/python3/lib/python3.9/site-packages/lightgbm/sklearn.py:736: UserWarning: 'verbose' argument is deprecated and will be removed in a future release of LightGBM. Pass 'log_evaluation()' callback via 'callbacks' argument instead.\n  _log_warning(\"'verbose' argument is deprecated and will be removed in a future release of LightGBM. \"\n/opt/conda/envs/python3/lib/python3.9/site-packages/lightgbm/sklearn.py:726: UserWarning: 'early_stopping_rounds' argument is deprecated and will be removed in a future release of LightGBM. Pass 'early_stopping()' callback via 'callbacks' argument instead.\n  _log_warning(\"'early_stopping_rounds' argument is deprecated and will be removed in a future release of LightGBM. \"\n/opt/conda/envs/python3/lib/python3.9/site-packages/lightgbm/sklearn.py:736: UserWarning: 'verbose' argument is deprecated and will be removed in a future release of LightGBM. Pass 'log_evaluation()' callback via 'callbacks' argument instead.\n  _log_warning(\"'verbose' argument is deprecated and will be removed in a future release of LightGBM. \"\n"
        },
        {
          "name": "stdout",
          "output_type": "stream",
          "text": "Root Mean Squared Error: 1657.90772000534\nMean Squared Error: 2748658.0080533046\nR-squared: 0.8684845866090222\nBest parameters: {'n_estimators': 100, 'max_depth': None}\n"
        }
      ],
      "execution_count": 27
    },
    {
      "cell_type": "markdown",
      "source": "## Model analysis",
      "metadata": {}
    },
    {
      "cell_type": "code",
      "source": "def evaluate_model(model, X_train, X_test, y_train, y_test):\n    start_time = time.time()\n    model.fit(X_train, y_train)\n    training_time = time.time() - start_time\n\n    start_time = time.time()\n    predictions = model.predict(X_test)\n    prediction_time = time.time() - start_time\n\n    mse = mean_squared_error(y_test, predictions)\n    rmse = np.sqrt(mse)\n\n    return rmse, training_time, prediction_time",
      "metadata": {
        "trusted": true
      },
      "outputs": [],
      "execution_count": 28
    },
    {
      "cell_type": "code",
      "source": "models = [\n    LinearRegression(),\n    RandomForestRegressor(n_estimators=10),\n    DecisionTreeRegressor(),\n    GradientBoostingRegressor(),\n    XGBRegressor(),\n    KNeighborsRegressor(),\n    lgb.LGBMRegressor(n_estimators=1000)\n]\n\nresults = []",
      "metadata": {
        "scrolled": true,
        "trusted": true
      },
      "outputs": [],
      "execution_count": 29
    },
    {
      "cell_type": "code",
      "source": "for model in models:\n    if isinstance(model, LinearRegression):\n        X_train_final, X_test_final = X_train_onehot, X_test_onehot\n    else:\n        X_train_final, X_test_final = X_train_ordinal, X_test_ordinal\n    \n    rmse, training_time, prediction_time = evaluate_model(model, X_train_final, X_test_final, y_train, y_test)\n    results.append({\n        'Model': model.__class__.__name__,\n        'RMSE': rmse,\n        'Training Time (s)': training_time,\n        'Prediction Time (s)': prediction_time\n    })\n\nresults_df = pd.DataFrame(results)\n\nprint(results_df)",
      "metadata": {
        "trusted": true
      },
      "outputs": [
        {
          "name": "stdout",
          "output_type": "stream",
          "text": "                       Model         RMSE  Training Time (s)  \\\n0           LinearRegression  2849.263617           6.281204   \n1      RandomForestRegressor  1709.786482           4.148941   \n2      DecisionTreeRegressor  2148.783089           0.615896   \n3  GradientBoostingRegressor  1960.678478          11.013670   \n4               XGBRegressor  1660.410448          18.045146   \n5        KNeighborsRegressor  1921.494704           0.778044   \n6              LGBMRegressor  1579.973464          11.605951   \n\n   Prediction Time (s)  \n0             0.108725  \n1             0.175200  \n2             0.019575  \n3             0.072594  \n4             0.104393  \n5             1.415849  \n6             2.799423  \n"
        }
      ],
      "execution_count": 30
    },
    {
      "cell_type": "markdown",
      "source": "## Conclusions",
      "metadata": {}
    },
    {
      "cell_type": "markdown",
      "source": "Seven models were used and then trained on the data, with the results for both speed and accuracy presented. That said, there were a couple of takeaways associated with this:\n\n* In terms of speed, the Random Forest model had a faster training time at 4.15 seconds, with XGBoost having a faster predicition time at 0.104 seconds compared to Random Forest's 0.109 seconds.\n* In terms of accuracy, the LightGBM model was among the most accurate, with a Root Mean-Squared Error score of around 1,580, 100 points above the second-best performer XGBoost at 1,660. The main exception was the Linear Regression model, which is the worst-performing with a RMSE score of 2,849, with the Decision Tree model perfoming similarly worse at 2,149.\n\nWhat the company chooses for its app will come down to either it prioritizes speed or efficiency or simply takes a balanced approach. Random Forest is a reasonable model to use when taking a balanced approach. ",
      "metadata": {}
    },
    {
      "cell_type": "markdown",
      "source": "# Checklist",
      "metadata": {}
    },
    {
      "cell_type": "markdown",
      "source": "Type 'x' to check. Then press Shift+Enter.",
      "metadata": {}
    },
    {
      "cell_type": "markdown",
      "source": "- [x]  Jupyter Notebook is open\n- [x]  Code is error free\n- [x]  The cells with the code have been arranged in order of execution\n- [x]  The data has been downloaded and prepared\n- [x]  The models have been trained\n- [x]  The analysis of speed and quality of the models has been performed",
      "metadata": {}
    }
  ]
}