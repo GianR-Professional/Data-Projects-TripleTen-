{
  "metadata": {
    "kernelspec": {
      "name": "python",
      "display_name": "Python (Pyodide)",
      "language": "python"
    },
    "language_info": {
      "codemirror_mode": {
        "name": "python",
        "version": 3
      },
      "file_extension": ".py",
      "mimetype": "text/x-python",
      "name": "python",
      "nbconvert_exporter": "python",
      "pygments_lexer": "ipython3",
      "version": "3.8"
    },
    "ExecuteTimeLog": [
      {
        "duration": 160,
        "start_time": "2025-05-03T20:15:54.722Z"
      },
      {
        "duration": 275,
        "start_time": "2025-05-03T20:16:10.230Z"
      },
      {
        "duration": 65,
        "start_time": "2025-05-03T20:16:10.508Z"
      },
      {
        "duration": 307,
        "start_time": "2025-05-03T20:18:36.077Z"
      },
      {
        "duration": 33,
        "start_time": "2025-05-03T20:18:36.386Z"
      },
      {
        "duration": 10,
        "start_time": "2025-05-03T20:18:36.420Z"
      },
      {
        "duration": 14,
        "start_time": "2025-05-03T20:18:36.431Z"
      },
      {
        "duration": 8,
        "start_time": "2025-05-03T20:18:36.447Z"
      },
      {
        "duration": 6,
        "start_time": "2025-05-03T20:18:36.458Z"
      },
      {
        "duration": 286,
        "start_time": "2025-05-04T14:14:15.417Z"
      },
      {
        "duration": 73,
        "start_time": "2025-05-04T14:14:15.705Z"
      },
      {
        "duration": 9,
        "start_time": "2025-05-04T14:14:15.780Z"
      },
      {
        "duration": 10,
        "start_time": "2025-05-04T14:14:15.790Z"
      },
      {
        "duration": 9,
        "start_time": "2025-05-04T14:14:15.802Z"
      },
      {
        "duration": 8,
        "start_time": "2025-05-04T14:14:15.812Z"
      }
    ],
    "toc": {
      "base_numbering": 1,
      "nav_menu": {},
      "number_sections": true,
      "sideBar": true,
      "skip_h1_title": true,
      "title_cell": "Table of Contents",
      "title_sidebar": "Contents",
      "toc_cell": false,
      "toc_position": {},
      "toc_section_display": true,
      "toc_window_display": false
    }
  },
  "nbformat_minor": 4,
  "nbformat": 4,
  "cells": [
    {
      "cell_type": "markdown",
      "source": "# Project Work Plan\n\n## Introduction/Purpose\n\nInterconnect plans to introduce a model that could predict when and how users would leave the service, so that the company could entice them with various plans and promotions. Their overall goal is to forecast the level of client turnover so as to better time their promotional deals to best fit the customers' needs, and have thus collected the requisite user data from the marketing department pertaining to user information and plan used, as well as other additional services that the company provides.\n\nThe objective is to develop a model sufficient to predict this. ",
      "metadata": {}
    },
    {
      "cell_type": "markdown",
      "source": "## Data Structure\n\nThe data collected for Interconnect is broken into four datasets:\n\n* *personal.csv* - contains the customers' personal data: customer ID, gender, status as a senior citizen (age 65+), marital/partnership status, and number of dependents in the household.\n* *contract.csv* - contains the customers' information, which include beginning and end dates, contract type, payment method (which includes paperless billing), and charges incurred.\n* *internet.csv* - contains the customers' individual Internet plans (either DSL or fiber optic), plus any additional features they may have (including dedicated tech support, any online security apparatus, and/or streaming services for both TV shows and movies)\n* *phone.csv* - contains information about the customers' landline phone plans (which may or may not connect to multiple lines simulataneously)\n\nThe customer ID is the only common item among all four datasets, with the model supposed to take information from all of them and using it to predict customer behavior.\n\n### Exploratory Data Analysis\n\nThis will first check the data, first checking for duplicate or missing values, as well as anything which could cause erros when creating the model.",
      "metadata": {}
    },
    {
      "cell_type": "code",
      "source": "import pandas as pd",
      "metadata": {},
      "outputs": [],
      "execution_count": 1
    },
    {
      "cell_type": "code",
      "source": "personal_data = pd.read_csv('/datasets/final_provider/personal.csv')\ncontract_data = pd.read_csv('/datasets/final_provider/contract.csv')\ninternet_data = pd.read_csv('/datasets/final_provider/internet.csv')\nphone_data = pd.read_csv('/datasets/final_provider/phone.csv')",
      "metadata": {},
      "outputs": [],
      "execution_count": 2
    },
    {
      "cell_type": "markdown",
      "source": "#### Personal.csv dataset",
      "metadata": {}
    },
    {
      "cell_type": "code",
      "source": "print(personal_data.info())",
      "metadata": {},
      "outputs": [
        {
          "name": "stdout",
          "output_type": "stream",
          "text": "<class 'pandas.core.frame.DataFrame'>\n,RangeIndex: 7043 entries, 0 to 7042\n,Data columns (total 5 columns):\n, #   Column         Non-Null Count  Dtype \n,---  ------         --------------  ----- \n, 0   customerID     7043 non-null   object\n, 1   gender         7043 non-null   object\n, 2   SeniorCitizen  7043 non-null   int64 \n, 3   Partner        7043 non-null   object\n, 4   Dependents     7043 non-null   object\n,dtypes: int64(1), object(4)\n,memory usage: 275.2+ KB\n,None\n"
        }
      ],
      "execution_count": 3
    },
    {
      "cell_type": "code",
      "source": "print(personal_data.head())",
      "metadata": {},
      "outputs": [
        {
          "name": "stdout",
          "output_type": "stream",
          "text": "   customerID  gender  SeniorCitizen Partner Dependents\n,0  7590-VHVEG  Female              0     Yes         No\n,1  5575-GNVDE    Male              0      No         No\n,2  3668-QPYBK    Male              0      No         No\n,3  7795-CFOCW    Male              0      No         No\n,4  9237-HQITU  Female              0      No         No\n"
        }
      ],
      "execution_count": 4
    },
    {
      "cell_type": "code",
      "source": "print(personal_data.describe())",
      "metadata": {},
      "outputs": [
        {
          "name": "stdout",
          "output_type": "stream",
          "text": "       SeniorCitizen\n,count    7043.000000\n,mean        0.162147\n,std         0.368612\n,min         0.000000\n,25%         0.000000\n,50%         0.000000\n,75%         0.000000\n,max         1.000000\n"
        }
      ],
      "execution_count": 5
    },
    {
      "cell_type": "markdown",
      "source": "#### Contract.csv dataset",
      "metadata": {}
    },
    {
      "cell_type": "code",
      "source": "print(contract_data.info())",
      "metadata": {},
      "outputs": [
        {
          "name": "stdout",
          "output_type": "stream",
          "text": "<class 'pandas.core.frame.DataFrame'>\n,RangeIndex: 7043 entries, 0 to 7042\n,Data columns (total 8 columns):\n, #   Column            Non-Null Count  Dtype  \n,---  ------            --------------  -----  \n, 0   customerID        7043 non-null   object \n, 1   BeginDate         7043 non-null   object \n, 2   EndDate           7043 non-null   object \n, 3   Type              7043 non-null   object \n, 4   PaperlessBilling  7043 non-null   object \n, 5   PaymentMethod     7043 non-null   object \n, 6   MonthlyCharges    7043 non-null   float64\n, 7   TotalCharges      7043 non-null   object \n,dtypes: float64(1), object(7)\n,memory usage: 440.3+ KB\n,None\n"
        }
      ],
      "execution_count": 6
    },
    {
      "cell_type": "code",
      "source": "print(contract_data.head())",
      "metadata": {},
      "outputs": [
        {
          "name": "stdout",
          "output_type": "stream",
          "text": "   customerID   BeginDate              EndDate            Type  \\\n,0  7590-VHVEG  2020-01-01                   No  Month-to-month   \n,1  5575-GNVDE  2017-04-01                   No        One year   \n,2  3668-QPYBK  2019-10-01  2019-12-01 00:00:00  Month-to-month   \n,3  7795-CFOCW  2016-05-01                   No        One year   \n,4  9237-HQITU  2019-09-01  2019-11-01 00:00:00  Month-to-month   \n,\n,  PaperlessBilling              PaymentMethod  MonthlyCharges TotalCharges  \n,0              Yes           Electronic check           29.85        29.85  \n,1               No               Mailed check           56.95       1889.5  \n,2              Yes               Mailed check           53.85       108.15  \n,3               No  Bank transfer (automatic)           42.30      1840.75  \n,4              Yes           Electronic check           70.70       151.65  \n"
        }
      ],
      "execution_count": 7
    },
    {
      "cell_type": "code",
      "source": "print(contract_data.describe())",
      "metadata": {},
      "outputs": [
        {
          "name": "stdout",
          "output_type": "stream",
          "text": "       MonthlyCharges\n,count     7043.000000\n,mean        64.761692\n,std         30.090047\n,min         18.250000\n,25%         35.500000\n,50%         70.350000\n,75%         89.850000\n,max        118.750000\n"
        }
      ],
      "execution_count": 8
    },
    {
      "cell_type": "markdown",
      "source": "#### Internet.csv dataset",
      "metadata": {}
    },
    {
      "cell_type": "code",
      "source": "print(internet_data.info())",
      "metadata": {},
      "outputs": [
        {
          "name": "stdout",
          "output_type": "stream",
          "text": "<class 'pandas.core.frame.DataFrame'>\n,RangeIndex: 5517 entries, 0 to 5516\n,Data columns (total 8 columns):\n, #   Column            Non-Null Count  Dtype \n,---  ------            --------------  ----- \n, 0   customerID        5517 non-null   object\n, 1   InternetService   5517 non-null   object\n, 2   OnlineSecurity    5517 non-null   object\n, 3   OnlineBackup      5517 non-null   object\n, 4   DeviceProtection  5517 non-null   object\n, 5   TechSupport       5517 non-null   object\n, 6   StreamingTV       5517 non-null   object\n, 7   StreamingMovies   5517 non-null   object\n,dtypes: object(8)\n,memory usage: 344.9+ KB\n,None\n"
        }
      ],
      "execution_count": 9
    },
    {
      "cell_type": "code",
      "source": "print(internet_data.head())",
      "metadata": {},
      "outputs": [
        {
          "name": "stdout",
          "output_type": "stream",
          "text": "   customerID InternetService OnlineSecurity OnlineBackup DeviceProtection  \\\n,0  7590-VHVEG             DSL             No          Yes               No   \n,1  5575-GNVDE             DSL            Yes           No              Yes   \n,2  3668-QPYBK             DSL            Yes          Yes               No   \n,3  7795-CFOCW             DSL            Yes           No              Yes   \n,4  9237-HQITU     Fiber optic             No           No               No   \n,\n,  TechSupport StreamingTV StreamingMovies  \n,0          No          No              No  \n,1          No          No              No  \n,2          No          No              No  \n,3         Yes          No              No  \n,4          No          No              No  \n"
        }
      ],
      "execution_count": 10
    },
    {
      "cell_type": "code",
      "source": "print(internet_data.describe())",
      "metadata": {},
      "outputs": [
        {
          "name": "stdout",
          "output_type": "stream",
          "text": "        customerID InternetService OnlineSecurity OnlineBackup  \\\n,count         5517            5517           5517         5517   \n,unique        5517               2              2            2   \n,top     1689-YQBYY     Fiber optic             No           No   \n,freq             1            3096           3498         3088   \n,\n,       DeviceProtection TechSupport StreamingTV StreamingMovies  \n,count              5517        5517        5517            5517  \n,unique                2           2           2               2  \n,top                  No          No          No              No  \n,freq               3095        3473        2810            2785  \n"
        }
      ],
      "execution_count": 11
    },
    {
      "cell_type": "markdown",
      "source": "#### Phone.csv dataset",
      "metadata": {}
    },
    {
      "cell_type": "code",
      "source": "print(phone_data.info())",
      "metadata": {},
      "outputs": [
        {
          "name": "stdout",
          "output_type": "stream",
          "text": "<class 'pandas.core.frame.DataFrame'>\n,RangeIndex: 6361 entries, 0 to 6360\n,Data columns (total 2 columns):\n, #   Column         Non-Null Count  Dtype \n,---  ------         --------------  ----- \n, 0   customerID     6361 non-null   object\n, 1   MultipleLines  6361 non-null   object\n,dtypes: object(2)\n,memory usage: 99.5+ KB\n,None\n"
        }
      ],
      "execution_count": 12
    },
    {
      "cell_type": "code",
      "source": "print(phone_data.head())",
      "metadata": {},
      "outputs": [
        {
          "name": "stdout",
          "output_type": "stream",
          "text": "   customerID MultipleLines\n,0  5575-GNVDE            No\n,1  3668-QPYBK            No\n,2  9237-HQITU            No\n,3  9305-CDSKC           Yes\n,4  1452-KIOVK           Yes\n"
        }
      ],
      "execution_count": 13
    },
    {
      "cell_type": "code",
      "source": "print(phone_data.describe())",
      "metadata": {},
      "outputs": [
        {
          "name": "stdout",
          "output_type": "stream",
          "text": "        customerID MultipleLines\n,count         6361          6361\n,unique        6361             2\n,top     1689-YQBYY            No\n,freq             1          3390\n"
        }
      ],
      "execution_count": 14
    },
    {
      "cell_type": "markdown",
      "source": "#### Main Takeaways\n\nBoth the customer personal and contract datasets each have around 7,000 entries which suggest either incomplete data or the presence of customers that have since terminated their contracts. This is borne out due to the Phone dataset having more entries (around 6,300) than the Internet dataset (around 5,500), which suggest customers might have different providers for one or more of Interconnect's services. ",
      "metadata": {}
    },
    {
      "cell_type": "markdown",
      "source": "### Questions\n\nGoing forward, some initial questions would have to be answered:\n* How long did each customer stay with Interconnect, and how much did they pay?\n* What type of service did they utilize (for both the main phone and Internet offerings), and how much did they pay?\n* What additional services did they also use, and how much did they pay for those as well?\n\nUnderstanding these could help Interconnect's marketing team predict customer turnover and thus, tie promotions and deals to better suit this.\n",
      "metadata": {}
    },
    {
      "cell_type": "markdown",
      "source": "### Formulated Plan\n\nThe basic plan to do this is as follows:\n\n1. Load the data and perform basic exploratory data analysis, which has largely been completed.\n3. Perform any additional exploratory data analysis, which will include various things such as missing data checks, error checks, and so on.\n4. Split the data into a training and testing set, which could then be broken down into various model-readable components.\n6. Develop models that can use the data to predict customer behavior. Ideally, several model types would be used for this.\n7. Train said models on the data from the training set to iron out any errors found.\n8. Test the final models onto the testing set, checking for any possible errors, before \n9. Present findings and draw conclusions, which will include recommendations for each model based on time spent, accuracy, and various other metrics.\n\nThe target feature to be used is that the 'EndDate' column in the personal data set is 'No' (indicating that customer has terminated their relationship with Interconnect)",
      "metadata": {}
    },
    {
      "cell_type": "markdown",
      "source": "### Key Metrics\n\nThe principal metric for all models will be the AUC-ROC score, which determines model accuracy. The scoring mechanism for each model will be as follows:\n\n* <span style=\"color:#569158\">**Excellent: 0.90 to 1.00**</span>\n* <span style=\"color:#8fc466\">**Good: 0.85 to 0.90**</span>\n* <span style=\"color:#e0d253\">**Passable: 0.75 to 0.85**</span>\n* <span style=\"color:#e09353\">**Fair: 0.60 to 0.75**</span>\n* <span style=\"color:#e05853\">**Poor: below 0.60**</span>\n\nPassable models will take into account only models with a AUC-ROC score in either the Good to Excellent range (above 0.85), with the highest AUC-ROC score to be recommended as THE model that Interconnect should use.",
      "metadata": {}
    }
  ]
}