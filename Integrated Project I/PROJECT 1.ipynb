{
  "metadata": {
    "kernelspec": {
      "name": "python",
      "display_name": "Python (Pyodide)",
      "language": "python"
    },
    "language_info": {
      "codemirror_mode": {
        "name": "python",
        "version": 3
      },
      "file_extension": ".py",
      "mimetype": "text/x-python",
      "name": "python",
      "nbconvert_exporter": "python",
      "pygments_lexer": "ipython3",
      "version": "3.8"
    },
    "ExecuteTimeLog": [
      {
        "duration": 155,
        "start_time": "2024-09-10T16:56:47.392Z"
      },
      {
        "duration": 327,
        "start_time": "2024-09-10T16:56:58.077Z"
      },
      {
        "duration": 13,
        "start_time": "2024-09-10T16:56:58.406Z"
      },
      {
        "duration": 11,
        "start_time": "2024-09-10T16:56:58.423Z"
      },
      {
        "duration": 8,
        "start_time": "2024-09-10T16:56:58.436Z"
      },
      {
        "duration": 315,
        "start_time": "2024-09-10T17:54:00.155Z"
      },
      {
        "duration": 12,
        "start_time": "2024-09-10T17:54:00.472Z"
      },
      {
        "duration": 22,
        "start_time": "2024-09-10T17:54:00.485Z"
      },
      {
        "duration": 11,
        "start_time": "2024-09-10T17:54:00.509Z"
      },
      {
        "duration": 306,
        "start_time": "2024-09-10T17:56:17.992Z"
      },
      {
        "duration": 15,
        "start_time": "2024-09-10T17:56:18.301Z"
      },
      {
        "duration": 8,
        "start_time": "2024-09-10T17:56:18.318Z"
      },
      {
        "duration": 10,
        "start_time": "2024-09-10T17:56:18.327Z"
      },
      {
        "duration": 336,
        "start_time": "2024-09-10T18:12:52.408Z"
      },
      {
        "duration": 12,
        "start_time": "2024-09-10T18:12:52.746Z"
      },
      {
        "duration": 8,
        "start_time": "2024-09-10T18:12:52.760Z"
      },
      {
        "duration": 10,
        "start_time": "2024-09-10T18:12:52.769Z"
      },
      {
        "duration": 336,
        "start_time": "2024-09-10T18:13:04.336Z"
      },
      {
        "duration": 13,
        "start_time": "2024-09-10T18:13:04.674Z"
      },
      {
        "duration": 18,
        "start_time": "2024-09-10T18:13:04.688Z"
      },
      {
        "duration": 16,
        "start_time": "2024-09-10T18:13:04.708Z"
      },
      {
        "duration": 298,
        "start_time": "2024-09-10T18:16:55.191Z"
      },
      {
        "duration": 740,
        "start_time": "2024-09-10T18:16:55.491Z"
      },
      {
        "duration": 0,
        "start_time": "2024-09-10T18:16:56.233Z"
      },
      {
        "duration": 0,
        "start_time": "2024-09-10T18:16:56.234Z"
      },
      {
        "duration": 312,
        "start_time": "2024-09-10T18:17:34.872Z"
      },
      {
        "duration": 13,
        "start_time": "2024-09-10T18:17:35.186Z"
      },
      {
        "duration": 11,
        "start_time": "2024-09-10T18:17:35.206Z"
      },
      {
        "duration": 11,
        "start_time": "2024-09-10T18:17:35.219Z"
      },
      {
        "duration": 310,
        "start_time": "2024-09-10T18:18:03.501Z"
      },
      {
        "duration": 750,
        "start_time": "2024-09-10T18:18:03.813Z"
      },
      {
        "duration": 0,
        "start_time": "2024-09-10T18:18:04.564Z"
      },
      {
        "duration": 0,
        "start_time": "2024-09-10T18:18:04.565Z"
      },
      {
        "duration": 355,
        "start_time": "2024-09-11T18:38:30.233Z"
      },
      {
        "duration": 16,
        "start_time": "2024-09-11T18:38:30.590Z"
      },
      {
        "duration": 8,
        "start_time": "2024-09-11T18:38:30.608Z"
      },
      {
        "duration": 9,
        "start_time": "2024-09-11T18:38:30.618Z"
      },
      {
        "duration": 295,
        "start_time": "2024-09-11T18:41:27.103Z"
      },
      {
        "duration": 202,
        "start_time": "2024-09-11T18:41:27.400Z"
      },
      {
        "duration": 0,
        "start_time": "2024-09-11T18:41:27.604Z"
      },
      {
        "duration": 0,
        "start_time": "2024-09-11T18:41:27.605Z"
      },
      {
        "duration": 319,
        "start_time": "2024-09-11T18:41:40.977Z"
      },
      {
        "duration": 17,
        "start_time": "2024-09-11T18:41:41.298Z"
      },
      {
        "duration": 12,
        "start_time": "2024-09-11T18:41:41.316Z"
      },
      {
        "duration": 10,
        "start_time": "2024-09-11T18:41:41.329Z"
      },
      {
        "duration": 4,
        "start_time": "2024-09-11T18:45:31.446Z"
      },
      {
        "duration": 3,
        "start_time": "2024-09-11T18:45:54.824Z"
      },
      {
        "duration": 6,
        "start_time": "2024-09-11T18:46:01.596Z"
      },
      {
        "duration": 2172,
        "start_time": "2024-09-11T18:59:35.718Z"
      },
      {
        "duration": 18,
        "start_time": "2024-09-11T18:59:37.892Z"
      },
      {
        "duration": 18,
        "start_time": "2024-09-11T18:59:37.913Z"
      },
      {
        "duration": 10,
        "start_time": "2024-09-11T18:59:37.934Z"
      },
      {
        "duration": 269,
        "start_time": "2024-09-11T18:59:37.945Z"
      },
      {
        "duration": 271,
        "start_time": "2024-09-11T18:59:38.216Z"
      },
      {
        "duration": 811,
        "start_time": "2024-09-11T19:01:29.943Z"
      },
      {
        "duration": 19,
        "start_time": "2024-09-11T19:01:30.756Z"
      },
      {
        "duration": 7,
        "start_time": "2024-09-11T19:01:30.777Z"
      },
      {
        "duration": 8,
        "start_time": "2024-09-11T19:01:30.786Z"
      },
      {
        "duration": 272,
        "start_time": "2024-09-11T19:01:30.796Z"
      },
      {
        "duration": 496,
        "start_time": "2024-09-11T19:01:31.070Z"
      },
      {
        "duration": 841,
        "start_time": "2024-09-11T19:02:34.752Z"
      },
      {
        "duration": 18,
        "start_time": "2024-09-11T19:02:35.595Z"
      },
      {
        "duration": 15,
        "start_time": "2024-09-11T19:02:35.614Z"
      },
      {
        "duration": 10,
        "start_time": "2024-09-11T19:02:35.631Z"
      },
      {
        "duration": 263,
        "start_time": "2024-09-11T19:02:35.643Z"
      },
      {
        "duration": 501,
        "start_time": "2024-09-11T19:02:35.908Z"
      },
      {
        "duration": 791,
        "start_time": "2024-09-11T19:03:39.181Z"
      },
      {
        "duration": 17,
        "start_time": "2024-09-11T19:03:39.974Z"
      },
      {
        "duration": 6,
        "start_time": "2024-09-11T19:03:39.993Z"
      },
      {
        "duration": 30,
        "start_time": "2024-09-11T19:03:40.001Z"
      },
      {
        "duration": 256,
        "start_time": "2024-09-11T19:03:40.033Z"
      },
      {
        "duration": 471,
        "start_time": "2024-09-11T19:03:40.291Z"
      },
      {
        "duration": 828,
        "start_time": "2024-09-11T19:05:49.961Z"
      },
      {
        "duration": 18,
        "start_time": "2024-09-11T19:05:50.791Z"
      },
      {
        "duration": 16,
        "start_time": "2024-09-11T19:05:50.811Z"
      },
      {
        "duration": 8,
        "start_time": "2024-09-11T19:05:50.829Z"
      },
      {
        "duration": 261,
        "start_time": "2024-09-11T19:05:50.839Z"
      },
      {
        "duration": 475,
        "start_time": "2024-09-11T19:05:51.102Z"
      },
      {
        "duration": 830,
        "start_time": "2024-09-11T19:22:20.168Z"
      },
      {
        "duration": 19,
        "start_time": "2024-09-11T19:22:21.000Z"
      },
      {
        "duration": 7,
        "start_time": "2024-09-11T19:22:21.024Z"
      },
      {
        "duration": 9,
        "start_time": "2024-09-11T19:22:21.032Z"
      },
      {
        "duration": 274,
        "start_time": "2024-09-11T19:22:21.043Z"
      },
      {
        "duration": 522,
        "start_time": "2024-09-11T19:22:21.323Z"
      },
      {
        "duration": 748,
        "start_time": "2024-09-11T19:24:11.299Z"
      },
      {
        "duration": 17,
        "start_time": "2024-09-11T19:24:12.049Z"
      },
      {
        "duration": 7,
        "start_time": "2024-09-11T19:24:12.068Z"
      },
      {
        "duration": 9,
        "start_time": "2024-09-11T19:24:12.077Z"
      },
      {
        "duration": 288,
        "start_time": "2024-09-11T19:24:12.087Z"
      },
      {
        "duration": 526,
        "start_time": "2024-09-11T19:24:12.376Z"
      },
      {
        "duration": 791,
        "start_time": "2024-09-11T19:32:34.367Z"
      },
      {
        "duration": 17,
        "start_time": "2024-09-11T19:32:35.160Z"
      },
      {
        "duration": 7,
        "start_time": "2024-09-11T19:32:35.179Z"
      },
      {
        "duration": 8,
        "start_time": "2024-09-11T19:32:35.187Z"
      },
      {
        "duration": 270,
        "start_time": "2024-09-11T19:32:35.198Z"
      },
      {
        "duration": 526,
        "start_time": "2024-09-11T19:32:35.469Z"
      },
      {
        "duration": 828,
        "start_time": "2024-09-11T19:32:53.245Z"
      },
      {
        "duration": 285,
        "start_time": "2024-09-11T19:32:54.075Z"
      },
      {
        "duration": 0,
        "start_time": "2024-09-11T19:32:54.362Z"
      },
      {
        "duration": 0,
        "start_time": "2024-09-11T19:32:54.364Z"
      },
      {
        "duration": 0,
        "start_time": "2024-09-11T19:32:54.365Z"
      },
      {
        "duration": 0,
        "start_time": "2024-09-11T19:32:54.366Z"
      },
      {
        "duration": 806,
        "start_time": "2024-09-11T19:33:08.246Z"
      },
      {
        "duration": 778,
        "start_time": "2024-09-11T19:33:09.054Z"
      },
      {
        "duration": 0,
        "start_time": "2024-09-11T19:33:09.834Z"
      },
      {
        "duration": 0,
        "start_time": "2024-09-11T19:33:09.835Z"
      },
      {
        "duration": 0,
        "start_time": "2024-09-11T19:33:09.836Z"
      },
      {
        "duration": 0,
        "start_time": "2024-09-11T19:33:09.837Z"
      },
      {
        "duration": 766,
        "start_time": "2024-09-11T19:33:29.073Z"
      },
      {
        "duration": 17,
        "start_time": "2024-09-11T19:33:29.841Z"
      },
      {
        "duration": 6,
        "start_time": "2024-09-11T19:33:29.860Z"
      },
      {
        "duration": 9,
        "start_time": "2024-09-11T19:33:29.868Z"
      },
      {
        "duration": 282,
        "start_time": "2024-09-11T19:33:29.878Z"
      },
      {
        "duration": 563,
        "start_time": "2024-09-11T19:33:30.162Z"
      },
      {
        "duration": 796,
        "start_time": "2024-09-11T19:38:14.874Z"
      },
      {
        "duration": 17,
        "start_time": "2024-09-11T19:38:15.672Z"
      },
      {
        "duration": 8,
        "start_time": "2024-09-11T19:38:15.690Z"
      },
      {
        "duration": 26,
        "start_time": "2024-09-11T19:38:15.699Z"
      },
      {
        "duration": 275,
        "start_time": "2024-09-11T19:38:15.726Z"
      },
      {
        "duration": 566,
        "start_time": "2024-09-11T19:38:16.002Z"
      },
      {
        "duration": 257,
        "start_time": "2024-09-11T19:38:16.570Z"
      },
      {
        "duration": 808,
        "start_time": "2024-09-11T19:38:26.215Z"
      },
      {
        "duration": 17,
        "start_time": "2024-09-11T19:38:27.025Z"
      },
      {
        "duration": 8,
        "start_time": "2024-09-11T19:38:27.043Z"
      },
      {
        "duration": 9,
        "start_time": "2024-09-11T19:38:27.052Z"
      },
      {
        "duration": 273,
        "start_time": "2024-09-11T19:38:27.063Z"
      },
      {
        "duration": 615,
        "start_time": "2024-09-11T19:38:27.338Z"
      },
      {
        "duration": 4,
        "start_time": "2024-09-11T19:38:27.955Z"
      },
      {
        "duration": 777,
        "start_time": "2024-09-11T19:39:38.493Z"
      },
      {
        "duration": 17,
        "start_time": "2024-09-11T19:39:39.271Z"
      },
      {
        "duration": 7,
        "start_time": "2024-09-11T19:39:39.290Z"
      },
      {
        "duration": 27,
        "start_time": "2024-09-11T19:39:39.298Z"
      },
      {
        "duration": 263,
        "start_time": "2024-09-11T19:39:39.327Z"
      },
      {
        "duration": 577,
        "start_time": "2024-09-11T19:39:39.592Z"
      },
      {
        "duration": 6,
        "start_time": "2024-09-11T19:39:40.170Z"
      },
      {
        "duration": 5,
        "start_time": "2024-09-11T19:39:40.177Z"
      },
      {
        "duration": 798,
        "start_time": "2024-09-11T19:48:18.031Z"
      },
      {
        "duration": 16,
        "start_time": "2024-09-11T19:48:18.831Z"
      },
      {
        "duration": 7,
        "start_time": "2024-09-11T19:48:18.848Z"
      },
      {
        "duration": 9,
        "start_time": "2024-09-11T19:48:18.857Z"
      },
      {
        "duration": 278,
        "start_time": "2024-09-11T19:48:18.868Z"
      },
      {
        "duration": 553,
        "start_time": "2024-09-11T19:48:19.148Z"
      },
      {
        "duration": 3,
        "start_time": "2024-09-11T19:48:19.703Z"
      },
      {
        "duration": 5,
        "start_time": "2024-09-11T19:48:19.708Z"
      },
      {
        "duration": 287,
        "start_time": "2024-09-11T19:48:19.715Z"
      },
      {
        "duration": 857,
        "start_time": "2024-09-11T19:49:33.509Z"
      },
      {
        "duration": 16,
        "start_time": "2024-09-11T19:49:34.368Z"
      },
      {
        "duration": 7,
        "start_time": "2024-09-11T19:49:34.385Z"
      },
      {
        "duration": 9,
        "start_time": "2024-09-11T19:49:34.394Z"
      },
      {
        "duration": 277,
        "start_time": "2024-09-11T19:49:34.406Z"
      },
      {
        "duration": 580,
        "start_time": "2024-09-11T19:49:34.685Z"
      },
      {
        "duration": 7,
        "start_time": "2024-09-11T19:49:35.267Z"
      },
      {
        "duration": 8,
        "start_time": "2024-09-11T19:49:35.277Z"
      },
      {
        "duration": 294,
        "start_time": "2024-09-11T19:49:35.288Z"
      },
      {
        "duration": 145,
        "start_time": "2024-09-11T19:49:35.584Z"
      },
      {
        "duration": 810,
        "start_time": "2024-09-11T20:25:44.932Z"
      },
      {
        "duration": 18,
        "start_time": "2024-09-11T20:25:45.744Z"
      },
      {
        "duration": 6,
        "start_time": "2024-09-11T20:25:45.764Z"
      },
      {
        "duration": 8,
        "start_time": "2024-09-11T20:25:45.772Z"
      },
      {
        "duration": 275,
        "start_time": "2024-09-11T20:25:45.783Z"
      },
      {
        "duration": 557,
        "start_time": "2024-09-11T20:25:46.060Z"
      },
      {
        "duration": 5,
        "start_time": "2024-09-11T20:25:46.619Z"
      },
      {
        "duration": 5,
        "start_time": "2024-09-11T20:25:46.625Z"
      },
      {
        "duration": 312,
        "start_time": "2024-09-11T20:25:46.632Z"
      },
      {
        "duration": 135,
        "start_time": "2024-09-11T20:25:46.947Z"
      },
      {
        "duration": 5,
        "start_time": "2024-09-11T20:25:47.084Z"
      },
      {
        "duration": 829,
        "start_time": "2024-09-11T20:50:32.342Z"
      },
      {
        "duration": 18,
        "start_time": "2024-09-11T20:50:33.173Z"
      },
      {
        "duration": 7,
        "start_time": "2024-09-11T20:50:33.192Z"
      },
      {
        "duration": 24,
        "start_time": "2024-09-11T20:50:33.201Z"
      },
      {
        "duration": 262,
        "start_time": "2024-09-11T20:50:33.227Z"
      },
      {
        "duration": 562,
        "start_time": "2024-09-11T20:50:33.490Z"
      },
      {
        "duration": 5,
        "start_time": "2024-09-11T20:50:34.054Z"
      },
      {
        "duration": 4,
        "start_time": "2024-09-11T20:50:34.062Z"
      },
      {
        "duration": 284,
        "start_time": "2024-09-11T20:50:34.068Z"
      },
      {
        "duration": 136,
        "start_time": "2024-09-11T20:50:34.356Z"
      },
      {
        "duration": 7,
        "start_time": "2024-09-11T20:50:34.494Z"
      },
      {
        "duration": 815,
        "start_time": "2024-09-11T20:52:19.113Z"
      },
      {
        "duration": 17,
        "start_time": "2024-09-11T20:52:19.930Z"
      },
      {
        "duration": 7,
        "start_time": "2024-09-11T20:52:19.948Z"
      },
      {
        "duration": 9,
        "start_time": "2024-09-11T20:52:19.958Z"
      },
      {
        "duration": 276,
        "start_time": "2024-09-11T20:52:19.968Z"
      },
      {
        "duration": 565,
        "start_time": "2024-09-11T20:52:20.247Z"
      },
      {
        "duration": 5,
        "start_time": "2024-09-11T20:52:20.814Z"
      },
      {
        "duration": 6,
        "start_time": "2024-09-11T20:52:20.821Z"
      },
      {
        "duration": 288,
        "start_time": "2024-09-11T20:52:20.828Z"
      },
      {
        "duration": 138,
        "start_time": "2024-09-11T20:52:21.124Z"
      },
      {
        "duration": 5,
        "start_time": "2024-09-11T20:52:21.263Z"
      },
      {
        "duration": 836,
        "start_time": "2024-09-11T20:58:46.979Z"
      },
      {
        "duration": 22,
        "start_time": "2024-09-11T20:58:47.818Z"
      },
      {
        "duration": 7,
        "start_time": "2024-09-11T20:58:47.841Z"
      },
      {
        "duration": 8,
        "start_time": "2024-09-11T20:58:47.850Z"
      },
      {
        "duration": 284,
        "start_time": "2024-09-11T20:58:47.861Z"
      },
      {
        "duration": 232,
        "start_time": "2024-09-11T20:58:48.147Z"
      },
      {
        "duration": 338,
        "start_time": "2024-09-11T20:58:48.382Z"
      },
      {
        "duration": 5,
        "start_time": "2024-09-11T20:58:48.722Z"
      },
      {
        "duration": 6,
        "start_time": "2024-09-11T20:58:48.728Z"
      },
      {
        "duration": 307,
        "start_time": "2024-09-11T20:58:48.735Z"
      },
      {
        "duration": 135,
        "start_time": "2024-09-11T20:58:49.044Z"
      },
      {
        "duration": 5,
        "start_time": "2024-09-11T20:58:49.181Z"
      },
      {
        "duration": 796,
        "start_time": "2024-09-11T20:59:06.232Z"
      },
      {
        "duration": 17,
        "start_time": "2024-09-11T20:59:07.030Z"
      },
      {
        "duration": 7,
        "start_time": "2024-09-11T20:59:07.049Z"
      },
      {
        "duration": 9,
        "start_time": "2024-09-11T20:59:07.059Z"
      },
      {
        "duration": 280,
        "start_time": "2024-09-11T20:59:07.069Z"
      },
      {
        "duration": 258,
        "start_time": "2024-09-11T20:59:07.351Z"
      },
      {
        "duration": 357,
        "start_time": "2024-09-11T20:59:07.612Z"
      },
      {
        "duration": 4,
        "start_time": "2024-09-11T20:59:07.970Z"
      },
      {
        "duration": 5,
        "start_time": "2024-09-11T20:59:07.975Z"
      },
      {
        "duration": 307,
        "start_time": "2024-09-11T20:59:07.983Z"
      },
      {
        "duration": 135,
        "start_time": "2024-09-11T20:59:08.292Z"
      },
      {
        "duration": 9,
        "start_time": "2024-09-11T20:59:08.428Z"
      },
      {
        "duration": 811,
        "start_time": "2024-09-11T21:08:10.615Z"
      },
      {
        "duration": 17,
        "start_time": "2024-09-11T21:08:11.428Z"
      },
      {
        "duration": 7,
        "start_time": "2024-09-11T21:08:11.446Z"
      },
      {
        "duration": 9,
        "start_time": "2024-09-11T21:08:11.455Z"
      },
      {
        "duration": 282,
        "start_time": "2024-09-11T21:08:11.466Z"
      },
      {
        "duration": 235,
        "start_time": "2024-09-11T21:08:11.750Z"
      },
      {
        "duration": 366,
        "start_time": "2024-09-11T21:08:11.986Z"
      },
      {
        "duration": 5,
        "start_time": "2024-09-11T21:08:12.354Z"
      },
      {
        "duration": 6,
        "start_time": "2024-09-11T21:08:12.360Z"
      },
      {
        "duration": 288,
        "start_time": "2024-09-11T21:08:12.368Z"
      },
      {
        "duration": 129,
        "start_time": "2024-09-11T21:08:12.657Z"
      },
      {
        "duration": 5,
        "start_time": "2024-09-11T21:08:12.788Z"
      },
      {
        "duration": 8,
        "start_time": "2024-09-11T21:08:12.795Z"
      },
      {
        "duration": 20,
        "start_time": "2024-09-11T21:08:12.806Z"
      },
      {
        "duration": 806,
        "start_time": "2024-09-11T21:14:44.015Z"
      },
      {
        "duration": 18,
        "start_time": "2024-09-11T21:14:44.823Z"
      },
      {
        "duration": 8,
        "start_time": "2024-09-11T21:14:44.844Z"
      },
      {
        "duration": 9,
        "start_time": "2024-09-11T21:14:44.854Z"
      },
      {
        "duration": 287,
        "start_time": "2024-09-11T21:14:44.866Z"
      },
      {
        "duration": 223,
        "start_time": "2024-09-11T21:14:45.154Z"
      },
      {
        "duration": 338,
        "start_time": "2024-09-11T21:14:45.379Z"
      },
      {
        "duration": 5,
        "start_time": "2024-09-11T21:14:45.718Z"
      },
      {
        "duration": 6,
        "start_time": "2024-09-11T21:14:45.724Z"
      },
      {
        "duration": 316,
        "start_time": "2024-09-11T21:14:45.731Z"
      },
      {
        "duration": 135,
        "start_time": "2024-09-11T21:14:46.048Z"
      },
      {
        "duration": 5,
        "start_time": "2024-09-11T21:14:46.185Z"
      },
      {
        "duration": 12,
        "start_time": "2024-09-11T21:14:46.192Z"
      },
      {
        "duration": 4,
        "start_time": "2024-09-11T21:14:46.224Z"
      },
      {
        "duration": 4,
        "start_time": "2024-09-11T21:14:46.230Z"
      },
      {
        "duration": 784,
        "start_time": "2024-09-11T21:31:27.008Z"
      },
      {
        "duration": 17,
        "start_time": "2024-09-11T21:31:27.794Z"
      },
      {
        "duration": 17,
        "start_time": "2024-09-11T21:31:27.813Z"
      },
      {
        "duration": 9,
        "start_time": "2024-09-11T21:31:27.833Z"
      },
      {
        "duration": 280,
        "start_time": "2024-09-11T21:31:27.844Z"
      },
      {
        "duration": 230,
        "start_time": "2024-09-11T21:31:28.126Z"
      },
      {
        "duration": 357,
        "start_time": "2024-09-11T21:31:28.359Z"
      },
      {
        "duration": 5,
        "start_time": "2024-09-11T21:31:28.718Z"
      },
      {
        "duration": 5,
        "start_time": "2024-09-11T21:31:28.724Z"
      },
      {
        "duration": 293,
        "start_time": "2024-09-11T21:31:28.732Z"
      },
      {
        "duration": 139,
        "start_time": "2024-09-11T21:31:29.027Z"
      },
      {
        "duration": 5,
        "start_time": "2024-09-11T21:31:29.168Z"
      },
      {
        "duration": 12,
        "start_time": "2024-09-11T21:31:29.175Z"
      },
      {
        "duration": 4,
        "start_time": "2024-09-11T21:31:29.188Z"
      },
      {
        "duration": 5,
        "start_time": "2024-09-11T21:31:29.194Z"
      },
      {
        "duration": 842,
        "start_time": "2024-09-11T21:31:46.865Z"
      },
      {
        "duration": 22,
        "start_time": "2024-09-11T21:31:47.709Z"
      },
      {
        "duration": 8,
        "start_time": "2024-09-11T21:31:47.732Z"
      },
      {
        "duration": 9,
        "start_time": "2024-09-11T21:31:47.742Z"
      },
      {
        "duration": 277,
        "start_time": "2024-09-11T21:31:47.753Z"
      },
      {
        "duration": 228,
        "start_time": "2024-09-11T21:31:48.032Z"
      },
      {
        "duration": 339,
        "start_time": "2024-09-11T21:31:48.262Z"
      },
      {
        "duration": 4,
        "start_time": "2024-09-11T21:31:48.603Z"
      },
      {
        "duration": 6,
        "start_time": "2024-09-11T21:31:48.608Z"
      },
      {
        "duration": 296,
        "start_time": "2024-09-11T21:31:48.616Z"
      },
      {
        "duration": 141,
        "start_time": "2024-09-11T21:31:48.914Z"
      },
      {
        "duration": 5,
        "start_time": "2024-09-11T21:31:49.057Z"
      },
      {
        "duration": 12,
        "start_time": "2024-09-11T21:31:49.064Z"
      },
      {
        "duration": 4,
        "start_time": "2024-09-11T21:31:49.078Z"
      },
      {
        "duration": 6,
        "start_time": "2024-09-11T21:31:49.084Z"
      },
      {
        "duration": 2483,
        "start_time": "2024-09-13T12:46:22.108Z"
      },
      {
        "duration": 19,
        "start_time": "2024-09-13T12:46:24.593Z"
      },
      {
        "duration": 8,
        "start_time": "2024-09-13T12:46:24.613Z"
      },
      {
        "duration": 9,
        "start_time": "2024-09-13T12:46:24.623Z"
      },
      {
        "duration": 259,
        "start_time": "2024-09-13T12:46:24.633Z"
      },
      {
        "duration": 230,
        "start_time": "2024-09-13T12:46:24.894Z"
      },
      {
        "duration": 300,
        "start_time": "2024-09-13T12:46:25.125Z"
      },
      {
        "duration": 5,
        "start_time": "2024-09-13T12:46:25.426Z"
      },
      {
        "duration": 7,
        "start_time": "2024-09-13T12:46:25.432Z"
      },
      {
        "duration": 347,
        "start_time": "2024-09-13T12:46:25.442Z"
      },
      {
        "duration": 134,
        "start_time": "2024-09-13T12:46:25.790Z"
      },
      {
        "duration": 5,
        "start_time": "2024-09-13T12:46:25.926Z"
      },
      {
        "duration": 12,
        "start_time": "2024-09-13T12:46:25.932Z"
      },
      {
        "duration": 4,
        "start_time": "2024-09-13T12:46:25.947Z"
      },
      {
        "duration": 4,
        "start_time": "2024-09-13T12:46:25.953Z"
      },
      {
        "duration": 206,
        "start_time": "2024-09-13T12:46:25.958Z"
      },
      {
        "duration": 807,
        "start_time": "2024-09-13T13:04:02.709Z"
      },
      {
        "duration": 17,
        "start_time": "2024-09-13T13:04:03.518Z"
      },
      {
        "duration": 7,
        "start_time": "2024-09-13T13:04:03.537Z"
      },
      {
        "duration": 9,
        "start_time": "2024-09-13T13:04:03.546Z"
      },
      {
        "duration": 277,
        "start_time": "2024-09-13T13:04:03.557Z"
      },
      {
        "duration": 230,
        "start_time": "2024-09-13T13:04:03.836Z"
      },
      {
        "duration": 346,
        "start_time": "2024-09-13T13:04:04.067Z"
      },
      {
        "duration": 5,
        "start_time": "2024-09-13T13:04:04.414Z"
      },
      {
        "duration": 6,
        "start_time": "2024-09-13T13:04:04.420Z"
      },
      {
        "duration": 296,
        "start_time": "2024-09-13T13:04:04.429Z"
      },
      {
        "duration": 137,
        "start_time": "2024-09-13T13:04:04.727Z"
      },
      {
        "duration": 6,
        "start_time": "2024-09-13T13:04:04.866Z"
      },
      {
        "duration": 14,
        "start_time": "2024-09-13T13:04:04.873Z"
      },
      {
        "duration": 5,
        "start_time": "2024-09-13T13:04:04.888Z"
      },
      {
        "duration": 5,
        "start_time": "2024-09-13T13:04:04.894Z"
      },
      {
        "duration": 179,
        "start_time": "2024-09-13T13:04:04.923Z"
      },
      {
        "duration": 7,
        "start_time": "2024-09-13T13:04:05.104Z"
      },
      {
        "duration": 16,
        "start_time": "2024-09-13T13:04:05.113Z"
      },
      {
        "duration": 821,
        "start_time": "2024-09-13T13:04:23.477Z"
      },
      {
        "duration": 17,
        "start_time": "2024-09-13T13:04:24.300Z"
      },
      {
        "duration": 8,
        "start_time": "2024-09-13T13:04:24.320Z"
      },
      {
        "duration": 9,
        "start_time": "2024-09-13T13:04:24.331Z"
      },
      {
        "duration": 272,
        "start_time": "2024-09-13T13:04:24.343Z"
      },
      {
        "duration": 227,
        "start_time": "2024-09-13T13:04:24.616Z"
      },
      {
        "duration": 348,
        "start_time": "2024-09-13T13:04:24.845Z"
      },
      {
        "duration": 5,
        "start_time": "2024-09-13T13:04:25.195Z"
      },
      {
        "duration": 10,
        "start_time": "2024-09-13T13:04:25.201Z"
      },
      {
        "duration": 298,
        "start_time": "2024-09-13T13:04:25.212Z"
      },
      {
        "duration": 133,
        "start_time": "2024-09-13T13:04:25.512Z"
      },
      {
        "duration": 5,
        "start_time": "2024-09-13T13:04:25.647Z"
      },
      {
        "duration": 13,
        "start_time": "2024-09-13T13:04:25.653Z"
      },
      {
        "duration": 4,
        "start_time": "2024-09-13T13:04:25.669Z"
      },
      {
        "duration": 4,
        "start_time": "2024-09-13T13:04:25.675Z"
      },
      {
        "duration": 206,
        "start_time": "2024-09-13T13:04:25.681Z"
      },
      {
        "duration": 8,
        "start_time": "2024-09-13T13:04:25.889Z"
      },
      {
        "duration": 25,
        "start_time": "2024-09-13T13:04:25.899Z"
      },
      {
        "duration": 817,
        "start_time": "2024-09-13T13:04:32.526Z"
      },
      {
        "duration": 18,
        "start_time": "2024-09-13T13:04:33.345Z"
      },
      {
        "duration": 6,
        "start_time": "2024-09-13T13:04:33.364Z"
      },
      {
        "duration": 9,
        "start_time": "2024-09-13T13:04:33.372Z"
      },
      {
        "duration": 277,
        "start_time": "2024-09-13T13:04:33.383Z"
      },
      {
        "duration": 236,
        "start_time": "2024-09-13T13:04:33.661Z"
      },
      {
        "duration": 342,
        "start_time": "2024-09-13T13:04:33.900Z"
      },
      {
        "duration": 4,
        "start_time": "2024-09-13T13:04:34.243Z"
      },
      {
        "duration": 6,
        "start_time": "2024-09-13T13:04:34.249Z"
      },
      {
        "duration": 284,
        "start_time": "2024-09-13T13:04:34.258Z"
      },
      {
        "duration": 135,
        "start_time": "2024-09-13T13:04:34.544Z"
      },
      {
        "duration": 5,
        "start_time": "2024-09-13T13:04:34.681Z"
      },
      {
        "duration": 12,
        "start_time": "2024-09-13T13:04:34.687Z"
      },
      {
        "duration": 4,
        "start_time": "2024-09-13T13:04:34.700Z"
      },
      {
        "duration": 4,
        "start_time": "2024-09-13T13:04:34.725Z"
      },
      {
        "duration": 180,
        "start_time": "2024-09-13T13:04:34.730Z"
      },
      {
        "duration": 15,
        "start_time": "2024-09-13T13:04:34.912Z"
      },
      {
        "duration": 8,
        "start_time": "2024-09-13T13:04:34.928Z"
      },
      {
        "duration": 847,
        "start_time": "2024-09-13T13:05:03.255Z"
      },
      {
        "duration": 21,
        "start_time": "2024-09-13T13:05:04.104Z"
      },
      {
        "duration": 6,
        "start_time": "2024-09-13T13:05:04.127Z"
      },
      {
        "duration": 8,
        "start_time": "2024-09-13T13:05:04.135Z"
      },
      {
        "duration": 273,
        "start_time": "2024-09-13T13:05:04.146Z"
      },
      {
        "duration": 225,
        "start_time": "2024-09-13T13:05:04.421Z"
      },
      {
        "duration": 345,
        "start_time": "2024-09-13T13:05:04.648Z"
      },
      {
        "duration": 4,
        "start_time": "2024-09-13T13:05:04.995Z"
      },
      {
        "duration": 5,
        "start_time": "2024-09-13T13:05:05.001Z"
      },
      {
        "duration": 298,
        "start_time": "2024-09-13T13:05:05.008Z"
      },
      {
        "duration": 137,
        "start_time": "2024-09-13T13:05:05.308Z"
      },
      {
        "duration": 6,
        "start_time": "2024-09-13T13:05:05.447Z"
      },
      {
        "duration": 13,
        "start_time": "2024-09-13T13:05:05.454Z"
      },
      {
        "duration": 4,
        "start_time": "2024-09-13T13:05:05.470Z"
      },
      {
        "duration": 5,
        "start_time": "2024-09-13T13:05:05.476Z"
      },
      {
        "duration": 207,
        "start_time": "2024-09-13T13:05:05.482Z"
      },
      {
        "duration": 8,
        "start_time": "2024-09-13T13:05:05.691Z"
      },
      {
        "duration": 24,
        "start_time": "2024-09-13T13:05:05.701Z"
      },
      {
        "duration": 831,
        "start_time": "2024-09-13T13:23:43.773Z"
      },
      {
        "duration": 17,
        "start_time": "2024-09-13T13:23:44.607Z"
      },
      {
        "duration": 6,
        "start_time": "2024-09-13T13:23:44.626Z"
      },
      {
        "duration": 9,
        "start_time": "2024-09-13T13:23:44.633Z"
      },
      {
        "duration": 274,
        "start_time": "2024-09-13T13:23:44.645Z"
      },
      {
        "duration": 219,
        "start_time": "2024-09-13T13:23:44.921Z"
      },
      {
        "duration": 350,
        "start_time": "2024-09-13T13:23:45.142Z"
      },
      {
        "duration": 4,
        "start_time": "2024-09-13T13:23:45.494Z"
      },
      {
        "duration": 5,
        "start_time": "2024-09-13T13:23:45.500Z"
      },
      {
        "duration": 292,
        "start_time": "2024-09-13T13:23:45.506Z"
      },
      {
        "duration": 138,
        "start_time": "2024-09-13T13:23:45.800Z"
      },
      {
        "duration": 5,
        "start_time": "2024-09-13T13:23:45.940Z"
      },
      {
        "duration": 12,
        "start_time": "2024-09-13T13:23:45.947Z"
      },
      {
        "duration": 4,
        "start_time": "2024-09-13T13:23:45.962Z"
      },
      {
        "duration": 5,
        "start_time": "2024-09-13T13:23:45.968Z"
      },
      {
        "duration": 199,
        "start_time": "2024-09-13T13:23:45.975Z"
      },
      {
        "duration": 8,
        "start_time": "2024-09-13T13:23:46.175Z"
      },
      {
        "duration": 8,
        "start_time": "2024-09-13T13:23:46.184Z"
      },
      {
        "duration": 864,
        "start_time": "2024-09-13T16:33:44.161Z"
      },
      {
        "duration": 18,
        "start_time": "2024-09-13T16:33:45.027Z"
      },
      {
        "duration": 8,
        "start_time": "2024-09-13T16:33:45.046Z"
      },
      {
        "duration": 9,
        "start_time": "2024-09-13T16:33:45.056Z"
      },
      {
        "duration": 281,
        "start_time": "2024-09-13T16:33:45.067Z"
      },
      {
        "duration": 222,
        "start_time": "2024-09-13T16:33:45.350Z"
      },
      {
        "duration": 350,
        "start_time": "2024-09-13T16:33:45.574Z"
      },
      {
        "duration": 5,
        "start_time": "2024-09-13T16:33:45.926Z"
      },
      {
        "duration": 6,
        "start_time": "2024-09-13T16:33:45.932Z"
      },
      {
        "duration": 311,
        "start_time": "2024-09-13T16:33:45.942Z"
      },
      {
        "duration": 133,
        "start_time": "2024-09-13T16:33:46.256Z"
      },
      {
        "duration": 5,
        "start_time": "2024-09-13T16:33:46.392Z"
      },
      {
        "duration": 26,
        "start_time": "2024-09-13T16:33:46.398Z"
      },
      {
        "duration": 4,
        "start_time": "2024-09-13T16:33:46.425Z"
      },
      {
        "duration": 5,
        "start_time": "2024-09-13T16:33:46.431Z"
      },
      {
        "duration": 191,
        "start_time": "2024-09-13T16:33:46.438Z"
      },
      {
        "duration": 8,
        "start_time": "2024-09-13T16:33:46.631Z"
      },
      {
        "duration": 9,
        "start_time": "2024-09-13T16:33:46.641Z"
      },
      {
        "duration": 2668,
        "start_time": "2024-09-18T19:18:06.506Z"
      },
      {
        "duration": 18,
        "start_time": "2024-09-18T19:18:09.177Z"
      },
      {
        "duration": 7,
        "start_time": "2024-09-18T19:18:09.197Z"
      },
      {
        "duration": 10,
        "start_time": "2024-09-18T19:18:09.205Z"
      },
      {
        "duration": 280,
        "start_time": "2024-09-18T19:18:09.218Z"
      },
      {
        "duration": 230,
        "start_time": "2024-09-18T19:18:09.500Z"
      },
      {
        "duration": 303,
        "start_time": "2024-09-18T19:18:09.732Z"
      },
      {
        "duration": 5,
        "start_time": "2024-09-18T19:18:10.037Z"
      },
      {
        "duration": 5,
        "start_time": "2024-09-18T19:18:10.044Z"
      },
      {
        "duration": 5,
        "start_time": "2024-09-18T19:18:10.051Z"
      },
      {
        "duration": 0,
        "start_time": "2024-09-18T19:18:10.059Z"
      },
      {
        "duration": 0,
        "start_time": "2024-09-18T19:18:10.060Z"
      },
      {
        "duration": 0,
        "start_time": "2024-09-18T19:18:10.062Z"
      },
      {
        "duration": 0,
        "start_time": "2024-09-18T19:18:10.063Z"
      },
      {
        "duration": 0,
        "start_time": "2024-09-18T19:18:10.064Z"
      },
      {
        "duration": 0,
        "start_time": "2024-09-18T19:18:10.065Z"
      },
      {
        "duration": 0,
        "start_time": "2024-09-18T19:18:10.066Z"
      },
      {
        "duration": 0,
        "start_time": "2024-09-18T19:18:10.067Z"
      },
      {
        "duration": 903,
        "start_time": "2024-09-18T19:19:02.311Z"
      },
      {
        "duration": 23,
        "start_time": "2024-09-18T19:19:03.216Z"
      },
      {
        "duration": 8,
        "start_time": "2024-09-18T19:19:03.241Z"
      },
      {
        "duration": 11,
        "start_time": "2024-09-18T19:19:03.251Z"
      },
      {
        "duration": 299,
        "start_time": "2024-09-18T19:19:03.264Z"
      },
      {
        "duration": 234,
        "start_time": "2024-09-18T19:19:03.565Z"
      },
      {
        "duration": 366,
        "start_time": "2024-09-18T19:19:03.801Z"
      },
      {
        "duration": 4,
        "start_time": "2024-09-18T19:19:04.169Z"
      },
      {
        "duration": 7,
        "start_time": "2024-09-18T19:19:04.174Z"
      },
      {
        "duration": 328,
        "start_time": "2024-09-18T19:19:04.182Z"
      },
      {
        "duration": 139,
        "start_time": "2024-09-18T19:19:04.512Z"
      },
      {
        "duration": 6,
        "start_time": "2024-09-18T19:19:04.652Z"
      },
      {
        "duration": 27,
        "start_time": "2024-09-18T19:19:04.660Z"
      },
      {
        "duration": 5,
        "start_time": "2024-09-18T19:19:04.690Z"
      },
      {
        "duration": 4,
        "start_time": "2024-09-18T19:19:04.697Z"
      },
      {
        "duration": 192,
        "start_time": "2024-09-18T19:19:04.703Z"
      },
      {
        "duration": 9,
        "start_time": "2024-09-18T19:19:04.897Z"
      },
      {
        "duration": 8,
        "start_time": "2024-09-18T19:19:04.908Z"
      },
      {
        "duration": 849,
        "start_time": "2024-09-18T19:24:13.255Z"
      },
      {
        "duration": 19,
        "start_time": "2024-09-18T19:24:14.106Z"
      },
      {
        "duration": 7,
        "start_time": "2024-09-18T19:24:14.126Z"
      },
      {
        "duration": 14,
        "start_time": "2024-09-18T19:24:14.136Z"
      },
      {
        "duration": 291,
        "start_time": "2024-09-18T19:24:14.153Z"
      },
      {
        "duration": 236,
        "start_time": "2024-09-18T19:24:14.446Z"
      },
      {
        "duration": 357,
        "start_time": "2024-09-18T19:24:14.686Z"
      },
      {
        "duration": 5,
        "start_time": "2024-09-18T19:24:15.045Z"
      },
      {
        "duration": 5,
        "start_time": "2024-09-18T19:24:15.051Z"
      },
      {
        "duration": 221,
        "start_time": "2024-09-18T19:24:15.058Z"
      },
      {
        "duration": 137,
        "start_time": "2024-09-18T19:24:15.280Z"
      },
      {
        "duration": 5,
        "start_time": "2024-09-18T19:24:15.418Z"
      },
      {
        "duration": 12,
        "start_time": "2024-09-18T19:24:15.425Z"
      },
      {
        "duration": 4,
        "start_time": "2024-09-18T19:24:15.440Z"
      },
      {
        "duration": 5,
        "start_time": "2024-09-18T19:24:15.446Z"
      },
      {
        "duration": 212,
        "start_time": "2024-09-18T19:24:15.452Z"
      },
      {
        "duration": 8,
        "start_time": "2024-09-18T19:24:15.666Z"
      },
      {
        "duration": 16,
        "start_time": "2024-09-18T19:24:15.676Z"
      },
      {
        "duration": 852,
        "start_time": "2024-09-18T20:05:02.763Z"
      },
      {
        "duration": 18,
        "start_time": "2024-09-18T20:05:03.617Z"
      },
      {
        "duration": 7,
        "start_time": "2024-09-18T20:05:03.637Z"
      },
      {
        "duration": 296,
        "start_time": "2024-09-18T20:05:03.646Z"
      },
      {
        "duration": 0,
        "start_time": "2024-09-18T20:05:03.944Z"
      },
      {
        "duration": 0,
        "start_time": "2024-09-18T20:05:03.946Z"
      },
      {
        "duration": 0,
        "start_time": "2024-09-18T20:05:03.947Z"
      },
      {
        "duration": 0,
        "start_time": "2024-09-18T20:05:03.948Z"
      },
      {
        "duration": 0,
        "start_time": "2024-09-18T20:05:03.950Z"
      },
      {
        "duration": 0,
        "start_time": "2024-09-18T20:05:03.951Z"
      },
      {
        "duration": 0,
        "start_time": "2024-09-18T20:05:03.952Z"
      },
      {
        "duration": 0,
        "start_time": "2024-09-18T20:05:03.953Z"
      },
      {
        "duration": 0,
        "start_time": "2024-09-18T20:05:03.954Z"
      },
      {
        "duration": 0,
        "start_time": "2024-09-18T20:05:03.955Z"
      },
      {
        "duration": 0,
        "start_time": "2024-09-18T20:05:03.967Z"
      },
      {
        "duration": 0,
        "start_time": "2024-09-18T20:05:03.986Z"
      },
      {
        "duration": 0,
        "start_time": "2024-09-18T20:05:03.987Z"
      },
      {
        "duration": 0,
        "start_time": "2024-09-18T20:05:03.988Z"
      },
      {
        "duration": 0,
        "start_time": "2024-09-18T20:05:03.989Z"
      },
      {
        "duration": 838,
        "start_time": "2024-09-18T20:47:19.654Z"
      },
      {
        "duration": 18,
        "start_time": "2024-09-18T20:47:20.495Z"
      },
      {
        "duration": 8,
        "start_time": "2024-09-18T20:47:20.514Z"
      },
      {
        "duration": 10,
        "start_time": "2024-09-18T20:47:20.523Z"
      },
      {
        "duration": 16,
        "start_time": "2024-09-18T20:47:20.535Z"
      },
      {
        "duration": 293,
        "start_time": "2024-09-18T20:47:20.552Z"
      },
      {
        "duration": 231,
        "start_time": "2024-09-18T20:47:20.847Z"
      },
      {
        "duration": 355,
        "start_time": "2024-09-18T20:47:21.080Z"
      },
      {
        "duration": 4,
        "start_time": "2024-09-18T20:47:21.437Z"
      },
      {
        "duration": 5,
        "start_time": "2024-09-18T20:47:21.442Z"
      },
      {
        "duration": 214,
        "start_time": "2024-09-18T20:47:21.449Z"
      },
      {
        "duration": 135,
        "start_time": "2024-09-18T20:47:21.665Z"
      },
      {
        "duration": 6,
        "start_time": "2024-09-18T20:47:21.802Z"
      },
      {
        "duration": 12,
        "start_time": "2024-09-18T20:47:21.811Z"
      },
      {
        "duration": 4,
        "start_time": "2024-09-18T20:47:21.825Z"
      },
      {
        "duration": 5,
        "start_time": "2024-09-18T20:47:21.831Z"
      },
      {
        "duration": 209,
        "start_time": "2024-09-18T20:47:21.838Z"
      },
      {
        "duration": 8,
        "start_time": "2024-09-18T20:47:22.048Z"
      },
      {
        "duration": 9,
        "start_time": "2024-09-18T20:47:22.058Z"
      },
      {
        "duration": 895,
        "start_time": "2024-09-18T20:49:48.197Z"
      },
      {
        "duration": 23,
        "start_time": "2024-09-18T20:49:49.094Z"
      },
      {
        "duration": 7,
        "start_time": "2024-09-18T20:49:49.119Z"
      },
      {
        "duration": 12,
        "start_time": "2024-09-18T20:49:49.129Z"
      },
      {
        "duration": 14,
        "start_time": "2024-09-18T20:49:49.143Z"
      },
      {
        "duration": 291,
        "start_time": "2024-09-18T20:49:49.158Z"
      },
      {
        "duration": 229,
        "start_time": "2024-09-18T20:49:49.451Z"
      },
      {
        "duration": 357,
        "start_time": "2024-09-18T20:49:49.682Z"
      },
      {
        "duration": 4,
        "start_time": "2024-09-18T20:49:50.041Z"
      },
      {
        "duration": 5,
        "start_time": "2024-09-18T20:49:50.048Z"
      },
      {
        "duration": 241,
        "start_time": "2024-09-18T20:49:50.054Z"
      },
      {
        "duration": 131,
        "start_time": "2024-09-18T20:49:50.297Z"
      },
      {
        "duration": 5,
        "start_time": "2024-09-18T20:49:50.430Z"
      },
      {
        "duration": 13,
        "start_time": "2024-09-18T20:49:50.437Z"
      },
      {
        "duration": 5,
        "start_time": "2024-09-18T20:49:50.451Z"
      },
      {
        "duration": 4,
        "start_time": "2024-09-18T20:49:50.486Z"
      },
      {
        "duration": 187,
        "start_time": "2024-09-18T20:49:50.492Z"
      },
      {
        "duration": 13,
        "start_time": "2024-09-18T20:49:50.680Z"
      },
      {
        "duration": 8,
        "start_time": "2024-09-18T20:49:50.695Z"
      },
      {
        "duration": 826,
        "start_time": "2024-09-18T20:51:40.475Z"
      },
      {
        "duration": 17,
        "start_time": "2024-09-18T20:51:41.303Z"
      },
      {
        "duration": 7,
        "start_time": "2024-09-18T20:51:41.322Z"
      },
      {
        "duration": 11,
        "start_time": "2024-09-18T20:51:41.331Z"
      },
      {
        "duration": 14,
        "start_time": "2024-09-18T20:51:41.345Z"
      },
      {
        "duration": 313,
        "start_time": "2024-09-18T20:51:41.360Z"
      },
      {
        "duration": 226,
        "start_time": "2024-09-18T20:51:41.675Z"
      },
      {
        "duration": 353,
        "start_time": "2024-09-18T20:51:41.903Z"
      },
      {
        "duration": 4,
        "start_time": "2024-09-18T20:51:42.258Z"
      },
      {
        "duration": 5,
        "start_time": "2024-09-18T20:51:42.264Z"
      },
      {
        "duration": 217,
        "start_time": "2024-09-18T20:51:42.271Z"
      },
      {
        "duration": 128,
        "start_time": "2024-09-18T20:51:42.490Z"
      },
      {
        "duration": 4,
        "start_time": "2024-09-18T20:51:42.620Z"
      },
      {
        "duration": 17,
        "start_time": "2024-09-18T20:51:42.628Z"
      },
      {
        "duration": 5,
        "start_time": "2024-09-18T20:51:42.647Z"
      },
      {
        "duration": 5,
        "start_time": "2024-09-18T20:51:42.654Z"
      },
      {
        "duration": 225,
        "start_time": "2024-09-18T20:51:42.661Z"
      },
      {
        "duration": 9,
        "start_time": "2024-09-18T20:51:42.888Z"
      },
      {
        "duration": 8,
        "start_time": "2024-09-18T20:51:42.898Z"
      },
      {
        "duration": 822,
        "start_time": "2024-09-18T22:20:26.085Z"
      },
      {
        "duration": 18,
        "start_time": "2024-09-18T22:20:26.909Z"
      },
      {
        "duration": 7,
        "start_time": "2024-09-18T22:20:26.929Z"
      },
      {
        "duration": 16,
        "start_time": "2024-09-18T22:20:26.938Z"
      },
      {
        "duration": 30,
        "start_time": "2024-09-18T22:20:26.956Z"
      },
      {
        "duration": 16,
        "start_time": "2024-09-18T22:20:26.988Z"
      },
      {
        "duration": 269,
        "start_time": "2024-09-18T22:20:27.005Z"
      },
      {
        "duration": 239,
        "start_time": "2024-09-18T22:20:27.276Z"
      },
      {
        "duration": 362,
        "start_time": "2024-09-18T22:20:27.517Z"
      },
      {
        "duration": 4,
        "start_time": "2024-09-18T22:20:27.883Z"
      },
      {
        "duration": 5,
        "start_time": "2024-09-18T22:20:27.890Z"
      },
      {
        "duration": 225,
        "start_time": "2024-09-18T22:20:27.897Z"
      },
      {
        "duration": 130,
        "start_time": "2024-09-18T22:20:28.124Z"
      },
      {
        "duration": 5,
        "start_time": "2024-09-18T22:20:28.256Z"
      },
      {
        "duration": 29,
        "start_time": "2024-09-18T22:20:28.263Z"
      },
      {
        "duration": 4,
        "start_time": "2024-09-18T22:20:28.294Z"
      },
      {
        "duration": 4,
        "start_time": "2024-09-18T22:20:28.300Z"
      },
      {
        "duration": 193,
        "start_time": "2024-09-18T22:20:28.306Z"
      },
      {
        "duration": 8,
        "start_time": "2024-09-18T22:20:28.501Z"
      },
      {
        "duration": 8,
        "start_time": "2024-09-18T22:20:28.511Z"
      },
      {
        "duration": 2570,
        "start_time": "2024-09-19T17:12:00.284Z"
      },
      {
        "duration": 17,
        "start_time": "2024-09-19T17:12:02.856Z"
      },
      {
        "duration": 7,
        "start_time": "2024-09-19T17:12:02.875Z"
      },
      {
        "duration": 18,
        "start_time": "2024-09-19T17:12:02.883Z"
      },
      {
        "duration": 13,
        "start_time": "2024-09-19T17:12:02.903Z"
      },
      {
        "duration": 18,
        "start_time": "2024-09-19T17:12:02.918Z"
      },
      {
        "duration": 288,
        "start_time": "2024-09-19T17:12:02.938Z"
      },
      {
        "duration": 223,
        "start_time": "2024-09-19T17:12:03.227Z"
      },
      {
        "duration": 294,
        "start_time": "2024-09-19T17:12:03.453Z"
      },
      {
        "duration": 5,
        "start_time": "2024-09-19T17:12:03.749Z"
      },
      {
        "duration": 5,
        "start_time": "2024-09-19T17:12:03.755Z"
      },
      {
        "duration": 220,
        "start_time": "2024-09-19T17:12:03.762Z"
      },
      {
        "duration": 190,
        "start_time": "2024-09-19T17:12:03.984Z"
      },
      {
        "duration": 5,
        "start_time": "2024-09-19T17:12:04.177Z"
      },
      {
        "duration": 13,
        "start_time": "2024-09-19T17:12:04.183Z"
      },
      {
        "duration": 4,
        "start_time": "2024-09-19T17:12:04.198Z"
      },
      {
        "duration": 5,
        "start_time": "2024-09-19T17:12:04.204Z"
      },
      {
        "duration": 211,
        "start_time": "2024-09-19T17:12:04.210Z"
      },
      {
        "duration": 8,
        "start_time": "2024-09-19T17:12:04.423Z"
      },
      {
        "duration": 8,
        "start_time": "2024-09-19T17:12:04.433Z"
      },
      {
        "duration": 2656,
        "start_time": "2024-09-19T18:57:46.776Z"
      },
      {
        "duration": 18,
        "start_time": "2024-09-19T18:57:49.434Z"
      },
      {
        "duration": 8,
        "start_time": "2024-09-19T18:57:49.453Z"
      },
      {
        "duration": 17,
        "start_time": "2024-09-19T18:57:49.463Z"
      },
      {
        "duration": 11,
        "start_time": "2024-09-19T18:57:49.481Z"
      },
      {
        "duration": 16,
        "start_time": "2024-09-19T18:57:49.494Z"
      },
      {
        "duration": 302,
        "start_time": "2024-09-19T18:57:49.512Z"
      },
      {
        "duration": 241,
        "start_time": "2024-09-19T18:57:49.817Z"
      },
      {
        "duration": 311,
        "start_time": "2024-09-19T18:57:50.061Z"
      },
      {
        "duration": 5,
        "start_time": "2024-09-19T18:57:50.376Z"
      },
      {
        "duration": 6,
        "start_time": "2024-09-19T18:57:50.383Z"
      },
      {
        "duration": 307,
        "start_time": "2024-09-19T18:57:50.391Z"
      },
      {
        "duration": 135,
        "start_time": "2024-09-19T18:57:50.700Z"
      },
      {
        "duration": 5,
        "start_time": "2024-09-19T18:57:50.843Z"
      },
      {
        "duration": 16,
        "start_time": "2024-09-19T18:57:50.850Z"
      },
      {
        "duration": 5,
        "start_time": "2024-09-19T18:57:50.867Z"
      },
      {
        "duration": 4,
        "start_time": "2024-09-19T18:57:50.875Z"
      },
      {
        "duration": 231,
        "start_time": "2024-09-19T18:57:50.882Z"
      },
      {
        "duration": 9,
        "start_time": "2024-09-19T18:57:51.115Z"
      },
      {
        "duration": 22,
        "start_time": "2024-09-19T18:57:51.125Z"
      },
      {
        "duration": 883,
        "start_time": "2024-09-19T18:59:15.287Z"
      },
      {
        "duration": 19,
        "start_time": "2024-09-19T18:59:16.172Z"
      },
      {
        "duration": 8,
        "start_time": "2024-09-19T18:59:16.193Z"
      },
      {
        "duration": 18,
        "start_time": "2024-09-19T18:59:16.204Z"
      },
      {
        "duration": 13,
        "start_time": "2024-09-19T18:59:16.244Z"
      },
      {
        "duration": 18,
        "start_time": "2024-09-19T18:59:16.259Z"
      },
      {
        "duration": 315,
        "start_time": "2024-09-19T18:59:16.279Z"
      },
      {
        "duration": 241,
        "start_time": "2024-09-19T18:59:16.596Z"
      },
      {
        "duration": 380,
        "start_time": "2024-09-19T18:59:16.843Z"
      },
      {
        "duration": 5,
        "start_time": "2024-09-19T18:59:17.227Z"
      },
      {
        "duration": 7,
        "start_time": "2024-09-19T18:59:17.234Z"
      },
      {
        "duration": 231,
        "start_time": "2024-09-19T18:59:17.244Z"
      },
      {
        "duration": 145,
        "start_time": "2024-09-19T18:59:17.477Z"
      },
      {
        "duration": 6,
        "start_time": "2024-09-19T18:59:17.623Z"
      },
      {
        "duration": 22,
        "start_time": "2024-09-19T18:59:17.631Z"
      },
      {
        "duration": 5,
        "start_time": "2024-09-19T18:59:17.655Z"
      },
      {
        "duration": 6,
        "start_time": "2024-09-19T18:59:17.662Z"
      },
      {
        "duration": 208,
        "start_time": "2024-09-19T18:59:17.670Z"
      },
      {
        "duration": 9,
        "start_time": "2024-09-19T18:59:17.880Z"
      },
      {
        "duration": 8,
        "start_time": "2024-09-19T18:59:17.891Z"
      },
      {
        "duration": 1005,
        "start_time": "2024-09-19T20:24:01.762Z"
      },
      {
        "duration": 18,
        "start_time": "2024-09-19T20:24:02.769Z"
      },
      {
        "duration": 8,
        "start_time": "2024-09-19T20:24:02.789Z"
      },
      {
        "duration": 20,
        "start_time": "2024-09-19T20:24:02.800Z"
      },
      {
        "duration": 17,
        "start_time": "2024-09-19T20:24:02.844Z"
      },
      {
        "duration": 18,
        "start_time": "2024-09-19T20:24:02.863Z"
      },
      {
        "duration": 315,
        "start_time": "2024-09-19T20:24:02.883Z"
      },
      {
        "duration": 241,
        "start_time": "2024-09-19T20:24:03.201Z"
      },
      {
        "duration": 378,
        "start_time": "2024-09-19T20:24:03.445Z"
      },
      {
        "duration": 4,
        "start_time": "2024-09-19T20:24:03.826Z"
      },
      {
        "duration": 6,
        "start_time": "2024-09-19T20:24:03.833Z"
      },
      {
        "duration": 235,
        "start_time": "2024-09-19T20:24:03.841Z"
      },
      {
        "duration": 135,
        "start_time": "2024-09-19T20:24:04.078Z"
      },
      {
        "duration": 310,
        "start_time": "2024-09-19T20:24:04.217Z"
      },
      {
        "duration": 536,
        "start_time": "2024-09-19T20:24:04.529Z"
      },
      {
        "duration": 6,
        "start_time": "2024-09-19T20:24:05.066Z"
      },
      {
        "duration": 14,
        "start_time": "2024-09-19T20:24:05.074Z"
      },
      {
        "duration": 6,
        "start_time": "2024-09-19T20:24:05.090Z"
      },
      {
        "duration": 5,
        "start_time": "2024-09-19T20:24:05.098Z"
      },
      {
        "duration": 222,
        "start_time": "2024-09-19T20:24:05.104Z"
      },
      {
        "duration": 18,
        "start_time": "2024-09-19T20:24:05.328Z"
      },
      {
        "duration": 9,
        "start_time": "2024-09-19T20:24:05.348Z"
      },
      {
        "duration": 953,
        "start_time": "2024-09-19T20:25:04.775Z"
      },
      {
        "duration": 25,
        "start_time": "2024-09-19T20:25:05.731Z"
      },
      {
        "duration": 9,
        "start_time": "2024-09-19T20:25:05.758Z"
      },
      {
        "duration": 20,
        "start_time": "2024-09-19T20:25:05.769Z"
      },
      {
        "duration": 12,
        "start_time": "2024-09-19T20:25:05.792Z"
      },
      {
        "duration": 52,
        "start_time": "2024-09-19T20:25:05.806Z"
      },
      {
        "duration": 289,
        "start_time": "2024-09-19T20:25:05.862Z"
      },
      {
        "duration": 242,
        "start_time": "2024-09-19T20:25:06.153Z"
      },
      {
        "duration": 386,
        "start_time": "2024-09-19T20:25:06.397Z"
      },
      {
        "duration": 5,
        "start_time": "2024-09-19T20:25:06.785Z"
      },
      {
        "duration": 6,
        "start_time": "2024-09-19T20:25:06.792Z"
      },
      {
        "duration": 254,
        "start_time": "2024-09-19T20:25:06.800Z"
      },
      {
        "duration": 141,
        "start_time": "2024-09-19T20:25:07.057Z"
      },
      {
        "duration": 289,
        "start_time": "2024-09-19T20:25:07.202Z"
      },
      {
        "duration": 1053,
        "start_time": "2024-09-19T20:25:07.493Z"
      },
      {
        "duration": 806,
        "start_time": "2024-09-19T20:25:08.549Z"
      },
      {
        "duration": 6,
        "start_time": "2024-09-19T20:25:09.357Z"
      },
      {
        "duration": 14,
        "start_time": "2024-09-19T20:25:09.365Z"
      },
      {
        "duration": 5,
        "start_time": "2024-09-19T20:25:09.381Z"
      },
      {
        "duration": 4,
        "start_time": "2024-09-19T20:25:09.388Z"
      },
      {
        "duration": 220,
        "start_time": "2024-09-19T20:25:09.394Z"
      },
      {
        "duration": 9,
        "start_time": "2024-09-19T20:25:09.615Z"
      },
      {
        "duration": 20,
        "start_time": "2024-09-19T20:25:09.626Z"
      },
      {
        "duration": 839,
        "start_time": "2024-09-19T20:26:08.331Z"
      },
      {
        "duration": 19,
        "start_time": "2024-09-19T20:26:09.172Z"
      },
      {
        "duration": 7,
        "start_time": "2024-09-19T20:26:09.193Z"
      },
      {
        "duration": 18,
        "start_time": "2024-09-19T20:26:09.202Z"
      },
      {
        "duration": 31,
        "start_time": "2024-09-19T20:26:09.222Z"
      },
      {
        "duration": 17,
        "start_time": "2024-09-19T20:26:09.255Z"
      },
      {
        "duration": 292,
        "start_time": "2024-09-19T20:26:09.274Z"
      },
      {
        "duration": 235,
        "start_time": "2024-09-19T20:26:09.568Z"
      },
      {
        "duration": 386,
        "start_time": "2024-09-19T20:26:09.805Z"
      },
      {
        "duration": 5,
        "start_time": "2024-09-19T20:26:10.194Z"
      },
      {
        "duration": 5,
        "start_time": "2024-09-19T20:26:10.201Z"
      },
      {
        "duration": 225,
        "start_time": "2024-09-19T20:26:10.208Z"
      },
      {
        "duration": 150,
        "start_time": "2024-09-19T20:26:10.435Z"
      },
      {
        "duration": 283,
        "start_time": "2024-09-19T20:26:10.587Z"
      },
      {
        "duration": 297,
        "start_time": "2024-09-19T20:26:10.872Z"
      },
      {
        "duration": 275,
        "start_time": "2024-09-19T20:26:11.171Z"
      },
      {
        "duration": 6,
        "start_time": "2024-09-19T20:26:11.449Z"
      },
      {
        "duration": 14,
        "start_time": "2024-09-19T20:26:11.457Z"
      },
      {
        "duration": 5,
        "start_time": "2024-09-19T20:26:11.473Z"
      },
      {
        "duration": 5,
        "start_time": "2024-09-19T20:26:11.480Z"
      },
      {
        "duration": 219,
        "start_time": "2024-09-19T20:26:11.487Z"
      },
      {
        "duration": 8,
        "start_time": "2024-09-19T20:26:11.708Z"
      },
      {
        "duration": 30,
        "start_time": "2024-09-19T20:26:11.718Z"
      },
      {
        "duration": 905,
        "start_time": "2024-09-19T20:43:48.066Z"
      },
      {
        "duration": 18,
        "start_time": "2024-09-19T20:43:48.974Z"
      },
      {
        "duration": 8,
        "start_time": "2024-09-19T20:43:48.994Z"
      },
      {
        "duration": 21,
        "start_time": "2024-09-19T20:43:49.003Z"
      },
      {
        "duration": 15,
        "start_time": "2024-09-19T20:43:49.045Z"
      },
      {
        "duration": 22,
        "start_time": "2024-09-19T20:43:49.064Z"
      },
      {
        "duration": 305,
        "start_time": "2024-09-19T20:43:49.088Z"
      },
      {
        "duration": 250,
        "start_time": "2024-09-19T20:43:49.395Z"
      },
      {
        "duration": 375,
        "start_time": "2024-09-19T20:43:49.648Z"
      },
      {
        "duration": 6,
        "start_time": "2024-09-19T20:43:50.025Z"
      },
      {
        "duration": 6,
        "start_time": "2024-09-19T20:43:50.033Z"
      },
      {
        "duration": 248,
        "start_time": "2024-09-19T20:43:50.043Z"
      },
      {
        "duration": 138,
        "start_time": "2024-09-19T20:43:50.293Z"
      },
      {
        "duration": 291,
        "start_time": "2024-09-19T20:43:50.442Z"
      },
      {
        "duration": 289,
        "start_time": "2024-09-19T20:43:50.743Z"
      },
      {
        "duration": 281,
        "start_time": "2024-09-19T20:43:51.034Z"
      },
      {
        "duration": 7,
        "start_time": "2024-09-19T20:43:51.317Z"
      },
      {
        "duration": 28,
        "start_time": "2024-09-19T20:43:51.325Z"
      },
      {
        "duration": 5,
        "start_time": "2024-09-19T20:43:51.355Z"
      },
      {
        "duration": 4,
        "start_time": "2024-09-19T20:43:51.363Z"
      },
      {
        "duration": 209,
        "start_time": "2024-09-19T20:43:51.369Z"
      },
      {
        "duration": 9,
        "start_time": "2024-09-19T20:43:51.579Z"
      },
      {
        "duration": 8,
        "start_time": "2024-09-19T20:43:51.590Z"
      },
      {
        "duration": 2503,
        "start_time": "2024-09-19T21:48:17.712Z"
      },
      {
        "duration": 16,
        "start_time": "2024-09-19T21:48:20.217Z"
      },
      {
        "duration": 7,
        "start_time": "2024-09-19T21:48:20.235Z"
      },
      {
        "duration": 18,
        "start_time": "2024-09-19T21:48:20.245Z"
      },
      {
        "duration": 10,
        "start_time": "2024-09-19T21:48:20.265Z"
      },
      {
        "duration": 13,
        "start_time": "2024-09-19T21:48:20.277Z"
      },
      {
        "duration": 301,
        "start_time": "2024-09-19T21:48:20.292Z"
      },
      {
        "duration": 251,
        "start_time": "2024-09-19T21:48:20.595Z"
      },
      {
        "duration": 300,
        "start_time": "2024-09-19T21:48:20.848Z"
      },
      {
        "duration": 4,
        "start_time": "2024-09-19T21:48:21.151Z"
      },
      {
        "duration": 6,
        "start_time": "2024-09-19T21:48:21.156Z"
      },
      {
        "duration": 236,
        "start_time": "2024-09-19T21:48:21.164Z"
      },
      {
        "duration": 132,
        "start_time": "2024-09-19T21:48:21.402Z"
      },
      {
        "duration": 317,
        "start_time": "2024-09-19T21:48:21.536Z"
      },
      {
        "duration": 259,
        "start_time": "2024-09-19T21:48:21.856Z"
      },
      {
        "duration": 248,
        "start_time": "2024-09-19T21:48:22.117Z"
      },
      {
        "duration": 6,
        "start_time": "2024-09-19T21:48:22.367Z"
      },
      {
        "duration": 12,
        "start_time": "2024-09-19T21:48:22.375Z"
      },
      {
        "duration": 8,
        "start_time": "2024-09-19T21:48:22.388Z"
      },
      {
        "duration": 347,
        "start_time": "2024-09-19T21:48:22.397Z"
      },
      {
        "duration": 14,
        "start_time": "2024-09-19T21:48:22.746Z"
      },
      {
        "duration": 5,
        "start_time": "2024-09-19T21:48:22.762Z"
      },
      {
        "duration": 5,
        "start_time": "2024-09-19T21:48:22.768Z"
      },
      {
        "duration": 200,
        "start_time": "2024-09-19T21:48:22.775Z"
      },
      {
        "duration": 8,
        "start_time": "2024-09-19T21:48:22.977Z"
      },
      {
        "duration": 8,
        "start_time": "2024-09-19T21:48:22.986Z"
      },
      {
        "duration": 2578,
        "start_time": "2024-09-20T19:23:46.764Z"
      },
      {
        "duration": 20,
        "start_time": "2024-09-20T19:23:49.345Z"
      },
      {
        "duration": 8,
        "start_time": "2024-09-20T19:23:49.367Z"
      },
      {
        "duration": 16,
        "start_time": "2024-09-20T19:23:49.377Z"
      },
      {
        "duration": 11,
        "start_time": "2024-09-20T19:23:49.395Z"
      },
      {
        "duration": 43,
        "start_time": "2024-09-20T19:23:49.407Z"
      },
      {
        "duration": 266,
        "start_time": "2024-09-20T19:23:49.452Z"
      },
      {
        "duration": 238,
        "start_time": "2024-09-20T19:23:49.720Z"
      },
      {
        "duration": 307,
        "start_time": "2024-09-20T19:23:49.960Z"
      },
      {
        "duration": 5,
        "start_time": "2024-09-20T19:23:50.269Z"
      },
      {
        "duration": 6,
        "start_time": "2024-09-20T19:23:50.275Z"
      },
      {
        "duration": 231,
        "start_time": "2024-09-20T19:23:50.282Z"
      },
      {
        "duration": 120,
        "start_time": "2024-09-20T19:23:50.515Z"
      },
      {
        "duration": 334,
        "start_time": "2024-09-20T19:23:50.642Z"
      },
      {
        "duration": 267,
        "start_time": "2024-09-20T19:23:50.979Z"
      },
      {
        "duration": 255,
        "start_time": "2024-09-20T19:23:51.248Z"
      },
      {
        "duration": 6,
        "start_time": "2024-09-20T19:23:51.505Z"
      },
      {
        "duration": 12,
        "start_time": "2024-09-20T19:23:51.513Z"
      },
      {
        "duration": 8,
        "start_time": "2024-09-20T19:23:51.542Z"
      },
      {
        "duration": 332,
        "start_time": "2024-09-20T19:23:51.551Z"
      },
      {
        "duration": 13,
        "start_time": "2024-09-20T19:23:51.885Z"
      },
      {
        "duration": 5,
        "start_time": "2024-09-20T19:23:51.900Z"
      },
      {
        "duration": 4,
        "start_time": "2024-09-20T19:23:51.907Z"
      },
      {
        "duration": 202,
        "start_time": "2024-09-20T19:23:51.912Z"
      },
      {
        "duration": 8,
        "start_time": "2024-09-20T19:23:52.116Z"
      },
      {
        "duration": 21,
        "start_time": "2024-09-20T19:23:52.126Z"
      },
      {
        "duration": 2548,
        "start_time": "2024-09-23T18:14:40.634Z"
      },
      {
        "duration": 17,
        "start_time": "2024-09-23T18:14:43.185Z"
      },
      {
        "duration": 7,
        "start_time": "2024-09-23T18:14:43.206Z"
      },
      {
        "duration": 17,
        "start_time": "2024-09-23T18:14:43.215Z"
      },
      {
        "duration": 9,
        "start_time": "2024-09-23T18:14:43.234Z"
      },
      {
        "duration": 16,
        "start_time": "2024-09-23T18:14:43.245Z"
      },
      {
        "duration": 291,
        "start_time": "2024-09-23T18:14:43.262Z"
      },
      {
        "duration": 228,
        "start_time": "2024-09-23T18:14:43.554Z"
      },
      {
        "duration": 323,
        "start_time": "2024-09-23T18:14:43.786Z"
      },
      {
        "duration": 5,
        "start_time": "2024-09-23T18:14:44.112Z"
      },
      {
        "duration": 6,
        "start_time": "2024-09-23T18:14:44.118Z"
      },
      {
        "duration": 220,
        "start_time": "2024-09-23T18:14:44.126Z"
      },
      {
        "duration": 188,
        "start_time": "2024-09-23T18:14:44.349Z"
      },
      {
        "duration": 285,
        "start_time": "2024-09-23T18:14:44.539Z"
      },
      {
        "duration": 265,
        "start_time": "2024-09-23T18:14:44.826Z"
      },
      {
        "duration": 252,
        "start_time": "2024-09-23T18:14:45.093Z"
      },
      {
        "duration": 5,
        "start_time": "2024-09-23T18:14:45.347Z"
      },
      {
        "duration": 13,
        "start_time": "2024-09-23T18:14:45.353Z"
      },
      {
        "duration": 9,
        "start_time": "2024-09-23T18:14:45.369Z"
      },
      {
        "duration": 357,
        "start_time": "2024-09-23T18:14:45.380Z"
      },
      {
        "duration": 12,
        "start_time": "2024-09-23T18:14:45.740Z"
      },
      {
        "duration": 4,
        "start_time": "2024-09-23T18:14:45.754Z"
      },
      {
        "duration": 5,
        "start_time": "2024-09-23T18:14:45.760Z"
      },
      {
        "duration": 197,
        "start_time": "2024-09-23T18:14:45.766Z"
      },
      {
        "duration": 8,
        "start_time": "2024-09-23T18:14:45.965Z"
      },
      {
        "duration": 8,
        "start_time": "2024-09-23T18:14:45.975Z"
      },
      {
        "duration": 2666,
        "start_time": "2024-09-23T19:41:05.241Z"
      },
      {
        "duration": 18,
        "start_time": "2024-09-23T19:41:07.909Z"
      },
      {
        "duration": 10,
        "start_time": "2024-09-23T19:41:07.929Z"
      },
      {
        "duration": 18,
        "start_time": "2024-09-23T19:41:07.942Z"
      },
      {
        "duration": 11,
        "start_time": "2024-09-23T19:41:07.962Z"
      },
      {
        "duration": 15,
        "start_time": "2024-09-23T19:41:07.975Z"
      },
      {
        "duration": 295,
        "start_time": "2024-09-23T19:41:07.992Z"
      },
      {
        "duration": 229,
        "start_time": "2024-09-23T19:41:08.290Z"
      },
      {
        "duration": 311,
        "start_time": "2024-09-23T19:41:08.521Z"
      },
      {
        "duration": 4,
        "start_time": "2024-09-23T19:41:08.834Z"
      },
      {
        "duration": 5,
        "start_time": "2024-09-23T19:41:08.840Z"
      },
      {
        "duration": 213,
        "start_time": "2024-09-23T19:41:08.847Z"
      },
      {
        "duration": 119,
        "start_time": "2024-09-23T19:41:09.062Z"
      },
      {
        "duration": 664,
        "start_time": "2024-09-23T19:41:09.182Z"
      },
      {
        "duration": 285,
        "start_time": "2024-09-23T19:41:09.847Z"
      },
      {
        "duration": 246,
        "start_time": "2024-09-23T19:41:10.134Z"
      },
      {
        "duration": 5,
        "start_time": "2024-09-23T19:41:10.382Z"
      },
      {
        "duration": 13,
        "start_time": "2024-09-23T19:41:10.388Z"
      },
      {
        "duration": 28,
        "start_time": "2024-09-23T19:41:10.403Z"
      },
      {
        "duration": 327,
        "start_time": "2024-09-23T19:41:10.433Z"
      },
      {
        "duration": 13,
        "start_time": "2024-09-23T19:41:10.762Z"
      },
      {
        "duration": 4,
        "start_time": "2024-09-23T19:41:10.777Z"
      },
      {
        "duration": 4,
        "start_time": "2024-09-23T19:41:10.783Z"
      },
      {
        "duration": 198,
        "start_time": "2024-09-23T19:41:10.789Z"
      },
      {
        "duration": 7,
        "start_time": "2024-09-23T19:41:10.990Z"
      },
      {
        "duration": 8,
        "start_time": "2024-09-23T19:41:10.998Z"
      },
      {
        "duration": 830,
        "start_time": "2024-09-23T20:09:30.766Z"
      },
      {
        "duration": 16,
        "start_time": "2024-09-23T20:09:31.599Z"
      },
      {
        "duration": 19,
        "start_time": "2024-09-23T20:09:31.617Z"
      },
      {
        "duration": 17,
        "start_time": "2024-09-23T20:09:31.638Z"
      },
      {
        "duration": 10,
        "start_time": "2024-09-23T20:09:31.657Z"
      },
      {
        "duration": 14,
        "start_time": "2024-09-23T20:09:31.669Z"
      },
      {
        "duration": 285,
        "start_time": "2024-09-23T20:09:31.685Z"
      },
      {
        "duration": 226,
        "start_time": "2024-09-23T20:09:31.971Z"
      },
      {
        "duration": 365,
        "start_time": "2024-09-23T20:09:32.199Z"
      },
      {
        "duration": 5,
        "start_time": "2024-09-23T20:09:32.565Z"
      },
      {
        "duration": 5,
        "start_time": "2024-09-23T20:09:32.571Z"
      },
      {
        "duration": 202,
        "start_time": "2024-09-23T20:09:32.578Z"
      },
      {
        "duration": 115,
        "start_time": "2024-09-23T20:09:32.782Z"
      },
      {
        "duration": 281,
        "start_time": "2024-09-23T20:09:32.901Z"
      },
      {
        "duration": 267,
        "start_time": "2024-09-23T20:09:33.184Z"
      },
      {
        "duration": 262,
        "start_time": "2024-09-23T20:09:33.453Z"
      },
      {
        "duration": 17,
        "start_time": "2024-09-23T20:09:33.717Z"
      },
      {
        "duration": 13,
        "start_time": "2024-09-23T20:09:33.736Z"
      },
      {
        "duration": 8,
        "start_time": "2024-09-23T20:09:33.750Z"
      },
      {
        "duration": 405,
        "start_time": "2024-09-23T20:09:33.759Z"
      },
      {
        "duration": 13,
        "start_time": "2024-09-23T20:09:34.167Z"
      },
      {
        "duration": 4,
        "start_time": "2024-09-23T20:09:34.182Z"
      },
      {
        "duration": 5,
        "start_time": "2024-09-23T20:09:34.188Z"
      },
      {
        "duration": 195,
        "start_time": "2024-09-23T20:09:34.195Z"
      },
      {
        "duration": 7,
        "start_time": "2024-09-23T20:09:34.392Z"
      },
      {
        "duration": 7,
        "start_time": "2024-09-23T20:09:34.402Z"
      },
      {
        "duration": 2902,
        "start_time": "2024-09-24T13:47:34.235Z"
      },
      {
        "duration": 17,
        "start_time": "2024-09-24T13:47:37.139Z"
      },
      {
        "duration": 12,
        "start_time": "2024-09-24T13:47:37.158Z"
      },
      {
        "duration": 21,
        "start_time": "2024-09-24T13:47:37.173Z"
      },
      {
        "duration": 22,
        "start_time": "2024-09-24T13:47:37.196Z"
      },
      {
        "duration": 15,
        "start_time": "2024-09-24T13:47:37.220Z"
      },
      {
        "duration": 292,
        "start_time": "2024-09-24T13:47:37.237Z"
      },
      {
        "duration": 233,
        "start_time": "2024-09-24T13:47:37.531Z"
      },
      {
        "duration": 304,
        "start_time": "2024-09-24T13:47:37.766Z"
      },
      {
        "duration": 4,
        "start_time": "2024-09-24T13:47:38.074Z"
      },
      {
        "duration": 5,
        "start_time": "2024-09-24T13:47:38.080Z"
      },
      {
        "duration": 427,
        "start_time": "2024-09-24T13:47:38.086Z"
      },
      {
        "duration": 211,
        "start_time": "2024-09-24T13:47:38.514Z"
      },
      {
        "duration": 112,
        "start_time": "2024-09-24T13:47:38.727Z"
      },
      {
        "duration": 267,
        "start_time": "2024-09-24T13:47:38.841Z"
      },
      {
        "duration": 259,
        "start_time": "2024-09-24T13:47:39.110Z"
      },
      {
        "duration": 314,
        "start_time": "2024-09-24T13:47:39.371Z"
      },
      {
        "duration": 5,
        "start_time": "2024-09-24T13:47:39.688Z"
      },
      {
        "duration": 16,
        "start_time": "2024-09-24T13:47:39.695Z"
      },
      {
        "duration": 8,
        "start_time": "2024-09-24T13:47:39.713Z"
      },
      {
        "duration": 347,
        "start_time": "2024-09-24T13:47:39.723Z"
      },
      {
        "duration": 12,
        "start_time": "2024-09-24T13:47:40.072Z"
      },
      {
        "duration": 4,
        "start_time": "2024-09-24T13:47:40.086Z"
      },
      {
        "duration": 20,
        "start_time": "2024-09-24T13:47:40.091Z"
      },
      {
        "duration": 180,
        "start_time": "2024-09-24T13:47:40.113Z"
      },
      {
        "duration": 14,
        "start_time": "2024-09-24T13:47:40.295Z"
      },
      {
        "duration": 8,
        "start_time": "2024-09-24T13:47:40.310Z"
      },
      {
        "duration": 866,
        "start_time": "2024-09-24T13:48:20.943Z"
      },
      {
        "duration": 17,
        "start_time": "2024-09-24T13:48:21.811Z"
      },
      {
        "duration": 12,
        "start_time": "2024-09-24T13:48:21.830Z"
      },
      {
        "duration": 16,
        "start_time": "2024-09-24T13:48:21.845Z"
      },
      {
        "duration": 11,
        "start_time": "2024-09-24T13:48:21.862Z"
      },
      {
        "duration": 44,
        "start_time": "2024-09-24T13:48:21.874Z"
      },
      {
        "duration": 264,
        "start_time": "2024-09-24T13:48:21.920Z"
      },
      {
        "duration": 226,
        "start_time": "2024-09-24T13:48:22.186Z"
      },
      {
        "duration": 335,
        "start_time": "2024-09-24T13:48:22.414Z"
      },
      {
        "duration": 3,
        "start_time": "2024-09-24T13:48:22.753Z"
      },
      {
        "duration": 6,
        "start_time": "2024-09-24T13:48:22.758Z"
      },
      {
        "duration": 22,
        "start_time": "2024-09-24T13:48:22.766Z"
      },
      {
        "duration": 351,
        "start_time": "2024-09-24T13:48:22.790Z"
      },
      {
        "duration": 207,
        "start_time": "2024-09-24T13:48:23.143Z"
      },
      {
        "duration": 118,
        "start_time": "2024-09-24T13:48:23.352Z"
      },
      {
        "duration": 265,
        "start_time": "2024-09-24T13:48:23.472Z"
      },
      {
        "duration": 277,
        "start_time": "2024-09-24T13:48:23.739Z"
      },
      {
        "duration": 396,
        "start_time": "2024-09-24T13:48:24.019Z"
      },
      {
        "duration": 6,
        "start_time": "2024-09-24T13:48:24.417Z"
      },
      {
        "duration": 11,
        "start_time": "2024-09-24T13:48:24.425Z"
      },
      {
        "duration": 8,
        "start_time": "2024-09-24T13:48:24.437Z"
      },
      {
        "duration": 600,
        "start_time": "2024-09-24T13:48:24.447Z"
      },
      {
        "duration": 15,
        "start_time": "2024-09-24T13:48:25.049Z"
      },
      {
        "duration": 8,
        "start_time": "2024-09-24T13:48:25.067Z"
      },
      {
        "duration": 5,
        "start_time": "2024-09-24T13:48:25.077Z"
      },
      {
        "duration": 200,
        "start_time": "2024-09-24T13:48:25.084Z"
      },
      {
        "duration": 8,
        "start_time": "2024-09-24T13:48:25.286Z"
      },
      {
        "duration": 7,
        "start_time": "2024-09-24T13:48:25.309Z"
      },
      {
        "duration": 2505,
        "start_time": "2024-09-24T15:12:59.389Z"
      },
      {
        "duration": 18,
        "start_time": "2024-09-24T15:13:01.896Z"
      },
      {
        "duration": 12,
        "start_time": "2024-09-24T15:13:01.916Z"
      },
      {
        "duration": 16,
        "start_time": "2024-09-24T15:13:01.930Z"
      },
      {
        "duration": 10,
        "start_time": "2024-09-24T15:13:01.947Z"
      },
      {
        "duration": 15,
        "start_time": "2024-09-24T15:13:01.958Z"
      },
      {
        "duration": 283,
        "start_time": "2024-09-24T15:13:01.974Z"
      },
      {
        "duration": 232,
        "start_time": "2024-09-24T15:13:02.260Z"
      },
      {
        "duration": 299,
        "start_time": "2024-09-24T15:13:02.493Z"
      },
      {
        "duration": 4,
        "start_time": "2024-09-24T15:13:02.795Z"
      },
      {
        "duration": 5,
        "start_time": "2024-09-24T15:13:02.800Z"
      },
      {
        "duration": 16,
        "start_time": "2024-09-24T15:13:02.807Z"
      },
      {
        "duration": 169,
        "start_time": "2024-09-24T15:13:02.825Z"
      },
      {
        "duration": 262,
        "start_time": "2024-09-24T15:13:02.996Z"
      },
      {
        "duration": 115,
        "start_time": "2024-09-24T15:13:03.261Z"
      },
      {
        "duration": 276,
        "start_time": "2024-09-24T15:13:03.378Z"
      },
      {
        "duration": 268,
        "start_time": "2024-09-24T15:13:03.657Z"
      },
      {
        "duration": 258,
        "start_time": "2024-09-24T15:13:03.927Z"
      },
      {
        "duration": 5,
        "start_time": "2024-09-24T15:13:04.187Z"
      },
      {
        "duration": 27,
        "start_time": "2024-09-24T15:13:04.193Z"
      },
      {
        "duration": 8,
        "start_time": "2024-09-24T15:13:04.222Z"
      },
      {
        "duration": 500,
        "start_time": "2024-09-24T15:13:04.231Z"
      },
      {
        "duration": 18,
        "start_time": "2024-09-24T15:13:04.734Z"
      },
      {
        "duration": 60,
        "start_time": "2024-09-24T15:13:04.754Z"
      },
      {
        "duration": 4,
        "start_time": "2024-09-24T15:13:04.816Z"
      },
      {
        "duration": 337,
        "start_time": "2024-09-24T15:13:04.822Z"
      },
      {
        "duration": 8,
        "start_time": "2024-09-24T15:13:05.161Z"
      },
      {
        "duration": 8,
        "start_time": "2024-09-24T15:13:05.173Z"
      },
      {
        "duration": 865,
        "start_time": "2024-09-24T16:40:02.881Z"
      },
      {
        "duration": 17,
        "start_time": "2024-09-24T16:40:03.749Z"
      },
      {
        "duration": 13,
        "start_time": "2024-09-24T16:40:03.768Z"
      },
      {
        "duration": 29,
        "start_time": "2024-09-24T16:40:03.784Z"
      },
      {
        "duration": 11,
        "start_time": "2024-09-24T16:40:03.815Z"
      },
      {
        "duration": 15,
        "start_time": "2024-09-24T16:40:03.828Z"
      },
      {
        "duration": 287,
        "start_time": "2024-09-24T16:40:03.845Z"
      },
      {
        "duration": 228,
        "start_time": "2024-09-24T16:40:04.134Z"
      },
      {
        "duration": 388,
        "start_time": "2024-09-24T16:40:04.364Z"
      },
      {
        "duration": 4,
        "start_time": "2024-09-24T16:40:04.756Z"
      },
      {
        "duration": 5,
        "start_time": "2024-09-24T16:40:04.762Z"
      },
      {
        "duration": 18,
        "start_time": "2024-09-24T16:40:04.769Z"
      },
      {
        "duration": 173,
        "start_time": "2024-09-24T16:40:04.788Z"
      },
      {
        "duration": 215,
        "start_time": "2024-09-24T16:40:04.962Z"
      },
      {
        "duration": 125,
        "start_time": "2024-09-24T16:40:05.179Z"
      },
      {
        "duration": 286,
        "start_time": "2024-09-24T16:40:05.305Z"
      },
      {
        "duration": 275,
        "start_time": "2024-09-24T16:40:05.593Z"
      },
      {
        "duration": 6,
        "start_time": "2024-09-24T16:40:05.869Z"
      },
      {
        "duration": 14,
        "start_time": "2024-09-24T16:40:05.878Z"
      },
      {
        "duration": 26,
        "start_time": "2024-09-24T16:40:05.893Z"
      },
      {
        "duration": 332,
        "start_time": "2024-09-24T16:40:05.921Z"
      },
      {
        "duration": 13,
        "start_time": "2024-09-24T16:40:06.255Z"
      },
      {
        "duration": 5,
        "start_time": "2024-09-24T16:40:06.269Z"
      },
      {
        "duration": 5,
        "start_time": "2024-09-24T16:40:06.276Z"
      },
      {
        "duration": 270,
        "start_time": "2024-09-24T16:40:06.282Z"
      },
      {
        "duration": 8,
        "start_time": "2024-09-24T16:40:06.555Z"
      },
      {
        "duration": 8,
        "start_time": "2024-09-24T16:40:06.566Z"
      },
      {
        "duration": 817,
        "start_time": "2024-09-24T16:57:15.212Z"
      },
      {
        "duration": 18,
        "start_time": "2024-09-24T16:57:16.032Z"
      },
      {
        "duration": 15,
        "start_time": "2024-09-24T16:57:16.054Z"
      },
      {
        "duration": 20,
        "start_time": "2024-09-24T16:57:16.072Z"
      },
      {
        "duration": 27,
        "start_time": "2024-09-24T16:57:16.093Z"
      },
      {
        "duration": 15,
        "start_time": "2024-09-24T16:57:16.121Z"
      },
      {
        "duration": 276,
        "start_time": "2024-09-24T16:57:16.137Z"
      },
      {
        "duration": 232,
        "start_time": "2024-09-24T16:57:16.416Z"
      },
      {
        "duration": 350,
        "start_time": "2024-09-24T16:57:16.650Z"
      },
      {
        "duration": 4,
        "start_time": "2024-09-24T16:57:17.004Z"
      },
      {
        "duration": 5,
        "start_time": "2024-09-24T16:57:17.009Z"
      },
      {
        "duration": 17,
        "start_time": "2024-09-24T16:57:17.015Z"
      },
      {
        "duration": 182,
        "start_time": "2024-09-24T16:57:17.034Z"
      },
      {
        "duration": 225,
        "start_time": "2024-09-24T16:57:17.218Z"
      },
      {
        "duration": 116,
        "start_time": "2024-09-24T16:57:17.446Z"
      },
      {
        "duration": 280,
        "start_time": "2024-09-24T16:57:17.564Z"
      },
      {
        "duration": 278,
        "start_time": "2024-09-24T16:57:17.846Z"
      },
      {
        "duration": 5,
        "start_time": "2024-09-24T16:57:18.126Z"
      },
      {
        "duration": 12,
        "start_time": "2024-09-24T16:57:18.132Z"
      },
      {
        "duration": 9,
        "start_time": "2024-09-24T16:57:18.145Z"
      },
      {
        "duration": 354,
        "start_time": "2024-09-24T16:57:18.155Z"
      },
      {
        "duration": 100,
        "start_time": "2024-09-24T16:57:18.511Z"
      },
      {
        "duration": 5,
        "start_time": "2024-09-24T16:57:18.613Z"
      },
      {
        "duration": 5,
        "start_time": "2024-09-24T16:57:18.619Z"
      },
      {
        "duration": 193,
        "start_time": "2024-09-24T16:57:18.626Z"
      },
      {
        "duration": 9,
        "start_time": "2024-09-24T16:57:18.821Z"
      },
      {
        "duration": 8,
        "start_time": "2024-09-24T16:57:18.832Z"
      },
      {
        "duration": 880,
        "start_time": "2024-09-24T18:51:12.646Z"
      },
      {
        "duration": 17,
        "start_time": "2024-09-24T18:51:13.528Z"
      },
      {
        "duration": 13,
        "start_time": "2024-09-24T18:51:13.547Z"
      },
      {
        "duration": 17,
        "start_time": "2024-09-24T18:51:13.562Z"
      },
      {
        "duration": 32,
        "start_time": "2024-09-24T18:51:13.580Z"
      },
      {
        "duration": 15,
        "start_time": "2024-09-24T18:51:13.614Z"
      },
      {
        "duration": 293,
        "start_time": "2024-09-24T18:51:13.630Z"
      },
      {
        "duration": 228,
        "start_time": "2024-09-24T18:51:13.925Z"
      },
      {
        "duration": 348,
        "start_time": "2024-09-24T18:51:14.156Z"
      },
      {
        "duration": 4,
        "start_time": "2024-09-24T18:51:14.508Z"
      },
      {
        "duration": 5,
        "start_time": "2024-09-24T18:51:14.513Z"
      },
      {
        "duration": 16,
        "start_time": "2024-09-24T18:51:14.520Z"
      },
      {
        "duration": 190,
        "start_time": "2024-09-24T18:51:14.537Z"
      },
      {
        "duration": 225,
        "start_time": "2024-09-24T18:51:14.729Z"
      },
      {
        "duration": 115,
        "start_time": "2024-09-24T18:51:14.956Z"
      },
      {
        "duration": 274,
        "start_time": "2024-09-24T18:51:15.073Z"
      },
      {
        "duration": 269,
        "start_time": "2024-09-24T18:51:15.349Z"
      },
      {
        "duration": 5,
        "start_time": "2024-09-24T18:51:15.621Z"
      },
      {
        "duration": 12,
        "start_time": "2024-09-24T18:51:15.627Z"
      },
      {
        "duration": 8,
        "start_time": "2024-09-24T18:51:15.641Z"
      },
      {
        "duration": 365,
        "start_time": "2024-09-24T18:51:15.651Z"
      },
      {
        "duration": 9,
        "start_time": "2024-09-24T18:51:16.018Z"
      },
      {
        "duration": 5,
        "start_time": "2024-09-24T18:51:16.029Z"
      },
      {
        "duration": 4,
        "start_time": "2024-09-24T18:51:16.036Z"
      },
      {
        "duration": 275,
        "start_time": "2024-09-24T18:51:16.042Z"
      },
      {
        "duration": 8,
        "start_time": "2024-09-24T18:51:16.319Z"
      },
      {
        "duration": 7,
        "start_time": "2024-09-24T18:51:16.328Z"
      },
      {
        "duration": 2609,
        "start_time": "2024-09-25T04:46:53.438Z"
      },
      {
        "duration": 16,
        "start_time": "2024-09-25T04:46:56.049Z"
      },
      {
        "duration": 12,
        "start_time": "2024-09-25T04:46:56.067Z"
      },
      {
        "duration": 16,
        "start_time": "2024-09-25T04:46:56.080Z"
      },
      {
        "duration": 16,
        "start_time": "2024-09-25T04:46:56.097Z"
      },
      {
        "duration": 16,
        "start_time": "2024-09-25T04:46:56.114Z"
      },
      {
        "duration": 270,
        "start_time": "2024-09-25T04:46:56.131Z"
      },
      {
        "duration": 221,
        "start_time": "2024-09-25T04:46:56.405Z"
      },
      {
        "duration": 294,
        "start_time": "2024-09-25T04:46:56.628Z"
      },
      {
        "duration": 3,
        "start_time": "2024-09-25T04:46:56.926Z"
      },
      {
        "duration": 5,
        "start_time": "2024-09-25T04:46:56.931Z"
      },
      {
        "duration": 16,
        "start_time": "2024-09-25T04:46:56.938Z"
      },
      {
        "duration": 180,
        "start_time": "2024-09-25T04:46:56.955Z"
      },
      {
        "duration": 265,
        "start_time": "2024-09-25T04:46:57.137Z"
      },
      {
        "duration": 110,
        "start_time": "2024-09-25T04:46:57.404Z"
      },
      {
        "duration": 262,
        "start_time": "2024-09-25T04:46:57.517Z"
      },
      {
        "duration": 257,
        "start_time": "2024-09-25T04:46:57.780Z"
      },
      {
        "duration": 5,
        "start_time": "2024-09-25T04:46:58.040Z"
      },
      {
        "duration": 15,
        "start_time": "2024-09-25T04:46:58.047Z"
      },
      {
        "duration": 8,
        "start_time": "2024-09-25T04:46:58.064Z"
      },
      {
        "duration": 340,
        "start_time": "2024-09-25T04:46:58.074Z"
      },
      {
        "duration": 11,
        "start_time": "2024-09-25T04:46:58.415Z"
      },
      {
        "duration": 5,
        "start_time": "2024-09-25T04:46:58.427Z"
      },
      {
        "duration": 4,
        "start_time": "2024-09-25T04:46:58.434Z"
      },
      {
        "duration": 194,
        "start_time": "2024-09-25T04:46:58.440Z"
      },
      {
        "duration": 7,
        "start_time": "2024-09-25T04:46:58.636Z"
      },
      {
        "duration": 7,
        "start_time": "2024-09-25T04:46:58.645Z"
      },
      {
        "duration": 17,
        "start_time": "2024-09-25T04:47:01.008Z"
      },
      {
        "duration": 2494,
        "start_time": "2024-09-25T12:19:16.880Z"
      },
      {
        "duration": 17,
        "start_time": "2024-09-25T12:19:19.376Z"
      },
      {
        "duration": 12,
        "start_time": "2024-09-25T12:19:19.395Z"
      },
      {
        "duration": 16,
        "start_time": "2024-09-25T12:19:19.409Z"
      },
      {
        "duration": 10,
        "start_time": "2024-09-25T12:19:19.427Z"
      },
      {
        "duration": 15,
        "start_time": "2024-09-25T12:19:19.438Z"
      },
      {
        "duration": 282,
        "start_time": "2024-09-25T12:19:19.454Z"
      },
      {
        "duration": 234,
        "start_time": "2024-09-25T12:19:19.738Z"
      },
      {
        "duration": 296,
        "start_time": "2024-09-25T12:19:19.974Z"
      },
      {
        "duration": 4,
        "start_time": "2024-09-25T12:19:20.274Z"
      },
      {
        "duration": 5,
        "start_time": "2024-09-25T12:19:20.279Z"
      },
      {
        "duration": 435,
        "start_time": "2024-09-25T12:19:20.285Z"
      },
      {
        "duration": 0,
        "start_time": "2024-09-25T12:19:20.722Z"
      },
      {
        "duration": 0,
        "start_time": "2024-09-25T12:19:20.724Z"
      },
      {
        "duration": 0,
        "start_time": "2024-09-25T12:19:20.724Z"
      },
      {
        "duration": 0,
        "start_time": "2024-09-25T12:19:20.725Z"
      },
      {
        "duration": 0,
        "start_time": "2024-09-25T12:19:20.726Z"
      },
      {
        "duration": 0,
        "start_time": "2024-09-25T12:19:20.727Z"
      },
      {
        "duration": 0,
        "start_time": "2024-09-25T12:19:20.728Z"
      },
      {
        "duration": 0,
        "start_time": "2024-09-25T12:19:20.729Z"
      },
      {
        "duration": 0,
        "start_time": "2024-09-25T12:19:20.730Z"
      },
      {
        "duration": 0,
        "start_time": "2024-09-25T12:19:20.731Z"
      },
      {
        "duration": 0,
        "start_time": "2024-09-25T12:19:20.732Z"
      },
      {
        "duration": 0,
        "start_time": "2024-09-25T12:19:20.733Z"
      },
      {
        "duration": 0,
        "start_time": "2024-09-25T12:19:20.734Z"
      },
      {
        "duration": 0,
        "start_time": "2024-09-25T12:19:20.735Z"
      },
      {
        "duration": 0,
        "start_time": "2024-09-25T12:19:20.736Z"
      },
      {
        "duration": 806,
        "start_time": "2024-09-25T12:19:30.196Z"
      },
      {
        "duration": 17,
        "start_time": "2024-09-25T12:19:31.004Z"
      },
      {
        "duration": 12,
        "start_time": "2024-09-25T12:19:31.022Z"
      },
      {
        "duration": 15,
        "start_time": "2024-09-25T12:19:31.036Z"
      },
      {
        "duration": 9,
        "start_time": "2024-09-25T12:19:31.053Z"
      },
      {
        "duration": 55,
        "start_time": "2024-09-25T12:19:31.064Z"
      },
      {
        "duration": 518,
        "start_time": "2024-09-25T12:19:31.121Z"
      },
      {
        "duration": 408,
        "start_time": "2024-09-25T12:19:31.641Z"
      },
      {
        "duration": 390,
        "start_time": "2024-09-25T12:19:32.051Z"
      },
      {
        "duration": 5,
        "start_time": "2024-09-25T12:19:32.445Z"
      },
      {
        "duration": 5,
        "start_time": "2024-09-25T12:19:32.451Z"
      },
      {
        "duration": 17,
        "start_time": "2024-09-25T12:19:32.458Z"
      },
      {
        "duration": 194,
        "start_time": "2024-09-25T12:19:32.476Z"
      },
      {
        "duration": 228,
        "start_time": "2024-09-25T12:19:32.674Z"
      },
      {
        "duration": 111,
        "start_time": "2024-09-25T12:19:32.905Z"
      },
      {
        "duration": 279,
        "start_time": "2024-09-25T12:19:33.018Z"
      },
      {
        "duration": 286,
        "start_time": "2024-09-25T12:19:33.304Z"
      },
      {
        "duration": 5,
        "start_time": "2024-09-25T12:19:33.592Z"
      },
      {
        "duration": 14,
        "start_time": "2024-09-25T12:19:33.607Z"
      },
      {
        "duration": 8,
        "start_time": "2024-09-25T12:19:33.622Z"
      },
      {
        "duration": 344,
        "start_time": "2024-09-25T12:19:33.632Z"
      },
      {
        "duration": 10,
        "start_time": "2024-09-25T12:19:33.978Z"
      },
      {
        "duration": 6,
        "start_time": "2024-09-25T12:19:33.991Z"
      },
      {
        "duration": 4,
        "start_time": "2024-09-25T12:19:34.005Z"
      },
      {
        "duration": 265,
        "start_time": "2024-09-25T12:19:34.011Z"
      },
      {
        "duration": 8,
        "start_time": "2024-09-25T12:19:34.278Z"
      },
      {
        "duration": 23,
        "start_time": "2024-09-25T12:19:34.289Z"
      },
      {
        "duration": 808,
        "start_time": "2024-09-25T12:20:14.595Z"
      },
      {
        "duration": 18,
        "start_time": "2024-09-25T12:20:15.404Z"
      },
      {
        "duration": 12,
        "start_time": "2024-09-25T12:20:15.423Z"
      },
      {
        "duration": 16,
        "start_time": "2024-09-25T12:20:15.437Z"
      },
      {
        "duration": 10,
        "start_time": "2024-09-25T12:20:15.454Z"
      },
      {
        "duration": 43,
        "start_time": "2024-09-25T12:20:15.466Z"
      },
      {
        "duration": 502,
        "start_time": "2024-09-25T12:20:15.510Z"
      },
      {
        "duration": 392,
        "start_time": "2024-09-25T12:20:16.014Z"
      },
      {
        "duration": 331,
        "start_time": "2024-09-25T12:20:16.407Z"
      },
      {
        "duration": 4,
        "start_time": "2024-09-25T12:20:16.741Z"
      },
      {
        "duration": 5,
        "start_time": "2024-09-25T12:20:16.746Z"
      },
      {
        "duration": 16,
        "start_time": "2024-09-25T12:20:16.752Z"
      },
      {
        "duration": 175,
        "start_time": "2024-09-25T12:20:16.770Z"
      },
      {
        "duration": 208,
        "start_time": "2024-09-25T12:20:16.947Z"
      },
      {
        "duration": 114,
        "start_time": "2024-09-25T12:20:17.156Z"
      },
      {
        "duration": 274,
        "start_time": "2024-09-25T12:20:17.272Z"
      },
      {
        "duration": 264,
        "start_time": "2024-09-25T12:20:17.548Z"
      },
      {
        "duration": 6,
        "start_time": "2024-09-25T12:20:17.815Z"
      },
      {
        "duration": 11,
        "start_time": "2024-09-25T12:20:17.822Z"
      },
      {
        "duration": 8,
        "start_time": "2024-09-25T12:20:17.834Z"
      },
      {
        "duration": 342,
        "start_time": "2024-09-25T12:20:17.844Z"
      },
      {
        "duration": 19,
        "start_time": "2024-09-25T12:20:18.188Z"
      },
      {
        "duration": 5,
        "start_time": "2024-09-25T12:20:18.208Z"
      },
      {
        "duration": 5,
        "start_time": "2024-09-25T12:20:18.215Z"
      },
      {
        "duration": 247,
        "start_time": "2024-09-25T12:20:18.223Z"
      },
      {
        "duration": 8,
        "start_time": "2024-09-25T12:20:18.472Z"
      },
      {
        "duration": 25,
        "start_time": "2024-09-25T12:20:18.481Z"
      },
      {
        "duration": 838,
        "start_time": "2024-09-25T12:22:32.303Z"
      },
      {
        "duration": 17,
        "start_time": "2024-09-25T12:22:33.143Z"
      },
      {
        "duration": 12,
        "start_time": "2024-09-25T12:22:33.162Z"
      },
      {
        "duration": 33,
        "start_time": "2024-09-25T12:22:33.177Z"
      },
      {
        "duration": 11,
        "start_time": "2024-09-25T12:22:33.212Z"
      },
      {
        "duration": 15,
        "start_time": "2024-09-25T12:22:33.224Z"
      },
      {
        "duration": 279,
        "start_time": "2024-09-25T12:22:33.240Z"
      },
      {
        "duration": 227,
        "start_time": "2024-09-25T12:22:33.520Z"
      },
      {
        "duration": 350,
        "start_time": "2024-09-25T12:22:33.748Z"
      },
      {
        "duration": 4,
        "start_time": "2024-09-25T12:22:34.101Z"
      },
      {
        "duration": 6,
        "start_time": "2024-09-25T12:22:34.106Z"
      },
      {
        "duration": 18,
        "start_time": "2024-09-25T12:22:34.113Z"
      },
      {
        "duration": 182,
        "start_time": "2024-09-25T12:22:34.132Z"
      },
      {
        "duration": 209,
        "start_time": "2024-09-25T12:22:34.316Z"
      },
      {
        "duration": 111,
        "start_time": "2024-09-25T12:22:34.527Z"
      },
      {
        "duration": 268,
        "start_time": "2024-09-25T12:22:34.639Z"
      },
      {
        "duration": 270,
        "start_time": "2024-09-25T12:22:34.909Z"
      },
      {
        "duration": 5,
        "start_time": "2024-09-25T12:22:35.181Z"
      },
      {
        "duration": 24,
        "start_time": "2024-09-25T12:22:35.188Z"
      },
      {
        "duration": 8,
        "start_time": "2024-09-25T12:22:35.214Z"
      },
      {
        "duration": 329,
        "start_time": "2024-09-25T12:22:35.223Z"
      },
      {
        "duration": 9,
        "start_time": "2024-09-25T12:22:35.554Z"
      },
      {
        "duration": 4,
        "start_time": "2024-09-25T12:22:35.565Z"
      },
      {
        "duration": 5,
        "start_time": "2024-09-25T12:22:35.571Z"
      },
      {
        "duration": 247,
        "start_time": "2024-09-25T12:22:35.577Z"
      },
      {
        "duration": 7,
        "start_time": "2024-09-25T12:22:35.826Z"
      },
      {
        "duration": 8,
        "start_time": "2024-09-25T12:22:35.834Z"
      },
      {
        "duration": 890,
        "start_time": "2024-09-25T12:25:50.720Z"
      },
      {
        "duration": 19,
        "start_time": "2024-09-25T12:25:51.612Z"
      },
      {
        "duration": 13,
        "start_time": "2024-09-25T12:25:51.633Z"
      },
      {
        "duration": 17,
        "start_time": "2024-09-25T12:25:51.648Z"
      },
      {
        "duration": 10,
        "start_time": "2024-09-25T12:25:51.668Z"
      },
      {
        "duration": 41,
        "start_time": "2024-09-25T12:25:51.679Z"
      },
      {
        "duration": 315,
        "start_time": "2024-09-25T12:25:51.722Z"
      },
      {
        "duration": 509,
        "start_time": "2024-09-25T12:25:52.039Z"
      },
      {
        "duration": 427,
        "start_time": "2024-09-25T12:25:52.550Z"
      },
      {
        "duration": 4,
        "start_time": "2024-09-25T12:25:52.979Z"
      },
      {
        "duration": 5,
        "start_time": "2024-09-25T12:25:52.984Z"
      },
      {
        "duration": 22,
        "start_time": "2024-09-25T12:25:52.990Z"
      },
      {
        "duration": 173,
        "start_time": "2024-09-25T12:25:53.015Z"
      },
      {
        "duration": 206,
        "start_time": "2024-09-25T12:25:53.191Z"
      },
      {
        "duration": 109,
        "start_time": "2024-09-25T12:25:53.400Z"
      },
      {
        "duration": 263,
        "start_time": "2024-09-25T12:25:53.511Z"
      },
      {
        "duration": 266,
        "start_time": "2024-09-25T12:25:53.776Z"
      },
      {
        "duration": 5,
        "start_time": "2024-09-25T12:25:54.044Z"
      },
      {
        "duration": 10,
        "start_time": "2024-09-25T12:25:54.050Z"
      },
      {
        "duration": 9,
        "start_time": "2024-09-25T12:25:54.062Z"
      },
      {
        "duration": 352,
        "start_time": "2024-09-25T12:25:54.072Z"
      },
      {
        "duration": 9,
        "start_time": "2024-09-25T12:25:54.426Z"
      },
      {
        "duration": 4,
        "start_time": "2024-09-25T12:25:54.438Z"
      },
      {
        "duration": 5,
        "start_time": "2024-09-25T12:25:54.444Z"
      },
      {
        "duration": 248,
        "start_time": "2024-09-25T12:25:54.450Z"
      },
      {
        "duration": 6,
        "start_time": "2024-09-25T12:25:54.704Z"
      },
      {
        "duration": 6,
        "start_time": "2024-09-25T12:25:54.712Z"
      },
      {
        "duration": 3236,
        "start_time": "2024-09-25T17:55:36.542Z"
      },
      {
        "duration": 18,
        "start_time": "2024-09-25T17:55:39.780Z"
      },
      {
        "duration": 11,
        "start_time": "2024-09-25T17:55:39.800Z"
      },
      {
        "duration": 17,
        "start_time": "2024-09-25T17:55:39.813Z"
      },
      {
        "duration": 9,
        "start_time": "2024-09-25T17:55:39.832Z"
      },
      {
        "duration": 14,
        "start_time": "2024-09-25T17:55:39.842Z"
      },
      {
        "duration": 278,
        "start_time": "2024-09-25T17:55:39.858Z"
      },
      {
        "duration": 233,
        "start_time": "2024-09-25T17:55:40.138Z"
      },
      {
        "duration": 304,
        "start_time": "2024-09-25T17:55:40.372Z"
      },
      {
        "duration": 4,
        "start_time": "2024-09-25T17:55:40.680Z"
      },
      {
        "duration": 5,
        "start_time": "2024-09-25T17:55:40.685Z"
      },
      {
        "duration": 67,
        "start_time": "2024-09-25T17:55:40.692Z"
      },
      {
        "duration": 167,
        "start_time": "2024-09-25T17:55:40.761Z"
      },
      {
        "duration": 228,
        "start_time": "2024-09-25T17:55:40.930Z"
      },
      {
        "duration": 120,
        "start_time": "2024-09-25T17:55:41.159Z"
      },
      {
        "duration": 272,
        "start_time": "2024-09-25T17:55:41.280Z"
      },
      {
        "duration": 266,
        "start_time": "2024-09-25T17:55:41.554Z"
      },
      {
        "duration": 5,
        "start_time": "2024-09-25T17:55:41.823Z"
      },
      {
        "duration": 11,
        "start_time": "2024-09-25T17:55:41.829Z"
      },
      {
        "duration": 8,
        "start_time": "2024-09-25T17:55:41.841Z"
      },
      {
        "duration": 354,
        "start_time": "2024-09-25T17:55:41.850Z"
      },
      {
        "duration": 18,
        "start_time": "2024-09-25T17:55:42.206Z"
      },
      {
        "duration": 5,
        "start_time": "2024-09-25T17:55:42.226Z"
      },
      {
        "duration": 5,
        "start_time": "2024-09-25T17:55:42.232Z"
      },
      {
        "duration": 172,
        "start_time": "2024-09-25T17:55:42.238Z"
      },
      {
        "duration": 12,
        "start_time": "2024-09-25T17:55:42.412Z"
      },
      {
        "duration": 5,
        "start_time": "2024-09-25T17:55:42.426Z"
      }
    ],
    "toc": {
      "base_numbering": 1,
      "nav_menu": {},
      "number_sections": true,
      "sideBar": true,
      "skip_h1_title": true,
      "title_cell": "Table of Contents",
      "title_sidebar": "Contents",
      "toc_cell": false,
      "toc_position": {
        "height": "calc(100% - 180px)",
        "left": "10px",
        "top": "150px",
        "width": "233.594px"
      },
      "toc_section_display": true,
      "toc_window_display": true
    }
  },
  "nbformat_minor": 4,
  "nbformat": 4,
  "cells": [
    {
      "cell_type": "markdown",
      "source": "# Analysis of Data from Ice c. 2016\n\n## Introduction\n\nThe purpose of this study is to determine the sales patterns of various games sold by Ice to determine whether or not they will succeed on the open market, which could open the way for focusing advertising on those products that could guarantee the most sucesss.",
      "metadata": {}
    },
    {
      "cell_type": "code",
      "source": "import pandas as pd\nimport numpy as np\nimport matplotlib.pyplot as plt\nimport seaborn as sns\n\nfrom scipy import stats\n\nfile_path = '/datasets/games.csv'\ndf = pd.read_csv(file_path)",
      "metadata": {
        "trusted": true
      },
      "outputs": [],
      "execution_count": 1
    },
    {
      "cell_type": "markdown",
      "source": "## Basic Formatting",
      "metadata": {}
    },
    {
      "cell_type": "markdown",
      "source": "### Columns work",
      "metadata": {}
    },
    {
      "cell_type": "code",
      "source": "df.columns = [col.lower() for col in df.columns]\ndf.info()\n\ndf['user_score'].replace('tbd', np.nan, inplace=True)\n\ndf['user_score'] = pd.to_numeric(df['user_score'], errors='coerce')\ndf['user_score'] = df['user_score'].round(1)\n\nprint(df['year_of_release'].unique())\nprint(df['user_score'].unique())",
      "metadata": {
        "trusted": true
      },
      "outputs": [
        {
          "name": "stdout",
          "output_type": "stream",
          "text": "<class 'pandas.core.frame.DataFrame'>\nRangeIndex: 16715 entries, 0 to 16714\nData columns (total 11 columns):\n #   Column           Non-Null Count  Dtype  \n---  ------           --------------  -----  \n 0   name             16713 non-null  object \n 1   platform         16715 non-null  object \n 2   year_of_release  16446 non-null  float64\n 3   genre            16713 non-null  object \n 4   na_sales         16715 non-null  float64\n 5   eu_sales         16715 non-null  float64\n 6   jp_sales         16715 non-null  float64\n 7   other_sales      16715 non-null  float64\n 8   critic_score     8137 non-null   float64\n 9   user_score       10014 non-null  object \n 10  rating           9949 non-null   object \ndtypes: float64(6), object(5)\nmemory usage: 1.4+ MB\n[2006. 1985. 2008. 2009. 1996. 1989. 1984. 2005. 1999. 2007. 2010. 2013.\n 2004. 1990. 1988. 2002. 2001. 2011. 1998. 2015. 2012. 2014. 1992. 1997.\n 1993. 1994. 1982. 2016. 2003. 1986. 2000.   nan 1995. 1991. 1981. 1987.\n 1980. 1983.]\n[8.  nan 8.3 8.5 6.6 8.4 8.6 7.7 6.3 7.4 8.2 9.  7.9 8.1 8.7 7.1 3.4 5.3\n 4.8 3.2 8.9 6.4 7.8 7.5 2.6 7.2 9.2 7.  7.3 4.3 7.6 5.7 5.  9.1 6.5 8.8\n 6.9 9.4 6.8 6.1 6.7 5.4 4.  4.9 4.5 9.3 6.2 4.2 6.  3.7 4.1 5.8 5.6 5.5\n 4.4 4.6 5.9 3.9 3.1 2.9 5.2 3.3 4.7 5.1 3.5 2.5 1.9 3.  2.7 2.2 2.  9.5\n 2.1 3.6 2.8 1.8 3.8 0.  1.6 9.6 2.4 1.7 1.1 0.3 1.5 0.7 1.2 2.3 0.5 1.3\n 0.2 0.6 1.4 0.9 1.  9.7]\n"
        }
      ],
      "execution_count": 2
    },
    {
      "cell_type": "markdown",
      "source": "A number of columns have been changed from objects to Int64 float types to better handle any possible missing values and enable better analysis of the data by turning it into a numerical system that can be recognized.",
      "metadata": {}
    },
    {
      "cell_type": "markdown",
      "source": "### Missing Values",
      "metadata": {}
    },
    {
      "cell_type": "code",
      "source": "missing_data = df.isnull().sum()\nprint(missing_data)\n\ndf = df.dropna(subset=['year_of_release'])\nprint(df.isnull().sum())",
      "metadata": {
        "trusted": true
      },
      "outputs": [
        {
          "name": "stdout",
          "output_type": "stream",
          "text": "name                  2\nplatform              0\nyear_of_release     269\ngenre                 2\nna_sales              0\neu_sales              0\njp_sales              0\nother_sales           0\ncritic_score       8578\nuser_score         9125\nrating             6766\ndtype: int64\nname                  2\nplatform              0\nyear_of_release       0\ngenre                 2\nna_sales              0\neu_sales              0\njp_sales              0\nother_sales           0\ncritic_score       8463\nuser_score         8983\nrating             6678\ndtype: int64\n"
        }
      ],
      "execution_count": 3
    },
    {
      "cell_type": "markdown",
      "source": "For the \"TBD\" value, many values to be determined could be there because they did not have a critic or user score, or an ESRB rating at the time of recording the dataset. I simply chose to leave it in place.\n\nAs for the rest, those mainly had missing years, so that was decided by marking it with 0 until it could be filled.\n\nFor missing values, a number of factors could be the cause of this, including:\n* For year of release, it could be chalked up to incomplete historical records or any data entry errors.\n* Review scores can be justified by the fact that some games might not have had any reviews from either users and professional critics.\n\nFor missing year values, the decision was taken to simply ignore the rows containing them (some 269 total), if only to ensure the integrity of our analysis.",
      "metadata": {}
    },
    {
      "cell_type": "markdown",
      "source": "### Duplicate Values",
      "metadata": {}
    },
    {
      "cell_type": "code",
      "source": "duplicate_values = df.duplicated()\nprint(f'Number of duplicate values:, {duplicate_values.shape[0]}')\n\ndf = df.drop_duplicates()",
      "metadata": {
        "trusted": true
      },
      "outputs": [
        {
          "name": "stdout",
          "output_type": "stream",
          "text": "Number of duplicate values:, 16446\n"
        }
      ],
      "execution_count": 4
    },
    {
      "cell_type": "markdown",
      "source": "There are a number of duplicate values which show up on this dataset, which could be explained by either human error, combined datasets from different sources, or just actual multiple listings in the dataset.",
      "metadata": {}
    },
    {
      "cell_type": "code",
      "source": "duplicate_name_year_platform = df[df.duplicated(subset=['name', 'year_of_release', 'platform'])]\nprint(f'Number of name-year-platform duplicate rows: {duplicate_name_year_platform.shape[0]}')\n\ndf = df.drop_duplicates(subset=['name', 'year_of_release', 'platform'])",
      "metadata": {
        "trusted": true
      },
      "outputs": [
        {
          "name": "stdout",
          "output_type": "stream",
          "text": "Number of name-year-platform duplicate rows: 2\n"
        }
      ],
      "execution_count": 5
    },
    {
      "cell_type": "markdown",
      "source": "## Analysis of Data (Total)\n\n### Total Sales (dataset)",
      "metadata": {}
    },
    {
      "cell_type": "code",
      "source": "df['total_sales'] = df[['na_sales', 'eu_sales', 'jp_sales', 'other_sales']].sum(axis=1)\n\ndf.head()",
      "metadata": {
        "trusted": true
      },
      "outputs": [
        {
          "data": {
            "text/html": "<div>\n<style scoped>\n    .dataframe tbody tr th:only-of-type {\n        vertical-align: middle;\n    }\n\n    .dataframe tbody tr th {\n        vertical-align: top;\n    }\n\n    .dataframe thead th {\n        text-align: right;\n    }\n</style>\n<table border=\"1\" class=\"dataframe\">\n  <thead>\n    <tr style=\"text-align: right;\">\n      <th></th>\n      <th>name</th>\n      <th>platform</th>\n      <th>year_of_release</th>\n      <th>genre</th>\n      <th>na_sales</th>\n      <th>eu_sales</th>\n      <th>jp_sales</th>\n      <th>other_sales</th>\n      <th>critic_score</th>\n      <th>user_score</th>\n      <th>rating</th>\n      <th>total_sales</th>\n    </tr>\n  </thead>\n  <tbody>\n    <tr>\n      <th>0</th>\n      <td>Wii Sports</td>\n      <td>Wii</td>\n      <td>2006.0</td>\n      <td>Sports</td>\n      <td>41.36</td>\n      <td>28.96</td>\n      <td>3.77</td>\n      <td>8.45</td>\n      <td>76.0</td>\n      <td>8.0</td>\n      <td>E</td>\n      <td>82.54</td>\n    </tr>\n    <tr>\n      <th>1</th>\n      <td>Super Mario Bros.</td>\n      <td>NES</td>\n      <td>1985.0</td>\n      <td>Platform</td>\n      <td>29.08</td>\n      <td>3.58</td>\n      <td>6.81</td>\n      <td>0.77</td>\n      <td>NaN</td>\n      <td>NaN</td>\n      <td>NaN</td>\n      <td>40.24</td>\n    </tr>\n    <tr>\n      <th>2</th>\n      <td>Mario Kart Wii</td>\n      <td>Wii</td>\n      <td>2008.0</td>\n      <td>Racing</td>\n      <td>15.68</td>\n      <td>12.76</td>\n      <td>3.79</td>\n      <td>3.29</td>\n      <td>82.0</td>\n      <td>8.3</td>\n      <td>E</td>\n      <td>35.52</td>\n    </tr>\n    <tr>\n      <th>3</th>\n      <td>Wii Sports Resort</td>\n      <td>Wii</td>\n      <td>2009.0</td>\n      <td>Sports</td>\n      <td>15.61</td>\n      <td>10.93</td>\n      <td>3.28</td>\n      <td>2.95</td>\n      <td>80.0</td>\n      <td>8.0</td>\n      <td>E</td>\n      <td>32.77</td>\n    </tr>\n    <tr>\n      <th>4</th>\n      <td>Pokemon Red/Pokemon Blue</td>\n      <td>GB</td>\n      <td>1996.0</td>\n      <td>Role-Playing</td>\n      <td>11.27</td>\n      <td>8.89</td>\n      <td>10.22</td>\n      <td>1.00</td>\n      <td>NaN</td>\n      <td>NaN</td>\n      <td>NaN</td>\n      <td>31.38</td>\n    </tr>\n  </tbody>\n</table>\n</div>",
            "text/plain": "                       name platform  year_of_release         genre  na_sales  \\\n0                Wii Sports      Wii           2006.0        Sports     41.36   \n1         Super Mario Bros.      NES           1985.0      Platform     29.08   \n2            Mario Kart Wii      Wii           2008.0        Racing     15.68   \n3         Wii Sports Resort      Wii           2009.0        Sports     15.61   \n4  Pokemon Red/Pokemon Blue       GB           1996.0  Role-Playing     11.27   \n\n   eu_sales  jp_sales  other_sales  critic_score  user_score rating  \\\n0     28.96      3.77         8.45          76.0         8.0      E   \n1      3.58      6.81         0.77           NaN         NaN    NaN   \n2     12.76      3.79         3.29          82.0         8.3      E   \n3     10.93      3.28         2.95          80.0         8.0      E   \n4      8.89     10.22         1.00           NaN         NaN    NaN   \n\n   total_sales  \n0        82.54  \n1        40.24  \n2        35.52  \n3        32.77  \n4        31.38  "
          },
          "execution_count": 6,
          "metadata": {},
          "output_type": "execute_result"
        }
      ],
      "execution_count": 6
    },
    {
      "cell_type": "markdown",
      "source": "So far, the dataset for the most part includes much of the data we would need to do some through analysis by region, sales figures, and review scores to press forward. ",
      "metadata": {}
    },
    {
      "cell_type": "markdown",
      "source": "### Number of Games per Year",
      "metadata": {}
    },
    {
      "cell_type": "code",
      "source": "games_per_year = df['year_of_release'].value_counts().sort_index()\n\nplt.figure(figsize=(10, 6))\ngames_per_year.plot(kind='bar')\nplt.title('Number of Games Released per Year')\nplt.xlabel('Year of Release')\nplt.ylabel('Number of Games')\nplt.show()",
      "metadata": {
        "trusted": true
      },
      "outputs": [
        {
          "data": {
            "image/png": "[encoded data removed]",
            "text/plain": "<Figure size 1000x600 with 1 Axes>"
          },
          "metadata": {},
          "output_type": "display_data"
        }
      ],
      "execution_count": 7
    },
    {
      "cell_type": "markdown",
      "source": "Most of the games being sold were made relatively recently (data from 2016), with most of the games from 2006 to 2011 (that is five to ten years ago).",
      "metadata": {}
    },
    {
      "cell_type": "markdown",
      "source": "### Total Sales by Platform",
      "metadata": {}
    },
    {
      "cell_type": "code",
      "source": "platform_sales = df.groupby('platform')['total_sales'].sum().sort_values(ascending=False)\n\nplt.figure(figsize=(12, 6))\nplatform_sales.plot(kind='bar')\nplt.title('Total Sales by Platform')\nplt.xlabel('Platform')\nplt.ylabel('Total Sales (in millions)')\nplt.show()",
      "metadata": {
        "trusted": true
      },
      "outputs": [
        {
          "data": {
            "image/png": "[encoded data removed]",
            "text/plain": "<Figure size 1200x600 with 1 Axes>"
          },
          "metadata": {},
          "output_type": "display_data"
        }
      ],
      "execution_count": 8
    },
    {
      "cell_type": "markdown",
      "source": "By far the most successful platform sold is the PlayStation 2, with over 1.250 trillion units sold over its entire lifespan. The next successful are the XBOX 360, the PlayStation 3, the Wii, and Nintendo DS.",
      "metadata": {}
    },
    {
      "cell_type": "markdown",
      "source": "### Yearly Sales by Platform",
      "metadata": {}
    },
    {
      "cell_type": "code",
      "source": "df_filtered = df[df['year_of_release'] >= 1980]\ntop_platforms = df.groupby('platform')['total_sales'].sum().sort_values(ascending=False).head(15).index\ntop_platforms_data = df[df['platform'].isin(top_platforms)]\nsales_per_platform_per_year = top_platforms_data.pivot_table(index='year_of_release', columns='platform', values='total_sales', aggfunc='sum')\n\nplt.figure(figsize=(14, 8))\nfor platform in sales_per_platform_per_year.columns:\n    plt.plot(sales_per_platform_per_year.index, sales_per_platform_per_year[platform], label=platform)\n\nplt.title('Yearly Sales for Each Platform')\nplt.xlabel('Year of Release')\nplt.ylabel('Total Sales (in millions)')\nplt.legend(loc='upper left', bbox_to_anchor=(1, 1), title='Platform')\nplt.show()",
      "metadata": {
        "trusted": true
      },
      "outputs": [
        {
          "data": {
            "image/png": "[encoded data removed]",
            "text/plain": "<Figure size 1400x800 with 1 Axes>"
          },
          "metadata": {},
          "output_type": "display_data"
        }
      ],
      "execution_count": 9
    },
    {
      "cell_type": "markdown",
      "source": "The second graphs also shows how each platform's sales fared over the course of decades, with a pattern that each platform has an average sales lifespan of around 5-7 years or so, dropping around the time that a superior offering is being sold.",
      "metadata": {}
    },
    {
      "cell_type": "markdown",
      "source": "## Analysis of Data (from 2013 onward)",
      "metadata": {}
    },
    {
      "cell_type": "code",
      "source": "relevant_data = df[df['year_of_release'] >= 2013]",
      "metadata": {
        "trusted": true
      },
      "outputs": [],
      "execution_count": 10
    },
    {
      "cell_type": "markdown",
      "source": "### Leading Platform",
      "metadata": {}
    },
    {
      "cell_type": "code",
      "source": "top_platforms = relevant_data.groupby('platform')['total_sales'].sum().sort_values(ascending=False).head(5)\nprint(top_platforms)",
      "metadata": {
        "trusted": true
      },
      "outputs": [
        {
          "name": "stdout",
          "output_type": "stream",
          "text": "platform\nPS4     314.14\nPS3     181.43\nXOne    159.32\n3DS     143.25\nX360    136.80\nName: total_sales, dtype: float64\n"
        }
      ],
      "execution_count": 11
    },
    {
      "cell_type": "markdown",
      "source": "With this in mind, the PlayStation system continues to be the dominant platform, with the PlayStation 4 the dominant platform alongside the PlayStation 3, while the XBOX One is a close third. The Nintendo 3DS and the XBOX 360 round out the total sales. If we look at the trends by each platform...",
      "metadata": {}
    },
    {
      "cell_type": "code",
      "source": "recent_data = df[df['year_of_release'] >= 2013]\n\ntop_platforms = recent_data.groupby('platform')['total_sales'].sum().sort_values(ascending=False).head(5).index\ntop_platforms_data = recent_data[recent_data['platform'].isin(top_platforms)]\n\nyear_platform_sales = df.groupby(['year_of_release', 'platform'])['total_sales'].sum().reset_index()\n\npivot_table = top_platforms_data.pivot_table(index='year_of_release', columns='platform', values='total_sales', aggfunc='sum')\nprint(pivot_table)",
      "metadata": {
        "trusted": true
      },
      "outputs": [
        {
          "name": "stdout",
          "output_type": "stream",
          "text": "platform           3DS     PS3     PS4   X360   XOne\nyear_of_release                                     \n2013.0           56.57  113.25   25.99  88.58  18.96\n2014.0           43.76   47.76  100.00  34.74  54.07\n2015.0           27.78   16.82  118.90  11.96  60.14\n2016.0           15.14    3.60   69.25   1.52  26.15\n"
        }
      ],
      "execution_count": 12
    },
    {
      "cell_type": "code",
      "source": "plt.figure(figsize=(14, 8))\npivot_table.plot(kind='line')\nplt.title('Sales Trends Over Time for Top Platforms (2013-Present)')\nplt.xlabel('Year of Release')\nplt.ylabel('Total Sales (in millions)')\nplt.legend(title='Platform', bbox_to_anchor=(1.05, 1), loc='upper left')\nplt.grid()\nplt.show()",
      "metadata": {
        "trusted": true
      },
      "outputs": [
        {
          "data": {
            "text/plain": "<Figure size 1400x800 with 0 Axes>"
          },
          "metadata": {},
          "output_type": "display_data"
        },
        {
          "data": {
            "image/png": "[encoded data removed]",
            "text/plain": "<Figure size 640x480 with 1 Axes>"
          },
          "metadata": {},
          "output_type": "display_data"
        }
      ],
      "execution_count": 13
    },
    {
      "cell_type": "markdown",
      "source": "... we can actually see that both the PlayStation 3 and XBOX 360 (alongside the Nintendo 3DS) were actually declining around the timeframe in question, with sales figures for the three platforms all declining by this period, while figures for both the PlayStation 4 and XBOX One increasing around that time, peaking in 2015.",
      "metadata": {}
    },
    {
      "cell_type": "markdown",
      "source": "### Global Sales by Platform",
      "metadata": {}
    },
    {
      "cell_type": "code",
      "source": "plt.figure(figsize=(12, 6))\nsns.boxplot(x='platform', y='total_sales', data=relevant_data)\nplt.title('Global Sales by Platform')\nplt.ylim (top=3, bottom=0)\nplt.show()",
      "metadata": {
        "trusted": true
      },
      "outputs": [
        {
          "data": {
            "image/png": "[encoded data removed]",
            "text/plain": "<Figure size 1200x600 with 1 Axes>"
          },
          "metadata": {},
          "output_type": "display_data"
        }
      ],
      "execution_count": 14
    },
    {
      "cell_type": "markdown",
      "source": "In terms of global sales by platform, there's a relatively even spread among platforms, with many of the modern systems (the PlayStation 3 and PlayStation 4, and the XBOX 360 and XBOX One) having higher averages compared to most others.\n\nMany of the outliers also inidicate that because games were sorted by platform, there were cases in which games on said platforms are so popular that they sell well outside the average.",
      "metadata": {}
    },
    {
      "cell_type": "markdown",
      "source": "### Correlation between User and Professional Reviews vs Total Sales",
      "metadata": {}
    },
    {
      "cell_type": "code",
      "source": "sns.scatterplot(x='user_score', y='total_sales', data=relevant_data)\nplt.title('User Score vs Total Sales')\nplt.show()\n\ncorrelation = relevant_data[['user_score', 'total_sales']].corr()\nprint(correlation)",
      "metadata": {
        "trusted": true
      },
      "outputs": [
        {
          "data": {
            "image/png": "[encoded data removed]",
            "text/plain": "<Figure size 640x480 with 1 Axes>"
          },
          "metadata": {},
          "output_type": "display_data"
        },
        {
          "name": "stdout",
          "output_type": "stream",
          "text": "             user_score  total_sales\nuser_score     1.000000    -0.002608\ntotal_sales   -0.002608     1.000000\n"
        }
      ],
      "execution_count": 15
    },
    {
      "cell_type": "markdown",
      "source": "As you can see, there is a general correlation between user scores and the total sales of each game, with higher scores (highest being 8) translating to higher sales overall. We can actually further break it down by the sales of the two most popular video game platforms in recent years (the PlayStation 4 and XBOX One).\n\nAll three platforms (shown below) show similar correlations, with a similar bump as rating scores increase up to a peak of 8.0 and above.",
      "metadata": {}
    },
    {
      "cell_type": "code",
      "source": "chosen_platform = 'PS4'\nplatform_data = df[df['platform'] == chosen_platform]\n\nplt.figure(figsize=(10, 5))\nsns.scatterplot(x=platform_data['critic_score'], y=platform_data['total_sales'])\nplt.title(f'Critic Score vs. Total Sales for {chosen_platform}')\nplt.xlabel('Critic Score')\nplt.ylabel('Total Sales (in millions)')\nplt.show()\n\nplt.figure(figsize=(10, 5))\nsns.scatterplot(x=platform_data['user_score'], y=platform_data['total_sales'])\nplt.title(f'User Score vs. Total Sales for {chosen_platform}')\nplt.xlabel('User Score')\nplt.ylabel('Total Sales (in millions)')\nplt.show()\n\ncritic_corr = platform_data['critic_score'].corr(platform_data['total_sales'])\nuser_corr = platform_data['user_score'].corr(platform_data['total_sales'])\n\nprint(f\"Correlation between Critic Score and Total Sales for {chosen_platform}: {critic_corr}\")\nprint(f\"Correlation between User Score and Total Sales for {chosen_platform}: {user_corr}\")",
      "metadata": {
        "trusted": true
      },
      "outputs": [
        {
          "data": {
            "image/png": "[encoded data removed]",
            "text/plain": "<Figure size 1000x500 with 1 Axes>"
          },
          "metadata": {},
          "output_type": "display_data"
        },
        {
          "data": {
            "image/png": "[encoded data removed]",
            "text/plain": "<Figure size 1000x500 with 1 Axes>"
          },
          "metadata": {},
          "output_type": "display_data"
        },
        {
          "name": "stdout",
          "output_type": "stream",
          "text": "Correlation between Critic Score and Total Sales for PS4: 0.40656790206178095\nCorrelation between User Score and Total Sales for PS4: -0.031957110204556424\n"
        }
      ],
      "execution_count": 16
    },
    {
      "cell_type": "code",
      "source": "chosen_platform = 'XOne'\nplatform_data = df[df['platform'] == chosen_platform]\n\nplt.figure(figsize=(10, 5))\nsns.scatterplot(x=platform_data['critic_score'], y=platform_data['total_sales'])\nplt.title(f'Critic Score vs. Total Sales for {chosen_platform}')\nplt.xlabel('Critic Score')\nplt.ylabel('Total Sales (in millions)')\nplt.show()\n\nplt.figure(figsize=(10, 5))\nsns.scatterplot(x=platform_data['user_score'], y=platform_data['total_sales'])\nplt.title(f'User Score vs. Total Sales for {chosen_platform}')\nplt.xlabel('User Score')\nplt.ylabel('Total Sales (in millions)')\nplt.show()\n\ncritic_corr = platform_data['critic_score'].corr(platform_data['total_sales'])\nuser_corr = platform_data['user_score'].corr(platform_data['total_sales'])\n\nprint(f\"Correlation between Critic Score and Total Sales for {chosen_platform}: {critic_corr}\")\nprint(f\"Correlation between User Score and Total Sales for {chosen_platform}: {user_corr}\")",
      "metadata": {
        "trusted": true
      },
      "outputs": [
        {
          "data": {
            "image/png": "[encoded data removed]",
            "text/plain": "<Figure size 1000x500 with 1 Axes>"
          },
          "metadata": {},
          "output_type": "display_data"
        },
        {
          "data": {
            "image/png": "[encoded data removed]",
            "text/plain": "<Figure size 1000x500 with 1 Axes>"
          },
          "metadata": {},
          "output_type": "display_data"
        },
        {
          "name": "stdout",
          "output_type": "stream",
          "text": "Correlation between Critic Score and Total Sales for XOne: 0.4169983280084017\nCorrelation between User Score and Total Sales for XOne: -0.06892505328279414\n"
        }
      ],
      "execution_count": 17
    },
    {
      "cell_type": "markdown",
      "source": "As can be seen in the two sets of graphs shown above, both the XBOX One and PlayStation 4 exhibited similar trends in terms of both critic and user scores to total sales per game (with some outliers), which does lend credence to this idea that sales increase as user and critic scores increase (indicating that they are more popular with consumers).",
      "metadata": {}
    },
    {
      "cell_type": "markdown",
      "source": "### Analysis of Sales per Genre",
      "metadata": {}
    },
    {
      "cell_type": "code",
      "source": "genre_sales = relevant_data.groupby('genre')['total_sales'].sum().sort_values(ascending=False)\nprint(genre_sales)",
      "metadata": {
        "trusted": true
      },
      "outputs": [
        {
          "name": "stdout",
          "output_type": "stream",
          "text": "genre\nAction          321.87\nShooter         232.98\nSports          150.65\nRole-Playing    145.89\nMisc             62.82\nPlatform         42.63\nRacing           39.89\nFighting         35.31\nAdventure        23.64\nSimulation       21.76\nStrategy         10.08\nPuzzle            3.17\nName: total_sales, dtype: float64\n"
        }
      ],
      "execution_count": 18
    },
    {
      "cell_type": "markdown",
      "source": "Of the genres, the top three-selling game genres (in terms of total sales) are action games (at 321.9 billion units sold), shooters (at 233 billion), and sports games (at 150.7 billion).\n\nOf course, in order to more accurately gauge the average number of sales per genre, we'd have to split it up by game and compare it in there:",
      "metadata": {}
    },
    {
      "cell_type": "code",
      "source": "genre_group = relevant_data.groupby('genre').agg({\n    'total_sales': ['sum', 'mean', 'median'],\n    'name': 'count'\n}).reset_index()\n\ngenre_group.columns = ['genre', 'total_sales', 'avg_sales', 'median_sales', 'number_of_games']\n\nprint(genre_group)",
      "metadata": {
        "trusted": true
      },
      "outputs": [
        {
          "name": "stdout",
          "output_type": "stream",
          "text": "           genre  total_sales  avg_sales  median_sales  number_of_games\n0         Action       321.87   0.420196         0.110              766\n1      Adventure        23.64   0.096490         0.030              245\n2       Fighting        35.31   0.441375         0.125               80\n3           Misc        62.82   0.405290         0.100              155\n4       Platform        42.63   0.576081         0.225               74\n5         Puzzle         3.17   0.186471         0.060               17\n6         Racing        39.89   0.469294         0.120               85\n7   Role-Playing       145.89   0.499623         0.125              292\n8        Shooter       232.98   1.245882         0.450              187\n9     Simulation        21.76   0.350968         0.100               62\n10        Sports       150.65   0.703972         0.240              214\n11      Strategy        10.08   0.180000         0.080               56\n"
        }
      ],
      "execution_count": 19
    },
    {
      "cell_type": "code",
      "source": "sorted_by_avg_sales = genre_group.sort_values(by='avg_sales', ascending=False)\nprint(\"Genres sorted by average sales per game:\")\nprint(sorted_by_avg_sales)\n\nsorted_by_median_sales = genre_group.sort_values(by='median_sales', ascending=False)\nprint(\"Genres sorted by median sales per game:\")\nprint(sorted_by_median_sales)",
      "metadata": {
        "trusted": true
      },
      "outputs": [
        {
          "name": "stdout",
          "output_type": "stream",
          "text": "Genres sorted by average sales per game:\n           genre  total_sales  avg_sales  median_sales  number_of_games\n8        Shooter       232.98   1.245882         0.450              187\n10        Sports       150.65   0.703972         0.240              214\n4       Platform        42.63   0.576081         0.225               74\n7   Role-Playing       145.89   0.499623         0.125              292\n6         Racing        39.89   0.469294         0.120               85\n2       Fighting        35.31   0.441375         0.125               80\n0         Action       321.87   0.420196         0.110              766\n3           Misc        62.82   0.405290         0.100              155\n9     Simulation        21.76   0.350968         0.100               62\n5         Puzzle         3.17   0.186471         0.060               17\n11      Strategy        10.08   0.180000         0.080               56\n1      Adventure        23.64   0.096490         0.030              245\nGenres sorted by median sales per game:\n           genre  total_sales  avg_sales  median_sales  number_of_games\n8        Shooter       232.98   1.245882         0.450              187\n10        Sports       150.65   0.703972         0.240              214\n4       Platform        42.63   0.576081         0.225               74\n7   Role-Playing       145.89   0.499623         0.125              292\n2       Fighting        35.31   0.441375         0.125               80\n6         Racing        39.89   0.469294         0.120               85\n0         Action       321.87   0.420196         0.110              766\n9     Simulation        21.76   0.350968         0.100               62\n3           Misc        62.82   0.405290         0.100              155\n11      Strategy        10.08   0.180000         0.080               56\n5         Puzzle         3.17   0.186471         0.060               17\n1      Adventure        23.64   0.096490         0.030              245\n"
        }
      ],
      "execution_count": 20
    },
    {
      "cell_type": "code",
      "source": "plt.figure(figsize=(12, 6))\nsns.barplot(x='avg_sales', y='genre', data=sorted_by_avg_sales)\nplt.title('Average Sales per Game by Genre')\nplt.xlabel('Average Sales (in millions)')\nplt.ylabel('Genre')\nplt.show()\n\nplt.figure(figsize=(12, 6))\nsns.barplot(x='median_sales', y='genre', data=sorted_by_median_sales)\nplt.title('Median Sales per Game by Genre')\nplt.xlabel('Median Sales (in millions)')\nplt.ylabel('Genre')\nplt.show()",
      "metadata": {
        "trusted": true
      },
      "outputs": [
        {
          "data": {
            "image/png": "[encoded data removed]",
            "text/plain": "<Figure size 1200x600 with 1 Axes>"
          },
          "metadata": {},
          "output_type": "display_data"
        },
        {
          "data": {
            "image/png": "[encoded data removed]",
            "text/plain": "<Figure size 1200x600 with 1 Axes>"
          },
          "metadata": {},
          "output_type": "display_data"
        }
      ],
      "execution_count": 21
    },
    {
      "cell_type": "markdown",
      "source": "While action games dominate the industry in terms of number of games sold and total volume of sales, shooter games by far dominate both in terms of average and median sales per game, with sports games at second and platform games at third.",
      "metadata": {}
    },
    {
      "cell_type": "markdown",
      "source": "## Analysis of Data (Region-by-Region)\n\nThe following is a region-by-region analysis of the data before us, as well as some conjecture...",
      "metadata": {}
    },
    {
      "cell_type": "code",
      "source": "na_platform_sales = relevant_data.groupby('platform')['na_sales'].sum().sort_values(ascending=False).head(5)\neu_platform_sales = relevant_data.groupby('platform')['eu_sales'].sum().sort_values(ascending=False).head(5)\njp_platform_sales = relevant_data.groupby('platform')['jp_sales'].sum().sort_values(ascending=False).head(5)\n\nna_genre_sales = relevant_data.groupby('genre')['na_sales'].sum().sort_values(ascending=False).head(5)\neu_genre_sales = relevant_data.groupby('genre')['eu_sales'].sum().sort_values(ascending=False).head(5)\njp_genre_sales = relevant_data.groupby('genre')['jp_sales'].sum().sort_values(ascending=False).head(5)",
      "metadata": {
        "trusted": true
      },
      "outputs": [],
      "execution_count": 22
    },
    {
      "cell_type": "markdown",
      "source": "### Top Five Platforms by Region",
      "metadata": {}
    },
    {
      "cell_type": "code",
      "source": "print(\"Top 5 Platforms in North America:\")\nprint(na_platform_sales)\n\nprint(\"Top 5 Platforms in Europe:\")\nprint(eu_platform_sales)\n\nprint(\"Top 5 Platforms in Japan:\")\nprint(jp_platform_sales)",
      "metadata": {
        "scrolled": true,
        "trusted": true
      },
      "outputs": [
        {
          "name": "stdout",
          "output_type": "stream",
          "text": "Top 5 Platforms in North America:\nplatform\nPS4     108.74\nXOne     93.12\nX360     81.66\nPS3      63.50\n3DS      38.20\nName: na_sales, dtype: float64\nTop 5 Platforms in Europe:\nplatform\nPS4     141.09\nPS3      67.81\nXOne     51.59\nX360     42.52\n3DS      30.96\nName: eu_sales, dtype: float64\nTop 5 Platforms in Japan:\nplatform\n3DS     67.81\nPS3     23.35\nPSV     18.59\nPS4     15.96\nWiiU    10.88\nName: jp_sales, dtype: float64\n"
        }
      ],
      "execution_count": 23
    },
    {
      "cell_type": "markdown",
      "source": "Of the major platforms, the PlayStation 4 was particularly dominant in both the US and Europe by far, with the XBOX One taking second place in American markets and third in Europe. The XBOX 360 and PlayStation 3 are third and second in their respective regions.\n\nJapan though is somewhat different, with portable platforms like the Nintendo 3DS, the PlayStation Vita (a sister platform to thr PlayStation consoles), and the Wii U among the top five platforms.",
      "metadata": {}
    },
    {
      "cell_type": "markdown",
      "source": "### Top Five Genres by Region",
      "metadata": {}
    },
    {
      "cell_type": "code",
      "source": "print(\"Top 5 Genres in North America:\")\nprint(na_genre_sales)\n\nprint(\"Top 5 Genres in Europe:\")\nprint(eu_genre_sales)\n\nprint(\"Top 5 Genres in Japan:\")\nprint(jp_genre_sales)",
      "metadata": {
        "trusted": true
      },
      "outputs": [
        {
          "name": "stdout",
          "output_type": "stream",
          "text": "Top 5 Genres in North America:\ngenre\nAction          126.05\nShooter         109.74\nSports           65.27\nRole-Playing     46.40\nMisc             27.49\nName: na_sales, dtype: float64\nTop 5 Genres in Europe:\ngenre\nAction          118.13\nShooter          87.86\nSports           60.52\nRole-Playing     36.97\nRacing           20.19\nName: eu_sales, dtype: float64\nTop 5 Genres in Japan:\ngenre\nRole-Playing    51.04\nAction          40.49\nMisc             9.20\nFighting         7.65\nShooter          6.61\nName: jp_sales, dtype: float64\n"
        }
      ],
      "execution_count": 24
    },
    {
      "cell_type": "markdown",
      "source": "Here, there's a marked difference between Japan, and Europe and North America, in which action games, sports games, and shooters (in that order) dominated in both Europe and North America, while in Japan, role-playing games actually took the top prize, with action and sports games being second and third respectively.",
      "metadata": {}
    },
    {
      "cell_type": "markdown",
      "source": "### Do ESRB Scores affect Sales?",
      "metadata": {}
    },
    {
      "cell_type": "code",
      "source": "esrb_sales_by_region = relevant_data.groupby('rating')[['na_sales', 'eu_sales', 'jp_sales']].sum()\n\nesrb_sales_by_region.plot(kind='bar', figsize=(12, 6))\nplt.title('Sales by ESRB Rating in Different Regions')\nplt.xlabel('ESRB Rating')\nplt.ylabel('Total Sales (in millions)')\nplt.show()",
      "metadata": {
        "trusted": true
      },
      "outputs": [
        {
          "data": {
            "image/png": "[encoded data removed]",
            "text/plain": "<Figure size 1200x600 with 1 Axes>"
          },
          "metadata": {},
          "output_type": "display_data"
        }
      ],
      "execution_count": 25
    },
    {
      "cell_type": "markdown",
      "source": "For the most part, there seems to be a strong correlation between ESRB ratings and the total sales, with M-rated (\"Mature\") games by far dominating in all three regions, while E-rated ('for Everyone\") at a distant second. E10+ (\"for Everyone 10+\") and T-rated (\"Teen\") games round out the table at third and fourth respectively.",
      "metadata": {}
    },
    {
      "cell_type": "markdown",
      "source": "## Hypotheses",
      "metadata": {}
    },
    {
      "cell_type": "markdown",
      "source": "The hypotheses to test are as follows:\n\n**Hypothesis One: Are average user ratings for both the XBOX One and PC games the same?**  \n*Null*: The average user ratings for Xbox One and PC platforms are the same.  \n*Alternate*: The average user ratings for Xbox One and PC platforms are different.\n\n**Hypothesis Two: Are average user ratings between action and sports games the same?**  \n*Null*: The average user ratings for Action and Sports genres are the same.  \n*Alternate*: The average user ratings for Action and Sports genres are different.\n\nAlpha is set at 0.05",
      "metadata": {}
    },
    {
      "cell_type": "code",
      "source": "xbox_one_ratings = relevant_data[relevant_data['platform'] == 'XOne']['user_score'].dropna()\npc_ratings = relevant_data[relevant_data['platform'] == 'PC']['user_score'].dropna()\n\nt_stat, p_value = stats.ttest_ind(xbox_one_ratings, pc_ratings)\nalpha = 0.05\n\nprint(f\"T-statistic: {t_stat}, P-value: {p_value}\")\nif p_value < alpha:\n    print(\"Reject the null hypothesis: Average user ratings for Xbox One and PC platforms are different.\")\nelse:\n    print(\"Fail to reject the null hypothesis: No significant difference in average user ratings for Xbox One and PC platforms.\")",
      "metadata": {
        "trusted": true
      },
      "outputs": [
        {
          "name": "stdout",
          "output_type": "stream",
          "text": "T-statistic: 1.4788255981357277, P-value: 0.14012658403611647\nFail to reject the null hypothesis: No significant difference in average user ratings for Xbox One and PC platforms.\n"
        }
      ],
      "execution_count": 26
    },
    {
      "cell_type": "code",
      "source": "action_ratings = relevant_data[relevant_data['genre'] == 'Action']['user_score'].dropna()\nsports_ratings = relevant_data[relevant_data['genre'] == 'Sports']['user_score'].dropna()\n\nt_stat, p_value = stats.ttest_ind(action_ratings, sports_ratings)\nalpha = 0.05\n\nprint(f\"T-statistic: {t_stat}, P-value: {p_value}\")\nif p_value < alpha:\n    print(\"Reject the null hypothesis: Average user ratings for Action and Sports genres are different.\")\nelse:\n    print(\"Fail to reject the null hypothesis: No significant difference in average user ratings for Action and Sports genres.\")",
      "metadata": {
        "trusted": true
      },
      "outputs": [
        {
          "name": "stdout",
          "output_type": "stream",
          "text": "T-statistic: 11.535100577928208, P-value: 1.0517832389140023e-27\nReject the null hypothesis: Average user ratings for Action and Sports genres are different.\n"
        }
      ],
      "execution_count": 27
    },
    {
      "cell_type": "markdown",
      "source": "## Conclusions",
      "metadata": {}
    },
    {
      "cell_type": "markdown",
      "source": "There are some conclusions to be gleaned from this latest study:\n\n* As the hypothesis shows, average user ratings between Action and Sports genres were remarkably different from one other, with action games taking top spots in terms of total sales per genre compared to sports games.\n* Also, there was no discernable difference between XBOX One sales and PC sales, which inidicates that online gaming might also cast a significant influence in total sales.\n\nOverall, the company should try and focus on the platforms like the PlayStation 4 and XBOX One, with the former taking priority as the main platform. Meanwhile, M-rated action games and shooters are generally the best-performing and should be the first priority for sales promotions, followed by E-rated sports and platform games.",
      "metadata": {}
    }
  ]
}