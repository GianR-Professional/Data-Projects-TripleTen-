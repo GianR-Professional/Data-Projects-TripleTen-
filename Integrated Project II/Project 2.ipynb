{
  "metadata": {
    "kernelspec": {
      "name": "python",
      "display_name": "Python (Pyodide)",
      "language": "python"
    },
    "language_info": {
      "codemirror_mode": {
        "name": "python",
        "version": 3
      },
      "file_extension": ".py",
      "mimetype": "text/x-python",
      "name": "python",
      "nbconvert_exporter": "python",
      "pygments_lexer": "ipython3",
      "version": "3.8"
    },
    "ExecuteTimeLog": [
      {
        "duration": 2790,
        "start_time": "2024-11-20T19:03:45.186Z"
      },
      {
        "duration": 153,
        "start_time": "2024-11-20T19:03:47.979Z"
      },
      {
        "duration": 6,
        "start_time": "2024-11-20T19:03:48.133Z"
      },
      {
        "duration": 39,
        "start_time": "2024-11-20T19:03:48.143Z"
      },
      {
        "duration": 2,
        "start_time": "2024-11-20T19:03:48.184Z"
      },
      {
        "duration": 3,
        "start_time": "2024-11-20T19:03:48.189Z"
      },
      {
        "duration": 19,
        "start_time": "2024-11-20T19:03:48.193Z"
      },
      {
        "duration": 635,
        "start_time": "2024-11-20T19:03:48.215Z"
      },
      {
        "duration": 812,
        "start_time": "2024-11-20T19:35:55.785Z"
      },
      {
        "duration": 181,
        "start_time": "2024-11-20T19:35:56.599Z"
      },
      {
        "duration": 3,
        "start_time": "2024-11-20T19:35:56.781Z"
      },
      {
        "duration": 40,
        "start_time": "2024-11-20T19:35:56.786Z"
      },
      {
        "duration": 2,
        "start_time": "2024-11-20T19:35:56.828Z"
      },
      {
        "duration": 4,
        "start_time": "2024-11-20T19:35:56.832Z"
      },
      {
        "duration": 4,
        "start_time": "2024-11-20T19:35:56.837Z"
      },
      {
        "duration": 548,
        "start_time": "2024-11-20T19:35:56.842Z"
      },
      {
        "duration": 176,
        "start_time": "2024-11-20T19:35:57.392Z"
      },
      {
        "duration": 99,
        "start_time": "2024-11-20T19:35:57.572Z"
      },
      {
        "duration": 187,
        "start_time": "2024-11-20T19:35:57.673Z"
      },
      {
        "duration": 835,
        "start_time": "2024-11-20T19:58:15.818Z"
      },
      {
        "duration": 182,
        "start_time": "2024-11-20T19:58:16.656Z"
      },
      {
        "duration": 3,
        "start_time": "2024-11-20T19:58:16.840Z"
      },
      {
        "duration": 32,
        "start_time": "2024-11-20T19:58:16.846Z"
      },
      {
        "duration": 2,
        "start_time": "2024-11-20T19:58:16.880Z"
      },
      {
        "duration": 3,
        "start_time": "2024-11-20T19:58:16.884Z"
      },
      {
        "duration": 25,
        "start_time": "2024-11-20T19:58:16.888Z"
      },
      {
        "duration": 570,
        "start_time": "2024-11-20T19:58:16.914Z"
      },
      {
        "duration": 14,
        "start_time": "2024-11-20T19:58:17.488Z"
      },
      {
        "duration": 16,
        "start_time": "2024-11-20T19:58:17.514Z"
      },
      {
        "duration": 167,
        "start_time": "2024-11-20T19:58:17.532Z"
      },
      {
        "duration": 16,
        "start_time": "2024-11-20T19:58:17.702Z"
      },
      {
        "duration": 11,
        "start_time": "2024-11-20T19:58:17.720Z"
      },
      {
        "duration": 92,
        "start_time": "2024-11-20T19:58:17.733Z"
      },
      {
        "duration": 9,
        "start_time": "2024-11-20T19:58:17.827Z"
      },
      {
        "duration": 13,
        "start_time": "2024-11-20T19:58:17.838Z"
      },
      {
        "duration": 189,
        "start_time": "2024-11-20T19:58:17.853Z"
      },
      {
        "duration": 158,
        "start_time": "2024-11-21T21:18:26.192Z"
      },
      {
        "duration": 2731,
        "start_time": "2024-11-21T21:18:30.492Z"
      },
      {
        "duration": 134,
        "start_time": "2024-11-21T21:18:33.225Z"
      },
      {
        "duration": 3,
        "start_time": "2024-11-21T21:18:33.361Z"
      },
      {
        "duration": 51,
        "start_time": "2024-11-21T21:18:33.366Z"
      },
      {
        "duration": 3,
        "start_time": "2024-11-21T21:18:33.418Z"
      },
      {
        "duration": 3,
        "start_time": "2024-11-21T21:18:33.422Z"
      },
      {
        "duration": 4,
        "start_time": "2024-11-21T21:18:33.427Z"
      },
      {
        "duration": 660,
        "start_time": "2024-11-21T21:18:33.433Z"
      },
      {
        "duration": 11,
        "start_time": "2024-11-21T21:18:34.094Z"
      },
      {
        "duration": 13,
        "start_time": "2024-11-21T21:18:34.108Z"
      },
      {
        "duration": 170,
        "start_time": "2024-11-21T21:18:34.123Z"
      },
      {
        "duration": 8,
        "start_time": "2024-11-21T21:18:34.295Z"
      },
      {
        "duration": 9,
        "start_time": "2024-11-21T21:18:34.305Z"
      },
      {
        "duration": 96,
        "start_time": "2024-11-21T21:18:34.316Z"
      },
      {
        "duration": 9,
        "start_time": "2024-11-21T21:18:34.414Z"
      },
      {
        "duration": 13,
        "start_time": "2024-11-21T21:18:34.424Z"
      },
      {
        "duration": 229,
        "start_time": "2024-11-21T21:18:34.439Z"
      },
      {
        "duration": 231,
        "start_time": "2024-11-21T21:18:34.670Z"
      },
      {
        "duration": 754,
        "start_time": "2024-11-21T21:18:56.051Z"
      },
      {
        "duration": 184,
        "start_time": "2024-11-21T21:18:56.808Z"
      },
      {
        "duration": 4,
        "start_time": "2024-11-21T21:18:56.993Z"
      },
      {
        "duration": 31,
        "start_time": "2024-11-21T21:18:56.999Z"
      },
      {
        "duration": 2,
        "start_time": "2024-11-21T21:18:57.032Z"
      },
      {
        "duration": 3,
        "start_time": "2024-11-21T21:18:57.035Z"
      },
      {
        "duration": 4,
        "start_time": "2024-11-21T21:18:57.039Z"
      },
      {
        "duration": 529,
        "start_time": "2024-11-21T21:18:57.044Z"
      },
      {
        "duration": 12,
        "start_time": "2024-11-21T21:18:57.575Z"
      },
      {
        "duration": 13,
        "start_time": "2024-11-21T21:18:57.591Z"
      },
      {
        "duration": 164,
        "start_time": "2024-11-21T21:18:57.606Z"
      },
      {
        "duration": 15,
        "start_time": "2024-11-21T21:18:57.772Z"
      },
      {
        "duration": 9,
        "start_time": "2024-11-21T21:18:57.789Z"
      },
      {
        "duration": 93,
        "start_time": "2024-11-21T21:18:57.800Z"
      },
      {
        "duration": 8,
        "start_time": "2024-11-21T21:18:57.896Z"
      },
      {
        "duration": 13,
        "start_time": "2024-11-21T21:18:57.906Z"
      },
      {
        "duration": 183,
        "start_time": "2024-11-21T21:18:57.920Z"
      },
      {
        "duration": 243,
        "start_time": "2024-11-21T21:18:58.105Z"
      },
      {
        "duration": 806,
        "start_time": "2024-11-21T21:19:15.665Z"
      },
      {
        "duration": 180,
        "start_time": "2024-11-21T21:19:16.475Z"
      },
      {
        "duration": 4,
        "start_time": "2024-11-21T21:19:16.657Z"
      },
      {
        "duration": 43,
        "start_time": "2024-11-21T21:19:16.663Z"
      },
      {
        "duration": 3,
        "start_time": "2024-11-21T21:19:16.708Z"
      },
      {
        "duration": 3,
        "start_time": "2024-11-21T21:19:16.713Z"
      },
      {
        "duration": 4,
        "start_time": "2024-11-21T21:19:16.717Z"
      },
      {
        "duration": 535,
        "start_time": "2024-11-21T21:19:16.722Z"
      },
      {
        "duration": 11,
        "start_time": "2024-11-21T21:19:17.260Z"
      },
      {
        "duration": 17,
        "start_time": "2024-11-21T21:19:17.273Z"
      },
      {
        "duration": 159,
        "start_time": "2024-11-21T21:19:17.291Z"
      },
      {
        "duration": 10,
        "start_time": "2024-11-21T21:19:17.452Z"
      },
      {
        "duration": 23,
        "start_time": "2024-11-21T21:19:17.463Z"
      },
      {
        "duration": 77,
        "start_time": "2024-11-21T21:19:17.488Z"
      },
      {
        "duration": 9,
        "start_time": "2024-11-21T21:19:17.566Z"
      },
      {
        "duration": 13,
        "start_time": "2024-11-21T21:19:17.586Z"
      },
      {
        "duration": 171,
        "start_time": "2024-11-21T21:19:17.601Z"
      },
      {
        "duration": 13,
        "start_time": "2024-11-21T21:19:17.774Z"
      },
      {
        "duration": 821,
        "start_time": "2024-11-21T21:20:32.990Z"
      },
      {
        "duration": 178,
        "start_time": "2024-11-21T21:20:33.813Z"
      },
      {
        "duration": 4,
        "start_time": "2024-11-21T21:20:33.993Z"
      },
      {
        "duration": 33,
        "start_time": "2024-11-21T21:20:34.000Z"
      },
      {
        "duration": 2,
        "start_time": "2024-11-21T21:20:34.035Z"
      },
      {
        "duration": 2,
        "start_time": "2024-11-21T21:20:34.039Z"
      },
      {
        "duration": 4,
        "start_time": "2024-11-21T21:20:34.043Z"
      },
      {
        "duration": 548,
        "start_time": "2024-11-21T21:20:34.048Z"
      },
      {
        "duration": 10,
        "start_time": "2024-11-21T21:20:34.598Z"
      },
      {
        "duration": 14,
        "start_time": "2024-11-21T21:20:34.611Z"
      },
      {
        "duration": 160,
        "start_time": "2024-11-21T21:20:34.628Z"
      },
      {
        "duration": 8,
        "start_time": "2024-11-21T21:20:34.790Z"
      },
      {
        "duration": 10,
        "start_time": "2024-11-21T21:20:34.800Z"
      },
      {
        "duration": 97,
        "start_time": "2024-11-21T21:20:34.811Z"
      },
      {
        "duration": 8,
        "start_time": "2024-11-21T21:20:34.910Z"
      },
      {
        "duration": 12,
        "start_time": "2024-11-21T21:20:34.920Z"
      },
      {
        "duration": 183,
        "start_time": "2024-11-21T21:20:34.934Z"
      },
      {
        "duration": 239,
        "start_time": "2024-11-21T21:20:35.119Z"
      },
      {
        "duration": 774,
        "start_time": "2024-11-21T21:20:48.873Z"
      },
      {
        "duration": 175,
        "start_time": "2024-11-21T21:20:49.648Z"
      },
      {
        "duration": 3,
        "start_time": "2024-11-21T21:20:49.825Z"
      },
      {
        "duration": 32,
        "start_time": "2024-11-21T21:20:49.831Z"
      },
      {
        "duration": 2,
        "start_time": "2024-11-21T21:20:49.865Z"
      },
      {
        "duration": 19,
        "start_time": "2024-11-21T21:20:49.868Z"
      },
      {
        "duration": 3,
        "start_time": "2024-11-21T21:20:49.888Z"
      },
      {
        "duration": 535,
        "start_time": "2024-11-21T21:20:49.892Z"
      },
      {
        "duration": 10,
        "start_time": "2024-11-21T21:20:50.429Z"
      },
      {
        "duration": 13,
        "start_time": "2024-11-21T21:20:50.442Z"
      },
      {
        "duration": 163,
        "start_time": "2024-11-21T21:20:50.457Z"
      },
      {
        "duration": 8,
        "start_time": "2024-11-21T21:20:50.622Z"
      },
      {
        "duration": 11,
        "start_time": "2024-11-21T21:20:50.631Z"
      },
      {
        "duration": 96,
        "start_time": "2024-11-21T21:20:50.644Z"
      },
      {
        "duration": 8,
        "start_time": "2024-11-21T21:20:50.742Z"
      },
      {
        "duration": 13,
        "start_time": "2024-11-21T21:20:50.751Z"
      },
      {
        "duration": 178,
        "start_time": "2024-11-21T21:20:50.766Z"
      },
      {
        "duration": 21,
        "start_time": "2024-11-21T21:20:50.946Z"
      },
      {
        "duration": 741,
        "start_time": "2024-11-21T21:21:04.274Z"
      },
      {
        "duration": 182,
        "start_time": "2024-11-21T21:21:05.017Z"
      },
      {
        "duration": 3,
        "start_time": "2024-11-21T21:21:05.201Z"
      },
      {
        "duration": 31,
        "start_time": "2024-11-21T21:21:05.205Z"
      },
      {
        "duration": 2,
        "start_time": "2024-11-21T21:21:05.239Z"
      },
      {
        "duration": 3,
        "start_time": "2024-11-21T21:21:05.243Z"
      },
      {
        "duration": 4,
        "start_time": "2024-11-21T21:21:05.248Z"
      },
      {
        "duration": 554,
        "start_time": "2024-11-21T21:21:05.253Z"
      },
      {
        "duration": 10,
        "start_time": "2024-11-21T21:21:05.809Z"
      },
      {
        "duration": 13,
        "start_time": "2024-11-21T21:21:05.821Z"
      },
      {
        "duration": 163,
        "start_time": "2024-11-21T21:21:05.836Z"
      },
      {
        "duration": 8,
        "start_time": "2024-11-21T21:21:06.001Z"
      },
      {
        "duration": 10,
        "start_time": "2024-11-21T21:21:06.011Z"
      },
      {
        "duration": 102,
        "start_time": "2024-11-21T21:21:06.024Z"
      },
      {
        "duration": 8,
        "start_time": "2024-11-21T21:21:06.128Z"
      },
      {
        "duration": 12,
        "start_time": "2024-11-21T21:21:06.138Z"
      },
      {
        "duration": 174,
        "start_time": "2024-11-21T21:21:06.152Z"
      },
      {
        "duration": 12,
        "start_time": "2024-11-21T21:21:06.328Z"
      },
      {
        "duration": 827,
        "start_time": "2024-11-21T21:21:34.384Z"
      },
      {
        "duration": 175,
        "start_time": "2024-11-21T21:21:35.213Z"
      },
      {
        "duration": 5,
        "start_time": "2024-11-21T21:21:35.390Z"
      },
      {
        "duration": 31,
        "start_time": "2024-11-21T21:21:35.397Z"
      },
      {
        "duration": 3,
        "start_time": "2024-11-21T21:21:35.429Z"
      },
      {
        "duration": 2,
        "start_time": "2024-11-21T21:21:35.434Z"
      },
      {
        "duration": 3,
        "start_time": "2024-11-21T21:21:35.438Z"
      },
      {
        "duration": 542,
        "start_time": "2024-11-21T21:21:35.442Z"
      },
      {
        "duration": 12,
        "start_time": "2024-11-21T21:21:35.987Z"
      },
      {
        "duration": 14,
        "start_time": "2024-11-21T21:21:36.002Z"
      },
      {
        "duration": 161,
        "start_time": "2024-11-21T21:21:36.018Z"
      },
      {
        "duration": 14,
        "start_time": "2024-11-21T21:21:36.181Z"
      },
      {
        "duration": 10,
        "start_time": "2024-11-21T21:21:36.196Z"
      },
      {
        "duration": 94,
        "start_time": "2024-11-21T21:21:36.207Z"
      },
      {
        "duration": 8,
        "start_time": "2024-11-21T21:21:36.303Z"
      },
      {
        "duration": 13,
        "start_time": "2024-11-21T21:21:36.313Z"
      },
      {
        "duration": 179,
        "start_time": "2024-11-21T21:21:36.327Z"
      },
      {
        "duration": 10,
        "start_time": "2024-11-21T21:21:36.508Z"
      },
      {
        "duration": 7,
        "start_time": "2024-11-21T21:21:36.519Z"
      },
      {
        "duration": 11,
        "start_time": "2024-11-21T21:21:36.528Z"
      },
      {
        "duration": 795,
        "start_time": "2024-11-21T21:23:31.860Z"
      },
      {
        "duration": 181,
        "start_time": "2024-11-21T21:23:32.657Z"
      },
      {
        "duration": 3,
        "start_time": "2024-11-21T21:23:32.840Z"
      },
      {
        "duration": 40,
        "start_time": "2024-11-21T21:23:32.846Z"
      },
      {
        "duration": 3,
        "start_time": "2024-11-21T21:23:32.888Z"
      },
      {
        "duration": 3,
        "start_time": "2024-11-21T21:23:32.892Z"
      },
      {
        "duration": 3,
        "start_time": "2024-11-21T21:23:32.897Z"
      },
      {
        "duration": 569,
        "start_time": "2024-11-21T21:23:32.901Z"
      },
      {
        "duration": 11,
        "start_time": "2024-11-21T21:23:33.472Z"
      },
      {
        "duration": 15,
        "start_time": "2024-11-21T21:23:33.488Z"
      },
      {
        "duration": 164,
        "start_time": "2024-11-21T21:23:33.505Z"
      },
      {
        "duration": 8,
        "start_time": "2024-11-21T21:23:33.671Z"
      },
      {
        "duration": 15,
        "start_time": "2024-11-21T21:23:33.688Z"
      },
      {
        "duration": 86,
        "start_time": "2024-11-21T21:23:33.705Z"
      },
      {
        "duration": 10,
        "start_time": "2024-11-21T21:23:33.792Z"
      },
      {
        "duration": 13,
        "start_time": "2024-11-21T21:23:33.803Z"
      },
      {
        "duration": 191,
        "start_time": "2024-11-21T21:23:33.818Z"
      },
      {
        "duration": 11,
        "start_time": "2024-11-21T21:23:34.011Z"
      },
      {
        "duration": 653,
        "start_time": "2024-11-21T21:23:34.024Z"
      },
      {
        "duration": 0,
        "start_time": "2024-11-21T21:23:34.686Z"
      },
      {
        "duration": 2075,
        "start_time": "2024-11-21T21:24:22.145Z"
      },
      {
        "duration": 0,
        "start_time": "2024-11-21T21:24:24.223Z"
      },
      {
        "duration": 0,
        "start_time": "2024-11-21T21:24:24.224Z"
      },
      {
        "duration": 0,
        "start_time": "2024-11-21T21:24:24.225Z"
      },
      {
        "duration": 0,
        "start_time": "2024-11-21T21:24:24.227Z"
      },
      {
        "duration": 0,
        "start_time": "2024-11-21T21:24:24.229Z"
      },
      {
        "duration": 0,
        "start_time": "2024-11-21T21:24:24.230Z"
      },
      {
        "duration": 0,
        "start_time": "2024-11-21T21:24:24.231Z"
      },
      {
        "duration": 0,
        "start_time": "2024-11-21T21:24:24.232Z"
      },
      {
        "duration": 0,
        "start_time": "2024-11-21T21:24:24.233Z"
      },
      {
        "duration": 0,
        "start_time": "2024-11-21T21:24:24.234Z"
      },
      {
        "duration": 0,
        "start_time": "2024-11-21T21:24:24.235Z"
      },
      {
        "duration": 0,
        "start_time": "2024-11-21T21:24:24.236Z"
      },
      {
        "duration": 0,
        "start_time": "2024-11-21T21:24:24.237Z"
      },
      {
        "duration": 0,
        "start_time": "2024-11-21T21:24:24.238Z"
      },
      {
        "duration": 0,
        "start_time": "2024-11-21T21:24:24.239Z"
      },
      {
        "duration": 0,
        "start_time": "2024-11-21T21:24:24.240Z"
      },
      {
        "duration": 0,
        "start_time": "2024-11-21T21:24:24.242Z"
      },
      {
        "duration": 0,
        "start_time": "2024-11-21T21:24:24.243Z"
      },
      {
        "duration": 0,
        "start_time": "2024-11-21T21:24:24.244Z"
      },
      {
        "duration": 195,
        "start_time": "2024-11-21T21:24:32.450Z"
      },
      {
        "duration": 779,
        "start_time": "2024-11-21T21:24:39.480Z"
      },
      {
        "duration": 177,
        "start_time": "2024-11-21T21:24:41.857Z"
      },
      {
        "duration": 3,
        "start_time": "2024-11-21T21:24:42.476Z"
      },
      {
        "duration": 32,
        "start_time": "2024-11-21T21:24:44.694Z"
      },
      {
        "duration": 2,
        "start_time": "2024-11-21T21:24:45.137Z"
      },
      {
        "duration": 3,
        "start_time": "2024-11-21T21:24:45.553Z"
      },
      {
        "duration": 3,
        "start_time": "2024-11-21T21:24:45.975Z"
      },
      {
        "duration": 958,
        "start_time": "2024-11-21T22:49:10.220Z"
      },
      {
        "duration": 200,
        "start_time": "2024-11-21T22:49:11.180Z"
      },
      {
        "duration": 9,
        "start_time": "2024-11-21T22:49:11.381Z"
      },
      {
        "duration": 41,
        "start_time": "2024-11-21T22:49:11.393Z"
      },
      {
        "duration": 2,
        "start_time": "2024-11-21T22:49:11.436Z"
      },
      {
        "duration": 2,
        "start_time": "2024-11-21T22:49:11.440Z"
      },
      {
        "duration": 2,
        "start_time": "2024-11-21T22:49:11.445Z"
      },
      {
        "duration": 574,
        "start_time": "2024-11-21T22:49:11.449Z"
      },
      {
        "duration": 21,
        "start_time": "2024-11-21T22:49:12.026Z"
      },
      {
        "duration": 14,
        "start_time": "2024-11-21T22:49:12.051Z"
      },
      {
        "duration": 229,
        "start_time": "2024-11-21T22:49:12.067Z"
      },
      {
        "duration": 5,
        "start_time": "2024-11-21T22:49:12.302Z"
      },
      {
        "duration": 15,
        "start_time": "2024-11-21T22:49:12.313Z"
      },
      {
        "duration": 14,
        "start_time": "2024-11-21T22:49:12.333Z"
      },
      {
        "duration": 101,
        "start_time": "2024-11-21T22:49:12.349Z"
      },
      {
        "duration": 4,
        "start_time": "2024-11-21T22:49:12.451Z"
      },
      {
        "duration": 11,
        "start_time": "2024-11-21T22:49:12.457Z"
      },
      {
        "duration": 32,
        "start_time": "2024-11-21T22:49:12.476Z"
      },
      {
        "duration": 215,
        "start_time": "2024-11-21T22:49:12.512Z"
      },
      {
        "duration": 13,
        "start_time": "2024-11-21T22:49:12.733Z"
      },
      {
        "duration": 917,
        "start_time": "2024-11-21T22:49:12.749Z"
      },
      {
        "duration": 0,
        "start_time": "2024-11-21T22:49:13.668Z"
      },
      {
        "duration": 2626,
        "start_time": "2024-11-22T21:10:15.158Z"
      },
      {
        "duration": 133,
        "start_time": "2024-11-22T21:10:17.786Z"
      },
      {
        "duration": 3,
        "start_time": "2024-11-22T21:10:17.921Z"
      },
      {
        "duration": 48,
        "start_time": "2024-11-22T21:10:17.927Z"
      },
      {
        "duration": 3,
        "start_time": "2024-11-22T21:10:17.976Z"
      },
      {
        "duration": 3,
        "start_time": "2024-11-22T21:10:17.980Z"
      },
      {
        "duration": 3,
        "start_time": "2024-11-22T21:10:17.985Z"
      },
      {
        "duration": 618,
        "start_time": "2024-11-22T21:10:17.990Z"
      },
      {
        "duration": 12,
        "start_time": "2024-11-22T21:10:18.609Z"
      },
      {
        "duration": 13,
        "start_time": "2024-11-22T21:10:18.623Z"
      },
      {
        "duration": 169,
        "start_time": "2024-11-22T21:10:18.638Z"
      },
      {
        "duration": 4,
        "start_time": "2024-11-22T21:10:18.808Z"
      },
      {
        "duration": 9,
        "start_time": "2024-11-22T21:10:18.813Z"
      },
      {
        "duration": 10,
        "start_time": "2024-11-22T21:10:18.824Z"
      },
      {
        "duration": 99,
        "start_time": "2024-11-22T21:10:18.835Z"
      },
      {
        "duration": 4,
        "start_time": "2024-11-22T21:10:18.936Z"
      },
      {
        "duration": 9,
        "start_time": "2024-11-22T21:10:18.942Z"
      },
      {
        "duration": 14,
        "start_time": "2024-11-22T21:10:18.970Z"
      },
      {
        "duration": 174,
        "start_time": "2024-11-22T21:10:18.985Z"
      },
      {
        "duration": 18,
        "start_time": "2024-11-22T21:10:19.161Z"
      },
      {
        "duration": 12,
        "start_time": "2024-11-22T21:10:19.181Z"
      },
      {
        "duration": 6,
        "start_time": "2024-11-22T21:16:22.523Z"
      },
      {
        "duration": 753,
        "start_time": "2024-11-22T21:18:10.041Z"
      },
      {
        "duration": 165,
        "start_time": "2024-11-22T21:18:10.796Z"
      },
      {
        "duration": 7,
        "start_time": "2024-11-22T21:18:10.963Z"
      },
      {
        "duration": 30,
        "start_time": "2024-11-22T21:18:10.973Z"
      },
      {
        "duration": 2,
        "start_time": "2024-11-22T21:18:11.005Z"
      },
      {
        "duration": 2,
        "start_time": "2024-11-22T21:18:11.009Z"
      },
      {
        "duration": 3,
        "start_time": "2024-11-22T21:18:11.013Z"
      },
      {
        "duration": 534,
        "start_time": "2024-11-22T21:18:11.017Z"
      },
      {
        "duration": 11,
        "start_time": "2024-11-22T21:18:11.552Z"
      },
      {
        "duration": 13,
        "start_time": "2024-11-22T21:18:11.571Z"
      },
      {
        "duration": 160,
        "start_time": "2024-11-22T21:18:11.586Z"
      },
      {
        "duration": 8,
        "start_time": "2024-11-22T21:18:11.748Z"
      },
      {
        "duration": 19,
        "start_time": "2024-11-22T21:18:11.758Z"
      },
      {
        "duration": 78,
        "start_time": "2024-11-22T21:18:11.778Z"
      },
      {
        "duration": 18,
        "start_time": "2024-11-22T21:18:11.857Z"
      },
      {
        "duration": 13,
        "start_time": "2024-11-22T21:18:11.878Z"
      },
      {
        "duration": 176,
        "start_time": "2024-11-22T21:18:11.892Z"
      },
      {
        "duration": 12,
        "start_time": "2024-11-22T21:18:12.071Z"
      },
      {
        "duration": 13,
        "start_time": "2024-11-22T21:18:12.084Z"
      },
      {
        "duration": 20,
        "start_time": "2024-11-22T21:18:12.100Z"
      },
      {
        "duration": 17,
        "start_time": "2024-11-22T21:18:12.122Z"
      },
      {
        "duration": 2485,
        "start_time": "2024-11-25T14:09:07.903Z"
      },
      {
        "duration": 128,
        "start_time": "2024-11-25T14:09:10.390Z"
      },
      {
        "duration": 3,
        "start_time": "2024-11-25T14:09:10.520Z"
      },
      {
        "duration": 93,
        "start_time": "2024-11-25T14:09:10.525Z"
      },
      {
        "duration": 2,
        "start_time": "2024-11-25T14:09:10.621Z"
      },
      {
        "duration": 3,
        "start_time": "2024-11-25T14:09:10.624Z"
      },
      {
        "duration": 3,
        "start_time": "2024-11-25T14:09:10.629Z"
      },
      {
        "duration": 590,
        "start_time": "2024-11-25T14:09:10.634Z"
      },
      {
        "duration": 15,
        "start_time": "2024-11-25T14:09:11.226Z"
      },
      {
        "duration": 13,
        "start_time": "2024-11-25T14:09:11.243Z"
      },
      {
        "duration": 156,
        "start_time": "2024-11-25T14:09:11.258Z"
      },
      {
        "duration": 8,
        "start_time": "2024-11-25T14:09:11.416Z"
      },
      {
        "duration": 12,
        "start_time": "2024-11-25T14:09:11.426Z"
      },
      {
        "duration": 93,
        "start_time": "2024-11-25T14:09:11.442Z"
      },
      {
        "duration": 8,
        "start_time": "2024-11-25T14:09:11.537Z"
      },
      {
        "duration": 12,
        "start_time": "2024-11-25T14:09:11.546Z"
      },
      {
        "duration": 177,
        "start_time": "2024-11-25T14:09:11.560Z"
      },
      {
        "duration": 14,
        "start_time": "2024-11-25T14:09:11.739Z"
      },
      {
        "duration": 11,
        "start_time": "2024-11-25T14:09:11.755Z"
      },
      {
        "duration": 11,
        "start_time": "2024-11-25T14:09:11.767Z"
      },
      {
        "duration": 36,
        "start_time": "2024-11-25T14:09:11.780Z"
      },
      {
        "duration": 16,
        "start_time": "2024-11-25T14:09:11.818Z"
      },
      {
        "duration": 794,
        "start_time": "2024-11-25T15:07:51.835Z"
      },
      {
        "duration": 169,
        "start_time": "2024-11-25T15:07:52.631Z"
      },
      {
        "duration": 3,
        "start_time": "2024-11-25T15:07:52.802Z"
      },
      {
        "duration": 33,
        "start_time": "2024-11-25T15:07:52.808Z"
      },
      {
        "duration": 2,
        "start_time": "2024-11-25T15:07:52.843Z"
      },
      {
        "duration": 2,
        "start_time": "2024-11-25T15:07:52.847Z"
      },
      {
        "duration": 3,
        "start_time": "2024-11-25T15:07:52.851Z"
      },
      {
        "duration": 516,
        "start_time": "2024-11-25T15:07:52.856Z"
      },
      {
        "duration": 11,
        "start_time": "2024-11-25T15:07:53.374Z"
      },
      {
        "duration": 27,
        "start_time": "2024-11-25T15:07:53.388Z"
      },
      {
        "duration": 152,
        "start_time": "2024-11-25T15:07:53.417Z"
      },
      {
        "duration": 10,
        "start_time": "2024-11-25T15:07:53.571Z"
      },
      {
        "duration": 10,
        "start_time": "2024-11-25T15:07:53.582Z"
      },
      {
        "duration": 76,
        "start_time": "2024-11-25T15:07:53.605Z"
      },
      {
        "duration": 8,
        "start_time": "2024-11-25T15:07:53.682Z"
      },
      {
        "duration": 24,
        "start_time": "2024-11-25T15:07:53.692Z"
      },
      {
        "duration": 166,
        "start_time": "2024-11-25T15:07:53.719Z"
      },
      {
        "duration": 4,
        "start_time": "2024-11-25T15:07:53.888Z"
      },
      {
        "duration": 20,
        "start_time": "2024-11-25T15:07:53.893Z"
      },
      {
        "duration": 12,
        "start_time": "2024-11-25T15:07:53.915Z"
      },
      {
        "duration": 16,
        "start_time": "2024-11-25T15:07:53.928Z"
      },
      {
        "duration": 15,
        "start_time": "2024-11-25T15:07:53.945Z"
      },
      {
        "duration": 737,
        "start_time": "2024-11-25T15:08:19.879Z"
      },
      {
        "duration": 165,
        "start_time": "2024-11-25T15:08:20.619Z"
      },
      {
        "duration": 4,
        "start_time": "2024-11-25T15:08:20.786Z"
      },
      {
        "duration": 50,
        "start_time": "2024-11-25T15:08:20.791Z"
      },
      {
        "duration": 2,
        "start_time": "2024-11-25T15:08:20.844Z"
      },
      {
        "duration": 2,
        "start_time": "2024-11-25T15:08:20.848Z"
      },
      {
        "duration": 3,
        "start_time": "2024-11-25T15:08:20.852Z"
      },
      {
        "duration": 469,
        "start_time": "2024-11-25T15:08:20.857Z"
      },
      {
        "duration": 11,
        "start_time": "2024-11-25T15:08:21.327Z"
      },
      {
        "duration": 13,
        "start_time": "2024-11-25T15:08:21.339Z"
      },
      {
        "duration": 158,
        "start_time": "2024-11-25T15:08:21.354Z"
      },
      {
        "duration": 8,
        "start_time": "2024-11-25T15:08:21.515Z"
      },
      {
        "duration": 10,
        "start_time": "2024-11-25T15:08:21.525Z"
      },
      {
        "duration": 93,
        "start_time": "2024-11-25T15:08:21.538Z"
      },
      {
        "duration": 9,
        "start_time": "2024-11-25T15:08:21.632Z"
      },
      {
        "duration": 12,
        "start_time": "2024-11-25T15:08:21.643Z"
      },
      {
        "duration": 191,
        "start_time": "2024-11-25T15:08:21.657Z"
      },
      {
        "duration": 4,
        "start_time": "2024-11-25T15:08:21.850Z"
      },
      {
        "duration": 4,
        "start_time": "2024-11-25T15:08:21.856Z"
      },
      {
        "duration": 14,
        "start_time": "2024-11-25T15:08:21.862Z"
      },
      {
        "duration": 31,
        "start_time": "2024-11-25T15:08:21.877Z"
      },
      {
        "duration": 15,
        "start_time": "2024-11-25T15:08:21.909Z"
      },
      {
        "duration": 15,
        "start_time": "2024-11-25T15:08:21.925Z"
      },
      {
        "duration": 2600,
        "start_time": "2024-11-26T21:58:15.566Z"
      },
      {
        "duration": 131,
        "start_time": "2024-11-26T21:58:18.169Z"
      },
      {
        "duration": 3,
        "start_time": "2024-11-26T21:58:18.302Z"
      },
      {
        "duration": 39,
        "start_time": "2024-11-26T21:58:18.310Z"
      },
      {
        "duration": 2,
        "start_time": "2024-11-26T21:58:18.351Z"
      },
      {
        "duration": 2,
        "start_time": "2024-11-26T21:58:18.355Z"
      },
      {
        "duration": 3,
        "start_time": "2024-11-26T21:58:18.359Z"
      },
      {
        "duration": 606,
        "start_time": "2024-11-26T21:58:18.363Z"
      },
      {
        "duration": 10,
        "start_time": "2024-11-26T21:58:18.971Z"
      },
      {
        "duration": 13,
        "start_time": "2024-11-26T21:58:18.985Z"
      },
      {
        "duration": 210,
        "start_time": "2024-11-26T21:58:18.999Z"
      },
      {
        "duration": 10,
        "start_time": "2024-11-26T21:58:19.210Z"
      },
      {
        "duration": 9,
        "start_time": "2024-11-26T21:58:19.223Z"
      },
      {
        "duration": 94,
        "start_time": "2024-11-26T21:58:19.234Z"
      },
      {
        "duration": 10,
        "start_time": "2024-11-26T21:58:19.330Z"
      },
      {
        "duration": 14,
        "start_time": "2024-11-26T21:58:19.342Z"
      },
      {
        "duration": 178,
        "start_time": "2024-11-26T21:58:19.357Z"
      },
      {
        "duration": 5,
        "start_time": "2024-11-26T21:58:19.536Z"
      },
      {
        "duration": 4,
        "start_time": "2024-11-26T21:58:19.543Z"
      },
      {
        "duration": 11,
        "start_time": "2024-11-26T21:58:19.548Z"
      },
      {
        "duration": 12,
        "start_time": "2024-11-26T21:58:19.560Z"
      },
      {
        "duration": 44,
        "start_time": "2024-11-26T21:58:19.573Z"
      },
      {
        "duration": 15,
        "start_time": "2024-11-26T21:58:19.619Z"
      },
      {
        "duration": 249,
        "start_time": "2024-11-26T21:58:19.635Z"
      },
      {
        "duration": 760,
        "start_time": "2024-11-26T22:01:22.896Z"
      },
      {
        "duration": 169,
        "start_time": "2024-11-26T22:01:23.658Z"
      },
      {
        "duration": 3,
        "start_time": "2024-11-26T22:01:23.828Z"
      },
      {
        "duration": 31,
        "start_time": "2024-11-26T22:01:23.833Z"
      },
      {
        "duration": 3,
        "start_time": "2024-11-26T22:01:23.865Z"
      },
      {
        "duration": 3,
        "start_time": "2024-11-26T22:01:23.869Z"
      },
      {
        "duration": 259,
        "start_time": "2024-11-26T22:01:23.873Z"
      },
      {
        "duration": 1,
        "start_time": "2024-11-26T22:01:24.134Z"
      },
      {
        "duration": 0,
        "start_time": "2024-11-26T22:01:24.136Z"
      },
      {
        "duration": 0,
        "start_time": "2024-11-26T22:01:24.138Z"
      },
      {
        "duration": 0,
        "start_time": "2024-11-26T22:01:24.139Z"
      },
      {
        "duration": 0,
        "start_time": "2024-11-26T22:01:24.140Z"
      },
      {
        "duration": 0,
        "start_time": "2024-11-26T22:01:24.142Z"
      },
      {
        "duration": 0,
        "start_time": "2024-11-26T22:01:24.143Z"
      },
      {
        "duration": 0,
        "start_time": "2024-11-26T22:01:24.145Z"
      },
      {
        "duration": 0,
        "start_time": "2024-11-26T22:01:24.146Z"
      },
      {
        "duration": 0,
        "start_time": "2024-11-26T22:01:24.147Z"
      },
      {
        "duration": 0,
        "start_time": "2024-11-26T22:01:24.148Z"
      },
      {
        "duration": 0,
        "start_time": "2024-11-26T22:01:24.149Z"
      },
      {
        "duration": 0,
        "start_time": "2024-11-26T22:01:24.150Z"
      },
      {
        "duration": 0,
        "start_time": "2024-11-26T22:01:24.151Z"
      },
      {
        "duration": 0,
        "start_time": "2024-11-26T22:01:24.151Z"
      },
      {
        "duration": 0,
        "start_time": "2024-11-26T22:01:24.153Z"
      },
      {
        "duration": 0,
        "start_time": "2024-11-26T22:01:24.154Z"
      },
      {
        "duration": 0,
        "start_time": "2024-11-26T22:01:24.155Z"
      },
      {
        "duration": 0,
        "start_time": "2024-11-26T22:01:24.156Z"
      },
      {
        "duration": 0,
        "start_time": "2024-11-26T22:01:24.157Z"
      },
      {
        "duration": 0,
        "start_time": "2024-11-26T22:01:24.157Z"
      },
      {
        "duration": 800,
        "start_time": "2024-11-26T22:01:32.833Z"
      },
      {
        "duration": 173,
        "start_time": "2024-11-26T22:01:33.636Z"
      },
      {
        "duration": 3,
        "start_time": "2024-11-26T22:01:33.811Z"
      },
      {
        "duration": 31,
        "start_time": "2024-11-26T22:01:33.816Z"
      },
      {
        "duration": 2,
        "start_time": "2024-11-26T22:01:33.850Z"
      },
      {
        "duration": 3,
        "start_time": "2024-11-26T22:01:33.854Z"
      },
      {
        "duration": 242,
        "start_time": "2024-11-26T22:01:33.859Z"
      },
      {
        "duration": 0,
        "start_time": "2024-11-26T22:01:34.109Z"
      },
      {
        "duration": 0,
        "start_time": "2024-11-26T22:01:34.110Z"
      },
      {
        "duration": 0,
        "start_time": "2024-11-26T22:01:34.112Z"
      },
      {
        "duration": 0,
        "start_time": "2024-11-26T22:01:34.113Z"
      },
      {
        "duration": 0,
        "start_time": "2024-11-26T22:01:34.115Z"
      },
      {
        "duration": 0,
        "start_time": "2024-11-26T22:01:34.116Z"
      },
      {
        "duration": 0,
        "start_time": "2024-11-26T22:01:34.118Z"
      },
      {
        "duration": 0,
        "start_time": "2024-11-26T22:01:34.119Z"
      },
      {
        "duration": 0,
        "start_time": "2024-11-26T22:01:34.121Z"
      },
      {
        "duration": 0,
        "start_time": "2024-11-26T22:01:34.122Z"
      },
      {
        "duration": 0,
        "start_time": "2024-11-26T22:01:34.123Z"
      },
      {
        "duration": 0,
        "start_time": "2024-11-26T22:01:34.125Z"
      },
      {
        "duration": 0,
        "start_time": "2024-11-26T22:01:34.126Z"
      },
      {
        "duration": 0,
        "start_time": "2024-11-26T22:01:34.127Z"
      },
      {
        "duration": 0,
        "start_time": "2024-11-26T22:01:34.128Z"
      },
      {
        "duration": 0,
        "start_time": "2024-11-26T22:01:34.129Z"
      },
      {
        "duration": 0,
        "start_time": "2024-11-26T22:01:34.130Z"
      },
      {
        "duration": 0,
        "start_time": "2024-11-26T22:01:34.131Z"
      },
      {
        "duration": 0,
        "start_time": "2024-11-26T22:01:34.132Z"
      },
      {
        "duration": 0,
        "start_time": "2024-11-26T22:01:34.133Z"
      },
      {
        "duration": 0,
        "start_time": "2024-11-26T22:01:34.134Z"
      },
      {
        "duration": 807,
        "start_time": "2024-11-26T22:02:42.227Z"
      },
      {
        "duration": 178,
        "start_time": "2024-11-26T22:02:43.037Z"
      },
      {
        "duration": 3,
        "start_time": "2024-11-26T22:02:43.216Z"
      },
      {
        "duration": 31,
        "start_time": "2024-11-26T22:02:43.221Z"
      },
      {
        "duration": 3,
        "start_time": "2024-11-26T22:02:43.253Z"
      },
      {
        "duration": 3,
        "start_time": "2024-11-26T22:02:43.257Z"
      },
      {
        "duration": 4,
        "start_time": "2024-11-26T22:02:43.261Z"
      },
      {
        "duration": 518,
        "start_time": "2024-11-26T22:02:43.266Z"
      },
      {
        "duration": 10,
        "start_time": "2024-11-26T22:02:43.786Z"
      },
      {
        "duration": 14,
        "start_time": "2024-11-26T22:02:43.808Z"
      },
      {
        "duration": 163,
        "start_time": "2024-11-26T22:02:43.823Z"
      },
      {
        "duration": 8,
        "start_time": "2024-11-26T22:02:43.988Z"
      },
      {
        "duration": 19,
        "start_time": "2024-11-26T22:02:43.998Z"
      },
      {
        "duration": 92,
        "start_time": "2024-11-26T22:02:44.019Z"
      },
      {
        "duration": 14,
        "start_time": "2024-11-26T22:02:44.113Z"
      },
      {
        "duration": 13,
        "start_time": "2024-11-26T22:02:44.128Z"
      },
      {
        "duration": 174,
        "start_time": "2024-11-26T22:02:44.142Z"
      },
      {
        "duration": 5,
        "start_time": "2024-11-26T22:02:44.318Z"
      },
      {
        "duration": 5,
        "start_time": "2024-11-26T22:02:44.324Z"
      },
      {
        "duration": 11,
        "start_time": "2024-11-26T22:02:44.331Z"
      },
      {
        "duration": 12,
        "start_time": "2024-11-26T22:02:44.344Z"
      },
      {
        "duration": 53,
        "start_time": "2024-11-26T22:02:44.358Z"
      },
      {
        "duration": 16,
        "start_time": "2024-11-26T22:02:44.414Z"
      },
      {
        "duration": 562,
        "start_time": "2024-11-26T22:02:44.431Z"
      },
      {
        "duration": 0,
        "start_time": "2024-11-26T22:02:44.995Z"
      },
      {
        "duration": 0,
        "start_time": "2024-11-26T22:02:44.997Z"
      },
      {
        "duration": 0,
        "start_time": "2024-11-26T22:02:44.998Z"
      },
      {
        "duration": 0,
        "start_time": "2024-11-26T22:02:44.999Z"
      },
      {
        "duration": 780,
        "start_time": "2024-11-26T22:05:10.256Z"
      },
      {
        "duration": 172,
        "start_time": "2024-11-26T22:05:11.038Z"
      },
      {
        "duration": 4,
        "start_time": "2024-11-26T22:05:11.214Z"
      },
      {
        "duration": 32,
        "start_time": "2024-11-26T22:05:11.219Z"
      },
      {
        "duration": 2,
        "start_time": "2024-11-26T22:05:11.253Z"
      },
      {
        "duration": 3,
        "start_time": "2024-11-26T22:05:11.256Z"
      },
      {
        "duration": 3,
        "start_time": "2024-11-26T22:05:11.261Z"
      },
      {
        "duration": 503,
        "start_time": "2024-11-26T22:05:11.265Z"
      },
      {
        "duration": 11,
        "start_time": "2024-11-26T22:05:11.771Z"
      },
      {
        "duration": 25,
        "start_time": "2024-11-26T22:05:11.784Z"
      },
      {
        "duration": 160,
        "start_time": "2024-11-26T22:05:11.811Z"
      },
      {
        "duration": 8,
        "start_time": "2024-11-26T22:05:11.974Z"
      },
      {
        "duration": 10,
        "start_time": "2024-11-26T22:05:11.984Z"
      },
      {
        "duration": 78,
        "start_time": "2024-11-26T22:05:12.009Z"
      },
      {
        "duration": 8,
        "start_time": "2024-11-26T22:05:12.089Z"
      },
      {
        "duration": 13,
        "start_time": "2024-11-26T22:05:12.109Z"
      },
      {
        "duration": 171,
        "start_time": "2024-11-26T22:05:12.124Z"
      },
      {
        "duration": 4,
        "start_time": "2024-11-26T22:05:12.297Z"
      },
      {
        "duration": 4,
        "start_time": "2024-11-26T22:05:12.309Z"
      },
      {
        "duration": 11,
        "start_time": "2024-11-26T22:05:12.315Z"
      },
      {
        "duration": 11,
        "start_time": "2024-11-26T22:05:12.327Z"
      },
      {
        "duration": 15,
        "start_time": "2024-11-26T22:05:12.340Z"
      },
      {
        "duration": 17,
        "start_time": "2024-11-26T22:05:12.357Z"
      },
      {
        "duration": 563,
        "start_time": "2024-11-26T22:05:12.375Z"
      },
      {
        "duration": 0,
        "start_time": "2024-11-26T22:05:12.940Z"
      },
      {
        "duration": 0,
        "start_time": "2024-11-26T22:05:12.941Z"
      },
      {
        "duration": 0,
        "start_time": "2024-11-26T22:05:12.942Z"
      },
      {
        "duration": 0,
        "start_time": "2024-11-26T22:05:12.943Z"
      },
      {
        "duration": 810,
        "start_time": "2024-11-26T22:07:23.633Z"
      },
      {
        "duration": 169,
        "start_time": "2024-11-26T22:07:24.445Z"
      },
      {
        "duration": 3,
        "start_time": "2024-11-26T22:07:24.616Z"
      },
      {
        "duration": 30,
        "start_time": "2024-11-26T22:07:24.622Z"
      },
      {
        "duration": 4,
        "start_time": "2024-11-26T22:07:24.653Z"
      },
      {
        "duration": 3,
        "start_time": "2024-11-26T22:07:24.658Z"
      },
      {
        "duration": 3,
        "start_time": "2024-11-26T22:07:24.662Z"
      },
      {
        "duration": 501,
        "start_time": "2024-11-26T22:07:24.667Z"
      },
      {
        "duration": 12,
        "start_time": "2024-11-26T22:07:25.169Z"
      },
      {
        "duration": 26,
        "start_time": "2024-11-26T22:07:25.185Z"
      },
      {
        "duration": 158,
        "start_time": "2024-11-26T22:07:25.212Z"
      },
      {
        "duration": 10,
        "start_time": "2024-11-26T22:07:25.372Z"
      },
      {
        "duration": 25,
        "start_time": "2024-11-26T22:07:25.384Z"
      },
      {
        "duration": 98,
        "start_time": "2024-11-26T22:07:25.411Z"
      },
      {
        "duration": 9,
        "start_time": "2024-11-26T22:07:25.511Z"
      },
      {
        "duration": 12,
        "start_time": "2024-11-26T22:07:25.522Z"
      },
      {
        "duration": 176,
        "start_time": "2024-11-26T22:07:25.535Z"
      },
      {
        "duration": 5,
        "start_time": "2024-11-26T22:07:25.713Z"
      },
      {
        "duration": 5,
        "start_time": "2024-11-26T22:07:25.719Z"
      },
      {
        "duration": 11,
        "start_time": "2024-11-26T22:07:25.726Z"
      },
      {
        "duration": 11,
        "start_time": "2024-11-26T22:07:25.739Z"
      },
      {
        "duration": 17,
        "start_time": "2024-11-26T22:07:25.752Z"
      },
      {
        "duration": 54,
        "start_time": "2024-11-26T22:07:25.770Z"
      },
      {
        "duration": 13,
        "start_time": "2024-11-26T22:07:25.826Z"
      },
      {
        "duration": 110,
        "start_time": "2024-11-26T22:07:25.841Z"
      },
      {
        "duration": 663,
        "start_time": "2024-11-26T22:07:25.952Z"
      },
      {
        "duration": 0,
        "start_time": "2024-11-26T22:07:26.617Z"
      },
      {
        "duration": 0,
        "start_time": "2024-11-26T22:07:26.618Z"
      },
      {
        "duration": 802,
        "start_time": "2024-11-26T22:08:37.470Z"
      },
      {
        "duration": 172,
        "start_time": "2024-11-26T22:08:38.274Z"
      },
      {
        "duration": 5,
        "start_time": "2024-11-26T22:08:38.447Z"
      },
      {
        "duration": 31,
        "start_time": "2024-11-26T22:08:38.455Z"
      },
      {
        "duration": 4,
        "start_time": "2024-11-26T22:08:38.488Z"
      },
      {
        "duration": 2,
        "start_time": "2024-11-26T22:08:38.509Z"
      },
      {
        "duration": 4,
        "start_time": "2024-11-26T22:08:38.513Z"
      },
      {
        "duration": 498,
        "start_time": "2024-11-26T22:08:38.518Z"
      },
      {
        "duration": 12,
        "start_time": "2024-11-26T22:08:39.018Z"
      },
      {
        "duration": 14,
        "start_time": "2024-11-26T22:08:39.033Z"
      },
      {
        "duration": 184,
        "start_time": "2024-11-26T22:08:39.048Z"
      },
      {
        "duration": 9,
        "start_time": "2024-11-26T22:08:39.234Z"
      },
      {
        "duration": 10,
        "start_time": "2024-11-26T22:08:39.245Z"
      },
      {
        "duration": 97,
        "start_time": "2024-11-26T22:08:39.257Z"
      },
      {
        "duration": 11,
        "start_time": "2024-11-26T22:08:39.355Z"
      },
      {
        "duration": 15,
        "start_time": "2024-11-26T22:08:39.368Z"
      },
      {
        "duration": 172,
        "start_time": "2024-11-26T22:08:39.384Z"
      },
      {
        "duration": 4,
        "start_time": "2024-11-26T22:08:39.559Z"
      },
      {
        "duration": 4,
        "start_time": "2024-11-26T22:08:39.564Z"
      },
      {
        "duration": 11,
        "start_time": "2024-11-26T22:08:39.570Z"
      },
      {
        "duration": 31,
        "start_time": "2024-11-26T22:08:39.583Z"
      },
      {
        "duration": 16,
        "start_time": "2024-11-26T22:08:39.616Z"
      },
      {
        "duration": 15,
        "start_time": "2024-11-26T22:08:39.633Z"
      },
      {
        "duration": 13,
        "start_time": "2024-11-26T22:08:39.650Z"
      },
      {
        "duration": 125,
        "start_time": "2024-11-26T22:08:39.664Z"
      },
      {
        "duration": 105,
        "start_time": "2024-11-26T22:08:39.790Z"
      },
      {
        "duration": 233,
        "start_time": "2024-11-26T22:08:39.898Z"
      },
      {
        "duration": 0,
        "start_time": "2024-11-26T22:08:40.133Z"
      },
      {
        "duration": 820,
        "start_time": "2024-11-26T22:15:50.111Z"
      },
      {
        "duration": 171,
        "start_time": "2024-11-26T22:15:50.933Z"
      },
      {
        "duration": 3,
        "start_time": "2024-11-26T22:15:51.106Z"
      },
      {
        "duration": 40,
        "start_time": "2024-11-26T22:15:51.112Z"
      },
      {
        "duration": 3,
        "start_time": "2024-11-26T22:15:51.154Z"
      },
      {
        "duration": 3,
        "start_time": "2024-11-26T22:15:51.159Z"
      },
      {
        "duration": 4,
        "start_time": "2024-11-26T22:15:51.164Z"
      },
      {
        "duration": 525,
        "start_time": "2024-11-26T22:15:51.170Z"
      },
      {
        "duration": 18,
        "start_time": "2024-11-26T22:15:51.696Z"
      },
      {
        "duration": 14,
        "start_time": "2024-11-26T22:15:51.718Z"
      },
      {
        "duration": 162,
        "start_time": "2024-11-26T22:15:51.733Z"
      },
      {
        "duration": 14,
        "start_time": "2024-11-26T22:15:51.896Z"
      },
      {
        "duration": 10,
        "start_time": "2024-11-26T22:15:51.912Z"
      },
      {
        "duration": 90,
        "start_time": "2024-11-26T22:15:51.924Z"
      },
      {
        "duration": 9,
        "start_time": "2024-11-26T22:15:52.016Z"
      },
      {
        "duration": 12,
        "start_time": "2024-11-26T22:15:52.028Z"
      },
      {
        "duration": 174,
        "start_time": "2024-11-26T22:15:52.041Z"
      },
      {
        "duration": 4,
        "start_time": "2024-11-26T22:15:52.217Z"
      },
      {
        "duration": 5,
        "start_time": "2024-11-26T22:15:52.223Z"
      },
      {
        "duration": 12,
        "start_time": "2024-11-26T22:15:52.229Z"
      },
      {
        "duration": 11,
        "start_time": "2024-11-26T22:15:52.243Z"
      },
      {
        "duration": 16,
        "start_time": "2024-11-26T22:15:52.256Z"
      },
      {
        "duration": 45,
        "start_time": "2024-11-26T22:15:52.274Z"
      },
      {
        "duration": 12,
        "start_time": "2024-11-26T22:15:52.321Z"
      },
      {
        "duration": 109,
        "start_time": "2024-11-26T22:15:52.335Z"
      },
      {
        "duration": 105,
        "start_time": "2024-11-26T22:15:52.446Z"
      },
      {
        "duration": 5,
        "start_time": "2024-11-26T22:15:52.555Z"
      },
      {
        "duration": 243,
        "start_time": "2024-11-26T22:15:52.563Z"
      },
      {
        "duration": 2693,
        "start_time": "2024-11-29T19:32:04.737Z"
      },
      {
        "duration": 132,
        "start_time": "2024-11-29T19:32:07.432Z"
      },
      {
        "duration": 4,
        "start_time": "2024-11-29T19:32:07.565Z"
      },
      {
        "duration": 43,
        "start_time": "2024-11-29T19:32:07.571Z"
      },
      {
        "duration": 2,
        "start_time": "2024-11-29T19:32:07.616Z"
      },
      {
        "duration": 2,
        "start_time": "2024-11-29T19:32:07.620Z"
      },
      {
        "duration": 3,
        "start_time": "2024-11-29T19:32:07.625Z"
      },
      {
        "duration": 628,
        "start_time": "2024-11-29T19:32:07.630Z"
      },
      {
        "duration": 10,
        "start_time": "2024-11-29T19:32:08.260Z"
      },
      {
        "duration": 14,
        "start_time": "2024-11-29T19:32:08.274Z"
      },
      {
        "duration": 160,
        "start_time": "2024-11-29T19:32:08.306Z"
      },
      {
        "duration": 9,
        "start_time": "2024-11-29T19:32:08.468Z"
      },
      {
        "duration": 11,
        "start_time": "2024-11-29T19:32:08.478Z"
      },
      {
        "duration": 79,
        "start_time": "2024-11-29T19:32:08.505Z"
      },
      {
        "duration": 19,
        "start_time": "2024-11-29T19:32:08.587Z"
      },
      {
        "duration": 14,
        "start_time": "2024-11-29T19:32:08.608Z"
      },
      {
        "duration": 177,
        "start_time": "2024-11-29T19:32:08.624Z"
      },
      {
        "duration": 6,
        "start_time": "2024-11-29T19:32:08.806Z"
      },
      {
        "duration": 6,
        "start_time": "2024-11-29T19:32:08.813Z"
      },
      {
        "duration": 13,
        "start_time": "2024-11-29T19:32:08.821Z"
      },
      {
        "duration": 11,
        "start_time": "2024-11-29T19:32:08.836Z"
      },
      {
        "duration": 16,
        "start_time": "2024-11-29T19:32:08.849Z"
      },
      {
        "duration": 53,
        "start_time": "2024-11-29T19:32:08.866Z"
      },
      {
        "duration": 15,
        "start_time": "2024-11-29T19:32:08.921Z"
      },
      {
        "duration": 115,
        "start_time": "2024-11-29T19:32:08.938Z"
      },
      {
        "duration": 115,
        "start_time": "2024-11-29T19:32:09.054Z"
      },
      {
        "duration": 7,
        "start_time": "2024-11-29T19:32:09.171Z"
      },
      {
        "duration": 696,
        "start_time": "2024-11-29T19:32:09.182Z"
      },
      {
        "duration": 162,
        "start_time": "2024-12-02T18:59:51.709Z"
      },
      {
        "duration": 2731,
        "start_time": "2024-12-02T18:59:57.540Z"
      },
      {
        "duration": 151,
        "start_time": "2024-12-02T19:00:00.274Z"
      },
      {
        "duration": 4,
        "start_time": "2024-12-02T19:00:00.427Z"
      },
      {
        "duration": 39,
        "start_time": "2024-12-02T19:00:00.432Z"
      },
      {
        "duration": 2,
        "start_time": "2024-12-02T19:00:00.475Z"
      },
      {
        "duration": 3,
        "start_time": "2024-12-02T19:00:00.479Z"
      },
      {
        "duration": 4,
        "start_time": "2024-12-02T19:00:00.483Z"
      },
      {
        "duration": 654,
        "start_time": "2024-12-02T19:00:00.509Z"
      },
      {
        "duration": 12,
        "start_time": "2024-12-02T19:00:01.165Z"
      },
      {
        "duration": 14,
        "start_time": "2024-12-02T19:00:01.180Z"
      },
      {
        "duration": 169,
        "start_time": "2024-12-02T19:00:01.208Z"
      },
      {
        "duration": 9,
        "start_time": "2024-12-02T19:00:01.379Z"
      },
      {
        "duration": 19,
        "start_time": "2024-12-02T19:00:01.390Z"
      },
      {
        "duration": 82,
        "start_time": "2024-12-02T19:00:01.412Z"
      },
      {
        "duration": 20,
        "start_time": "2024-12-02T19:00:01.496Z"
      },
      {
        "duration": 14,
        "start_time": "2024-12-02T19:00:01.518Z"
      },
      {
        "duration": 185,
        "start_time": "2024-12-02T19:00:01.534Z"
      },
      {
        "duration": 4,
        "start_time": "2024-12-02T19:00:01.721Z"
      },
      {
        "duration": 4,
        "start_time": "2024-12-02T19:00:01.728Z"
      },
      {
        "duration": 12,
        "start_time": "2024-12-02T19:00:01.734Z"
      },
      {
        "duration": 13,
        "start_time": "2024-12-02T19:00:01.747Z"
      },
      {
        "duration": 50,
        "start_time": "2024-12-02T19:00:01.762Z"
      },
      {
        "duration": 18,
        "start_time": "2024-12-02T19:00:01.814Z"
      },
      {
        "duration": 14,
        "start_time": "2024-12-02T19:00:01.833Z"
      },
      {
        "duration": 120,
        "start_time": "2024-12-02T19:00:01.848Z"
      },
      {
        "duration": 177,
        "start_time": "2024-12-02T19:00:01.970Z"
      },
      {
        "duration": 6,
        "start_time": "2024-12-02T19:00:02.149Z"
      },
      {
        "duration": 4,
        "start_time": "2024-12-02T19:00:02.157Z"
      },
      {
        "duration": 638,
        "start_time": "2024-12-02T19:00:02.162Z"
      },
      {
        "duration": 826,
        "start_time": "2024-12-02T19:34:23.949Z"
      },
      {
        "duration": 198,
        "start_time": "2024-12-02T19:34:24.778Z"
      },
      {
        "duration": 2,
        "start_time": "2024-12-02T19:34:24.978Z"
      },
      {
        "duration": 46,
        "start_time": "2024-12-02T19:34:24.983Z"
      },
      {
        "duration": 3,
        "start_time": "2024-12-02T19:34:25.031Z"
      },
      {
        "duration": 3,
        "start_time": "2024-12-02T19:34:25.035Z"
      },
      {
        "duration": 3,
        "start_time": "2024-12-02T19:34:25.040Z"
      },
      {
        "duration": 554,
        "start_time": "2024-12-02T19:34:25.045Z"
      },
      {
        "duration": 11,
        "start_time": "2024-12-02T19:34:25.601Z"
      },
      {
        "duration": 14,
        "start_time": "2024-12-02T19:34:25.615Z"
      },
      {
        "duration": 164,
        "start_time": "2024-12-02T19:34:25.630Z"
      },
      {
        "duration": 14,
        "start_time": "2024-12-02T19:34:25.796Z"
      },
      {
        "duration": 11,
        "start_time": "2024-12-02T19:34:25.812Z"
      },
      {
        "duration": 95,
        "start_time": "2024-12-02T19:34:25.825Z"
      },
      {
        "duration": 9,
        "start_time": "2024-12-02T19:34:25.922Z"
      },
      {
        "duration": 13,
        "start_time": "2024-12-02T19:34:25.933Z"
      },
      {
        "duration": 185,
        "start_time": "2024-12-02T19:34:25.948Z"
      },
      {
        "duration": 7,
        "start_time": "2024-12-02T19:34:26.135Z"
      },
      {
        "duration": 5,
        "start_time": "2024-12-02T19:34:26.143Z"
      },
      {
        "duration": 12,
        "start_time": "2024-12-02T19:34:26.149Z"
      },
      {
        "duration": 13,
        "start_time": "2024-12-02T19:34:26.163Z"
      },
      {
        "duration": 45,
        "start_time": "2024-12-02T19:34:26.178Z"
      },
      {
        "duration": 17,
        "start_time": "2024-12-02T19:34:26.225Z"
      },
      {
        "duration": 14,
        "start_time": "2024-12-02T19:34:26.244Z"
      },
      {
        "duration": 126,
        "start_time": "2024-12-02T19:34:26.259Z"
      },
      {
        "duration": 109,
        "start_time": "2024-12-02T19:34:26.387Z"
      },
      {
        "duration": 12,
        "start_time": "2024-12-02T19:34:26.498Z"
      },
      {
        "duration": 3,
        "start_time": "2024-12-02T19:34:26.514Z"
      },
      {
        "duration": 633,
        "start_time": "2024-12-02T19:34:26.518Z"
      },
      {
        "duration": 914,
        "start_time": "2024-12-02T19:36:03.618Z"
      },
      {
        "duration": 193,
        "start_time": "2024-12-02T19:36:04.535Z"
      },
      {
        "duration": 4,
        "start_time": "2024-12-02T19:36:04.729Z"
      },
      {
        "duration": 32,
        "start_time": "2024-12-02T19:36:04.735Z"
      },
      {
        "duration": 3,
        "start_time": "2024-12-02T19:36:04.769Z"
      },
      {
        "duration": 3,
        "start_time": "2024-12-02T19:36:04.774Z"
      },
      {
        "duration": 3,
        "start_time": "2024-12-02T19:36:04.779Z"
      },
      {
        "duration": 562,
        "start_time": "2024-12-02T19:36:04.784Z"
      },
      {
        "duration": 11,
        "start_time": "2024-12-02T19:36:05.347Z"
      },
      {
        "duration": 16,
        "start_time": "2024-12-02T19:36:05.361Z"
      },
      {
        "duration": 166,
        "start_time": "2024-12-02T19:36:05.379Z"
      },
      {
        "duration": 9,
        "start_time": "2024-12-02T19:36:05.547Z"
      },
      {
        "duration": 11,
        "start_time": "2024-12-02T19:36:05.559Z"
      },
      {
        "duration": 98,
        "start_time": "2024-12-02T19:36:05.571Z"
      },
      {
        "duration": 8,
        "start_time": "2024-12-02T19:36:05.671Z"
      },
      {
        "duration": 30,
        "start_time": "2024-12-02T19:36:05.682Z"
      },
      {
        "duration": 172,
        "start_time": "2024-12-02T19:36:05.714Z"
      },
      {
        "duration": 5,
        "start_time": "2024-12-02T19:36:05.887Z"
      },
      {
        "duration": 15,
        "start_time": "2024-12-02T19:36:05.894Z"
      },
      {
        "duration": 14,
        "start_time": "2024-12-02T19:36:05.910Z"
      },
      {
        "duration": 13,
        "start_time": "2024-12-02T19:36:05.925Z"
      },
      {
        "duration": 16,
        "start_time": "2024-12-02T19:36:05.940Z"
      },
      {
        "duration": 17,
        "start_time": "2024-12-02T19:36:05.957Z"
      },
      {
        "duration": 38,
        "start_time": "2024-12-02T19:36:05.977Z"
      },
      {
        "duration": 116,
        "start_time": "2024-12-02T19:36:06.016Z"
      },
      {
        "duration": 118,
        "start_time": "2024-12-02T19:36:06.133Z"
      },
      {
        "duration": 7,
        "start_time": "2024-12-02T19:36:06.252Z"
      },
      {
        "duration": 3,
        "start_time": "2024-12-02T19:36:06.262Z"
      },
      {
        "duration": 768,
        "start_time": "2024-12-02T19:36:06.267Z"
      },
      {
        "duration": 850,
        "start_time": "2024-12-02T19:39:11.297Z"
      },
      {
        "duration": 184,
        "start_time": "2024-12-02T19:39:12.150Z"
      },
      {
        "duration": 3,
        "start_time": "2024-12-02T19:39:12.336Z"
      },
      {
        "duration": 32,
        "start_time": "2024-12-02T19:39:12.341Z"
      },
      {
        "duration": 2,
        "start_time": "2024-12-02T19:39:12.376Z"
      },
      {
        "duration": 3,
        "start_time": "2024-12-02T19:39:12.380Z"
      },
      {
        "duration": 25,
        "start_time": "2024-12-02T19:39:12.385Z"
      },
      {
        "duration": 518,
        "start_time": "2024-12-02T19:39:12.412Z"
      },
      {
        "duration": 12,
        "start_time": "2024-12-02T19:39:12.932Z"
      },
      {
        "duration": 15,
        "start_time": "2024-12-02T19:39:12.946Z"
      },
      {
        "duration": 172,
        "start_time": "2024-12-02T19:39:12.963Z"
      },
      {
        "duration": 9,
        "start_time": "2024-12-02T19:39:13.137Z"
      },
      {
        "duration": 10,
        "start_time": "2024-12-02T19:39:13.148Z"
      },
      {
        "duration": 99,
        "start_time": "2024-12-02T19:39:13.161Z"
      },
      {
        "duration": 9,
        "start_time": "2024-12-02T19:39:13.262Z"
      },
      {
        "duration": 13,
        "start_time": "2024-12-02T19:39:13.273Z"
      },
      {
        "duration": 183,
        "start_time": "2024-12-02T19:39:13.287Z"
      },
      {
        "duration": 5,
        "start_time": "2024-12-02T19:39:13.472Z"
      },
      {
        "duration": 5,
        "start_time": "2024-12-02T19:39:13.478Z"
      },
      {
        "duration": 28,
        "start_time": "2024-12-02T19:39:13.484Z"
      },
      {
        "duration": 12,
        "start_time": "2024-12-02T19:39:13.514Z"
      },
      {
        "duration": 16,
        "start_time": "2024-12-02T19:39:13.528Z"
      },
      {
        "duration": 17,
        "start_time": "2024-12-02T19:39:13.546Z"
      },
      {
        "duration": 14,
        "start_time": "2024-12-02T19:39:13.565Z"
      },
      {
        "duration": 102,
        "start_time": "2024-12-02T19:39:13.610Z"
      },
      {
        "duration": 113,
        "start_time": "2024-12-02T19:39:13.714Z"
      },
      {
        "duration": 6,
        "start_time": "2024-12-02T19:39:13.829Z"
      },
      {
        "duration": 3,
        "start_time": "2024-12-02T19:39:13.837Z"
      },
      {
        "duration": 407,
        "start_time": "2024-12-02T19:39:13.842Z"
      },
      {
        "duration": 845,
        "start_time": "2024-12-02T19:45:01.614Z"
      },
      {
        "duration": 204,
        "start_time": "2024-12-02T19:45:02.463Z"
      },
      {
        "duration": 4,
        "start_time": "2024-12-02T19:45:02.670Z"
      },
      {
        "duration": 45,
        "start_time": "2024-12-02T19:45:02.676Z"
      },
      {
        "duration": 4,
        "start_time": "2024-12-02T19:45:02.723Z"
      },
      {
        "duration": 3,
        "start_time": "2024-12-02T19:45:02.729Z"
      },
      {
        "duration": 3,
        "start_time": "2024-12-02T19:45:02.734Z"
      },
      {
        "duration": 560,
        "start_time": "2024-12-02T19:45:02.738Z"
      },
      {
        "duration": 10,
        "start_time": "2024-12-02T19:45:03.301Z"
      },
      {
        "duration": 15,
        "start_time": "2024-12-02T19:45:03.313Z"
      },
      {
        "duration": 168,
        "start_time": "2024-12-02T19:45:03.330Z"
      },
      {
        "duration": 14,
        "start_time": "2024-12-02T19:45:03.500Z"
      },
      {
        "duration": 14,
        "start_time": "2024-12-02T19:45:03.517Z"
      },
      {
        "duration": 95,
        "start_time": "2024-12-02T19:45:03.533Z"
      },
      {
        "duration": 9,
        "start_time": "2024-12-02T19:45:03.630Z"
      },
      {
        "duration": 14,
        "start_time": "2024-12-02T19:45:03.640Z"
      },
      {
        "duration": 186,
        "start_time": "2024-12-02T19:45:03.656Z"
      },
      {
        "duration": 5,
        "start_time": "2024-12-02T19:45:03.845Z"
      },
      {
        "duration": 5,
        "start_time": "2024-12-02T19:45:03.851Z"
      },
      {
        "duration": 11,
        "start_time": "2024-12-02T19:45:03.858Z"
      },
      {
        "duration": 38,
        "start_time": "2024-12-02T19:45:03.871Z"
      },
      {
        "duration": 16,
        "start_time": "2024-12-02T19:45:03.910Z"
      },
      {
        "duration": 15,
        "start_time": "2024-12-02T19:45:03.928Z"
      },
      {
        "duration": 13,
        "start_time": "2024-12-02T19:45:03.945Z"
      },
      {
        "duration": 126,
        "start_time": "2024-12-02T19:45:03.960Z"
      },
      {
        "duration": 114,
        "start_time": "2024-12-02T19:45:04.088Z"
      },
      {
        "duration": 6,
        "start_time": "2024-12-02T19:45:04.211Z"
      },
      {
        "duration": 386,
        "start_time": "2024-12-02T19:45:04.219Z"
      },
      {
        "duration": 237,
        "start_time": "2024-12-02T19:45:04.608Z"
      },
      {
        "duration": 0,
        "start_time": "2024-12-02T19:45:04.847Z"
      },
      {
        "duration": 850,
        "start_time": "2024-12-02T19:48:24.904Z"
      },
      {
        "duration": 185,
        "start_time": "2024-12-02T19:48:25.756Z"
      },
      {
        "duration": 3,
        "start_time": "2024-12-02T19:48:25.943Z"
      },
      {
        "duration": 33,
        "start_time": "2024-12-02T19:48:25.948Z"
      },
      {
        "duration": 3,
        "start_time": "2024-12-02T19:48:25.982Z"
      },
      {
        "duration": 23,
        "start_time": "2024-12-02T19:48:25.987Z"
      },
      {
        "duration": 4,
        "start_time": "2024-12-02T19:48:26.012Z"
      },
      {
        "duration": 533,
        "start_time": "2024-12-02T19:48:26.018Z"
      },
      {
        "duration": 12,
        "start_time": "2024-12-02T19:48:26.553Z"
      },
      {
        "duration": 14,
        "start_time": "2024-12-02T19:48:26.568Z"
      },
      {
        "duration": 166,
        "start_time": "2024-12-02T19:48:26.583Z"
      },
      {
        "duration": 9,
        "start_time": "2024-12-02T19:48:26.751Z"
      },
      {
        "duration": 12,
        "start_time": "2024-12-02T19:48:26.762Z"
      },
      {
        "duration": 98,
        "start_time": "2024-12-02T19:48:26.776Z"
      },
      {
        "duration": 9,
        "start_time": "2024-12-02T19:48:26.876Z"
      },
      {
        "duration": 25,
        "start_time": "2024-12-02T19:48:26.887Z"
      },
      {
        "duration": 167,
        "start_time": "2024-12-02T19:48:26.914Z"
      },
      {
        "duration": 5,
        "start_time": "2024-12-02T19:48:27.083Z"
      },
      {
        "duration": 19,
        "start_time": "2024-12-02T19:48:27.090Z"
      },
      {
        "duration": 12,
        "start_time": "2024-12-02T19:48:27.110Z"
      },
      {
        "duration": 11,
        "start_time": "2024-12-02T19:48:27.124Z"
      },
      {
        "duration": 15,
        "start_time": "2024-12-02T19:48:27.137Z"
      },
      {
        "duration": 17,
        "start_time": "2024-12-02T19:48:27.154Z"
      },
      {
        "duration": 41,
        "start_time": "2024-12-02T19:48:27.175Z"
      },
      {
        "duration": 113,
        "start_time": "2024-12-02T19:48:27.218Z"
      },
      {
        "duration": 118,
        "start_time": "2024-12-02T19:48:27.333Z"
      },
      {
        "duration": 7,
        "start_time": "2024-12-02T19:48:27.454Z"
      },
      {
        "duration": 413,
        "start_time": "2024-12-02T19:48:27.464Z"
      },
      {
        "duration": 18,
        "start_time": "2024-12-02T19:48:27.880Z"
      },
      {
        "duration": 684,
        "start_time": "2024-12-02T19:48:27.900Z"
      },
      {
        "duration": 0,
        "start_time": "2024-12-02T19:48:28.586Z"
      },
      {
        "duration": 869,
        "start_time": "2024-12-02T19:48:38.619Z"
      },
      {
        "duration": 195,
        "start_time": "2024-12-02T19:48:39.491Z"
      },
      {
        "duration": 3,
        "start_time": "2024-12-02T19:48:39.688Z"
      },
      {
        "duration": 40,
        "start_time": "2024-12-02T19:48:39.694Z"
      },
      {
        "duration": 3,
        "start_time": "2024-12-02T19:48:39.736Z"
      },
      {
        "duration": 3,
        "start_time": "2024-12-02T19:48:39.741Z"
      },
      {
        "duration": 4,
        "start_time": "2024-12-02T19:48:39.745Z"
      },
      {
        "duration": 554,
        "start_time": "2024-12-02T19:48:39.750Z"
      },
      {
        "duration": 11,
        "start_time": "2024-12-02T19:48:40.306Z"
      },
      {
        "duration": 14,
        "start_time": "2024-12-02T19:48:40.320Z"
      },
      {
        "duration": 168,
        "start_time": "2024-12-02T19:48:40.335Z"
      },
      {
        "duration": 9,
        "start_time": "2024-12-02T19:48:40.505Z"
      },
      {
        "duration": 11,
        "start_time": "2024-12-02T19:48:40.516Z"
      },
      {
        "duration": 95,
        "start_time": "2024-12-02T19:48:40.529Z"
      },
      {
        "duration": 9,
        "start_time": "2024-12-02T19:48:40.625Z"
      },
      {
        "duration": 13,
        "start_time": "2024-12-02T19:48:40.636Z"
      },
      {
        "duration": 184,
        "start_time": "2024-12-02T19:48:40.651Z"
      },
      {
        "duration": 4,
        "start_time": "2024-12-02T19:48:40.837Z"
      },
      {
        "duration": 5,
        "start_time": "2024-12-02T19:48:40.843Z"
      },
      {
        "duration": 13,
        "start_time": "2024-12-02T19:48:40.849Z"
      },
      {
        "duration": 13,
        "start_time": "2024-12-02T19:48:40.863Z"
      },
      {
        "duration": 40,
        "start_time": "2024-12-02T19:48:40.879Z"
      },
      {
        "duration": 16,
        "start_time": "2024-12-02T19:48:40.920Z"
      },
      {
        "duration": 13,
        "start_time": "2024-12-02T19:48:40.937Z"
      },
      {
        "duration": 121,
        "start_time": "2024-12-02T19:48:40.952Z"
      },
      {
        "duration": 110,
        "start_time": "2024-12-02T19:48:41.075Z"
      },
      {
        "duration": 7,
        "start_time": "2024-12-02T19:48:41.186Z"
      },
      {
        "duration": 393,
        "start_time": "2024-12-02T19:48:41.196Z"
      },
      {
        "duration": 18,
        "start_time": "2024-12-02T19:48:41.592Z"
      },
      {
        "duration": 674,
        "start_time": "2024-12-02T19:48:41.611Z"
      },
      {
        "duration": 0,
        "start_time": "2024-12-02T19:48:42.286Z"
      },
      {
        "duration": 3,
        "start_time": "2024-12-02T19:54:57.527Z"
      },
      {
        "duration": 891,
        "start_time": "2024-12-02T19:56:03.438Z"
      },
      {
        "duration": 193,
        "start_time": "2024-12-02T19:56:04.331Z"
      },
      {
        "duration": 3,
        "start_time": "2024-12-02T19:56:04.526Z"
      },
      {
        "duration": 34,
        "start_time": "2024-12-02T19:56:04.531Z"
      },
      {
        "duration": 3,
        "start_time": "2024-12-02T19:56:04.569Z"
      },
      {
        "duration": 3,
        "start_time": "2024-12-02T19:56:04.574Z"
      },
      {
        "duration": 4,
        "start_time": "2024-12-02T19:56:04.579Z"
      },
      {
        "duration": 555,
        "start_time": "2024-12-02T19:56:04.609Z"
      },
      {
        "duration": 13,
        "start_time": "2024-12-02T19:56:05.166Z"
      },
      {
        "duration": 15,
        "start_time": "2024-12-02T19:56:05.180Z"
      },
      {
        "duration": 165,
        "start_time": "2024-12-02T19:56:05.197Z"
      },
      {
        "duration": 9,
        "start_time": "2024-12-02T19:56:05.364Z"
      },
      {
        "duration": 10,
        "start_time": "2024-12-02T19:56:05.375Z"
      },
      {
        "duration": 80,
        "start_time": "2024-12-02T19:56:05.408Z"
      },
      {
        "duration": 17,
        "start_time": "2024-12-02T19:56:05.491Z"
      },
      {
        "duration": 13,
        "start_time": "2024-12-02T19:56:05.510Z"
      },
      {
        "duration": 187,
        "start_time": "2024-12-02T19:56:05.525Z"
      },
      {
        "duration": 5,
        "start_time": "2024-12-02T19:56:05.714Z"
      },
      {
        "duration": 4,
        "start_time": "2024-12-02T19:56:05.720Z"
      },
      {
        "duration": 12,
        "start_time": "2024-12-02T19:56:05.726Z"
      },
      {
        "duration": 13,
        "start_time": "2024-12-02T19:56:05.740Z"
      },
      {
        "duration": 17,
        "start_time": "2024-12-02T19:56:05.755Z"
      },
      {
        "duration": 51,
        "start_time": "2024-12-02T19:56:05.774Z"
      },
      {
        "duration": 13,
        "start_time": "2024-12-02T19:56:05.827Z"
      },
      {
        "duration": 117,
        "start_time": "2024-12-02T19:56:05.842Z"
      },
      {
        "duration": 114,
        "start_time": "2024-12-02T19:56:05.961Z"
      },
      {
        "duration": 7,
        "start_time": "2024-12-02T19:56:06.077Z"
      },
      {
        "duration": 432,
        "start_time": "2024-12-02T19:56:06.085Z"
      },
      {
        "duration": 573,
        "start_time": "2024-12-02T19:56:06.519Z"
      },
      {
        "duration": 0,
        "start_time": "2024-12-02T19:56:07.095Z"
      },
      {
        "duration": 0,
        "start_time": "2024-12-02T19:56:07.096Z"
      },
      {
        "duration": 0,
        "start_time": "2024-12-02T19:56:07.096Z"
      },
      {
        "duration": 896,
        "start_time": "2024-12-02T19:59:44.424Z"
      },
      {
        "duration": 190,
        "start_time": "2024-12-02T19:59:45.322Z"
      },
      {
        "duration": 3,
        "start_time": "2024-12-02T19:59:45.514Z"
      },
      {
        "duration": 34,
        "start_time": "2024-12-02T19:59:45.519Z"
      },
      {
        "duration": 2,
        "start_time": "2024-12-02T19:59:45.555Z"
      },
      {
        "duration": 2,
        "start_time": "2024-12-02T19:59:45.559Z"
      },
      {
        "duration": 4,
        "start_time": "2024-12-02T19:59:45.563Z"
      },
      {
        "duration": 570,
        "start_time": "2024-12-02T19:59:45.568Z"
      },
      {
        "duration": 10,
        "start_time": "2024-12-02T19:59:46.140Z"
      },
      {
        "duration": 16,
        "start_time": "2024-12-02T19:59:46.154Z"
      },
      {
        "duration": 163,
        "start_time": "2024-12-02T19:59:46.172Z"
      },
      {
        "duration": 9,
        "start_time": "2024-12-02T19:59:46.338Z"
      },
      {
        "duration": 11,
        "start_time": "2024-12-02T19:59:46.349Z"
      },
      {
        "duration": 114,
        "start_time": "2024-12-02T19:59:46.362Z"
      },
      {
        "duration": 8,
        "start_time": "2024-12-02T19:59:46.478Z"
      },
      {
        "duration": 26,
        "start_time": "2024-12-02T19:59:46.488Z"
      },
      {
        "duration": 168,
        "start_time": "2024-12-02T19:59:46.516Z"
      },
      {
        "duration": 4,
        "start_time": "2024-12-02T19:59:46.686Z"
      },
      {
        "duration": 17,
        "start_time": "2024-12-02T19:59:46.691Z"
      },
      {
        "duration": 12,
        "start_time": "2024-12-02T19:59:46.710Z"
      },
      {
        "duration": 11,
        "start_time": "2024-12-02T19:59:46.724Z"
      },
      {
        "duration": 16,
        "start_time": "2024-12-02T19:59:46.737Z"
      },
      {
        "duration": 16,
        "start_time": "2024-12-02T19:59:46.755Z"
      },
      {
        "duration": 41,
        "start_time": "2024-12-02T19:59:46.773Z"
      },
      {
        "duration": 103,
        "start_time": "2024-12-02T19:59:46.817Z"
      },
      {
        "duration": 112,
        "start_time": "2024-12-02T19:59:46.922Z"
      },
      {
        "duration": 7,
        "start_time": "2024-12-02T19:59:47.036Z"
      },
      {
        "duration": 431,
        "start_time": "2024-12-02T19:59:47.046Z"
      },
      {
        "duration": 4,
        "start_time": "2024-12-02T19:59:47.479Z"
      },
      {
        "duration": 578,
        "start_time": "2024-12-02T19:59:47.485Z"
      },
      {
        "duration": 0,
        "start_time": "2024-12-02T19:59:48.065Z"
      },
      {
        "duration": 0,
        "start_time": "2024-12-02T19:59:48.067Z"
      },
      {
        "duration": 0,
        "start_time": "2024-12-02T19:59:48.069Z"
      },
      {
        "duration": 859,
        "start_time": "2024-12-02T20:01:05.855Z"
      },
      {
        "duration": 213,
        "start_time": "2024-12-02T20:01:06.716Z"
      },
      {
        "duration": 3,
        "start_time": "2024-12-02T20:01:06.931Z"
      },
      {
        "duration": 32,
        "start_time": "2024-12-02T20:01:06.937Z"
      },
      {
        "duration": 2,
        "start_time": "2024-12-02T20:01:06.971Z"
      },
      {
        "duration": 3,
        "start_time": "2024-12-02T20:01:06.975Z"
      },
      {
        "duration": 3,
        "start_time": "2024-12-02T20:01:06.980Z"
      },
      {
        "duration": 602,
        "start_time": "2024-12-02T20:01:06.985Z"
      },
      {
        "duration": 11,
        "start_time": "2024-12-02T20:01:07.589Z"
      },
      {
        "duration": 17,
        "start_time": "2024-12-02T20:01:07.610Z"
      },
      {
        "duration": 160,
        "start_time": "2024-12-02T20:01:07.630Z"
      },
      {
        "duration": 17,
        "start_time": "2024-12-02T20:01:07.792Z"
      },
      {
        "duration": 12,
        "start_time": "2024-12-02T20:01:07.811Z"
      },
      {
        "duration": 98,
        "start_time": "2024-12-02T20:01:07.825Z"
      },
      {
        "duration": 10,
        "start_time": "2024-12-02T20:01:07.925Z"
      },
      {
        "duration": 13,
        "start_time": "2024-12-02T20:01:07.937Z"
      },
      {
        "duration": 175,
        "start_time": "2024-12-02T20:01:07.952Z"
      },
      {
        "duration": 5,
        "start_time": "2024-12-02T20:01:08.129Z"
      },
      {
        "duration": 5,
        "start_time": "2024-12-02T20:01:08.136Z"
      },
      {
        "duration": 13,
        "start_time": "2024-12-02T20:01:08.142Z"
      },
      {
        "duration": 14,
        "start_time": "2024-12-02T20:01:08.156Z"
      },
      {
        "duration": 45,
        "start_time": "2024-12-02T20:01:08.171Z"
      },
      {
        "duration": 16,
        "start_time": "2024-12-02T20:01:08.218Z"
      },
      {
        "duration": 13,
        "start_time": "2024-12-02T20:01:08.236Z"
      },
      {
        "duration": 124,
        "start_time": "2024-12-02T20:01:08.251Z"
      },
      {
        "duration": 110,
        "start_time": "2024-12-02T20:01:08.376Z"
      },
      {
        "duration": 6,
        "start_time": "2024-12-02T20:01:08.488Z"
      },
      {
        "duration": 396,
        "start_time": "2024-12-02T20:01:08.509Z"
      },
      {
        "duration": 4,
        "start_time": "2024-12-02T20:01:08.907Z"
      },
      {
        "duration": 19,
        "start_time": "2024-12-02T20:01:08.913Z"
      },
      {
        "duration": 3,
        "start_time": "2024-12-02T20:01:08.934Z"
      },
      {
        "duration": 695,
        "start_time": "2024-12-02T20:01:08.939Z"
      },
      {
        "duration": 0,
        "start_time": "2024-12-02T20:01:09.636Z"
      },
      {
        "duration": 876,
        "start_time": "2024-12-02T20:05:26.919Z"
      },
      {
        "duration": 205,
        "start_time": "2024-12-02T20:05:27.798Z"
      },
      {
        "duration": 3,
        "start_time": "2024-12-02T20:05:28.008Z"
      },
      {
        "duration": 34,
        "start_time": "2024-12-02T20:05:28.014Z"
      },
      {
        "duration": 3,
        "start_time": "2024-12-02T20:05:28.049Z"
      },
      {
        "duration": 4,
        "start_time": "2024-12-02T20:05:28.055Z"
      },
      {
        "duration": 3,
        "start_time": "2024-12-02T20:05:28.061Z"
      },
      {
        "duration": 547,
        "start_time": "2024-12-02T20:05:28.066Z"
      },
      {
        "duration": 11,
        "start_time": "2024-12-02T20:05:28.615Z"
      },
      {
        "duration": 14,
        "start_time": "2024-12-02T20:05:28.629Z"
      },
      {
        "duration": 168,
        "start_time": "2024-12-02T20:05:28.645Z"
      },
      {
        "duration": 9,
        "start_time": "2024-12-02T20:05:28.815Z"
      },
      {
        "duration": 10,
        "start_time": "2024-12-02T20:05:28.826Z"
      },
      {
        "duration": 95,
        "start_time": "2024-12-02T20:05:28.838Z"
      },
      {
        "duration": 8,
        "start_time": "2024-12-02T20:05:28.935Z"
      },
      {
        "duration": 13,
        "start_time": "2024-12-02T20:05:28.945Z"
      },
      {
        "duration": 180,
        "start_time": "2024-12-02T20:05:28.959Z"
      },
      {
        "duration": 5,
        "start_time": "2024-12-02T20:05:29.141Z"
      },
      {
        "duration": 4,
        "start_time": "2024-12-02T20:05:29.147Z"
      },
      {
        "duration": 12,
        "start_time": "2024-12-02T20:05:29.153Z"
      },
      {
        "duration": 12,
        "start_time": "2024-12-02T20:05:29.167Z"
      },
      {
        "duration": 15,
        "start_time": "2024-12-02T20:05:29.209Z"
      },
      {
        "duration": 16,
        "start_time": "2024-12-02T20:05:29.226Z"
      },
      {
        "duration": 14,
        "start_time": "2024-12-02T20:05:29.243Z"
      },
      {
        "duration": 132,
        "start_time": "2024-12-02T20:05:29.259Z"
      },
      {
        "duration": 116,
        "start_time": "2024-12-02T20:05:29.394Z"
      },
      {
        "duration": 6,
        "start_time": "2024-12-02T20:05:29.512Z"
      },
      {
        "duration": 407,
        "start_time": "2024-12-02T20:05:29.522Z"
      },
      {
        "duration": 4,
        "start_time": "2024-12-02T20:05:29.931Z"
      },
      {
        "duration": 19,
        "start_time": "2024-12-02T20:05:29.937Z"
      },
      {
        "duration": 3,
        "start_time": "2024-12-02T20:05:29.958Z"
      },
      {
        "duration": 136,
        "start_time": "2024-12-02T20:05:29.963Z"
      },
      {
        "duration": 243,
        "start_time": "2024-12-02T20:05:30.101Z"
      },
      {
        "duration": 848,
        "start_time": "2024-12-02T20:10:04.201Z"
      },
      {
        "duration": 194,
        "start_time": "2024-12-02T20:10:05.051Z"
      },
      {
        "duration": 3,
        "start_time": "2024-12-02T20:10:05.247Z"
      },
      {
        "duration": 32,
        "start_time": "2024-12-02T20:10:05.253Z"
      },
      {
        "duration": 22,
        "start_time": "2024-12-02T20:10:05.287Z"
      },
      {
        "duration": 3,
        "start_time": "2024-12-02T20:10:05.311Z"
      },
      {
        "duration": 4,
        "start_time": "2024-12-02T20:10:05.316Z"
      },
      {
        "duration": 543,
        "start_time": "2024-12-02T20:10:05.321Z"
      },
      {
        "duration": 13,
        "start_time": "2024-12-02T20:10:05.865Z"
      },
      {
        "duration": 15,
        "start_time": "2024-12-02T20:10:05.882Z"
      },
      {
        "duration": 158,
        "start_time": "2024-12-02T20:10:05.908Z"
      },
      {
        "duration": 9,
        "start_time": "2024-12-02T20:10:06.068Z"
      },
      {
        "duration": 10,
        "start_time": "2024-12-02T20:10:06.078Z"
      },
      {
        "duration": 95,
        "start_time": "2024-12-02T20:10:06.090Z"
      },
      {
        "duration": 9,
        "start_time": "2024-12-02T20:10:06.187Z"
      },
      {
        "duration": 18,
        "start_time": "2024-12-02T20:10:06.210Z"
      },
      {
        "duration": 223,
        "start_time": "2024-12-02T20:10:06.230Z"
      },
      {
        "duration": 5,
        "start_time": "2024-12-02T20:10:06.455Z"
      },
      {
        "duration": 4,
        "start_time": "2024-12-02T20:10:06.461Z"
      },
      {
        "duration": 15,
        "start_time": "2024-12-02T20:10:06.467Z"
      },
      {
        "duration": 29,
        "start_time": "2024-12-02T20:10:06.483Z"
      },
      {
        "duration": 16,
        "start_time": "2024-12-02T20:10:06.514Z"
      },
      {
        "duration": 16,
        "start_time": "2024-12-02T20:10:06.532Z"
      },
      {
        "duration": 13,
        "start_time": "2024-12-02T20:10:06.550Z"
      },
      {
        "duration": 129,
        "start_time": "2024-12-02T20:10:06.564Z"
      },
      {
        "duration": 122,
        "start_time": "2024-12-02T20:10:06.695Z"
      },
      {
        "duration": 6,
        "start_time": "2024-12-02T20:10:06.819Z"
      },
      {
        "duration": 408,
        "start_time": "2024-12-02T20:10:06.829Z"
      },
      {
        "duration": 4,
        "start_time": "2024-12-02T20:10:07.239Z"
      },
      {
        "duration": 19,
        "start_time": "2024-12-02T20:10:07.245Z"
      },
      {
        "duration": 145,
        "start_time": "2024-12-02T20:10:07.265Z"
      },
      {
        "duration": 105,
        "start_time": "2024-12-02T20:10:07.412Z"
      },
      {
        "duration": 864,
        "start_time": "2024-12-02T20:10:18.996Z"
      },
      {
        "duration": 190,
        "start_time": "2024-12-02T20:10:19.863Z"
      },
      {
        "duration": 3,
        "start_time": "2024-12-02T20:10:20.055Z"
      },
      {
        "duration": 35,
        "start_time": "2024-12-02T20:10:20.059Z"
      },
      {
        "duration": 12,
        "start_time": "2024-12-02T20:10:20.097Z"
      },
      {
        "duration": 2,
        "start_time": "2024-12-02T20:10:20.111Z"
      },
      {
        "duration": 4,
        "start_time": "2024-12-02T20:10:20.115Z"
      },
      {
        "duration": 555,
        "start_time": "2024-12-02T20:10:20.120Z"
      },
      {
        "duration": 12,
        "start_time": "2024-12-02T20:10:20.677Z"
      },
      {
        "duration": 27,
        "start_time": "2024-12-02T20:10:20.692Z"
      },
      {
        "duration": 159,
        "start_time": "2024-12-02T20:10:20.720Z"
      },
      {
        "duration": 9,
        "start_time": "2024-12-02T20:10:20.881Z"
      },
      {
        "duration": 22,
        "start_time": "2024-12-02T20:10:20.891Z"
      },
      {
        "duration": 80,
        "start_time": "2024-12-02T20:10:20.918Z"
      },
      {
        "duration": 16,
        "start_time": "2024-12-02T20:10:21.000Z"
      },
      {
        "duration": 14,
        "start_time": "2024-12-02T20:10:21.017Z"
      },
      {
        "duration": 182,
        "start_time": "2024-12-02T20:10:21.033Z"
      },
      {
        "duration": 5,
        "start_time": "2024-12-02T20:10:21.217Z"
      },
      {
        "duration": 4,
        "start_time": "2024-12-02T20:10:21.225Z"
      },
      {
        "duration": 12,
        "start_time": "2024-12-02T20:10:21.231Z"
      },
      {
        "duration": 12,
        "start_time": "2024-12-02T20:10:21.246Z"
      },
      {
        "duration": 17,
        "start_time": "2024-12-02T20:10:21.260Z"
      },
      {
        "duration": 45,
        "start_time": "2024-12-02T20:10:21.279Z"
      },
      {
        "duration": 13,
        "start_time": "2024-12-02T20:10:21.326Z"
      },
      {
        "duration": 118,
        "start_time": "2024-12-02T20:10:21.340Z"
      },
      {
        "duration": 109,
        "start_time": "2024-12-02T20:10:21.460Z"
      },
      {
        "duration": 7,
        "start_time": "2024-12-02T20:10:21.571Z"
      },
      {
        "duration": 409,
        "start_time": "2024-12-02T20:10:21.580Z"
      },
      {
        "duration": 18,
        "start_time": "2024-12-02T20:10:21.991Z"
      },
      {
        "duration": 144,
        "start_time": "2024-12-02T20:10:22.011Z"
      },
      {
        "duration": 100,
        "start_time": "2024-12-02T20:10:22.158Z"
      },
      {
        "duration": 2729,
        "start_time": "2024-12-03T20:58:00.711Z"
      },
      {
        "duration": 134,
        "start_time": "2024-12-03T20:58:03.443Z"
      },
      {
        "duration": 3,
        "start_time": "2024-12-03T20:58:03.580Z"
      },
      {
        "duration": 49,
        "start_time": "2024-12-03T20:58:03.586Z"
      },
      {
        "duration": 3,
        "start_time": "2024-12-03T20:58:03.636Z"
      },
      {
        "duration": 5,
        "start_time": "2024-12-03T20:58:03.641Z"
      },
      {
        "duration": 3,
        "start_time": "2024-12-03T20:58:03.647Z"
      },
      {
        "duration": 673,
        "start_time": "2024-12-03T20:58:03.652Z"
      },
      {
        "duration": 13,
        "start_time": "2024-12-03T20:58:04.326Z"
      },
      {
        "duration": 13,
        "start_time": "2024-12-03T20:58:04.342Z"
      },
      {
        "duration": 166,
        "start_time": "2024-12-03T20:58:04.358Z"
      },
      {
        "duration": 13,
        "start_time": "2024-12-03T20:58:04.525Z"
      },
      {
        "duration": 13,
        "start_time": "2024-12-03T20:58:04.540Z"
      },
      {
        "duration": 91,
        "start_time": "2024-12-03T20:58:04.555Z"
      },
      {
        "duration": 9,
        "start_time": "2024-12-03T20:58:04.648Z"
      },
      {
        "duration": 13,
        "start_time": "2024-12-03T20:58:04.659Z"
      },
      {
        "duration": 176,
        "start_time": "2024-12-03T20:58:04.674Z"
      },
      {
        "duration": 5,
        "start_time": "2024-12-03T20:58:04.853Z"
      },
      {
        "duration": 5,
        "start_time": "2024-12-03T20:58:04.859Z"
      },
      {
        "duration": 12,
        "start_time": "2024-12-03T20:58:04.865Z"
      },
      {
        "duration": 12,
        "start_time": "2024-12-03T20:58:04.880Z"
      },
      {
        "duration": 47,
        "start_time": "2024-12-03T20:58:04.893Z"
      },
      {
        "duration": 18,
        "start_time": "2024-12-03T20:58:04.942Z"
      },
      {
        "duration": 14,
        "start_time": "2024-12-03T20:58:04.961Z"
      },
      {
        "duration": 120,
        "start_time": "2024-12-03T20:58:04.977Z"
      },
      {
        "duration": 176,
        "start_time": "2024-12-03T20:58:05.099Z"
      },
      {
        "duration": 7,
        "start_time": "2024-12-03T20:58:05.277Z"
      },
      {
        "duration": 403,
        "start_time": "2024-12-03T20:58:05.289Z"
      },
      {
        "duration": 18,
        "start_time": "2024-12-03T20:58:05.693Z"
      },
      {
        "duration": 138,
        "start_time": "2024-12-03T20:58:05.712Z"
      },
      {
        "duration": 94,
        "start_time": "2024-12-03T20:58:05.852Z"
      },
      {
        "duration": 493,
        "start_time": "2024-12-03T20:58:05.948Z"
      },
      {
        "duration": 0,
        "start_time": "2024-12-03T20:58:06.443Z"
      },
      {
        "duration": 0,
        "start_time": "2024-12-03T20:58:06.444Z"
      },
      {
        "duration": 804,
        "start_time": "2024-12-03T21:00:27.174Z"
      },
      {
        "duration": 192,
        "start_time": "2024-12-03T21:00:27.980Z"
      },
      {
        "duration": 4,
        "start_time": "2024-12-03T21:00:28.174Z"
      },
      {
        "duration": 32,
        "start_time": "2024-12-03T21:00:28.181Z"
      },
      {
        "duration": 4,
        "start_time": "2024-12-03T21:00:28.215Z"
      },
      {
        "duration": 4,
        "start_time": "2024-12-03T21:00:28.232Z"
      },
      {
        "duration": 5,
        "start_time": "2024-12-03T21:00:28.239Z"
      },
      {
        "duration": 553,
        "start_time": "2024-12-03T21:00:28.246Z"
      },
      {
        "duration": 13,
        "start_time": "2024-12-03T21:00:28.801Z"
      },
      {
        "duration": 30,
        "start_time": "2024-12-03T21:00:28.818Z"
      },
      {
        "duration": 164,
        "start_time": "2024-12-03T21:00:28.850Z"
      },
      {
        "duration": 17,
        "start_time": "2024-12-03T21:00:29.016Z"
      },
      {
        "duration": 10,
        "start_time": "2024-12-03T21:00:29.035Z"
      },
      {
        "duration": 97,
        "start_time": "2024-12-03T21:00:29.048Z"
      },
      {
        "duration": 11,
        "start_time": "2024-12-03T21:00:29.147Z"
      },
      {
        "duration": 14,
        "start_time": "2024-12-03T21:00:29.159Z"
      },
      {
        "duration": 187,
        "start_time": "2024-12-03T21:00:29.184Z"
      },
      {
        "duration": 6,
        "start_time": "2024-12-03T21:00:29.374Z"
      },
      {
        "duration": 5,
        "start_time": "2024-12-03T21:00:29.382Z"
      },
      {
        "duration": 24,
        "start_time": "2024-12-03T21:00:29.389Z"
      },
      {
        "duration": 23,
        "start_time": "2024-12-03T21:00:29.416Z"
      },
      {
        "duration": 19,
        "start_time": "2024-12-03T21:00:29.441Z"
      },
      {
        "duration": 21,
        "start_time": "2024-12-03T21:00:29.462Z"
      },
      {
        "duration": 17,
        "start_time": "2024-12-03T21:00:29.485Z"
      },
      {
        "duration": 136,
        "start_time": "2024-12-03T21:00:29.504Z"
      },
      {
        "duration": 108,
        "start_time": "2024-12-03T21:00:29.641Z"
      },
      {
        "duration": 6,
        "start_time": "2024-12-03T21:00:29.751Z"
      },
      {
        "duration": 422,
        "start_time": "2024-12-03T21:00:29.762Z"
      },
      {
        "duration": 20,
        "start_time": "2024-12-03T21:00:30.186Z"
      },
      {
        "duration": 146,
        "start_time": "2024-12-03T21:00:30.208Z"
      },
      {
        "duration": 116,
        "start_time": "2024-12-03T21:00:30.356Z"
      },
      {
        "duration": 5,
        "start_time": "2024-12-03T21:00:30.474Z"
      },
      {
        "duration": 530,
        "start_time": "2024-12-03T21:00:30.481Z"
      },
      {
        "duration": 0,
        "start_time": "2024-12-03T21:00:31.013Z"
      },
      {
        "duration": 0,
        "start_time": "2024-12-03T21:00:31.014Z"
      },
      {
        "duration": 917,
        "start_time": "2024-12-03T21:01:43.067Z"
      },
      {
        "duration": 209,
        "start_time": "2024-12-03T21:01:43.986Z"
      },
      {
        "duration": 3,
        "start_time": "2024-12-03T21:01:44.197Z"
      },
      {
        "duration": 35,
        "start_time": "2024-12-03T21:01:44.203Z"
      },
      {
        "duration": 2,
        "start_time": "2024-12-03T21:01:44.240Z"
      },
      {
        "duration": 3,
        "start_time": "2024-12-03T21:01:44.244Z"
      },
      {
        "duration": 3,
        "start_time": "2024-12-03T21:01:44.249Z"
      },
      {
        "duration": 628,
        "start_time": "2024-12-03T21:01:44.254Z"
      },
      {
        "duration": 12,
        "start_time": "2024-12-03T21:01:44.884Z"
      },
      {
        "duration": 18,
        "start_time": "2024-12-03T21:01:44.899Z"
      },
      {
        "duration": 185,
        "start_time": "2024-12-03T21:01:44.920Z"
      },
      {
        "duration": 8,
        "start_time": "2024-12-03T21:01:45.107Z"
      },
      {
        "duration": 11,
        "start_time": "2024-12-03T21:01:45.117Z"
      },
      {
        "duration": 91,
        "start_time": "2024-12-03T21:01:45.129Z"
      },
      {
        "duration": 17,
        "start_time": "2024-12-03T21:01:45.222Z"
      },
      {
        "duration": 24,
        "start_time": "2024-12-03T21:01:45.241Z"
      },
      {
        "duration": 196,
        "start_time": "2024-12-03T21:01:45.267Z"
      },
      {
        "duration": 4,
        "start_time": "2024-12-03T21:01:45.465Z"
      },
      {
        "duration": 5,
        "start_time": "2024-12-03T21:01:45.470Z"
      },
      {
        "duration": 12,
        "start_time": "2024-12-03T21:01:45.477Z"
      },
      {
        "duration": 11,
        "start_time": "2024-12-03T21:01:45.491Z"
      },
      {
        "duration": 44,
        "start_time": "2024-12-03T21:01:45.504Z"
      },
      {
        "duration": 20,
        "start_time": "2024-12-03T21:01:45.550Z"
      },
      {
        "duration": 15,
        "start_time": "2024-12-03T21:01:45.579Z"
      },
      {
        "duration": 117,
        "start_time": "2024-12-03T21:01:45.595Z"
      },
      {
        "duration": 117,
        "start_time": "2024-12-03T21:01:45.714Z"
      },
      {
        "duration": 7,
        "start_time": "2024-12-03T21:01:45.832Z"
      },
      {
        "duration": 447,
        "start_time": "2024-12-03T21:01:45.844Z"
      },
      {
        "duration": 18,
        "start_time": "2024-12-03T21:01:46.293Z"
      },
      {
        "duration": 162,
        "start_time": "2024-12-03T21:01:46.313Z"
      },
      {
        "duration": 96,
        "start_time": "2024-12-03T21:01:46.477Z"
      },
      {
        "duration": 9,
        "start_time": "2024-12-03T21:01:46.575Z"
      },
      {
        "duration": 570,
        "start_time": "2024-12-03T21:01:46.588Z"
      },
      {
        "duration": 0,
        "start_time": "2024-12-03T21:01:47.162Z"
      },
      {
        "duration": 0,
        "start_time": "2024-12-03T21:01:47.165Z"
      },
      {
        "duration": 832,
        "start_time": "2024-12-03T21:02:13.737Z"
      },
      {
        "duration": 182,
        "start_time": "2024-12-03T21:02:14.572Z"
      },
      {
        "duration": 3,
        "start_time": "2024-12-03T21:02:14.756Z"
      },
      {
        "duration": 33,
        "start_time": "2024-12-03T21:02:14.761Z"
      },
      {
        "duration": 3,
        "start_time": "2024-12-03T21:02:14.796Z"
      },
      {
        "duration": 3,
        "start_time": "2024-12-03T21:02:14.800Z"
      },
      {
        "duration": 26,
        "start_time": "2024-12-03T21:02:14.805Z"
      },
      {
        "duration": 527,
        "start_time": "2024-12-03T21:02:14.833Z"
      },
      {
        "duration": 12,
        "start_time": "2024-12-03T21:02:15.361Z"
      },
      {
        "duration": 13,
        "start_time": "2024-12-03T21:02:15.377Z"
      },
      {
        "duration": 159,
        "start_time": "2024-12-03T21:02:15.392Z"
      },
      {
        "duration": 9,
        "start_time": "2024-12-03T21:02:15.553Z"
      },
      {
        "duration": 11,
        "start_time": "2024-12-03T21:02:15.563Z"
      },
      {
        "duration": 100,
        "start_time": "2024-12-03T21:02:15.575Z"
      },
      {
        "duration": 11,
        "start_time": "2024-12-03T21:02:15.676Z"
      },
      {
        "duration": 14,
        "start_time": "2024-12-03T21:02:15.689Z"
      },
      {
        "duration": 175,
        "start_time": "2024-12-03T21:02:15.705Z"
      },
      {
        "duration": 5,
        "start_time": "2024-12-03T21:02:15.881Z"
      },
      {
        "duration": 3,
        "start_time": "2024-12-03T21:02:15.888Z"
      },
      {
        "duration": 12,
        "start_time": "2024-12-03T21:02:15.894Z"
      },
      {
        "duration": 12,
        "start_time": "2024-12-03T21:02:15.931Z"
      },
      {
        "duration": 15,
        "start_time": "2024-12-03T21:02:15.945Z"
      },
      {
        "duration": 16,
        "start_time": "2024-12-03T21:02:15.962Z"
      },
      {
        "duration": 13,
        "start_time": "2024-12-03T21:02:15.980Z"
      },
      {
        "duration": 137,
        "start_time": "2024-12-03T21:02:15.994Z"
      },
      {
        "duration": 111,
        "start_time": "2024-12-03T21:02:16.132Z"
      },
      {
        "duration": 6,
        "start_time": "2024-12-03T21:02:16.245Z"
      },
      {
        "duration": 396,
        "start_time": "2024-12-03T21:02:16.255Z"
      },
      {
        "duration": 17,
        "start_time": "2024-12-03T21:02:16.653Z"
      },
      {
        "duration": 137,
        "start_time": "2024-12-03T21:02:16.671Z"
      },
      {
        "duration": 97,
        "start_time": "2024-12-03T21:02:16.809Z"
      },
      {
        "duration": 10,
        "start_time": "2024-12-03T21:02:16.908Z"
      },
      {
        "duration": 478,
        "start_time": "2024-12-03T21:02:16.919Z"
      },
      {
        "duration": 0,
        "start_time": "2024-12-03T21:02:17.399Z"
      },
      {
        "duration": 0,
        "start_time": "2024-12-03T21:02:17.400Z"
      },
      {
        "duration": 883,
        "start_time": "2024-12-03T21:10:14.543Z"
      },
      {
        "duration": 175,
        "start_time": "2024-12-03T21:10:15.430Z"
      },
      {
        "duration": 3,
        "start_time": "2024-12-03T21:10:15.607Z"
      },
      {
        "duration": 44,
        "start_time": "2024-12-03T21:10:15.613Z"
      },
      {
        "duration": 2,
        "start_time": "2024-12-03T21:10:15.658Z"
      },
      {
        "duration": 3,
        "start_time": "2024-12-03T21:10:15.662Z"
      },
      {
        "duration": 4,
        "start_time": "2024-12-03T21:10:15.666Z"
      },
      {
        "duration": 532,
        "start_time": "2024-12-03T21:10:15.671Z"
      },
      {
        "duration": 11,
        "start_time": "2024-12-03T21:10:16.204Z"
      },
      {
        "duration": 22,
        "start_time": "2024-12-03T21:10:16.218Z"
      },
      {
        "duration": 156,
        "start_time": "2024-12-03T21:10:16.241Z"
      },
      {
        "duration": 8,
        "start_time": "2024-12-03T21:10:16.399Z"
      },
      {
        "duration": 23,
        "start_time": "2024-12-03T21:10:16.409Z"
      },
      {
        "duration": 76,
        "start_time": "2024-12-03T21:10:16.434Z"
      },
      {
        "duration": 20,
        "start_time": "2024-12-03T21:10:16.512Z"
      },
      {
        "duration": 13,
        "start_time": "2024-12-03T21:10:16.533Z"
      },
      {
        "duration": 169,
        "start_time": "2024-12-03T21:10:16.548Z"
      },
      {
        "duration": 13,
        "start_time": "2024-12-03T21:10:16.719Z"
      },
      {
        "duration": 4,
        "start_time": "2024-12-03T21:10:16.734Z"
      },
      {
        "duration": 14,
        "start_time": "2024-12-03T21:10:16.740Z"
      },
      {
        "duration": 12,
        "start_time": "2024-12-03T21:10:16.756Z"
      },
      {
        "duration": 16,
        "start_time": "2024-12-03T21:10:16.770Z"
      },
      {
        "duration": 45,
        "start_time": "2024-12-03T21:10:16.787Z"
      },
      {
        "duration": 14,
        "start_time": "2024-12-03T21:10:16.834Z"
      },
      {
        "duration": 116,
        "start_time": "2024-12-03T21:10:16.850Z"
      },
      {
        "duration": 112,
        "start_time": "2024-12-03T21:10:16.968Z"
      },
      {
        "duration": 7,
        "start_time": "2024-12-03T21:10:17.082Z"
      },
      {
        "duration": 399,
        "start_time": "2024-12-03T21:10:17.093Z"
      },
      {
        "duration": 17,
        "start_time": "2024-12-03T21:10:17.494Z"
      },
      {
        "duration": 138,
        "start_time": "2024-12-03T21:10:17.512Z"
      },
      {
        "duration": 101,
        "start_time": "2024-12-03T21:10:17.652Z"
      },
      {
        "duration": 8,
        "start_time": "2024-12-03T21:10:17.755Z"
      },
      {
        "duration": 9,
        "start_time": "2024-12-03T21:10:17.765Z"
      },
      {
        "duration": 510,
        "start_time": "2024-12-03T21:10:17.777Z"
      },
      {
        "duration": 0,
        "start_time": "2024-12-03T21:10:18.289Z"
      },
      {
        "duration": 0,
        "start_time": "2024-12-03T21:10:18.290Z"
      },
      {
        "duration": 888,
        "start_time": "2024-12-03T21:12:46.045Z"
      },
      {
        "duration": 206,
        "start_time": "2024-12-03T21:12:46.940Z"
      },
      {
        "duration": 6,
        "start_time": "2024-12-03T21:12:47.153Z"
      },
      {
        "duration": 33,
        "start_time": "2024-12-03T21:12:47.162Z"
      },
      {
        "duration": 2,
        "start_time": "2024-12-03T21:12:47.197Z"
      },
      {
        "duration": 2,
        "start_time": "2024-12-03T21:12:47.201Z"
      },
      {
        "duration": 3,
        "start_time": "2024-12-03T21:12:47.205Z"
      },
      {
        "duration": 613,
        "start_time": "2024-12-03T21:12:47.210Z"
      },
      {
        "duration": 14,
        "start_time": "2024-12-03T21:12:47.827Z"
      },
      {
        "duration": 19,
        "start_time": "2024-12-03T21:12:47.849Z"
      },
      {
        "duration": 199,
        "start_time": "2024-12-03T21:12:47.870Z"
      },
      {
        "duration": 9,
        "start_time": "2024-12-03T21:12:48.071Z"
      },
      {
        "duration": 11,
        "start_time": "2024-12-03T21:12:48.083Z"
      },
      {
        "duration": 117,
        "start_time": "2024-12-03T21:12:48.095Z"
      },
      {
        "duration": 8,
        "start_time": "2024-12-03T21:12:48.214Z"
      },
      {
        "duration": 16,
        "start_time": "2024-12-03T21:12:48.224Z"
      },
      {
        "duration": 189,
        "start_time": "2024-12-03T21:12:48.242Z"
      },
      {
        "duration": 7,
        "start_time": "2024-12-03T21:12:48.433Z"
      },
      {
        "duration": 9,
        "start_time": "2024-12-03T21:12:48.444Z"
      },
      {
        "duration": 15,
        "start_time": "2024-12-03T21:12:48.454Z"
      },
      {
        "duration": 12,
        "start_time": "2024-12-03T21:12:48.471Z"
      },
      {
        "duration": 16,
        "start_time": "2024-12-03T21:12:48.485Z"
      },
      {
        "duration": 51,
        "start_time": "2024-12-03T21:12:48.502Z"
      },
      {
        "duration": 20,
        "start_time": "2024-12-03T21:12:48.556Z"
      },
      {
        "duration": 115,
        "start_time": "2024-12-03T21:12:48.578Z"
      },
      {
        "duration": 116,
        "start_time": "2024-12-03T21:12:48.695Z"
      },
      {
        "duration": 6,
        "start_time": "2024-12-03T21:12:48.813Z"
      },
      {
        "duration": 459,
        "start_time": "2024-12-03T21:12:48.822Z"
      },
      {
        "duration": 18,
        "start_time": "2024-12-03T21:12:49.283Z"
      },
      {
        "duration": 160,
        "start_time": "2024-12-03T21:12:49.303Z"
      },
      {
        "duration": 116,
        "start_time": "2024-12-03T21:12:49.464Z"
      },
      {
        "duration": 7,
        "start_time": "2024-12-03T21:12:49.582Z"
      },
      {
        "duration": 5,
        "start_time": "2024-12-03T21:12:49.591Z"
      },
      {
        "duration": 597,
        "start_time": "2024-12-03T21:12:49.598Z"
      },
      {
        "duration": 0,
        "start_time": "2024-12-03T21:12:50.197Z"
      },
      {
        "duration": 0,
        "start_time": "2024-12-03T21:12:50.199Z"
      },
      {
        "duration": 2605,
        "start_time": "2024-12-03T21:15:41.403Z"
      },
      {
        "duration": 137,
        "start_time": "2024-12-03T21:15:44.010Z"
      },
      {
        "duration": 4,
        "start_time": "2024-12-03T21:15:44.149Z"
      },
      {
        "duration": 35,
        "start_time": "2024-12-03T21:15:44.155Z"
      },
      {
        "duration": 4,
        "start_time": "2024-12-03T21:15:44.194Z"
      },
      {
        "duration": 25,
        "start_time": "2024-12-03T21:15:44.200Z"
      },
      {
        "duration": 4,
        "start_time": "2024-12-03T21:15:44.228Z"
      },
      {
        "duration": 590,
        "start_time": "2024-12-03T21:15:44.234Z"
      },
      {
        "duration": 11,
        "start_time": "2024-12-03T21:15:44.826Z"
      },
      {
        "duration": 14,
        "start_time": "2024-12-03T21:15:44.838Z"
      },
      {
        "duration": 171,
        "start_time": "2024-12-03T21:15:44.853Z"
      },
      {
        "duration": 9,
        "start_time": "2024-12-03T21:15:45.026Z"
      },
      {
        "duration": 10,
        "start_time": "2024-12-03T21:15:45.037Z"
      },
      {
        "duration": 100,
        "start_time": "2024-12-03T21:15:45.051Z"
      },
      {
        "duration": 9,
        "start_time": "2024-12-03T21:15:45.153Z"
      },
      {
        "duration": 14,
        "start_time": "2024-12-03T21:15:45.164Z"
      },
      {
        "duration": 248,
        "start_time": "2024-12-03T21:15:45.180Z"
      },
      {
        "duration": 5,
        "start_time": "2024-12-03T21:15:45.429Z"
      },
      {
        "duration": 4,
        "start_time": "2024-12-03T21:15:45.436Z"
      },
      {
        "duration": 11,
        "start_time": "2024-12-03T21:15:45.442Z"
      },
      {
        "duration": 11,
        "start_time": "2024-12-03T21:15:45.455Z"
      },
      {
        "duration": 16,
        "start_time": "2024-12-03T21:15:45.468Z"
      },
      {
        "duration": 51,
        "start_time": "2024-12-03T21:15:45.486Z"
      },
      {
        "duration": 13,
        "start_time": "2024-12-03T21:15:45.539Z"
      },
      {
        "duration": 101,
        "start_time": "2024-12-03T21:15:45.562Z"
      },
      {
        "duration": 111,
        "start_time": "2024-12-03T21:15:45.665Z"
      },
      {
        "duration": 6,
        "start_time": "2024-12-03T21:15:45.778Z"
      },
      {
        "duration": 398,
        "start_time": "2024-12-03T21:15:45.786Z"
      },
      {
        "duration": 18,
        "start_time": "2024-12-03T21:15:46.186Z"
      },
      {
        "duration": 138,
        "start_time": "2024-12-03T21:15:46.206Z"
      },
      {
        "duration": 111,
        "start_time": "2024-12-03T21:15:46.347Z"
      },
      {
        "duration": 7,
        "start_time": "2024-12-03T21:15:46.459Z"
      },
      {
        "duration": 6,
        "start_time": "2024-12-03T21:15:46.468Z"
      },
      {
        "duration": 487,
        "start_time": "2024-12-03T21:15:46.477Z"
      },
      {
        "duration": 0,
        "start_time": "2024-12-03T21:15:46.966Z"
      },
      {
        "duration": 0,
        "start_time": "2024-12-03T21:15:46.968Z"
      },
      {
        "duration": 16,
        "start_time": "2024-12-03T21:17:08.329Z"
      },
      {
        "duration": 25,
        "start_time": "2024-12-03T21:17:10.246Z"
      },
      {
        "duration": 17,
        "start_time": "2024-12-03T21:17:15.739Z"
      },
      {
        "duration": 65,
        "start_time": "2024-12-03T21:17:18.346Z"
      },
      {
        "duration": 7,
        "start_time": "2024-12-03T21:17:20.297Z"
      },
      {
        "duration": 8,
        "start_time": "2024-12-03T21:17:22.622Z"
      },
      {
        "duration": 7,
        "start_time": "2024-12-03T21:17:23.623Z"
      },
      {
        "duration": 66,
        "start_time": "2024-12-03T21:17:24.390Z"
      },
      {
        "duration": 26,
        "start_time": "2024-12-03T21:17:25.111Z"
      },
      {
        "duration": 14,
        "start_time": "2024-12-03T21:17:25.767Z"
      },
      {
        "duration": 2573,
        "start_time": "2024-12-12T19:01:16.254Z"
      },
      {
        "duration": 138,
        "start_time": "2024-12-12T19:01:18.829Z"
      },
      {
        "duration": 3,
        "start_time": "2024-12-12T19:01:18.969Z"
      },
      {
        "duration": 35,
        "start_time": "2024-12-12T19:01:18.973Z"
      },
      {
        "duration": 2,
        "start_time": "2024-12-12T19:01:19.011Z"
      },
      {
        "duration": 3,
        "start_time": "2024-12-12T19:01:19.015Z"
      },
      {
        "duration": 23,
        "start_time": "2024-12-12T19:01:19.020Z"
      },
      {
        "duration": 623,
        "start_time": "2024-12-12T19:01:19.045Z"
      },
      {
        "duration": 12,
        "start_time": "2024-12-12T19:01:19.670Z"
      },
      {
        "duration": 13,
        "start_time": "2024-12-12T19:01:19.683Z"
      },
      {
        "duration": 160,
        "start_time": "2024-12-12T19:01:19.698Z"
      },
      {
        "duration": 9,
        "start_time": "2024-12-12T19:01:19.860Z"
      },
      {
        "duration": 10,
        "start_time": "2024-12-12T19:01:19.871Z"
      },
      {
        "duration": 98,
        "start_time": "2024-12-12T19:01:19.884Z"
      },
      {
        "duration": 9,
        "start_time": "2024-12-12T19:01:19.984Z"
      },
      {
        "duration": 14,
        "start_time": "2024-12-12T19:01:19.995Z"
      },
      {
        "duration": 251,
        "start_time": "2024-12-12T19:01:20.012Z"
      },
      {
        "duration": 7,
        "start_time": "2024-12-12T19:01:20.265Z"
      },
      {
        "duration": 5,
        "start_time": "2024-12-12T19:01:20.273Z"
      },
      {
        "duration": 10,
        "start_time": "2024-12-12T19:01:20.280Z"
      },
      {
        "duration": 12,
        "start_time": "2024-12-12T19:01:20.292Z"
      },
      {
        "duration": 44,
        "start_time": "2024-12-12T19:01:20.305Z"
      },
      {
        "duration": 16,
        "start_time": "2024-12-12T19:01:20.351Z"
      },
      {
        "duration": 14,
        "start_time": "2024-12-12T19:01:20.369Z"
      },
      {
        "duration": 127,
        "start_time": "2024-12-12T19:01:20.384Z"
      },
      {
        "duration": 112,
        "start_time": "2024-12-12T19:01:20.513Z"
      },
      {
        "duration": 15,
        "start_time": "2024-12-12T19:01:20.627Z"
      },
      {
        "duration": 399,
        "start_time": "2024-12-12T19:01:20.644Z"
      },
      {
        "duration": 20,
        "start_time": "2024-12-12T19:01:21.045Z"
      },
      {
        "duration": 154,
        "start_time": "2024-12-12T19:01:21.067Z"
      },
      {
        "duration": 115,
        "start_time": "2024-12-12T19:01:21.222Z"
      },
      {
        "duration": 8,
        "start_time": "2024-12-12T19:01:21.343Z"
      },
      {
        "duration": 7,
        "start_time": "2024-12-12T19:01:21.353Z"
      },
      {
        "duration": 473,
        "start_time": "2024-12-12T19:01:21.362Z"
      },
      {
        "duration": 0,
        "start_time": "2024-12-12T19:01:21.837Z"
      },
      {
        "duration": 0,
        "start_time": "2024-12-12T19:01:21.842Z"
      },
      {
        "duration": 840,
        "start_time": "2024-12-12T19:15:48.354Z"
      },
      {
        "duration": 178,
        "start_time": "2024-12-12T19:15:49.197Z"
      },
      {
        "duration": 2,
        "start_time": "2024-12-12T19:15:49.377Z"
      },
      {
        "duration": 36,
        "start_time": "2024-12-12T19:15:49.381Z"
      },
      {
        "duration": 3,
        "start_time": "2024-12-12T19:15:49.419Z"
      },
      {
        "duration": 3,
        "start_time": "2024-12-12T19:15:49.423Z"
      },
      {
        "duration": 18,
        "start_time": "2024-12-12T19:15:49.427Z"
      },
      {
        "duration": 515,
        "start_time": "2024-12-12T19:15:49.448Z"
      },
      {
        "duration": 5,
        "start_time": "2024-12-12T19:15:49.965Z"
      },
      {
        "duration": 10,
        "start_time": "2024-12-12T19:15:49.972Z"
      },
      {
        "duration": 14,
        "start_time": "2024-12-12T19:15:49.983Z"
      },
      {
        "duration": 169,
        "start_time": "2024-12-12T19:15:49.998Z"
      },
      {
        "duration": 8,
        "start_time": "2024-12-12T19:15:50.169Z"
      },
      {
        "duration": 9,
        "start_time": "2024-12-12T19:15:50.181Z"
      },
      {
        "duration": 105,
        "start_time": "2024-12-12T19:15:50.193Z"
      },
      {
        "duration": 9,
        "start_time": "2024-12-12T19:15:50.301Z"
      },
      {
        "duration": 13,
        "start_time": "2024-12-12T19:15:50.312Z"
      },
      {
        "duration": 177,
        "start_time": "2024-12-12T19:15:50.342Z"
      },
      {
        "duration": 5,
        "start_time": "2024-12-12T19:15:50.522Z"
      },
      {
        "duration": 14,
        "start_time": "2024-12-12T19:15:50.528Z"
      },
      {
        "duration": 14,
        "start_time": "2024-12-12T19:15:50.544Z"
      },
      {
        "duration": 12,
        "start_time": "2024-12-12T19:15:50.560Z"
      },
      {
        "duration": 17,
        "start_time": "2024-12-12T19:15:50.574Z"
      },
      {
        "duration": 17,
        "start_time": "2024-12-12T19:15:50.592Z"
      },
      {
        "duration": 41,
        "start_time": "2024-12-12T19:15:50.611Z"
      },
      {
        "duration": 109,
        "start_time": "2024-12-12T19:15:50.654Z"
      },
      {
        "duration": 122,
        "start_time": "2024-12-12T19:15:50.764Z"
      },
      {
        "duration": 8,
        "start_time": "2024-12-12T19:15:50.888Z"
      },
      {
        "duration": 410,
        "start_time": "2024-12-12T19:15:50.897Z"
      },
      {
        "duration": 18,
        "start_time": "2024-12-12T19:15:51.309Z"
      },
      {
        "duration": 136,
        "start_time": "2024-12-12T19:15:51.329Z"
      },
      {
        "duration": 93,
        "start_time": "2024-12-12T19:15:51.467Z"
      },
      {
        "duration": 7,
        "start_time": "2024-12-12T19:15:51.561Z"
      },
      {
        "duration": 9,
        "start_time": "2024-12-12T19:15:51.570Z"
      },
      {
        "duration": 482,
        "start_time": "2024-12-12T19:15:51.581Z"
      },
      {
        "duration": 0,
        "start_time": "2024-12-12T19:15:52.065Z"
      },
      {
        "duration": 0,
        "start_time": "2024-12-12T19:15:52.067Z"
      },
      {
        "duration": 767,
        "start_time": "2024-12-12T19:25:31.397Z"
      },
      {
        "duration": 180,
        "start_time": "2024-12-12T19:25:32.166Z"
      },
      {
        "duration": 3,
        "start_time": "2024-12-12T19:25:32.347Z"
      },
      {
        "duration": 32,
        "start_time": "2024-12-12T19:25:32.352Z"
      },
      {
        "duration": 2,
        "start_time": "2024-12-12T19:25:32.387Z"
      },
      {
        "duration": 4,
        "start_time": "2024-12-12T19:25:32.391Z"
      },
      {
        "duration": 4,
        "start_time": "2024-12-12T19:25:32.397Z"
      },
      {
        "duration": 503,
        "start_time": "2024-12-12T19:25:32.403Z"
      },
      {
        "duration": 12,
        "start_time": "2024-12-12T19:25:32.908Z"
      },
      {
        "duration": 21,
        "start_time": "2024-12-12T19:25:32.922Z"
      },
      {
        "duration": 157,
        "start_time": "2024-12-12T19:25:32.944Z"
      },
      {
        "duration": 8,
        "start_time": "2024-12-12T19:25:33.103Z"
      },
      {
        "duration": 11,
        "start_time": "2024-12-12T19:25:33.112Z"
      },
      {
        "duration": 79,
        "start_time": "2024-12-12T19:25:33.142Z"
      },
      {
        "duration": 20,
        "start_time": "2024-12-12T19:25:33.223Z"
      },
      {
        "duration": 14,
        "start_time": "2024-12-12T19:25:33.245Z"
      },
      {
        "duration": 188,
        "start_time": "2024-12-12T19:25:33.261Z"
      },
      {
        "duration": 5,
        "start_time": "2024-12-12T19:25:33.451Z"
      },
      {
        "duration": 5,
        "start_time": "2024-12-12T19:25:33.458Z"
      },
      {
        "duration": 15,
        "start_time": "2024-12-12T19:25:33.465Z"
      },
      {
        "duration": 12,
        "start_time": "2024-12-12T19:25:33.482Z"
      },
      {
        "duration": 47,
        "start_time": "2024-12-12T19:25:33.496Z"
      },
      {
        "duration": 17,
        "start_time": "2024-12-12T19:25:33.545Z"
      },
      {
        "duration": 13,
        "start_time": "2024-12-12T19:25:33.564Z"
      },
      {
        "duration": 118,
        "start_time": "2024-12-12T19:25:33.579Z"
      },
      {
        "duration": 110,
        "start_time": "2024-12-12T19:25:33.699Z"
      },
      {
        "duration": 5,
        "start_time": "2024-12-12T19:25:33.811Z"
      },
      {
        "duration": 385,
        "start_time": "2024-12-12T19:25:33.818Z"
      },
      {
        "duration": 16,
        "start_time": "2024-12-12T19:25:34.205Z"
      },
      {
        "duration": 137,
        "start_time": "2024-12-12T19:25:34.223Z"
      },
      {
        "duration": 102,
        "start_time": "2024-12-12T19:25:34.361Z"
      },
      {
        "duration": 11,
        "start_time": "2024-12-12T19:25:34.466Z"
      },
      {
        "duration": 4,
        "start_time": "2024-12-12T19:25:34.479Z"
      },
      {
        "duration": 8,
        "start_time": "2024-12-12T19:25:34.486Z"
      },
      {
        "duration": 8,
        "start_time": "2024-12-12T19:25:34.496Z"
      },
      {
        "duration": 490,
        "start_time": "2024-12-12T19:25:34.505Z"
      },
      {
        "duration": 0,
        "start_time": "2024-12-12T19:25:34.997Z"
      },
      {
        "duration": 0,
        "start_time": "2024-12-12T19:25:34.998Z"
      },
      {
        "duration": 2555,
        "start_time": "2024-12-16T14:33:56.824Z"
      },
      {
        "duration": 134,
        "start_time": "2024-12-16T14:33:59.382Z"
      },
      {
        "duration": 7,
        "start_time": "2024-12-16T14:33:59.518Z"
      },
      {
        "duration": 35,
        "start_time": "2024-12-16T14:33:59.527Z"
      },
      {
        "duration": 3,
        "start_time": "2024-12-16T14:33:59.563Z"
      },
      {
        "duration": 3,
        "start_time": "2024-12-16T14:33:59.567Z"
      },
      {
        "duration": 3,
        "start_time": "2024-12-16T14:33:59.572Z"
      },
      {
        "duration": 623,
        "start_time": "2024-12-16T14:33:59.577Z"
      },
      {
        "duration": 10,
        "start_time": "2024-12-16T14:34:00.201Z"
      },
      {
        "duration": 15,
        "start_time": "2024-12-16T14:34:00.215Z"
      },
      {
        "duration": 157,
        "start_time": "2024-12-16T14:34:00.231Z"
      },
      {
        "duration": 9,
        "start_time": "2024-12-16T14:34:00.389Z"
      },
      {
        "duration": 27,
        "start_time": "2024-12-16T14:34:00.400Z"
      },
      {
        "duration": 78,
        "start_time": "2024-12-16T14:34:00.428Z"
      },
      {
        "duration": 18,
        "start_time": "2024-12-16T14:34:00.507Z"
      },
      {
        "duration": 14,
        "start_time": "2024-12-16T14:34:00.527Z"
      },
      {
        "duration": 223,
        "start_time": "2024-12-16T14:34:00.542Z"
      },
      {
        "duration": 3,
        "start_time": "2024-12-16T14:34:00.767Z"
      },
      {
        "duration": 4,
        "start_time": "2024-12-16T14:34:00.772Z"
      },
      {
        "duration": 12,
        "start_time": "2024-12-16T14:34:00.777Z"
      },
      {
        "duration": 11,
        "start_time": "2024-12-16T14:34:00.791Z"
      },
      {
        "duration": 34,
        "start_time": "2024-12-16T14:34:00.803Z"
      },
      {
        "duration": 18,
        "start_time": "2024-12-16T14:34:00.839Z"
      },
      {
        "duration": 14,
        "start_time": "2024-12-16T14:34:00.858Z"
      },
      {
        "duration": 124,
        "start_time": "2024-12-16T14:34:00.874Z"
      },
      {
        "duration": 111,
        "start_time": "2024-12-16T14:34:00.999Z"
      },
      {
        "duration": 12,
        "start_time": "2024-12-16T14:34:01.112Z"
      },
      {
        "duration": 381,
        "start_time": "2024-12-16T14:34:01.127Z"
      },
      {
        "duration": 19,
        "start_time": "2024-12-16T14:34:01.510Z"
      },
      {
        "duration": 143,
        "start_time": "2024-12-16T14:34:01.530Z"
      },
      {
        "duration": 93,
        "start_time": "2024-12-16T14:34:01.675Z"
      },
      {
        "duration": 11,
        "start_time": "2024-12-16T14:34:01.770Z"
      },
      {
        "duration": 3,
        "start_time": "2024-12-16T14:34:01.783Z"
      },
      {
        "duration": 7,
        "start_time": "2024-12-16T14:34:01.788Z"
      },
      {
        "duration": 29,
        "start_time": "2024-12-16T14:34:01.796Z"
      },
      {
        "duration": 470,
        "start_time": "2024-12-16T14:34:01.827Z"
      },
      {
        "duration": 0,
        "start_time": "2024-12-16T14:34:02.299Z"
      },
      {
        "duration": 0,
        "start_time": "2024-12-16T14:34:02.300Z"
      },
      {
        "duration": 162,
        "start_time": "2025-01-07T18:42:03.794Z"
      },
      {
        "duration": 2554,
        "start_time": "2025-01-07T18:42:08.527Z"
      },
      {
        "duration": 165,
        "start_time": "2025-01-07T18:42:11.083Z"
      },
      {
        "duration": 6,
        "start_time": "2025-01-07T18:42:11.250Z"
      },
      {
        "duration": 45,
        "start_time": "2025-01-07T18:42:11.258Z"
      },
      {
        "duration": 3,
        "start_time": "2025-01-07T18:42:11.308Z"
      },
      {
        "duration": 11,
        "start_time": "2025-01-07T18:42:11.313Z"
      },
      {
        "duration": 3,
        "start_time": "2025-01-07T18:42:11.328Z"
      },
      {
        "duration": 638,
        "start_time": "2025-01-07T18:42:11.333Z"
      },
      {
        "duration": 10,
        "start_time": "2025-01-07T18:42:11.972Z"
      },
      {
        "duration": 13,
        "start_time": "2025-01-07T18:42:11.986Z"
      },
      {
        "duration": 159,
        "start_time": "2025-01-07T18:42:12.000Z"
      },
      {
        "duration": 9,
        "start_time": "2025-01-07T18:42:12.161Z"
      },
      {
        "duration": 10,
        "start_time": "2025-01-07T18:42:12.172Z"
      },
      {
        "duration": 99,
        "start_time": "2025-01-07T18:42:12.185Z"
      },
      {
        "duration": 9,
        "start_time": "2025-01-07T18:42:12.285Z"
      },
      {
        "duration": 14,
        "start_time": "2025-01-07T18:42:12.295Z"
      },
      {
        "duration": 166,
        "start_time": "2025-01-07T18:42:12.324Z"
      },
      {
        "duration": 4,
        "start_time": "2025-01-07T18:42:12.492Z"
      },
      {
        "duration": 4,
        "start_time": "2025-01-07T18:42:12.498Z"
      },
      {
        "duration": 28,
        "start_time": "2025-01-07T18:42:12.504Z"
      },
      {
        "duration": 11,
        "start_time": "2025-01-07T18:42:12.534Z"
      },
      {
        "duration": 16,
        "start_time": "2025-01-07T18:42:12.547Z"
      },
      {
        "duration": 15,
        "start_time": "2025-01-07T18:42:12.565Z"
      },
      {
        "duration": 12,
        "start_time": "2025-01-07T18:42:12.582Z"
      },
      {
        "duration": 120,
        "start_time": "2025-01-07T18:42:12.596Z"
      },
      {
        "duration": 157,
        "start_time": "2025-01-07T18:42:12.718Z"
      },
      {
        "duration": 5,
        "start_time": "2025-01-07T18:42:12.877Z"
      },
      {
        "duration": 382,
        "start_time": "2025-01-07T18:42:12.886Z"
      },
      {
        "duration": 15,
        "start_time": "2025-01-07T18:42:13.271Z"
      },
      {
        "duration": 137,
        "start_time": "2025-01-07T18:42:13.288Z"
      },
      {
        "duration": 88,
        "start_time": "2025-01-07T18:42:13.427Z"
      },
      {
        "duration": 9,
        "start_time": "2025-01-07T18:42:13.524Z"
      },
      {
        "duration": 3,
        "start_time": "2025-01-07T18:42:13.535Z"
      },
      {
        "duration": 7,
        "start_time": "2025-01-07T18:42:13.540Z"
      },
      {
        "duration": 6,
        "start_time": "2025-01-07T18:42:13.548Z"
      },
      {
        "duration": 4,
        "start_time": "2025-01-07T18:42:13.556Z"
      },
      {
        "duration": 504,
        "start_time": "2025-01-07T18:42:13.561Z"
      },
      {
        "duration": 0,
        "start_time": "2025-01-07T18:42:14.067Z"
      },
      {
        "duration": 0,
        "start_time": "2025-01-07T18:42:14.069Z"
      },
      {
        "duration": 756,
        "start_time": "2025-01-07T18:45:09.777Z"
      },
      {
        "duration": 175,
        "start_time": "2025-01-07T18:45:10.536Z"
      },
      {
        "duration": 3,
        "start_time": "2025-01-07T18:45:10.712Z"
      },
      {
        "duration": 31,
        "start_time": "2025-01-07T18:45:10.724Z"
      },
      {
        "duration": 2,
        "start_time": "2025-01-07T18:45:10.757Z"
      },
      {
        "duration": 2,
        "start_time": "2025-01-07T18:45:10.761Z"
      },
      {
        "duration": 4,
        "start_time": "2025-01-07T18:45:10.765Z"
      },
      {
        "duration": 523,
        "start_time": "2025-01-07T18:45:10.771Z"
      },
      {
        "duration": 11,
        "start_time": "2025-01-07T18:45:11.296Z"
      },
      {
        "duration": 23,
        "start_time": "2025-01-07T18:45:11.310Z"
      },
      {
        "duration": 150,
        "start_time": "2025-01-07T18:45:11.335Z"
      },
      {
        "duration": 8,
        "start_time": "2025-01-07T18:45:11.488Z"
      },
      {
        "duration": 25,
        "start_time": "2025-01-07T18:45:11.498Z"
      },
      {
        "duration": 76,
        "start_time": "2025-01-07T18:45:11.525Z"
      },
      {
        "duration": 8,
        "start_time": "2025-01-07T18:45:11.602Z"
      },
      {
        "duration": 13,
        "start_time": "2025-01-07T18:45:11.624Z"
      },
      {
        "duration": 169,
        "start_time": "2025-01-07T18:45:11.639Z"
      },
      {
        "duration": 5,
        "start_time": "2025-01-07T18:45:11.809Z"
      },
      {
        "duration": 4,
        "start_time": "2025-01-07T18:45:11.824Z"
      },
      {
        "duration": 11,
        "start_time": "2025-01-07T18:45:11.830Z"
      },
      {
        "duration": 12,
        "start_time": "2025-01-07T18:45:11.843Z"
      },
      {
        "duration": 15,
        "start_time": "2025-01-07T18:45:11.856Z"
      },
      {
        "duration": 16,
        "start_time": "2025-01-07T18:45:11.874Z"
      },
      {
        "duration": 42,
        "start_time": "2025-01-07T18:45:11.892Z"
      },
      {
        "duration": 105,
        "start_time": "2025-01-07T18:45:11.935Z"
      },
      {
        "duration": 107,
        "start_time": "2025-01-07T18:45:12.042Z"
      },
      {
        "duration": 6,
        "start_time": "2025-01-07T18:45:12.151Z"
      },
      {
        "duration": 385,
        "start_time": "2025-01-07T18:45:12.160Z"
      },
      {
        "duration": 17,
        "start_time": "2025-01-07T18:45:12.546Z"
      },
      {
        "duration": 134,
        "start_time": "2025-01-07T18:45:12.565Z"
      },
      {
        "duration": 101,
        "start_time": "2025-01-07T18:45:12.701Z"
      },
      {
        "duration": 10,
        "start_time": "2025-01-07T18:45:12.804Z"
      },
      {
        "duration": 2,
        "start_time": "2025-01-07T18:45:12.824Z"
      },
      {
        "duration": 8,
        "start_time": "2025-01-07T18:45:12.828Z"
      },
      {
        "duration": 7,
        "start_time": "2025-01-07T18:45:12.837Z"
      },
      {
        "duration": 5,
        "start_time": "2025-01-07T18:45:12.846Z"
      },
      {
        "duration": 9272,
        "start_time": "2025-01-07T18:45:12.852Z"
      },
      {
        "duration": 0,
        "start_time": "2025-01-07T18:45:22.127Z"
      },
      {
        "duration": 0,
        "start_time": "2025-01-07T18:45:22.128Z"
      },
      {
        "duration": 838,
        "start_time": "2025-01-07T18:46:33.562Z"
      },
      {
        "duration": 167,
        "start_time": "2025-01-07T18:46:34.402Z"
      },
      {
        "duration": 3,
        "start_time": "2025-01-07T18:46:34.571Z"
      },
      {
        "duration": 32,
        "start_time": "2025-01-07T18:46:34.576Z"
      },
      {
        "duration": 2,
        "start_time": "2025-01-07T18:46:34.610Z"
      },
      {
        "duration": 3,
        "start_time": "2025-01-07T18:46:34.624Z"
      },
      {
        "duration": 4,
        "start_time": "2025-01-07T18:46:34.628Z"
      },
      {
        "duration": 512,
        "start_time": "2025-01-07T18:46:34.633Z"
      },
      {
        "duration": 11,
        "start_time": "2025-01-07T18:46:35.147Z"
      },
      {
        "duration": 14,
        "start_time": "2025-01-07T18:46:35.159Z"
      },
      {
        "duration": 168,
        "start_time": "2025-01-07T18:46:35.175Z"
      },
      {
        "duration": 9,
        "start_time": "2025-01-07T18:46:35.345Z"
      },
      {
        "duration": 11,
        "start_time": "2025-01-07T18:46:35.355Z"
      },
      {
        "duration": 98,
        "start_time": "2025-01-07T18:46:35.370Z"
      },
      {
        "duration": 8,
        "start_time": "2025-01-07T18:46:35.470Z"
      },
      {
        "duration": 14,
        "start_time": "2025-01-07T18:46:35.479Z"
      },
      {
        "duration": 174,
        "start_time": "2025-01-07T18:46:35.494Z"
      },
      {
        "duration": 4,
        "start_time": "2025-01-07T18:46:35.670Z"
      },
      {
        "duration": 4,
        "start_time": "2025-01-07T18:46:35.676Z"
      },
      {
        "duration": 13,
        "start_time": "2025-01-07T18:46:35.681Z"
      },
      {
        "duration": 32,
        "start_time": "2025-01-07T18:46:35.696Z"
      },
      {
        "duration": 16,
        "start_time": "2025-01-07T18:46:35.730Z"
      },
      {
        "duration": 16,
        "start_time": "2025-01-07T18:46:35.748Z"
      },
      {
        "duration": 15,
        "start_time": "2025-01-07T18:46:35.765Z"
      },
      {
        "duration": 133,
        "start_time": "2025-01-07T18:46:35.782Z"
      },
      {
        "duration": 114,
        "start_time": "2025-01-07T18:46:35.917Z"
      },
      {
        "duration": 5,
        "start_time": "2025-01-07T18:46:36.033Z"
      },
      {
        "duration": 385,
        "start_time": "2025-01-07T18:46:36.040Z"
      },
      {
        "duration": 17,
        "start_time": "2025-01-07T18:46:36.427Z"
      },
      {
        "duration": 142,
        "start_time": "2025-01-07T18:46:36.446Z"
      },
      {
        "duration": 96,
        "start_time": "2025-01-07T18:46:36.590Z"
      },
      {
        "duration": 14,
        "start_time": "2025-01-07T18:46:36.687Z"
      },
      {
        "duration": 3,
        "start_time": "2025-01-07T18:46:36.703Z"
      },
      {
        "duration": 22,
        "start_time": "2025-01-07T18:46:36.707Z"
      },
      {
        "duration": 7,
        "start_time": "2025-01-07T18:46:36.730Z"
      },
      {
        "duration": 5,
        "start_time": "2025-01-07T18:46:36.739Z"
      },
      {
        "duration": 9104,
        "start_time": "2025-01-07T18:46:36.745Z"
      },
      {
        "duration": 34972,
        "start_time": "2025-01-07T18:46:45.854Z"
      },
      {
        "duration": 380,
        "start_time": "2025-01-07T18:47:20.829Z"
      },
      {
        "duration": 804,
        "start_time": "2025-01-07T18:49:15.620Z"
      },
      {
        "duration": 186,
        "start_time": "2025-01-07T18:49:16.427Z"
      },
      {
        "duration": 3,
        "start_time": "2025-01-07T18:49:16.615Z"
      },
      {
        "duration": 31,
        "start_time": "2025-01-07T18:49:16.624Z"
      },
      {
        "duration": 3,
        "start_time": "2025-01-07T18:49:16.657Z"
      },
      {
        "duration": 3,
        "start_time": "2025-01-07T18:49:16.661Z"
      },
      {
        "duration": 4,
        "start_time": "2025-01-07T18:49:16.665Z"
      },
      {
        "duration": 508,
        "start_time": "2025-01-07T18:49:16.670Z"
      },
      {
        "duration": 9,
        "start_time": "2025-01-07T18:49:17.180Z"
      },
      {
        "duration": 13,
        "start_time": "2025-01-07T18:49:17.192Z"
      },
      {
        "duration": 168,
        "start_time": "2025-01-07T18:49:17.207Z"
      },
      {
        "duration": 8,
        "start_time": "2025-01-07T18:49:17.377Z"
      },
      {
        "duration": 10,
        "start_time": "2025-01-07T18:49:17.387Z"
      },
      {
        "duration": 95,
        "start_time": "2025-01-07T18:49:17.399Z"
      },
      {
        "duration": 8,
        "start_time": "2025-01-07T18:49:17.496Z"
      },
      {
        "duration": 31,
        "start_time": "2025-01-07T18:49:17.506Z"
      },
      {
        "duration": 170,
        "start_time": "2025-01-07T18:49:17.539Z"
      },
      {
        "duration": 13,
        "start_time": "2025-01-07T18:49:17.711Z"
      },
      {
        "duration": 4,
        "start_time": "2025-01-07T18:49:17.726Z"
      },
      {
        "duration": 13,
        "start_time": "2025-01-07T18:49:17.734Z"
      },
      {
        "duration": 12,
        "start_time": "2025-01-07T18:49:17.748Z"
      },
      {
        "duration": 16,
        "start_time": "2025-01-07T18:49:17.762Z"
      },
      {
        "duration": 15,
        "start_time": "2025-01-07T18:49:17.780Z"
      },
      {
        "duration": 18,
        "start_time": "2025-01-07T18:49:17.823Z"
      },
      {
        "duration": 120,
        "start_time": "2025-01-07T18:49:17.843Z"
      },
      {
        "duration": 112,
        "start_time": "2025-01-07T18:49:17.965Z"
      },
      {
        "duration": 6,
        "start_time": "2025-01-07T18:49:18.079Z"
      },
      {
        "duration": 388,
        "start_time": "2025-01-07T18:49:18.089Z"
      },
      {
        "duration": 18,
        "start_time": "2025-01-07T18:49:18.479Z"
      },
      {
        "duration": 137,
        "start_time": "2025-01-07T18:49:18.499Z"
      },
      {
        "duration": 97,
        "start_time": "2025-01-07T18:49:18.638Z"
      },
      {
        "duration": 9,
        "start_time": "2025-01-07T18:49:18.736Z"
      },
      {
        "duration": 5,
        "start_time": "2025-01-07T18:49:18.747Z"
      },
      {
        "duration": 477,
        "start_time": "2025-01-07T18:49:18.754Z"
      },
      {
        "duration": 0,
        "start_time": "2025-01-07T18:49:19.233Z"
      },
      {
        "duration": 0,
        "start_time": "2025-01-07T18:49:19.234Z"
      },
      {
        "duration": 769,
        "start_time": "2025-01-07T18:50:32.374Z"
      },
      {
        "duration": 170,
        "start_time": "2025-01-07T18:50:33.145Z"
      },
      {
        "duration": 8,
        "start_time": "2025-01-07T18:50:33.316Z"
      },
      {
        "duration": 31,
        "start_time": "2025-01-07T18:50:33.326Z"
      },
      {
        "duration": 2,
        "start_time": "2025-01-07T18:50:33.359Z"
      },
      {
        "duration": 3,
        "start_time": "2025-01-07T18:50:33.363Z"
      },
      {
        "duration": 4,
        "start_time": "2025-01-07T18:50:33.367Z"
      },
      {
        "duration": 533,
        "start_time": "2025-01-07T18:50:33.372Z"
      },
      {
        "duration": 17,
        "start_time": "2025-01-07T18:50:33.907Z"
      },
      {
        "duration": 13,
        "start_time": "2025-01-07T18:50:33.926Z"
      },
      {
        "duration": 159,
        "start_time": "2025-01-07T18:50:33.941Z"
      },
      {
        "duration": 10,
        "start_time": "2025-01-07T18:50:34.102Z"
      },
      {
        "duration": 20,
        "start_time": "2025-01-07T18:50:34.113Z"
      },
      {
        "duration": 88,
        "start_time": "2025-01-07T18:50:34.136Z"
      },
      {
        "duration": 9,
        "start_time": "2025-01-07T18:50:34.226Z"
      },
      {
        "duration": 13,
        "start_time": "2025-01-07T18:50:34.237Z"
      },
      {
        "duration": 180,
        "start_time": "2025-01-07T18:50:34.251Z"
      },
      {
        "duration": 4,
        "start_time": "2025-01-07T18:50:34.433Z"
      },
      {
        "duration": 5,
        "start_time": "2025-01-07T18:50:34.439Z"
      },
      {
        "duration": 11,
        "start_time": "2025-01-07T18:50:34.445Z"
      },
      {
        "duration": 11,
        "start_time": "2025-01-07T18:50:34.457Z"
      },
      {
        "duration": 16,
        "start_time": "2025-01-07T18:50:34.469Z"
      },
      {
        "duration": 46,
        "start_time": "2025-01-07T18:50:34.486Z"
      },
      {
        "duration": 16,
        "start_time": "2025-01-07T18:50:34.535Z"
      },
      {
        "duration": 115,
        "start_time": "2025-01-07T18:50:34.552Z"
      },
      {
        "duration": 111,
        "start_time": "2025-01-07T18:50:34.668Z"
      },
      {
        "duration": 6,
        "start_time": "2025-01-07T18:50:34.780Z"
      },
      {
        "duration": 373,
        "start_time": "2025-01-07T18:50:34.787Z"
      },
      {
        "duration": 19,
        "start_time": "2025-01-07T18:50:35.162Z"
      },
      {
        "duration": 141,
        "start_time": "2025-01-07T18:50:35.183Z"
      },
      {
        "duration": 88,
        "start_time": "2025-01-07T18:50:35.325Z"
      },
      {
        "duration": 9,
        "start_time": "2025-01-07T18:50:35.424Z"
      },
      {
        "duration": 303,
        "start_time": "2025-01-07T18:50:35.435Z"
      },
      {
        "duration": 0,
        "start_time": "2025-01-07T18:50:35.740Z"
      },
      {
        "duration": 0,
        "start_time": "2025-01-07T18:50:35.741Z"
      },
      {
        "duration": 0,
        "start_time": "2025-01-07T18:50:35.742Z"
      },
      {
        "duration": 792,
        "start_time": "2025-01-07T18:51:33.167Z"
      },
      {
        "duration": 175,
        "start_time": "2025-01-07T18:51:33.961Z"
      },
      {
        "duration": 3,
        "start_time": "2025-01-07T18:51:34.138Z"
      },
      {
        "duration": 31,
        "start_time": "2025-01-07T18:51:34.143Z"
      },
      {
        "duration": 2,
        "start_time": "2025-01-07T18:51:34.176Z"
      },
      {
        "duration": 2,
        "start_time": "2025-01-07T18:51:34.180Z"
      },
      {
        "duration": 4,
        "start_time": "2025-01-07T18:51:34.184Z"
      },
      {
        "duration": 526,
        "start_time": "2025-01-07T18:51:34.189Z"
      },
      {
        "duration": 15,
        "start_time": "2025-01-07T18:51:34.717Z"
      },
      {
        "duration": 14,
        "start_time": "2025-01-07T18:51:34.733Z"
      },
      {
        "duration": 163,
        "start_time": "2025-01-07T18:51:34.748Z"
      },
      {
        "duration": 12,
        "start_time": "2025-01-07T18:51:34.914Z"
      },
      {
        "duration": 10,
        "start_time": "2025-01-07T18:51:34.928Z"
      },
      {
        "duration": 89,
        "start_time": "2025-01-07T18:51:34.942Z"
      },
      {
        "duration": 8,
        "start_time": "2025-01-07T18:51:35.032Z"
      },
      {
        "duration": 13,
        "start_time": "2025-01-07T18:51:35.042Z"
      },
      {
        "duration": 181,
        "start_time": "2025-01-07T18:51:35.056Z"
      },
      {
        "duration": 5,
        "start_time": "2025-01-07T18:51:35.238Z"
      },
      {
        "duration": 4,
        "start_time": "2025-01-07T18:51:35.245Z"
      },
      {
        "duration": 12,
        "start_time": "2025-01-07T18:51:35.251Z"
      },
      {
        "duration": 11,
        "start_time": "2025-01-07T18:51:35.265Z"
      },
      {
        "duration": 46,
        "start_time": "2025-01-07T18:51:35.278Z"
      },
      {
        "duration": 16,
        "start_time": "2025-01-07T18:51:35.325Z"
      },
      {
        "duration": 14,
        "start_time": "2025-01-07T18:51:35.343Z"
      },
      {
        "duration": 122,
        "start_time": "2025-01-07T18:51:35.359Z"
      },
      {
        "duration": 110,
        "start_time": "2025-01-07T18:51:35.483Z"
      },
      {
        "duration": 6,
        "start_time": "2025-01-07T18:51:35.595Z"
      },
      {
        "duration": 378,
        "start_time": "2025-01-07T18:51:35.603Z"
      },
      {
        "duration": 18,
        "start_time": "2025-01-07T18:51:35.982Z"
      },
      {
        "duration": 139,
        "start_time": "2025-01-07T18:51:36.002Z"
      },
      {
        "duration": 93,
        "start_time": "2025-01-07T18:51:36.143Z"
      },
      {
        "duration": 9,
        "start_time": "2025-01-07T18:51:36.237Z"
      },
      {
        "duration": 10,
        "start_time": "2025-01-07T18:51:36.247Z"
      },
      {
        "duration": 9031,
        "start_time": "2025-01-07T18:51:36.259Z"
      },
      {
        "duration": 34447,
        "start_time": "2025-01-07T18:51:45.292Z"
      },
      {
        "duration": 445,
        "start_time": "2025-01-07T18:52:19.742Z"
      },
      {
        "duration": 796,
        "start_time": "2025-01-07T19:01:30.758Z"
      },
      {
        "duration": 201,
        "start_time": "2025-01-07T19:01:31.556Z"
      },
      {
        "duration": 3,
        "start_time": "2025-01-07T19:01:31.759Z"
      },
      {
        "duration": 31,
        "start_time": "2025-01-07T19:01:31.763Z"
      },
      {
        "duration": 2,
        "start_time": "2025-01-07T19:01:31.796Z"
      },
      {
        "duration": 3,
        "start_time": "2025-01-07T19:01:31.800Z"
      },
      {
        "duration": 22,
        "start_time": "2025-01-07T19:01:31.804Z"
      },
      {
        "duration": 499,
        "start_time": "2025-01-07T19:01:31.827Z"
      },
      {
        "duration": 11,
        "start_time": "2025-01-07T19:01:32.328Z"
      },
      {
        "duration": 14,
        "start_time": "2025-01-07T19:01:32.341Z"
      },
      {
        "duration": 161,
        "start_time": "2025-01-07T19:01:32.357Z"
      },
      {
        "duration": 9,
        "start_time": "2025-01-07T19:01:32.524Z"
      },
      {
        "duration": 11,
        "start_time": "2025-01-07T19:01:32.535Z"
      },
      {
        "duration": 93,
        "start_time": "2025-01-07T19:01:32.550Z"
      },
      {
        "duration": 8,
        "start_time": "2025-01-07T19:01:32.645Z"
      },
      {
        "duration": 12,
        "start_time": "2025-01-07T19:01:32.655Z"
      },
      {
        "duration": 177,
        "start_time": "2025-01-07T19:01:32.669Z"
      },
      {
        "duration": 4,
        "start_time": "2025-01-07T19:01:32.848Z"
      },
      {
        "duration": 4,
        "start_time": "2025-01-07T19:01:32.854Z"
      },
      {
        "duration": 11,
        "start_time": "2025-01-07T19:01:32.860Z"
      },
      {
        "duration": 11,
        "start_time": "2025-01-07T19:01:32.873Z"
      },
      {
        "duration": 43,
        "start_time": "2025-01-07T19:01:32.886Z"
      },
      {
        "duration": 16,
        "start_time": "2025-01-07T19:01:32.931Z"
      },
      {
        "duration": 13,
        "start_time": "2025-01-07T19:01:32.949Z"
      },
      {
        "duration": 116,
        "start_time": "2025-01-07T19:01:32.964Z"
      },
      {
        "duration": 106,
        "start_time": "2025-01-07T19:01:33.082Z"
      },
      {
        "duration": 6,
        "start_time": "2025-01-07T19:01:33.190Z"
      },
      {
        "duration": 390,
        "start_time": "2025-01-07T19:01:33.198Z"
      },
      {
        "duration": 19,
        "start_time": "2025-01-07T19:01:33.590Z"
      },
      {
        "duration": 136,
        "start_time": "2025-01-07T19:01:33.610Z"
      },
      {
        "duration": 98,
        "start_time": "2025-01-07T19:01:33.748Z"
      },
      {
        "duration": 645,
        "start_time": "2025-01-07T19:01:33.848Z"
      },
      {
        "duration": 0,
        "start_time": "2025-01-07T19:01:34.495Z"
      },
      {
        "duration": 0,
        "start_time": "2025-01-07T19:01:34.496Z"
      },
      {
        "duration": 0,
        "start_time": "2025-01-07T19:01:34.497Z"
      },
      {
        "duration": 0,
        "start_time": "2025-01-07T19:01:34.498Z"
      },
      {
        "duration": 0,
        "start_time": "2025-01-07T19:01:34.499Z"
      },
      {
        "duration": 748,
        "start_time": "2025-01-07T19:03:19.699Z"
      },
      {
        "duration": 189,
        "start_time": "2025-01-07T19:03:20.449Z"
      },
      {
        "duration": 3,
        "start_time": "2025-01-07T19:03:20.642Z"
      },
      {
        "duration": 30,
        "start_time": "2025-01-07T19:03:20.648Z"
      },
      {
        "duration": 3,
        "start_time": "2025-01-07T19:03:20.680Z"
      },
      {
        "duration": 2,
        "start_time": "2025-01-07T19:03:20.685Z"
      },
      {
        "duration": 3,
        "start_time": "2025-01-07T19:03:20.689Z"
      },
      {
        "duration": 512,
        "start_time": "2025-01-07T19:03:20.694Z"
      },
      {
        "duration": 16,
        "start_time": "2025-01-07T19:03:21.208Z"
      },
      {
        "duration": 13,
        "start_time": "2025-01-07T19:03:21.226Z"
      },
      {
        "duration": 161,
        "start_time": "2025-01-07T19:03:21.241Z"
      },
      {
        "duration": 8,
        "start_time": "2025-01-07T19:03:21.404Z"
      },
      {
        "duration": 18,
        "start_time": "2025-01-07T19:03:21.424Z"
      },
      {
        "duration": 80,
        "start_time": "2025-01-07T19:03:21.444Z"
      },
      {
        "duration": 9,
        "start_time": "2025-01-07T19:03:21.526Z"
      },
      {
        "duration": 12,
        "start_time": "2025-01-07T19:03:21.537Z"
      },
      {
        "duration": 175,
        "start_time": "2025-01-07T19:03:21.550Z"
      },
      {
        "duration": 5,
        "start_time": "2025-01-07T19:03:21.727Z"
      },
      {
        "duration": 4,
        "start_time": "2025-01-07T19:03:21.733Z"
      },
      {
        "duration": 12,
        "start_time": "2025-01-07T19:03:21.738Z"
      },
      {
        "duration": 11,
        "start_time": "2025-01-07T19:03:21.752Z"
      },
      {
        "duration": 15,
        "start_time": "2025-01-07T19:03:21.765Z"
      },
      {
        "duration": 55,
        "start_time": "2025-01-07T19:03:21.782Z"
      },
      {
        "duration": 17,
        "start_time": "2025-01-07T19:03:21.840Z"
      },
      {
        "duration": 118,
        "start_time": "2025-01-07T19:03:21.859Z"
      },
      {
        "duration": 106,
        "start_time": "2025-01-07T19:03:21.978Z"
      },
      {
        "duration": 5,
        "start_time": "2025-01-07T19:03:22.086Z"
      },
      {
        "duration": 388,
        "start_time": "2025-01-07T19:03:22.093Z"
      },
      {
        "duration": 17,
        "start_time": "2025-01-07T19:03:22.482Z"
      },
      {
        "duration": 134,
        "start_time": "2025-01-07T19:03:22.501Z"
      },
      {
        "duration": 98,
        "start_time": "2025-01-07T19:03:22.636Z"
      },
      {
        "duration": 648,
        "start_time": "2025-01-07T19:03:22.735Z"
      },
      {
        "duration": 0,
        "start_time": "2025-01-07T19:03:23.384Z"
      },
      {
        "duration": 0,
        "start_time": "2025-01-07T19:03:23.385Z"
      },
      {
        "duration": 0,
        "start_time": "2025-01-07T19:03:23.387Z"
      },
      {
        "duration": 0,
        "start_time": "2025-01-07T19:03:23.388Z"
      },
      {
        "duration": 0,
        "start_time": "2025-01-07T19:03:23.388Z"
      },
      {
        "duration": 813,
        "start_time": "2025-01-07T19:04:21.027Z"
      },
      {
        "duration": 186,
        "start_time": "2025-01-07T19:04:21.842Z"
      },
      {
        "duration": 3,
        "start_time": "2025-01-07T19:04:22.030Z"
      },
      {
        "duration": 32,
        "start_time": "2025-01-07T19:04:22.037Z"
      },
      {
        "duration": 2,
        "start_time": "2025-01-07T19:04:22.071Z"
      },
      {
        "duration": 3,
        "start_time": "2025-01-07T19:04:22.075Z"
      },
      {
        "duration": 4,
        "start_time": "2025-01-07T19:04:22.079Z"
      },
      {
        "duration": 520,
        "start_time": "2025-01-07T19:04:22.084Z"
      },
      {
        "duration": 11,
        "start_time": "2025-01-07T19:04:22.606Z"
      },
      {
        "duration": 17,
        "start_time": "2025-01-07T19:04:22.626Z"
      },
      {
        "duration": 163,
        "start_time": "2025-01-07T19:04:22.645Z"
      },
      {
        "duration": 9,
        "start_time": "2025-01-07T19:04:22.810Z"
      },
      {
        "duration": 15,
        "start_time": "2025-01-07T19:04:22.820Z"
      },
      {
        "duration": 90,
        "start_time": "2025-01-07T19:04:22.837Z"
      },
      {
        "duration": 8,
        "start_time": "2025-01-07T19:04:22.928Z"
      },
      {
        "duration": 13,
        "start_time": "2025-01-07T19:04:22.938Z"
      },
      {
        "duration": 174,
        "start_time": "2025-01-07T19:04:22.953Z"
      },
      {
        "duration": 4,
        "start_time": "2025-01-07T19:04:23.129Z"
      },
      {
        "duration": 3,
        "start_time": "2025-01-07T19:04:23.135Z"
      },
      {
        "duration": 15,
        "start_time": "2025-01-07T19:04:23.140Z"
      },
      {
        "duration": 11,
        "start_time": "2025-01-07T19:04:23.157Z"
      },
      {
        "duration": 15,
        "start_time": "2025-01-07T19:04:23.170Z"
      },
      {
        "duration": 52,
        "start_time": "2025-01-07T19:04:23.186Z"
      },
      {
        "duration": 13,
        "start_time": "2025-01-07T19:04:23.239Z"
      },
      {
        "duration": 114,
        "start_time": "2025-01-07T19:04:23.254Z"
      },
      {
        "duration": 105,
        "start_time": "2025-01-07T19:04:23.369Z"
      },
      {
        "duration": 6,
        "start_time": "2025-01-07T19:04:23.476Z"
      },
      {
        "duration": 393,
        "start_time": "2025-01-07T19:04:23.486Z"
      },
      {
        "duration": 16,
        "start_time": "2025-01-07T19:04:23.881Z"
      },
      {
        "duration": 133,
        "start_time": "2025-01-07T19:04:23.899Z"
      },
      {
        "duration": 97,
        "start_time": "2025-01-07T19:04:24.034Z"
      },
      {
        "duration": 3,
        "start_time": "2025-01-07T19:04:24.132Z"
      },
      {
        "duration": 638,
        "start_time": "2025-01-07T19:04:24.137Z"
      },
      {
        "duration": 0,
        "start_time": "2025-01-07T19:04:24.777Z"
      },
      {
        "duration": 0,
        "start_time": "2025-01-07T19:04:24.778Z"
      },
      {
        "duration": 0,
        "start_time": "2025-01-07T19:04:24.780Z"
      },
      {
        "duration": 0,
        "start_time": "2025-01-07T19:04:24.781Z"
      },
      {
        "duration": 0,
        "start_time": "2025-01-07T19:04:24.782Z"
      },
      {
        "duration": 783,
        "start_time": "2025-01-07T19:05:23.195Z"
      },
      {
        "duration": 176,
        "start_time": "2025-01-07T19:05:23.981Z"
      },
      {
        "duration": 3,
        "start_time": "2025-01-07T19:05:24.159Z"
      },
      {
        "duration": 31,
        "start_time": "2025-01-07T19:05:24.164Z"
      },
      {
        "duration": 2,
        "start_time": "2025-01-07T19:05:24.198Z"
      },
      {
        "duration": 4,
        "start_time": "2025-01-07T19:05:24.201Z"
      },
      {
        "duration": 18,
        "start_time": "2025-01-07T19:05:24.206Z"
      },
      {
        "duration": 503,
        "start_time": "2025-01-07T19:05:24.226Z"
      },
      {
        "duration": 10,
        "start_time": "2025-01-07T19:05:24.731Z"
      },
      {
        "duration": 12,
        "start_time": "2025-01-07T19:05:24.744Z"
      },
      {
        "duration": 160,
        "start_time": "2025-01-07T19:05:24.758Z"
      },
      {
        "duration": 11,
        "start_time": "2025-01-07T19:05:24.920Z"
      },
      {
        "duration": 11,
        "start_time": "2025-01-07T19:05:24.932Z"
      },
      {
        "duration": 97,
        "start_time": "2025-01-07T19:05:24.947Z"
      },
      {
        "duration": 8,
        "start_time": "2025-01-07T19:05:25.047Z"
      },
      {
        "duration": 13,
        "start_time": "2025-01-07T19:05:25.057Z"
      },
      {
        "duration": 172,
        "start_time": "2025-01-07T19:05:25.072Z"
      },
      {
        "duration": 4,
        "start_time": "2025-01-07T19:05:25.246Z"
      },
      {
        "duration": 4,
        "start_time": "2025-01-07T19:05:25.252Z"
      },
      {
        "duration": 12,
        "start_time": "2025-01-07T19:05:25.257Z"
      },
      {
        "duration": 12,
        "start_time": "2025-01-07T19:05:25.271Z"
      },
      {
        "duration": 47,
        "start_time": "2025-01-07T19:05:25.285Z"
      },
      {
        "duration": 15,
        "start_time": "2025-01-07T19:05:25.334Z"
      },
      {
        "duration": 13,
        "start_time": "2025-01-07T19:05:25.351Z"
      },
      {
        "duration": 114,
        "start_time": "2025-01-07T19:05:25.365Z"
      },
      {
        "duration": 124,
        "start_time": "2025-01-07T19:05:25.481Z"
      },
      {
        "duration": 6,
        "start_time": "2025-01-07T19:05:25.607Z"
      },
      {
        "duration": 382,
        "start_time": "2025-01-07T19:05:25.615Z"
      },
      {
        "duration": 22,
        "start_time": "2025-01-07T19:05:25.998Z"
      },
      {
        "duration": 142,
        "start_time": "2025-01-07T19:05:26.022Z"
      },
      {
        "duration": 95,
        "start_time": "2025-01-07T19:05:26.166Z"
      },
      {
        "duration": 4,
        "start_time": "2025-01-07T19:05:26.263Z"
      },
      {
        "duration": 20,
        "start_time": "2025-01-07T19:05:26.268Z"
      },
      {
        "duration": 9,
        "start_time": "2025-01-07T19:05:26.289Z"
      },
      {
        "duration": 25,
        "start_time": "2025-01-07T19:05:26.299Z"
      },
      {
        "duration": 316,
        "start_time": "2025-01-07T19:05:26.325Z"
      },
      {
        "duration": 0,
        "start_time": "2025-01-07T19:05:26.643Z"
      },
      {
        "duration": 0,
        "start_time": "2025-01-07T19:05:26.644Z"
      },
      {
        "duration": 774,
        "start_time": "2025-01-07T19:08:13.969Z"
      },
      {
        "duration": 186,
        "start_time": "2025-01-07T19:08:14.746Z"
      },
      {
        "duration": 4,
        "start_time": "2025-01-07T19:08:14.934Z"
      },
      {
        "duration": 30,
        "start_time": "2025-01-07T19:08:14.940Z"
      },
      {
        "duration": 3,
        "start_time": "2025-01-07T19:08:14.973Z"
      },
      {
        "duration": 3,
        "start_time": "2025-01-07T19:08:14.977Z"
      },
      {
        "duration": 3,
        "start_time": "2025-01-07T19:08:14.982Z"
      },
      {
        "duration": 503,
        "start_time": "2025-01-07T19:08:14.986Z"
      },
      {
        "duration": 10,
        "start_time": "2025-01-07T19:08:15.491Z"
      },
      {
        "duration": 26,
        "start_time": "2025-01-07T19:08:15.503Z"
      },
      {
        "duration": 155,
        "start_time": "2025-01-07T19:08:15.531Z"
      },
      {
        "duration": 8,
        "start_time": "2025-01-07T19:08:15.688Z"
      },
      {
        "duration": 10,
        "start_time": "2025-01-07T19:08:15.698Z"
      },
      {
        "duration": 79,
        "start_time": "2025-01-07T19:08:15.723Z"
      },
      {
        "duration": 21,
        "start_time": "2025-01-07T19:08:15.803Z"
      },
      {
        "duration": 13,
        "start_time": "2025-01-07T19:08:15.826Z"
      },
      {
        "duration": 192,
        "start_time": "2025-01-07T19:08:15.840Z"
      },
      {
        "duration": 5,
        "start_time": "2025-01-07T19:08:16.033Z"
      },
      {
        "duration": 4,
        "start_time": "2025-01-07T19:08:16.040Z"
      },
      {
        "duration": 11,
        "start_time": "2025-01-07T19:08:16.045Z"
      },
      {
        "duration": 10,
        "start_time": "2025-01-07T19:08:16.058Z"
      },
      {
        "duration": 15,
        "start_time": "2025-01-07T19:08:16.070Z"
      },
      {
        "duration": 48,
        "start_time": "2025-01-07T19:08:16.087Z"
      },
      {
        "duration": 13,
        "start_time": "2025-01-07T19:08:16.137Z"
      },
      {
        "duration": 108,
        "start_time": "2025-01-07T19:08:16.152Z"
      },
      {
        "duration": 112,
        "start_time": "2025-01-07T19:08:16.262Z"
      },
      {
        "duration": 7,
        "start_time": "2025-01-07T19:08:16.375Z"
      },
      {
        "duration": 393,
        "start_time": "2025-01-07T19:08:16.383Z"
      },
      {
        "duration": 18,
        "start_time": "2025-01-07T19:08:16.778Z"
      },
      {
        "duration": 138,
        "start_time": "2025-01-07T19:08:16.797Z"
      },
      {
        "duration": 98,
        "start_time": "2025-01-07T19:08:16.937Z"
      },
      {
        "duration": 15,
        "start_time": "2025-01-07T19:08:17.037Z"
      },
      {
        "duration": 8,
        "start_time": "2025-01-07T19:08:17.053Z"
      },
      {
        "duration": 7,
        "start_time": "2025-01-07T19:08:17.063Z"
      },
      {
        "duration": 6381,
        "start_time": "2025-01-07T19:08:17.071Z"
      },
      {
        "duration": 24386,
        "start_time": "2025-01-07T19:08:23.454Z"
      },
      {
        "duration": 6,
        "start_time": "2025-01-07T19:08:47.842Z"
      }
    ],
    "toc": {
      "base_numbering": 1,
      "nav_menu": {},
      "number_sections": true,
      "sideBar": true,
      "skip_h1_title": true,
      "title_cell": "Table of Contents",
      "title_sidebar": "Contents",
      "toc_cell": false,
      "toc_position": {},
      "toc_section_display": true,
      "toc_window_display": false
    }
  },
  "nbformat_minor": 4,
  "nbformat": 4,
  "cells": [
    {
      "cell_type": "markdown",
      "source": "# Gold Recovery Set - Model Analysis \n\n## Introduction\n\nThe purpose of the project is to look into the data, analyzing its particularities, and building the model into calculate the model's symmetric mean absolute percentage error (sMAPE).",
      "metadata": {}
    },
    {
      "cell_type": "markdown",
      "source": "## Prep Work\n\n### Basic Import",
      "metadata": {}
    },
    {
      "cell_type": "code",
      "source": "import numpy as np\nimport pandas as pd\nimport seaborn as sns\nimport matplotlib.pyplot as plt\nimport os",
      "metadata": {
        "trusted": false
      },
      "outputs": [],
      "execution_count": 1
    },
    {
      "cell_type": "code",
      "source": "from sklearn.model_selection import train_test_split\nfrom sklearn.model_selection import GridSearchCV\nfrom sklearn.model_selection import RandomizedSearchCV\nfrom sklearn.model_selection import cross_val_score",
      "metadata": {
        "trusted": false
      },
      "outputs": [],
      "execution_count": 2
    },
    {
      "cell_type": "code",
      "source": "from sklearn.metrics import accuracy_score, classification_report\nfrom sklearn.metrics import classification_report\nfrom sklearn.metrics import accuracy_score\nfrom sklearn.metrics import f1_score\nfrom sklearn.metrics import roc_curve\nfrom sklearn.metrics import roc_auc_score\nfrom sklearn.metrics import mean_squared_error",
      "metadata": {
        "trusted": false
      },
      "outputs": [],
      "execution_count": 3
    },
    {
      "cell_type": "code",
      "source": "from sklearn.ensemble import RandomForestClassifier\nfrom sklearn.ensemble import RandomForestRegressor\nfrom sklearn.tree import DecisionTreeClassifier\nfrom sklearn.svm import SVC",
      "metadata": {
        "trusted": false
      },
      "outputs": [],
      "execution_count": 4
    },
    {
      "cell_type": "code",
      "source": "from sklearn.dummy import DummyClassifier",
      "metadata": {
        "trusted": false
      },
      "outputs": [],
      "execution_count": 5
    },
    {
      "cell_type": "code",
      "source": "from sklearn.linear_model import LogisticRegression\nfrom sklearn.linear_model import LinearRegression",
      "metadata": {
        "trusted": false
      },
      "outputs": [],
      "execution_count": 6
    },
    {
      "cell_type": "code",
      "source": "from sklearn.utils import shuffle\nfrom sklearn.pipeline import Pipeline\nfrom sklearn.preprocessing import StandardScaler",
      "metadata": {
        "trusted": false
      },
      "outputs": [],
      "execution_count": 7
    },
    {
      "cell_type": "markdown",
      "source": "### Data Intro",
      "metadata": {}
    },
    {
      "cell_type": "code",
      "source": "data1 = pd.read_csv('/datasets/gold_recovery_train.csv')\ndata2 = pd.read_csv('/datasets/gold_recovery_test.csv')\ndata3 = pd.read_csv('/datasets/gold_recovery_full.csv')",
      "metadata": {
        "trusted": false
      },
      "outputs": [],
      "execution_count": 8
    },
    {
      "cell_type": "markdown",
      "source": "## Examining the Data\n\n### Data Inspection\n\n#### Training Set",
      "metadata": {}
    },
    {
      "cell_type": "code",
      "source": "print(data1.head())",
      "metadata": {
        "trusted": false
      },
      "outputs": [
        {
          "name": "stdout",
          "output_type": "stream",
          "text": "                  date  final.output.concentrate_ag  \\\n0  2016-01-15 00:00:00                     6.055403   \n1  2016-01-15 01:00:00                     6.029369   \n2  2016-01-15 02:00:00                     6.055926   \n3  2016-01-15 03:00:00                     6.047977   \n4  2016-01-15 04:00:00                     6.148599   \n\n   final.output.concentrate_pb  final.output.concentrate_sol  \\\n0                     9.889648                      5.507324   \n1                     9.968944                      5.257781   \n2                    10.213995                      5.383759   \n3                     9.977019                      4.858634   \n4                    10.142511                      4.939416   \n\n   final.output.concentrate_au  final.output.recovery  final.output.tail_ag  \\\n0                    42.192020              70.541216             10.411962   \n1                    42.701629              69.266198             10.462676   \n2                    42.657501              68.116445             10.507046   \n3                    42.689819              68.347543             10.422762   \n4                    42.774141              66.927016             10.360302   \n\n   final.output.tail_pb  final.output.tail_sol  final.output.tail_au  ...  \\\n0              0.895447              16.904297              2.143149  ...   \n1              0.927452              16.634514              2.224930  ...   \n2              0.953716              16.208849              2.257889  ...   \n3              0.883763              16.532835              2.146849  ...   \n4              0.792826              16.525686              2.055292  ...   \n\n   secondary_cleaner.state.floatbank4_a_air  \\\n0                                 14.016835   \n1                                 13.992281   \n2                                 14.015015   \n3                                 14.036510   \n4                                 14.027298   \n\n   secondary_cleaner.state.floatbank4_a_level  \\\n0                                 -502.488007   \n1                                 -505.503262   \n2                                 -502.520901   \n3                                 -500.857308   \n4                                 -499.838632   \n\n   secondary_cleaner.state.floatbank4_b_air  \\\n0                                 12.099931   \n1                                 11.950531   \n2                                 11.912783   \n3                                 11.999550   \n4                                 11.953070   \n\n   secondary_cleaner.state.floatbank4_b_level  \\\n0                                 -504.715942   \n1                                 -501.331529   \n2                                 -501.133383   \n3                                 -501.193686   \n4                                 -501.053894   \n\n   secondary_cleaner.state.floatbank5_a_air  \\\n0                                  9.925633   \n1                                 10.039245   \n2                                 10.070913   \n3                                  9.970366   \n4                                  9.925709   \n\n   secondary_cleaner.state.floatbank5_a_level  \\\n0                                 -498.310211   \n1                                 -500.169983   \n2                                 -500.129135   \n3                                 -499.201640   \n4                                 -501.686727   \n\n   secondary_cleaner.state.floatbank5_b_air  \\\n0                                  8.079666   \n1                                  7.984757   \n2                                  8.013877   \n3                                  7.977324   \n4                                  7.894242   \n\n   secondary_cleaner.state.floatbank5_b_level  \\\n0                                 -500.470978   \n1                                 -500.582168   \n2                                 -500.517572   \n3                                 -500.255908   \n4                                 -500.356035   \n\n   secondary_cleaner.state.floatbank6_a_air  \\\n0                                 14.151341   \n1                                 13.998353   \n2                                 14.028663   \n3                                 14.005551   \n4                                 13.996647   \n\n   secondary_cleaner.state.floatbank6_a_level  \n0                                 -605.841980  \n1                                 -599.787184  \n2                                 -601.427363  \n3                                 -599.996129  \n4                                 -601.496691  \n\n[5 rows x 87 columns]\n"
        }
      ],
      "execution_count": 9
    },
    {
      "cell_type": "code",
      "source": "print(data1.info())",
      "metadata": {
        "trusted": false
      },
      "outputs": [
        {
          "name": "stdout",
          "output_type": "stream",
          "text": "<class 'pandas.core.frame.DataFrame'>\nRangeIndex: 16860 entries, 0 to 16859\nData columns (total 87 columns):\n #   Column                                              Non-Null Count  Dtype  \n---  ------                                              --------------  -----  \n 0   date                                                16860 non-null  object \n 1   final.output.concentrate_ag                         16788 non-null  float64\n 2   final.output.concentrate_pb                         16788 non-null  float64\n 3   final.output.concentrate_sol                        16490 non-null  float64\n 4   final.output.concentrate_au                         16789 non-null  float64\n 5   final.output.recovery                               15339 non-null  float64\n 6   final.output.tail_ag                                16794 non-null  float64\n 7   final.output.tail_pb                                16677 non-null  float64\n 8   final.output.tail_sol                               16715 non-null  float64\n 9   final.output.tail_au                                16794 non-null  float64\n 10  primary_cleaner.input.sulfate                       15553 non-null  float64\n 11  primary_cleaner.input.depressant                    15598 non-null  float64\n 12  primary_cleaner.input.feed_size                     16860 non-null  float64\n 13  primary_cleaner.input.xanthate                      15875 non-null  float64\n 14  primary_cleaner.output.concentrate_ag               16778 non-null  float64\n 15  primary_cleaner.output.concentrate_pb               16502 non-null  float64\n 16  primary_cleaner.output.concentrate_sol              16224 non-null  float64\n 17  primary_cleaner.output.concentrate_au               16778 non-null  float64\n 18  primary_cleaner.output.tail_ag                      16777 non-null  float64\n 19  primary_cleaner.output.tail_pb                      16761 non-null  float64\n 20  primary_cleaner.output.tail_sol                     16579 non-null  float64\n 21  primary_cleaner.output.tail_au                      16777 non-null  float64\n 22  primary_cleaner.state.floatbank8_a_air              16820 non-null  float64\n 23  primary_cleaner.state.floatbank8_a_level            16827 non-null  float64\n 24  primary_cleaner.state.floatbank8_b_air              16820 non-null  float64\n 25  primary_cleaner.state.floatbank8_b_level            16833 non-null  float64\n 26  primary_cleaner.state.floatbank8_c_air              16822 non-null  float64\n 27  primary_cleaner.state.floatbank8_c_level            16833 non-null  float64\n 28  primary_cleaner.state.floatbank8_d_air              16821 non-null  float64\n 29  primary_cleaner.state.floatbank8_d_level            16833 non-null  float64\n 30  rougher.calculation.sulfate_to_au_concentrate       16833 non-null  float64\n 31  rougher.calculation.floatbank10_sulfate_to_au_feed  16833 non-null  float64\n 32  rougher.calculation.floatbank11_sulfate_to_au_feed  16833 non-null  float64\n 33  rougher.calculation.au_pb_ratio                     15618 non-null  float64\n 34  rougher.input.feed_ag                               16778 non-null  float64\n 35  rougher.input.feed_pb                               16632 non-null  float64\n 36  rougher.input.feed_rate                             16347 non-null  float64\n 37  rougher.input.feed_size                             16443 non-null  float64\n 38  rougher.input.feed_sol                              16568 non-null  float64\n 39  rougher.input.feed_au                               16777 non-null  float64\n 40  rougher.input.floatbank10_sulfate                   15816 non-null  float64\n 41  rougher.input.floatbank10_xanthate                  16514 non-null  float64\n 42  rougher.input.floatbank11_sulfate                   16237 non-null  float64\n 43  rougher.input.floatbank11_xanthate                  14956 non-null  float64\n 44  rougher.output.concentrate_ag                       16778 non-null  float64\n 45  rougher.output.concentrate_pb                       16778 non-null  float64\n 46  rougher.output.concentrate_sol                      16698 non-null  float64\n 47  rougher.output.concentrate_au                       16778 non-null  float64\n 48  rougher.output.recovery                             14287 non-null  float64\n 49  rougher.output.tail_ag                              14610 non-null  float64\n 50  rougher.output.tail_pb                              16778 non-null  float64\n 51  rougher.output.tail_sol                             14611 non-null  float64\n 52  rougher.output.tail_au                              14611 non-null  float64\n 53  rougher.state.floatbank10_a_air                     16807 non-null  float64\n 54  rougher.state.floatbank10_a_level                   16807 non-null  float64\n 55  rougher.state.floatbank10_b_air                     16807 non-null  float64\n 56  rougher.state.floatbank10_b_level                   16807 non-null  float64\n 57  rougher.state.floatbank10_c_air                     16807 non-null  float64\n 58  rougher.state.floatbank10_c_level                   16814 non-null  float64\n 59  rougher.state.floatbank10_d_air                     16802 non-null  float64\n 60  rougher.state.floatbank10_d_level                   16809 non-null  float64\n 61  rougher.state.floatbank10_e_air                     16257 non-null  float64\n 62  rougher.state.floatbank10_e_level                   16809 non-null  float64\n 63  rougher.state.floatbank10_f_air                     16802 non-null  float64\n 64  rougher.state.floatbank10_f_level                   16802 non-null  float64\n 65  secondary_cleaner.output.tail_ag                    16776 non-null  float64\n 66  secondary_cleaner.output.tail_pb                    16764 non-null  float64\n 67  secondary_cleaner.output.tail_sol                   14874 non-null  float64\n 68  secondary_cleaner.output.tail_au                    16778 non-null  float64\n 69  secondary_cleaner.state.floatbank2_a_air            16497 non-null  float64\n 70  secondary_cleaner.state.floatbank2_a_level          16751 non-null  float64\n 71  secondary_cleaner.state.floatbank2_b_air            16705 non-null  float64\n 72  secondary_cleaner.state.floatbank2_b_level          16748 non-null  float64\n 73  secondary_cleaner.state.floatbank3_a_air            16763 non-null  float64\n 74  secondary_cleaner.state.floatbank3_a_level          16747 non-null  float64\n 75  secondary_cleaner.state.floatbank3_b_air            16752 non-null  float64\n 76  secondary_cleaner.state.floatbank3_b_level          16750 non-null  float64\n 77  secondary_cleaner.state.floatbank4_a_air            16731 non-null  float64\n 78  secondary_cleaner.state.floatbank4_a_level          16747 non-null  float64\n 79  secondary_cleaner.state.floatbank4_b_air            16768 non-null  float64\n 80  secondary_cleaner.state.floatbank4_b_level          16767 non-null  float64\n 81  secondary_cleaner.state.floatbank5_a_air            16775 non-null  float64\n 82  secondary_cleaner.state.floatbank5_a_level          16775 non-null  float64\n 83  secondary_cleaner.state.floatbank5_b_air            16775 non-null  float64\n 84  secondary_cleaner.state.floatbank5_b_level          16776 non-null  float64\n 85  secondary_cleaner.state.floatbank6_a_air            16757 non-null  float64\n 86  secondary_cleaner.state.floatbank6_a_level          16775 non-null  float64\ndtypes: float64(86), object(1)\nmemory usage: 11.2+ MB\nNone\n"
        }
      ],
      "execution_count": 10
    },
    {
      "cell_type": "code",
      "source": "print(data1.describe())",
      "metadata": {
        "trusted": false
      },
      "outputs": [
        {
          "name": "stdout",
          "output_type": "stream",
          "text": "       final.output.concentrate_ag  final.output.concentrate_pb  \\\ncount                 16788.000000                 16788.000000   \nmean                      4.716907                     9.113559   \nstd                       2.096718                     3.389495   \nmin                       0.000000                     0.000000   \n25%                       3.971262                     8.825748   \n50%                       4.869346                    10.065316   \n75%                       5.821176                    11.054809   \nmax                      16.001945                    17.031899   \n\n       final.output.concentrate_sol  final.output.concentrate_au  \\\ncount                  16490.000000                 16789.000000   \nmean                       8.301123                    39.467217   \nstd                        3.825760                    13.917227   \nmin                        0.000000                     0.000000   \n25%                        6.939185                    42.055722   \n50%                        8.557228                    44.498874   \n75%                       10.289741                    45.976222   \nmax                       18.124851                    53.611374   \n\n       final.output.recovery  final.output.tail_ag  final.output.tail_pb  \\\ncount           15339.000000          16794.000000          16677.000000   \nmean               67.213166              8.757048              2.360327   \nstd                11.960446              3.634103              1.215576   \nmin                 0.000000              0.000000              0.000000   \n25%                62.625685              7.610544              1.641604   \n50%                67.644601              9.220393              2.453690   \n75%                72.824595             10.971110              3.192404   \nmax               100.000000             19.552149              6.086532   \n\n       final.output.tail_sol  final.output.tail_au  \\\ncount           16715.000000          16794.000000   \nmean                9.303932              2.687512   \nstd                 4.263208              1.272757   \nmin                 0.000000              0.000000   \n25%                 7.870275              2.172953   \n50%                10.021968              2.781132   \n75%                11.648573              3.416936   \nmax                22.317730              9.789625   \n\n       primary_cleaner.input.sulfate  ...  \\\ncount                   15553.000000  ...   \nmean                      129.479789  ...   \nstd                        45.386931  ...   \nmin                         0.000003  ...   \n25%                       103.064021  ...   \n50%                       131.783108  ...   \n75%                       159.539839  ...   \nmax                       251.999948  ...   \n\n       secondary_cleaner.state.floatbank4_a_air  \\\ncount                              16731.000000   \nmean                                  19.101874   \nstd                                    6.883163   \nmin                                    0.000000   \n25%                                   14.508299   \n50%                                   19.986958   \n75%                                   24.983961   \nmax                                   60.000000   \n\n       secondary_cleaner.state.floatbank4_a_level  \\\ncount                                16747.000000   \nmean                                  -494.164481   \nstd                                     84.803334   \nmin                                   -799.920713   \n25%                                   -500.837689   \n50%                                   -499.778379   \n75%                                   -494.648754   \nmax                                   -127.692333   \n\n       secondary_cleaner.state.floatbank4_b_air  \\\ncount                              16768.000000   \nmean                                  14.778164   \nstd                                    5.999149   \nmin                                    0.000000   \n25%                                   10.741388   \n50%                                   14.943933   \n75%                                   20.023751   \nmax                                   28.003828   \n\n       secondary_cleaner.state.floatbank4_b_level  \\\ncount                                16767.000000   \nmean                                  -476.600082   \nstd                                     89.381172   \nmin                                   -800.021781   \n25%                                   -500.269182   \n50%                                   -499.593286   \n75%                                   -400.137948   \nmax                                    -71.472472   \n\n       secondary_cleaner.state.floatbank5_a_air  \\\ncount                              16775.000000   \nmean                                  15.779488   \nstd                                    6.834703   \nmin                                   -0.423260   \n25%                                   10.977713   \n50%                                   15.998340   \n75%                                   20.000701   \nmax                                   63.116298   \n\n       secondary_cleaner.state.floatbank5_a_level  \\\ncount                                16775.000000   \nmean                                  -500.230146   \nstd                                     76.983542   \nmin                                   -799.741097   \n25%                                   -500.530594   \n50%                                   -499.784231   \n75%                                   -496.531781   \nmax                                   -275.073125   \n\n       secondary_cleaner.state.floatbank5_b_air  \\\ncount                              16775.000000   \nmean                                  12.377241   \nstd                                    6.219989   \nmin                                    0.427084   \n25%                                    8.925586   \n50%                                   11.092839   \n75%                                   15.979467   \nmax                                   39.846228   \n\n       secondary_cleaner.state.floatbank5_b_level  \\\ncount                                16776.000000   \nmean                                  -498.956257   \nstd                                     82.146207   \nmin                                   -800.258209   \n25%                                   -500.147603   \n50%                                   -499.933330   \n75%                                   -498.418000   \nmax                                   -120.190931   \n\n       secondary_cleaner.state.floatbank6_a_air  \\\ncount                              16757.000000   \nmean                                  18.429208   \nstd                                    6.958294   \nmin                                    0.024270   \n25%                                   13.977626   \n50%                                   18.034960   \n75%                                   24.984992   \nmax                                   54.876806   \n\n       secondary_cleaner.state.floatbank6_a_level  \ncount                                16775.000000  \nmean                                  -521.801826  \nstd                                     77.170888  \nmin                                   -810.473526  \n25%                                   -501.080595  \n50%                                   -500.109898  \n75%                                   -499.565540  \nmax                                    -39.784927  \n\n[8 rows x 86 columns]\n"
        }
      ],
      "execution_count": 11
    },
    {
      "cell_type": "markdown",
      "source": "#### Test Set",
      "metadata": {}
    },
    {
      "cell_type": "code",
      "source": "print(data2.head())",
      "metadata": {
        "trusted": false
      },
      "outputs": [
        {
          "name": "stdout",
          "output_type": "stream",
          "text": "                  date  primary_cleaner.input.sulfate  \\\n0  2016-09-01 00:59:59                     210.800909   \n1  2016-09-01 01:59:59                     215.392455   \n2  2016-09-01 02:59:59                     215.259946   \n3  2016-09-01 03:59:59                     215.336236   \n4  2016-09-01 04:59:59                     199.099327   \n\n   primary_cleaner.input.depressant  primary_cleaner.input.feed_size  \\\n0                         14.993118                         8.080000   \n1                         14.987471                         8.080000   \n2                         12.884934                         7.786667   \n3                         12.006805                         7.640000   \n4                         10.682530                         7.530000   \n\n   primary_cleaner.input.xanthate  primary_cleaner.state.floatbank8_a_air  \\\n0                        1.005021                             1398.981301   \n1                        0.990469                             1398.777912   \n2                        0.996043                             1398.493666   \n3                        0.863514                             1399.618111   \n4                        0.805575                             1401.268123   \n\n   primary_cleaner.state.floatbank8_a_level  \\\n0                               -500.225577   \n1                               -500.057435   \n2                               -500.868360   \n3                               -498.863574   \n4                               -500.808305   \n\n   primary_cleaner.state.floatbank8_b_air  \\\n0                             1399.144926   \n1                             1398.055362   \n2                             1398.860436   \n3                             1397.440120   \n4                             1398.128818   \n\n   primary_cleaner.state.floatbank8_b_level  \\\n0                               -499.919735   \n1                               -499.778182   \n2                               -499.764529   \n3                               -499.211024   \n4                               -499.504543   \n\n   primary_cleaner.state.floatbank8_c_air  ...  \\\n0                             1400.102998  ...   \n1                             1396.151033  ...   \n2                             1398.075709  ...   \n3                             1400.129303  ...   \n4                             1402.172226  ...   \n\n   secondary_cleaner.state.floatbank4_a_air  \\\n0                                 12.023554   \n1                                 12.058140   \n2                                 11.962366   \n3                                 12.033091   \n4                                 12.025367   \n\n   secondary_cleaner.state.floatbank4_a_level  \\\n0                                 -497.795834   \n1                                 -498.695773   \n2                                 -498.767484   \n3                                 -498.350935   \n4                                 -500.786497   \n\n   secondary_cleaner.state.floatbank4_b_air  \\\n0                                  8.016656   \n1                                  8.130979   \n2                                  8.096893   \n3                                  8.074946   \n4                                  8.054678   \n\n   secondary_cleaner.state.floatbank4_b_level  \\\n0                                 -501.289139   \n1                                 -499.634209   \n2                                 -500.827423   \n3                                 -499.474407   \n4                                 -500.397500   \n\n   secondary_cleaner.state.floatbank5_a_air  \\\n0                                  7.946562   \n1                                  7.958270   \n2                                  8.071056   \n3                                  7.897085   \n4                                  8.107890   \n\n   secondary_cleaner.state.floatbank5_a_level  \\\n0                                 -432.317850   \n1                                 -525.839648   \n2                                 -500.801673   \n3                                 -500.868509   \n4                                 -509.526725   \n\n   secondary_cleaner.state.floatbank5_b_air  \\\n0                                  4.872511   \n1                                  4.878850   \n2                                  4.905125   \n3                                  4.931400   \n4                                  4.957674   \n\n   secondary_cleaner.state.floatbank5_b_level  \\\n0                                 -500.037437   \n1                                 -500.162375   \n2                                 -499.828510   \n3                                 -499.963623   \n4                                 -500.360026   \n\n   secondary_cleaner.state.floatbank6_a_air  \\\n0                                 26.705889   \n1                                 25.019940   \n2                                 24.994862   \n3                                 24.948919   \n4                                 25.003331   \n\n   secondary_cleaner.state.floatbank6_a_level  \n0                                 -499.709414  \n1                                 -499.819438  \n2                                 -500.622559  \n3                                 -498.709987  \n4                                 -500.856333  \n\n[5 rows x 53 columns]\n"
        }
      ],
      "execution_count": 12
    },
    {
      "cell_type": "code",
      "source": "print(data2.info())",
      "metadata": {
        "trusted": false
      },
      "outputs": [
        {
          "name": "stdout",
          "output_type": "stream",
          "text": "<class 'pandas.core.frame.DataFrame'>\nRangeIndex: 5856 entries, 0 to 5855\nData columns (total 53 columns):\n #   Column                                      Non-Null Count  Dtype  \n---  ------                                      --------------  -----  \n 0   date                                        5856 non-null   object \n 1   primary_cleaner.input.sulfate               5554 non-null   float64\n 2   primary_cleaner.input.depressant            5572 non-null   float64\n 3   primary_cleaner.input.feed_size             5856 non-null   float64\n 4   primary_cleaner.input.xanthate              5690 non-null   float64\n 5   primary_cleaner.state.floatbank8_a_air      5840 non-null   float64\n 6   primary_cleaner.state.floatbank8_a_level    5840 non-null   float64\n 7   primary_cleaner.state.floatbank8_b_air      5840 non-null   float64\n 8   primary_cleaner.state.floatbank8_b_level    5840 non-null   float64\n 9   primary_cleaner.state.floatbank8_c_air      5840 non-null   float64\n 10  primary_cleaner.state.floatbank8_c_level    5840 non-null   float64\n 11  primary_cleaner.state.floatbank8_d_air      5840 non-null   float64\n 12  primary_cleaner.state.floatbank8_d_level    5840 non-null   float64\n 13  rougher.input.feed_ag                       5840 non-null   float64\n 14  rougher.input.feed_pb                       5840 non-null   float64\n 15  rougher.input.feed_rate                     5816 non-null   float64\n 16  rougher.input.feed_size                     5834 non-null   float64\n 17  rougher.input.feed_sol                      5789 non-null   float64\n 18  rougher.input.feed_au                       5840 non-null   float64\n 19  rougher.input.floatbank10_sulfate           5599 non-null   float64\n 20  rougher.input.floatbank10_xanthate          5733 non-null   float64\n 21  rougher.input.floatbank11_sulfate           5801 non-null   float64\n 22  rougher.input.floatbank11_xanthate          5503 non-null   float64\n 23  rougher.state.floatbank10_a_air             5839 non-null   float64\n 24  rougher.state.floatbank10_a_level           5840 non-null   float64\n 25  rougher.state.floatbank10_b_air             5839 non-null   float64\n 26  rougher.state.floatbank10_b_level           5840 non-null   float64\n 27  rougher.state.floatbank10_c_air             5839 non-null   float64\n 28  rougher.state.floatbank10_c_level           5840 non-null   float64\n 29  rougher.state.floatbank10_d_air             5839 non-null   float64\n 30  rougher.state.floatbank10_d_level           5840 non-null   float64\n 31  rougher.state.floatbank10_e_air             5839 non-null   float64\n 32  rougher.state.floatbank10_e_level           5840 non-null   float64\n 33  rougher.state.floatbank10_f_air             5839 non-null   float64\n 34  rougher.state.floatbank10_f_level           5840 non-null   float64\n 35  secondary_cleaner.state.floatbank2_a_air    5836 non-null   float64\n 36  secondary_cleaner.state.floatbank2_a_level  5840 non-null   float64\n 37  secondary_cleaner.state.floatbank2_b_air    5833 non-null   float64\n 38  secondary_cleaner.state.floatbank2_b_level  5840 non-null   float64\n 39  secondary_cleaner.state.floatbank3_a_air    5822 non-null   float64\n 40  secondary_cleaner.state.floatbank3_a_level  5840 non-null   float64\n 41  secondary_cleaner.state.floatbank3_b_air    5840 non-null   float64\n 42  secondary_cleaner.state.floatbank3_b_level  5840 non-null   float64\n 43  secondary_cleaner.state.floatbank4_a_air    5840 non-null   float64\n 44  secondary_cleaner.state.floatbank4_a_level  5840 non-null   float64\n 45  secondary_cleaner.state.floatbank4_b_air    5840 non-null   float64\n 46  secondary_cleaner.state.floatbank4_b_level  5840 non-null   float64\n 47  secondary_cleaner.state.floatbank5_a_air    5840 non-null   float64\n 48  secondary_cleaner.state.floatbank5_a_level  5840 non-null   float64\n 49  secondary_cleaner.state.floatbank5_b_air    5840 non-null   float64\n 50  secondary_cleaner.state.floatbank5_b_level  5840 non-null   float64\n 51  secondary_cleaner.state.floatbank6_a_air    5840 non-null   float64\n 52  secondary_cleaner.state.floatbank6_a_level  5840 non-null   float64\ndtypes: float64(52), object(1)\nmemory usage: 2.4+ MB\nNone\n"
        }
      ],
      "execution_count": 13
    },
    {
      "cell_type": "code",
      "source": "print(data2.describe())",
      "metadata": {
        "trusted": false
      },
      "outputs": [
        {
          "name": "stdout",
          "output_type": "stream",
          "text": "       primary_cleaner.input.sulfate  primary_cleaner.input.depressant  \\\ncount                    5554.000000                       5572.000000   \nmean                      170.515243                          8.482873   \nstd                        49.608602                          3.353105   \nmin                         0.000103                          0.000031   \n25%                       143.340022                          6.411500   \n50%                       176.103893                          8.023252   \n75%                       207.240761                         10.017725   \nmax                       274.409626                         40.024582   \n\n       primary_cleaner.input.feed_size  primary_cleaner.input.xanthate  \\\ncount                      5856.000000                     5690.000000   \nmean                          7.264651                        1.321420   \nstd                           0.611526                        0.693246   \nmin                           5.650000                        0.000003   \n25%                           6.885625                        0.888769   \n50%                           7.259333                        1.183362   \n75%                           7.650000                        1.763797   \nmax                          15.500000                        5.433169   \n\n       primary_cleaner.state.floatbank8_a_air  \\\ncount                             5840.000000   \nmean                              1481.990241   \nstd                                310.453166   \nmin                                  0.000000   \n25%                               1497.190681   \n50%                               1554.659783   \n75%                               1601.681656   \nmax                               2212.432090   \n\n       primary_cleaner.state.floatbank8_a_level  \\\ncount                               5840.000000   \nmean                                -509.057796   \nstd                                   61.339256   \nmin                                 -799.773788   \n25%                                 -500.455211   \n50%                                 -499.997402   \n75%                                 -499.575313   \nmax                                  -57.195404   \n\n       primary_cleaner.state.floatbank8_b_air  \\\ncount                             5840.000000   \nmean                              1486.908670   \nstd                                313.224286   \nmin                                  0.000000   \n25%                               1497.150234   \n50%                               1553.268084   \n75%                               1601.784707   \nmax                               1975.147923   \n\n       primary_cleaner.state.floatbank8_b_level  \\\ncount                               5840.000000   \nmean                                -511.743956   \nstd                                   67.139074   \nmin                                 -800.029078   \n25%                                 -500.936639   \n50%                                 -500.066588   \n75%                                 -499.323361   \nmax                                 -142.527229   \n\n       primary_cleaner.state.floatbank8_c_air  \\\ncount                             5840.000000   \nmean                              1468.495216   \nstd                                309.980748   \nmin                                  0.000000   \n25%                               1437.050321   \n50%                               1546.160672   \n75%                               1600.785573   \nmax                               1715.053773   \n\n       primary_cleaner.state.floatbank8_c_level  ...  \\\ncount                               5840.000000  ...   \nmean                                -509.741212  ...   \nstd                                   62.671873  ...   \nmin                                 -799.995127  ...   \n25%                                 -501.300441  ...   \n50%                                 -500.079537  ...   \n75%                                 -499.009545  ...   \nmax                                 -150.937035  ...   \n\n       secondary_cleaner.state.floatbank4_a_air  \\\ncount                               5840.000000   \nmean                                  15.636031   \nstd                                    4.660835   \nmin                                    0.000000   \n25%                                   12.057838   \n50%                                   17.001867   \n75%                                   18.030985   \nmax                                   30.051797   \n\n       secondary_cleaner.state.floatbank4_a_level  \\\ncount                                 5840.000000   \nmean                                  -516.266074   \nstd                                     62.756748   \nmin                                   -799.798523   \n25%                                   -501.054741   \n50%                                   -500.160145   \n75%                                   -499.441529   \nmax                                   -401.565212   \n\n       secondary_cleaner.state.floatbank4_b_air  \\\ncount                               5840.000000   \nmean                                  13.145702   \nstd                                    4.304086   \nmin                                    0.000000   \n25%                                   11.880119   \n50%                                   14.952102   \n75%                                   15.940011   \nmax                                   31.269706   \n\n       secondary_cleaner.state.floatbank4_b_level  \\\ncount                                 5840.000000   \nmean                                  -476.338907   \nstd                                    105.549424   \nmin                                   -800.836914   \n25%                                   -500.419113   \n50%                                   -499.644328   \n75%                                   -401.523664   \nmax                                     -6.506986   \n\n       secondary_cleaner.state.floatbank5_a_air  \\\ncount                               5840.000000   \nmean                                  12.308967   \nstd                                    3.762827   \nmin                                   -0.223393   \n25%                                   10.123459   \n50%                                   12.062877   \n75%                                   15.017881   \nmax                                   25.258848   \n\n       secondary_cleaner.state.floatbank5_a_level  \\\ncount                                 5840.000000   \nmean                                  -512.208126   \nstd                                     58.864651   \nmin                                   -799.661076   \n25%                                   -500.879383   \n50%                                   -500.047621   \n75%                                   -499.297033   \nmax                                   -244.483566   \n\n       secondary_cleaner.state.floatbank5_b_air  \\\ncount                               5840.000000   \nmean                                   9.470986   \nstd                                    3.312471   \nmin                                    0.528083   \n25%                                    7.991208   \n50%                                    9.980774   \n75%                                   11.992176   \nmax                                   14.090194   \n\n       secondary_cleaner.state.floatbank5_b_level  \\\ncount                                 5840.000000   \nmean                                  -505.017827   \nstd                                     68.785898   \nmin                                   -800.220337   \n25%                                   -500.223089   \n50%                                   -500.001338   \n75%                                   -499.722835   \nmax                                   -126.463446   \n\n       secondary_cleaner.state.floatbank6_a_air  \\\ncount                               5840.000000   \nmean                                  16.678722   \nstd                                    5.404514   \nmin                                   -0.079426   \n25%                                   13.012422   \n50%                                   16.007242   \n75%                                   21.009076   \nmax                                   26.705889   \n\n       secondary_cleaner.state.floatbank6_a_level  \ncount                                 5840.000000  \nmean                                  -512.351694  \nstd                                     69.919839  \nmin                                   -809.859706  \n25%                                   -500.833821  \n50%                                   -500.041085  \n75%                                   -499.395621  \nmax                                    -29.093593  \n\n[8 rows x 52 columns]\n"
        }
      ],
      "execution_count": 14
    },
    {
      "cell_type": "markdown",
      "source": "#### Full Set",
      "metadata": {}
    },
    {
      "cell_type": "code",
      "source": "print(data3.head())",
      "metadata": {
        "trusted": false
      },
      "outputs": [
        {
          "name": "stdout",
          "output_type": "stream",
          "text": "                  date  final.output.concentrate_ag  \\\n0  2016-01-15 00:00:00                     6.055403   \n1  2016-01-15 01:00:00                     6.029369   \n2  2016-01-15 02:00:00                     6.055926   \n3  2016-01-15 03:00:00                     6.047977   \n4  2016-01-15 04:00:00                     6.148599   \n\n   final.output.concentrate_pb  final.output.concentrate_sol  \\\n0                     9.889648                      5.507324   \n1                     9.968944                      5.257781   \n2                    10.213995                      5.383759   \n3                     9.977019                      4.858634   \n4                    10.142511                      4.939416   \n\n   final.output.concentrate_au  final.output.recovery  final.output.tail_ag  \\\n0                    42.192020              70.541216             10.411962   \n1                    42.701629              69.266198             10.462676   \n2                    42.657501              68.116445             10.507046   \n3                    42.689819              68.347543             10.422762   \n4                    42.774141              66.927016             10.360302   \n\n   final.output.tail_pb  final.output.tail_sol  final.output.tail_au  ...  \\\n0              0.895447              16.904297              2.143149  ...   \n1              0.927452              16.634514              2.224930  ...   \n2              0.953716              16.208849              2.257889  ...   \n3              0.883763              16.532835              2.146849  ...   \n4              0.792826              16.525686              2.055292  ...   \n\n   secondary_cleaner.state.floatbank4_a_air  \\\n0                                 14.016835   \n1                                 13.992281   \n2                                 14.015015   \n3                                 14.036510   \n4                                 14.027298   \n\n   secondary_cleaner.state.floatbank4_a_level  \\\n0                                 -502.488007   \n1                                 -505.503262   \n2                                 -502.520901   \n3                                 -500.857308   \n4                                 -499.838632   \n\n   secondary_cleaner.state.floatbank4_b_air  \\\n0                                 12.099931   \n1                                 11.950531   \n2                                 11.912783   \n3                                 11.999550   \n4                                 11.953070   \n\n   secondary_cleaner.state.floatbank4_b_level  \\\n0                                 -504.715942   \n1                                 -501.331529   \n2                                 -501.133383   \n3                                 -501.193686   \n4                                 -501.053894   \n\n   secondary_cleaner.state.floatbank5_a_air  \\\n0                                  9.925633   \n1                                 10.039245   \n2                                 10.070913   \n3                                  9.970366   \n4                                  9.925709   \n\n   secondary_cleaner.state.floatbank5_a_level  \\\n0                                 -498.310211   \n1                                 -500.169983   \n2                                 -500.129135   \n3                                 -499.201640   \n4                                 -501.686727   \n\n   secondary_cleaner.state.floatbank5_b_air  \\\n0                                  8.079666   \n1                                  7.984757   \n2                                  8.013877   \n3                                  7.977324   \n4                                  7.894242   \n\n   secondary_cleaner.state.floatbank5_b_level  \\\n0                                 -500.470978   \n1                                 -500.582168   \n2                                 -500.517572   \n3                                 -500.255908   \n4                                 -500.356035   \n\n   secondary_cleaner.state.floatbank6_a_air  \\\n0                                 14.151341   \n1                                 13.998353   \n2                                 14.028663   \n3                                 14.005551   \n4                                 13.996647   \n\n   secondary_cleaner.state.floatbank6_a_level  \n0                                 -605.841980  \n1                                 -599.787184  \n2                                 -601.427363  \n3                                 -599.996129  \n4                                 -601.496691  \n\n[5 rows x 87 columns]\n"
        }
      ],
      "execution_count": 15
    },
    {
      "cell_type": "code",
      "source": "print(data3.info())",
      "metadata": {
        "trusted": false
      },
      "outputs": [
        {
          "name": "stdout",
          "output_type": "stream",
          "text": "<class 'pandas.core.frame.DataFrame'>\nRangeIndex: 22716 entries, 0 to 22715\nData columns (total 87 columns):\n #   Column                                              Non-Null Count  Dtype  \n---  ------                                              --------------  -----  \n 0   date                                                22716 non-null  object \n 1   final.output.concentrate_ag                         22627 non-null  float64\n 2   final.output.concentrate_pb                         22629 non-null  float64\n 3   final.output.concentrate_sol                        22331 non-null  float64\n 4   final.output.concentrate_au                         22630 non-null  float64\n 5   final.output.recovery                               20753 non-null  float64\n 6   final.output.tail_ag                                22633 non-null  float64\n 7   final.output.tail_pb                                22516 non-null  float64\n 8   final.output.tail_sol                               22445 non-null  float64\n 9   final.output.tail_au                                22635 non-null  float64\n 10  primary_cleaner.input.sulfate                       21107 non-null  float64\n 11  primary_cleaner.input.depressant                    21170 non-null  float64\n 12  primary_cleaner.input.feed_size                     22716 non-null  float64\n 13  primary_cleaner.input.xanthate                      21565 non-null  float64\n 14  primary_cleaner.output.concentrate_ag               22618 non-null  float64\n 15  primary_cleaner.output.concentrate_pb               22268 non-null  float64\n 16  primary_cleaner.output.concentrate_sol              21918 non-null  float64\n 17  primary_cleaner.output.concentrate_au               22618 non-null  float64\n 18  primary_cleaner.output.tail_ag                      22614 non-null  float64\n 19  primary_cleaner.output.tail_pb                      22594 non-null  float64\n 20  primary_cleaner.output.tail_sol                     22365 non-null  float64\n 21  primary_cleaner.output.tail_au                      22617 non-null  float64\n 22  primary_cleaner.state.floatbank8_a_air              22660 non-null  float64\n 23  primary_cleaner.state.floatbank8_a_level            22667 non-null  float64\n 24  primary_cleaner.state.floatbank8_b_air              22660 non-null  float64\n 25  primary_cleaner.state.floatbank8_b_level            22673 non-null  float64\n 26  primary_cleaner.state.floatbank8_c_air              22662 non-null  float64\n 27  primary_cleaner.state.floatbank8_c_level            22673 non-null  float64\n 28  primary_cleaner.state.floatbank8_d_air              22661 non-null  float64\n 29  primary_cleaner.state.floatbank8_d_level            22673 non-null  float64\n 30  rougher.calculation.sulfate_to_au_concentrate       22672 non-null  float64\n 31  rougher.calculation.floatbank10_sulfate_to_au_feed  22672 non-null  float64\n 32  rougher.calculation.floatbank11_sulfate_to_au_feed  22672 non-null  float64\n 33  rougher.calculation.au_pb_ratio                     21089 non-null  float64\n 34  rougher.input.feed_ag                               22618 non-null  float64\n 35  rougher.input.feed_pb                               22472 non-null  float64\n 36  rougher.input.feed_rate                             22163 non-null  float64\n 37  rougher.input.feed_size                             22277 non-null  float64\n 38  rougher.input.feed_sol                              22357 non-null  float64\n 39  rougher.input.feed_au                               22617 non-null  float64\n 40  rougher.input.floatbank10_sulfate                   21415 non-null  float64\n 41  rougher.input.floatbank10_xanthate                  22247 non-null  float64\n 42  rougher.input.floatbank11_sulfate                   22038 non-null  float64\n 43  rougher.input.floatbank11_xanthate                  20459 non-null  float64\n 44  rougher.output.concentrate_ag                       22618 non-null  float64\n 45  rougher.output.concentrate_pb                       22618 non-null  float64\n 46  rougher.output.concentrate_sol                      22526 non-null  float64\n 47  rougher.output.concentrate_au                       22618 non-null  float64\n 48  rougher.output.recovery                             19597 non-null  float64\n 49  rougher.output.tail_ag                              19979 non-null  float64\n 50  rougher.output.tail_pb                              22618 non-null  float64\n 51  rougher.output.tail_sol                             19980 non-null  float64\n 52  rougher.output.tail_au                              19980 non-null  float64\n 53  rougher.state.floatbank10_a_air                     22646 non-null  float64\n 54  rougher.state.floatbank10_a_level                   22647 non-null  float64\n 55  rougher.state.floatbank10_b_air                     22646 non-null  float64\n 56  rougher.state.floatbank10_b_level                   22647 non-null  float64\n 57  rougher.state.floatbank10_c_air                     22646 non-null  float64\n 58  rougher.state.floatbank10_c_level                   22654 non-null  float64\n 59  rougher.state.floatbank10_d_air                     22641 non-null  float64\n 60  rougher.state.floatbank10_d_level                   22649 non-null  float64\n 61  rougher.state.floatbank10_e_air                     22096 non-null  float64\n 62  rougher.state.floatbank10_e_level                   22649 non-null  float64\n 63  rougher.state.floatbank10_f_air                     22641 non-null  float64\n 64  rougher.state.floatbank10_f_level                   22642 non-null  float64\n 65  secondary_cleaner.output.tail_ag                    22616 non-null  float64\n 66  secondary_cleaner.output.tail_pb                    22600 non-null  float64\n 67  secondary_cleaner.output.tail_sol                   20501 non-null  float64\n 68  secondary_cleaner.output.tail_au                    22618 non-null  float64\n 69  secondary_cleaner.state.floatbank2_a_air            22333 non-null  float64\n 70  secondary_cleaner.state.floatbank2_a_level          22591 non-null  float64\n 71  secondary_cleaner.state.floatbank2_b_air            22538 non-null  float64\n 72  secondary_cleaner.state.floatbank2_b_level          22588 non-null  float64\n 73  secondary_cleaner.state.floatbank3_a_air            22585 non-null  float64\n 74  secondary_cleaner.state.floatbank3_a_level          22587 non-null  float64\n 75  secondary_cleaner.state.floatbank3_b_air            22592 non-null  float64\n 76  secondary_cleaner.state.floatbank3_b_level          22590 non-null  float64\n 77  secondary_cleaner.state.floatbank4_a_air            22571 non-null  float64\n 78  secondary_cleaner.state.floatbank4_a_level          22587 non-null  float64\n 79  secondary_cleaner.state.floatbank4_b_air            22608 non-null  float64\n 80  secondary_cleaner.state.floatbank4_b_level          22607 non-null  float64\n 81  secondary_cleaner.state.floatbank5_a_air            22615 non-null  float64\n 82  secondary_cleaner.state.floatbank5_a_level          22615 non-null  float64\n 83  secondary_cleaner.state.floatbank5_b_air            22615 non-null  float64\n 84  secondary_cleaner.state.floatbank5_b_level          22616 non-null  float64\n 85  secondary_cleaner.state.floatbank6_a_air            22597 non-null  float64\n 86  secondary_cleaner.state.floatbank6_a_level          22615 non-null  float64\ndtypes: float64(86), object(1)\nmemory usage: 15.1+ MB\nNone\n"
        }
      ],
      "execution_count": 16
    },
    {
      "cell_type": "code",
      "source": "print(data3.describe())",
      "metadata": {
        "trusted": false
      },
      "outputs": [
        {
          "name": "stdout",
          "output_type": "stream",
          "text": "       final.output.concentrate_ag  final.output.concentrate_pb  \\\ncount                 22627.000000                 22629.000000   \nmean                      4.781559                     9.095308   \nstd                       2.030128                     3.230797   \nmin                       0.000000                     0.000000   \n25%                       4.018525                     8.750171   \n50%                       4.953729                     9.914519   \n75%                       5.862593                    10.929839   \nmax                      16.001945                    17.031899   \n\n       final.output.concentrate_sol  final.output.concentrate_au  \\\ncount                  22331.000000                 22630.000000   \nmean                       8.640317                    40.001172   \nstd                        3.785035                    13.398062   \nmin                        0.000000                     0.000000   \n25%                        7.116799                    42.383721   \n50%                        8.908792                    44.653436   \n75%                       10.705824                    46.111999   \nmax                       19.615720                    53.611374   \n\n       final.output.recovery  final.output.tail_ag  final.output.tail_pb  \\\ncount           20753.000000          22633.000000          22516.000000   \nmean               67.447488              8.923690              2.488252   \nstd                11.616034              3.517917              1.189407   \nmin                 0.000000              0.000000              0.000000   \n25%                63.282393              7.684016              1.805376   \n50%                68.322258              9.484369              2.653001   \n75%                72.950836             11.084557              3.287790   \nmax               100.000000             19.552149              6.086532   \n\n       final.output.tail_sol  final.output.tail_au  \\\ncount           22445.000000          22635.000000   \nmean                9.523632              2.827459   \nstd                 4.079739              1.262834   \nmin                 0.000000              0.000000   \n25%                 8.143576              2.303108   \n50%                10.212998              2.913794   \n75%                11.860824              3.555077   \nmax                22.861749              9.789625   \n\n       primary_cleaner.input.sulfate  ...  \\\ncount                   21107.000000  ...   \nmean                      140.277672  ...   \nstd                        49.919004  ...   \nmin                         0.000003  ...   \n25%                       110.177081  ...   \n50%                       141.330501  ...   \n75%                       174.049914  ...   \nmax                       274.409626  ...   \n\n       secondary_cleaner.state.floatbank4_a_air  \\\ncount                              22571.000000   \nmean                                  18.205125   \nstd                                    6.560700   \nmin                                    0.000000   \n25%                                   14.095940   \n50%                                   18.007326   \n75%                                   22.998194   \nmax                                   60.000000   \n\n       secondary_cleaner.state.floatbank4_a_level  \\\ncount                                22587.000000   \nmean                                  -499.878977   \nstd                                     80.273964   \nmin                                   -799.920713   \n25%                                   -500.896232   \n50%                                   -499.917108   \n75%                                   -498.361545   \nmax                                   -127.692333   \n\n       secondary_cleaner.state.floatbank4_b_air  \\\ncount                              22608.000000   \nmean                                  14.356474   \nstd                                    5.655791   \nmin                                    0.000000   \n25%                                   10.882675   \n50%                                   14.947646   \n75%                                   17.977502   \nmax                                   31.269706   \n\n       secondary_cleaner.state.floatbank4_b_level  \\\ncount                                22607.000000   \nmean                                  -476.532613   \nstd                                     93.822791   \nmin                                   -800.836914   \n25%                                   -500.309169   \n50%                                   -499.612292   \n75%                                   -400.224147   \nmax                                     -6.506986   \n\n       secondary_cleaner.state.floatbank5_a_air  \\\ncount                              22615.000000   \nmean                                  14.883276   \nstd                                    6.372811   \nmin                                   -0.423260   \n25%                                   10.941299   \n50%                                   14.859117   \n75%                                   18.014914   \nmax                                   63.116298   \n\n       secondary_cleaner.state.floatbank5_a_level  \\\ncount                                22615.000000   \nmean                                  -503.323288   \nstd                                     72.925589   \nmin                                   -799.741097   \n25%                                   -500.628697   \n50%                                   -499.865158   \n75%                                   -498.489381   \nmax                                   -244.483566   \n\n       secondary_cleaner.state.floatbank5_b_air  \\\ncount                              22615.000000   \nmean                                  11.626743   \nstd                                    5.757449   \nmin                                    0.427084   \n25%                                    8.037533   \n50%                                   10.989756   \n75%                                   14.001193   \nmax                                   39.846228   \n\n       secondary_cleaner.state.floatbank5_b_level  \\\ncount                                22616.000000   \nmean                                  -500.521502   \nstd                                     78.956292   \nmin                                   -800.258209   \n25%                                   -500.167897   \n50%                                   -499.951980   \n75%                                   -499.492354   \nmax                                   -120.190931   \n\n       secondary_cleaner.state.floatbank6_a_air  \\\ncount                              22597.000000   \nmean                                  17.976810   \nstd                                    6.636203   \nmin                                   -0.079426   \n25%                                   13.968418   \n50%                                   18.004215   \n75%                                   23.009704   \nmax                                   54.876806   \n\n       secondary_cleaner.state.floatbank6_a_level  \ncount                                22615.000000  \nmean                                  -519.361465  \nstd                                     75.477151  \nmin                                   -810.473526  \n25%                                   -500.981671  \n50%                                   -500.095463  \n75%                                   -499.526388  \nmax                                    -29.093593  \n\n[8 rows x 86 columns]\n"
        }
      ],
      "execution_count": 17
    },
    {
      "cell_type": "markdown",
      "source": "#### Conclusions",
      "metadata": {}
    },
    {
      "cell_type": "markdown",
      "source": "There are some columns present that are not present in others, such as final output columns for various metals and solutions, and other such. Other than that, not much needs to be said.",
      "metadata": {}
    },
    {
      "cell_type": "markdown",
      "source": "### Recovery Calculation Checks",
      "metadata": {}
    },
    {
      "cell_type": "markdown",
      "source": "#### Preliminary Corrections",
      "metadata": {}
    },
    {
      "cell_type": "code",
      "source": "data1['rougher.input.feed_au'].fillna(data1['rougher.input.feed_au'].mean(), inplace=True)\ndata1['rougher.output.tail_au'].fillna(data1['rougher.output.tail_au'].mean(), inplace=True)\ndata1['final.output.recovery'].fillna(data1['final.output.recovery'].mean(), inplace=True)",
      "metadata": {
        "trusted": false
      },
      "outputs": [],
      "execution_count": 18
    },
    {
      "cell_type": "code",
      "source": "data3['rougher.input.feed_au'].fillna(data3['rougher.input.feed_au'].mean(), inplace=True)\ndata3['rougher.output.tail_au'].fillna(data3['rougher.output.tail_au'].mean(), inplace=True)\ndata3['final.output.recovery'].fillna(data3['final.output.recovery'].mean(), inplace=True)",
      "metadata": {
        "trusted": false
      },
      "outputs": [],
      "execution_count": 19
    },
    {
      "cell_type": "markdown",
      "source": "#### Calculation Checks",
      "metadata": {}
    },
    {
      "cell_type": "code",
      "source": "data1['calculated_recovery'] = (data1['final.output.recovery'] /\n                            (data1['rougher.input.feed_au'] * \n                            (1 - data1['rougher.output.tail_au']))) * 100\n\nprint(data1[['calculated_recovery']].head())",
      "metadata": {
        "trusted": false
      },
      "outputs": [
        {
          "name": "stdout",
          "output_type": "stream",
          "text": "   calculated_recovery\n0         -6388.283889\n1         -5784.619947\n2         -6586.040729\n3        -14006.987308\n4        -93470.943049\n"
        }
      ],
      "execution_count": 20
    },
    {
      "cell_type": "code",
      "source": "data3['calculated_recovery'] = (data3['final.output.recovery'] /\n                            (data3['rougher.input.feed_au'] * \n                            (1 - data3['rougher.output.tail_au']))) * 100\n\nprint(data3[['calculated_recovery']].head())",
      "metadata": {
        "trusted": false
      },
      "outputs": [
        {
          "name": "stdout",
          "output_type": "stream",
          "text": "   calculated_recovery\n0         -6388.283889\n1         -5784.619947\n2         -6586.040729\n3        -14006.987308\n4        -93470.943049\n"
        }
      ],
      "execution_count": 21
    },
    {
      "cell_type": "markdown",
      "source": "#### Data Verification",
      "metadata": {}
    },
    {
      "cell_type": "code",
      "source": "print(data1[['final.output.recovery', 'rougher.input.feed_au', 'rougher.output.tail_au']].describe())\nprint(data1.isnull().sum())\nprint(data1[['final.output.recovery', 'rougher.input.feed_au', 'rougher.output.tail_au']].dtypes)",
      "metadata": {
        "trusted": false
      },
      "outputs": [
        {
          "name": "stdout",
          "output_type": "stream",
          "text": "       final.output.recovery  rougher.input.feed_au  rougher.output.tail_au\ncount           16860.000000           16860.000000            16860.000000\nmean               67.213166               7.170717                1.763930\nstd                11.408166               2.994714                0.680980\nmin                 0.000000               0.000000                0.020676\n25%                63.262484               6.209952                1.392400\n50%                67.213166               7.429003                1.763930\n75%                72.257216               8.954083                2.107259\nmax               100.000000              14.093363                9.688980\ndate                                            0\nfinal.output.concentrate_ag                    72\nfinal.output.concentrate_pb                    72\nfinal.output.concentrate_sol                  370\nfinal.output.concentrate_au                    71\n                                             ... \nsecondary_cleaner.state.floatbank5_b_air       85\nsecondary_cleaner.state.floatbank5_b_level     84\nsecondary_cleaner.state.floatbank6_a_air      103\nsecondary_cleaner.state.floatbank6_a_level     85\ncalculated_recovery                             0\nLength: 88, dtype: int64\nfinal.output.recovery     float64\nrougher.input.feed_au     float64\nrougher.output.tail_au    float64\ndtype: object\n"
        }
      ],
      "execution_count": 22
    },
    {
      "cell_type": "code",
      "source": "print(data3[['final.output.recovery', 'rougher.input.feed_au', 'rougher.output.tail_au']].describe())\nprint(data3.isnull().sum())\nprint(data3[['final.output.recovery', 'rougher.input.feed_au', 'rougher.output.tail_au']].dtypes)",
      "metadata": {
        "trusted": false
      },
      "outputs": [
        {
          "name": "stdout",
          "output_type": "stream",
          "text": "       final.output.recovery  rougher.input.feed_au  rougher.output.tail_au\ncount           22716.000000           22716.000000            22716.000000\nmean               67.447488               7.565838                1.821193\nstd                11.102774               3.020350                0.652423\nmin                 0.000000               0.000000                0.020676\n25%                63.905025               6.492090                1.475072\n50%                67.450424               7.875433                1.821193\n75%                72.494845               9.659693                2.144160\nmax               100.000000              14.093363                9.688980\ndate                                            0\nfinal.output.concentrate_ag                    89\nfinal.output.concentrate_pb                    87\nfinal.output.concentrate_sol                  385\nfinal.output.concentrate_au                    86\n                                             ... \nsecondary_cleaner.state.floatbank5_b_air      101\nsecondary_cleaner.state.floatbank5_b_level    100\nsecondary_cleaner.state.floatbank6_a_air      119\nsecondary_cleaner.state.floatbank6_a_level    101\ncalculated_recovery                             0\nLength: 88, dtype: int64\nfinal.output.recovery     float64\nrougher.input.feed_au     float64\nrougher.output.tail_au    float64\ndtype: object\n"
        }
      ],
      "execution_count": 23
    },
    {
      "cell_type": "markdown",
      "source": "#### Conclusions",
      "metadata": {}
    },
    {
      "cell_type": "markdown",
      "source": "So far, attempts to calculate the recovery process have been rather inconclusive as the output shown were all negative, which suggest problems with both the data and/or the calculation. I will need to process it further.",
      "metadata": {}
    },
    {
      "cell_type": "markdown",
      "source": "## Analyzing the Data\n\n### Prep Stages",
      "metadata": {}
    },
    {
      "cell_type": "code",
      "source": "scaler = StandardScaler()\ndata3[['scaled_feed_au', 'scaled_feed_ag', 'scaled_concentrate_au']] = scaler.fit_transform(\n    data3[['rougher.input.feed_au', 'rougher.input.feed_ag', 'final.output.concentrate_au']]\n)",
      "metadata": {
        "trusted": false
      },
      "outputs": [],
      "execution_count": 24
    },
    {
      "cell_type": "code",
      "source": "data3 = data3.drop_duplicates()",
      "metadata": {
        "trusted": false
      },
      "outputs": [],
      "execution_count": 25
    },
    {
      "cell_type": "code",
      "source": "data3['scaled_feed_au'].hist()\nplt.show()",
      "metadata": {
        "trusted": false
      },
      "outputs": [
        {
          "data": {
            "image/png": "[encoded data removed]",
            "text/plain": "<Figure size 640x480 with 1 Axes>"
          },
          "metadata": {},
          "output_type": "display_data"
        }
      ],
      "execution_count": 26
    },
    {
      "cell_type": "code",
      "source": "X = data3[['scaled_feed_au', 'scaled_feed_ag', 'scaled_concentrate_au']]\ny = data3['calculated_recovery']\n\nX_train, X_test, y_train, y_test = train_test_split(X, y, test_size=0.2, random_state=42)",
      "metadata": {
        "trusted": false
      },
      "outputs": [],
      "execution_count": 27
    },
    {
      "cell_type": "markdown",
      "source": "### Changes in Metal Concentrations",
      "metadata": {}
    },
    {
      "cell_type": "code",
      "source": "metals = ['final.output.concentrate_au', 'final.output.concentrate_ag', 'final.output.concentrate_pb']\n\nfor metal in metals:\n    plt.plot(data3.index, data3[metal], label=f'{metal}')\n\nplt.xlabel('Index')\nplt.ylabel('Concentration')\nplt.legend()\nplt.show()",
      "metadata": {
        "trusted": false
      },
      "outputs": [
        {
          "data": {
            "image/png": "[encoded data removed]",
            "text/plain": "<Figure size 640x480 with 1 Axes>"
          },
          "metadata": {},
          "output_type": "display_data"
        }
      ],
      "execution_count": 28
    },
    {
      "cell_type": "markdown",
      "source": "### Changes in Feed Particle Size Distribution",
      "metadata": {}
    },
    {
      "cell_type": "code",
      "source": "X = data3[['rougher.input.feed_size', 'scaled_feed_au', 'scaled_feed_ag', 'scaled_concentrate_au']]\n\nX_train, X_test, y_train, y_test = train_test_split(X, y, test_size=0.2, random_state=42)\ntrain_data, test_data = train_test_split(data3, test_size=0.2, random_state=42)",
      "metadata": {
        "trusted": false
      },
      "outputs": [],
      "execution_count": 29
    },
    {
      "cell_type": "code",
      "source": "plt.hist(X_train['rougher.input.feed_size'], alpha=0.5, label='Training Set', density=True)\nplt.hist(X_test['rougher.input.feed_size'], alpha=0.5, label='Test Set', density=True)\nplt.xlabel('Feed Size')\nplt.ylabel('Frequency')\nplt.legend()\nplt.show()",
      "metadata": {
        "trusted": false
      },
      "outputs": [
        {
          "data": {
            "image/png": "[encoded data removed]",
            "text/plain": "<Figure size 640x480 with 1 Axes>"
          },
          "metadata": {},
          "output_type": "display_data"
        }
      ],
      "execution_count": 30
    },
    {
      "cell_type": "markdown",
      "source": "### Changes in Substance Concentrations",
      "metadata": {}
    },
    {
      "cell_type": "code",
      "source": "stages = ['final', 'primary_cleaner', 'rougher']\nmetals = ['au', 'ag', 'pb'] \n\ndata3['total_concentration'] = data3[[f'{stage}.output.concentrate_{metal}' for stage in stages for metal in metals]].sum(axis=1)\nsns.boxplot(data=data3['total_concentration'])\nplt.show()",
      "metadata": {
        "trusted": false
      },
      "outputs": [
        {
          "data": {
            "image/png": "[encoded data removed]",
            "text/plain": "<Figure size 640x480 with 1 Axes>"
          },
          "metadata": {},
          "output_type": "display_data"
        }
      ],
      "execution_count": 31
    },
    {
      "cell_type": "markdown",
      "source": "### Conclusions",
      "metadata": {}
    },
    {
      "cell_type": "markdown",
      "source": "As is noted from the dataset, there are several conclusions that can be drawn from this, namely that:\n\n-  Gold had the highest concentrations compared to others (at around 40-50%), but was also the most variable, with large swings in the concentrate compared to silver and lead, with their more stable processes.\n-  Most particles are concentrated at a feed size of around 50-100, with both the training and test sets being similar showing a degree of representation of the data.\n-  Concentration of substances was mainly around 150, with the variables staying close around that range.\n\nAny abnormal values (such as null values) were largely replaced with mean values for all the data used, so it was largely a moot point.",
      "metadata": {}
    },
    {
      "cell_type": "markdown",
      "source": "## Building the Model\n\n### Initial Models",
      "metadata": {}
    },
    {
      "cell_type": "code",
      "source": "X = data3[['rougher.input.feed_size', 'scaled_feed_au', 'scaled_feed_ag', 'scaled_concentrate_au']]\n\nrougher_X = data3[['rougher.input.feed_size', 'scaled_feed_au', 'scaled_feed_ag', 'scaled_concentrate_au']]\nfinal_X = data3[['rougher.input.feed_size', 'scaled_feed_au', 'scaled_feed_ag', 'scaled_concentrate_au']]\n\nrougher_y = data3['rougher.output.recovery']\nfinal_y = data3['final.output.recovery']\n\nrougher_X_train, rougher_X_test, rougher_y_train, rougher_y_test = train_test_split(rougher_X, rougher_y, test_size=0.2, random_state=42)\nfinal_X_train, final_X_test, final_y_train, final_y_test = train_test_split(final_X, final_y, test_size=0.2, random_state=42)",
      "metadata": {
        "trusted": false
      },
      "outputs": [],
      "execution_count": 32
    },
    {
      "cell_type": "code",
      "source": "rougher_X_train.replace([-np.inf, np.inf], np.nan, inplace=True)\nrougher_X_test.replace([-np.inf, np.inf], np.nan, inplace=True)\nfinal_X_train.replace([-np.inf, np.inf], np.nan, inplace=True)\nfinal_X_test.replace([-np.inf, np.inf], np.nan, inplace=True)\n \nrougher_X_train.fillna(rougher_y_train.mean(), inplace=True)\nrougher_X_test.fillna(rougher_y_test.mean(), inplace=True)\nfinal_X_train.fillna(final_y_train.mean(), inplace=True)\nfinal_X_test.fillna(final_y_test.mean(), inplace=True)",
      "metadata": {
        "trusted": false
      },
      "outputs": [
        {
          "name": "stderr",
          "output_type": "stream",
          "text": "/opt/conda/envs/python3/lib/python3.9/site-packages/pandas/core/frame.py:4524: SettingWithCopyWarning: \nA value is trying to be set on a copy of a slice from a DataFrame\n\nSee the caveats in the documentation: https://pandas.pydata.org/pandas-docs/stable/user_guide/indexing.html#returning-a-view-versus-a-copy\n  return super().replace(\n/opt/conda/envs/python3/lib/python3.9/site-packages/pandas/core/frame.py:4462: SettingWithCopyWarning: \nA value is trying to be set on a copy of a slice from a DataFrame\n\nSee the caveats in the documentation: https://pandas.pydata.org/pandas-docs/stable/user_guide/indexing.html#returning-a-view-versus-a-copy\n  return super().fillna(\n"
        }
      ],
      "execution_count": 33
    },
    {
      "cell_type": "code",
      "source": "rougher_y_train.replace([-np.inf, np.inf], np.nan, inplace=True)\nrougher_y_test.replace([-np.inf, np.inf], np.nan, inplace=True)\nfinal_y_train.replace([-np.inf, np.inf], np.nan, inplace=True)\nfinal_y_test.replace([-np.inf, np.inf], np.nan, inplace=True)\n \nrougher_y_train.fillna(rougher_y_train.mean(), inplace=True)\nrougher_y_test.fillna(rougher_y_test.mean(), inplace=True)\nfinal_y_train.fillna(final_y_train.mean(), inplace=True)\nfinal_y_test.fillna(final_y_test.mean(), inplace=True)",
      "metadata": {
        "trusted": false
      },
      "outputs": [],
      "execution_count": 34
    },
    {
      "cell_type": "code",
      "source": "rougher_model = RandomForestRegressor(random_state=42)\nfinal_model = LinearRegression()\n\nrougher_model.fit(rougher_X_train, rougher_y_train)\nrougher_y_pred = rougher_model.predict(rougher_X_test)\n\nfinal_model.fit(final_X_train, final_y_train)\nfinal_y_pred = final_model.predict(final_X_test)\n\ndef sMAPE(y_true, y_pred):\n    return 100 / len(y_true) * np.sum(2 * np.abs(y_pred - y_true) / (np.abs(y_true) + np.abs(y_pred)))",
      "metadata": {
        "trusted": false
      },
      "outputs": [],
      "execution_count": 35
    },
    {
      "cell_type": "markdown",
      "source": "### Cross-Validation",
      "metadata": {}
    },
    {
      "cell_type": "code",
      "source": "from sklearn.model_selection import cross_val_score\n\nrougher_scores = cross_val_score(rougher_model, rougher_X_train, rougher_y_train, cv=5, scoring='neg_mean_absolute_error')\nfinal_scores = cross_val_score(final_model, final_X_train, final_y_train, cv=5, scoring='neg_mean_absolute_error')\n\nprint(f'Rougher CV sMAPE: {-rougher_scores.mean()}')\nprint(f'Final CV sMAPE: {-final_scores.mean()}') ",
      "metadata": {
        "trusted": false
      },
      "outputs": [
        {
          "name": "stdout",
          "output_type": "stream",
          "text": "Rougher CV sMAPE: 5.76904394978593\nFinal CV sMAPE: 6.718395143090004\n"
        }
      ],
      "execution_count": 36
    },
    {
      "cell_type": "markdown",
      "source": "### Final sMAPE Value",
      "metadata": {}
    },
    {
      "cell_type": "code",
      "source": "sMAPE_final = 0.25 * sMAPE(rougher_y_test, rougher_y_pred) + 0.75 * sMAPE(final_y_test, final_y_pred)\nprint(f'Final sMAPE: {sMAPE_final:.2f}')",
      "metadata": {
        "trusted": false
      },
      "outputs": [
        {
          "name": "stdout",
          "output_type": "stream",
          "text": "Final sMAPE: 10.35\n"
        }
      ],
      "execution_count": 37
    },
    {
      "cell_type": "markdown",
      "source": "## Conclusions",
      "metadata": {}
    },
    {
      "cell_type": "markdown",
      "source": "What the data shows is that the models created for both sets were reasonably accurate, with both sMAPE values between the rougher and final sets showing low numbers in the single digits, suggesting that both models were performing as well as they should. This bore out in the final sMAPE number, which shows a general balanced approach for both the rougher and final predictions. Some fine-tuning might be needed to better fit the data further, but overall is sufficient for use.",
      "metadata": {}
    }
  ]
}